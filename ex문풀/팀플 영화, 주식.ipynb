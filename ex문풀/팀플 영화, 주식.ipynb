{
 "cells": [
  {
   "cell_type": "code",
   "execution_count": 2,
   "id": "a5391728-d05c-4db8-a452-05499961770a",
   "metadata": {},
   "outputs": [
    {
     "ename": "NameError",
     "evalue": "name 'mel' is not defined",
     "output_type": "error",
     "traceback": [
      "\u001b[1;31m---------------------------------------------------------------------------\u001b[0m",
      "\u001b[1;31mNameError\u001b[0m                                 Traceback (most recent call last)",
      "Cell \u001b[1;32mIn[2], line 16\u001b[0m\n\u001b[0;32m     13\u001b[0m     \u001b[38;5;28mprint\u001b[39m(\u001b[38;5;28mstr\u001b[39m)\n\u001b[0;32m     15\u001b[0m \u001b[38;5;28;01mif\u001b[39;00m \u001b[38;5;18m__name__\u001b[39m\u001b[38;5;241m==\u001b[39m\u001b[38;5;124m'\u001b[39m\u001b[38;5;124m__main__\u001b[39m\u001b[38;5;124m'\u001b[39m:\n\u001b[1;32m---> 16\u001b[0m     \u001b[43mmel\u001b[49m()\n",
      "\u001b[1;31mNameError\u001b[0m: name 'mel' is not defined"
     ]
    }
   ],
   "source": [
    "# 영화 순위 뽑기\n",
    "import requests as req\n",
    "from bs4 import BeautifulSoup as bs\n",
    "url = \"https://m.moviechart.co.kr/rank/realtime/index/image\"\n",
    "headers ={'User-Agent':'Mozilla/5.0 (Windows NT 10.0; Win64; x64) AppleWebKit/537.36 (KHTML, like Gecko) Chrome/133.0.0.0 Safari/537.36'}\n",
    "web = req.get(url, headers = headers)\n",
    "def movie():\n",
    "    soup = bs(web.content, 'html.parser')\n",
    "    title = soup.select('.movie-title h3 a')\n",
    "    str = ''\n",
    "    for i, (t) in enumerate(title, 1):\n",
    "        str += f\"{i}위: {t.text.strip()}\\n\"\n",
    "    print(str)\n",
    "    \n",
    "if __name__=='__main__':\n",
    "    mel()"
   ]
  },
  {
   "cell_type": "code",
   "execution_count": 4,
   "id": "088a34a2-0ca0-41ab-8815-2d13d675a1d8",
   "metadata": {
    "scrolled": true
   },
   "outputs": [
    {
     "name": "stdout",
     "output_type": "stream",
     "text": [
      "1위: 미키 17\n",
      "2위: 캡틴 아메리카: 브레이브 뉴 월드\n",
      "3위: 그 시절, 우리가 좋아했던 소녀\n",
      "4위: 퇴마록\n",
      "5위: 패딩턴: 페루에 가다!\n",
      "6위: 써니데이\n",
      "7위: 괜찮아 괜찮아 괜찮아!\n",
      "8위: 백수아파트\n",
      "9위: 브루탈리스트\n",
      "10위: 말할 수 없는 비밀\n",
      "11위: 첫 번째 키스\n",
      "12위: 서브스턴스\n",
      "13위: 엘리: 몬스터 패밀리\n",
      "14위: 히트맨2\n",
      "15위: 히어\n",
      "16위: 명탐정 코난: 14번째 표적\n",
      "17위: 은혼 일국경성편 온 씨어터\n",
      "18위: 컴플리트 언노운\n",
      "19위: 검은 수녀들\n",
      "20위: 데드데드 데몬즈 디디디디 디스트럭션: 파트2\n",
      "\n"
     ]
    }
   ],
   "source": [
    "# 영화 순위 뽑기\n",
    "import requests as req\n",
    "from bs4 import BeautifulSoup as bs\n",
    "url = \"https://m.moviechart.co.kr/rank/realtime/index/image\"\n",
    "headers ={'User-Agent':'Mozilla/5.0 (Windows NT 10.0; Win64; x64) AppleWebKit/537.36 (KHTML, like Gecko) Chrome/133.0.0.0 Safari/537.36'}\n",
    "web = req.get(url, headers = headers)\n",
    "soup = bs(web.content, 'html.parser')\n",
    "title = soup.select('.movie-title h3 a')\n",
    "str = ''\n",
    "for i, (t) in enumerate(title, 1):\n",
    "    str += f\"{i}위: {t.text.strip()}\\n\"\n",
    "print(str)"
   ]
  },
  {
   "cell_type": "code",
   "execution_count": 5,
   "id": "16d1d966-82f4-4308-9d03-23ac384404a6",
   "metadata": {},
   "outputs": [
    {
     "ename": "NameError",
     "evalue": "name 'mel' is not defined",
     "output_type": "error",
     "traceback": [
      "\u001b[1;31m---------------------------------------------------------------------------\u001b[0m",
      "\u001b[1;31mNameError\u001b[0m                                 Traceback (most recent call last)",
      "Cell \u001b[1;32mIn[5], line 19\u001b[0m\n\u001b[0;32m     17\u001b[0m         \u001b[38;5;28mprint\u001b[39m(\u001b[38;5;124mf\u001b[39m\u001b[38;5;124m'\u001b[39m\u001b[38;5;132;01m{\u001b[39;00mi\u001b[38;5;132;01m}\u001b[39;00m\u001b[38;5;124m위: \u001b[39m\u001b[38;5;132;01m{\u001b[39;00mn\u001b[38;5;241m.\u001b[39mtext\u001b[38;5;132;01m}\u001b[39;00m\u001b[38;5;124m \u001b[39m\u001b[38;5;132;01m{\u001b[39;00ma\u001b[38;5;241m.\u001b[39mtext\u001b[38;5;132;01m}\u001b[39;00m\u001b[38;5;124m원\u001b[39m\u001b[38;5;124m'\u001b[39m)\n\u001b[0;32m     18\u001b[0m \u001b[38;5;28;01mif\u001b[39;00m \u001b[38;5;18m__name__\u001b[39m\u001b[38;5;241m==\u001b[39m\u001b[38;5;124m'\u001b[39m\u001b[38;5;124m__main__\u001b[39m\u001b[38;5;124m'\u001b[39m:\n\u001b[1;32m---> 19\u001b[0m     \u001b[43mmel\u001b[49m()\n",
      "\u001b[1;31mNameError\u001b[0m: name 'mel' is not defined"
     ]
    }
   ],
   "source": [
    "import requests as req\n",
    "from bs4 import BeautifulSoup as bs\n",
    "\n",
    "url = 'https://finance.naver.com/sise/sise_market_sum.naver'\n",
    "web = req.get(url)\n",
    "\n",
    "def nsise():\n",
    "    soup = bs(web.content, 'html.parser')\n",
    "    \n",
    "    title = soup.select('.type_2')\n",
    "    name = soup.select('.tltle')\n",
    "    \n",
    "    atitle = soup.select('.type_2')\n",
    "    aname = soup.select('td.number:nth-child(3)')\n",
    "    \n",
    "    for i, (n,a) in enumerate(zip(name,aname),1):\n",
    "        print(f'{i}위: {n.text} {a.text}원')\n",
    "if __name__=='__main__':\n",
    "    mel()"
   ]
  },
  {
   "cell_type": "code",
   "execution_count": 6,
   "id": "f379cc7a-8ea7-4750-b3e2-45440329a8f3",
   "metadata": {
    "scrolled": true
   },
   "outputs": [
    {
     "name": "stdout",
     "output_type": "stream",
     "text": [
      "1위: 삼성전자 58,600원\n",
      "2위: SK하이닉스 214,000원\n",
      "3위: LG에너지솔루션 376,500원\n",
      "4위: 삼성바이오로직스 1,139,000원\n",
      "5위: 현대차 202,000원\n",
      "6위: 삼성전자우 49,500원\n",
      "7위: 셀트리온 180,600원\n",
      "8위: 기아 93,600원\n",
      "9위: NAVER 220,000원\n",
      "10위: KB금융 82,600원\n",
      "11위: 한화에어로스페이스 638,000원\n",
      "12위: HD현대중공업 311,500원\n",
      "13위: 신한지주 47,500원\n",
      "14위: 삼성물산 133,400원\n",
      "15위: 현대모비스 252,500원\n",
      "16위: 메리츠금융지주 123,000원\n",
      "17위: 한화오션 74,100원\n",
      "18위: POSCO홀딩스 269,000원\n",
      "19위: 삼성생명 100,300원\n",
      "20위: SK이노베이션 131,600원\n",
      "21위: 삼성화재 403,500원\n",
      "22위: 두산에너빌리티 28,900원\n",
      "23위: 하나금융지주 62,200원\n",
      "24위: 카카오 39,850원\n",
      "25위: LG화학 247,500원\n",
      "26위: 고려아연 826,000원\n",
      "27위: HMM 18,690원\n",
      "28위: 크래프톤 332,500원\n",
      "29위: 삼성SDI 227,500원\n",
      "30위: HD한국조선해양 218,000원\n",
      "31위: 한국전력 21,650원\n",
      "32위: SK스퀘어 102,400원\n",
      "33위: LG전자 82,500원\n",
      "34위: HD현대일렉트릭 371,500원\n",
      "35위: KT&G 105,100원\n",
      "36위: 우리금융지주 17,390원\n",
      "37위: SK텔레콤 58,700원\n",
      "38위: 기업은행 15,560원\n",
      "39위: 삼성중공업 13,730원\n",
      "40위: KT 47,250원\n",
      "41위: 카카오뱅크 23,850원\n",
      "42위: 포스코퓨처엠 143,100원\n",
      "43위: LG 70,200원\n",
      "44위: SK 149,000원\n",
      "45위: 삼성전기 143,100원\n",
      "46위: 하이브 249,500원\n",
      "47위: 한미반도체 106,300원\n",
      "48위: 삼성에스디에스 130,200원\n",
      "49위: 유한양행 123,000원\n",
      "50위: 현대글로비스 129,100원\n"
     ]
    }
   ],
   "source": [
    "import requests as req\n",
    "from bs4 import BeautifulSoup as bs\n",
    "\n",
    "url = 'https://finance.naver.com/sise/sise_market_sum.naver'\n",
    "web = req.get(url)\n",
    "# print(web)\n",
    "soup = bs(web.content, 'html.parser')\n",
    "# soup = bs(web.content, 'html5lib')\n",
    "# print(soup)\n",
    "title = soup.select('.type_2')\n",
    "name = soup.select('.tltle')\n",
    "# print(title)\n",
    "# print(name)\n",
    "atitle = soup.select('.type_2')\n",
    "# atitle = soup.select('tbody')\n",
    "# aname = soup.select('.number')\n",
    "# aname = soup.select('tbody')[0:2]\n",
    "# aname = soup.select('td:first-child')\n",
    "# aname = soup.select('table.type_2 tbody tr td.number')\n",
    "aname = soup.select('td.number:nth-child(3)')\n",
    "# print(aname)\n",
    "for i, (n,a) in enumerate(zip(name,aname),1):\n",
    "# for i, n, a in enumerate(name,1, aname):\n",
    "    print(f'{i}위: {n.text} {a.text}원')"
   ]
  },
  {
   "cell_type": "code",
   "execution_count": null,
   "id": "7122a890-9a75-48ec-8a9e-61d4fd9cc11e",
   "metadata": {},
   "outputs": [],
   "source": []
  }
 ],
 "metadata": {
  "kernelspec": {
   "display_name": "Python 3 (ipykernel)",
   "language": "python",
   "name": "python3"
  },
  "language_info": {
   "codemirror_mode": {
    "name": "ipython",
    "version": 3
   },
   "file_extension": ".py",
   "mimetype": "text/x-python",
   "name": "python",
   "nbconvert_exporter": "python",
   "pygments_lexer": "ipython3",
   "version": "3.13.1"
  }
 },
 "nbformat": 4,
 "nbformat_minor": 5
}
