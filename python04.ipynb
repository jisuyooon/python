{
 "cells": [
  {
   "cell_type": "markdown",
   "id": "9d660b4b-0ad0-4304-95ed-a53cbab236f8",
   "metadata": {},
   "source": [
    "# 함수"
   ]
  },
  {
   "cell_type": "code",
   "execution_count": 4,
   "id": "664e47f9-b1d6-42ce-af8a-0f9a8594a669",
   "metadata": {},
   "outputs": [],
   "source": [
    "def 덧셈(a, b):\n",
    "    return a + b   "
   ]
  },
  {
   "cell_type": "code",
   "execution_count": 8,
   "id": "7b861a09-6dd7-4279-8306-d515a59604aa",
   "metadata": {},
   "outputs": [
    {
     "name": "stdout",
     "output_type": "stream",
     "text": [
      "7\n"
     ]
    }
   ],
   "source": [
    "c = 덧셈(3,4)\n",
    "print(c)"
   ]
  },
  {
   "cell_type": "code",
   "execution_count": 17,
   "id": "aac5a3fb-1ce9-443a-ba24-1be72b754f07",
   "metadata": {
    "scrolled": true
   },
   "outputs": [
    {
     "name": "stdout",
     "output_type": "stream",
     "text": [
      "====2단====\n",
      "2 x 1 = 2\n",
      "2 x 2 = 4\n",
      "2 x 3 = 6\n",
      "2 x 4 = 8\n",
      "2 x 5 = 10\n",
      "2 x 6 = 12\n",
      "2 x 7 = 14\n",
      "2 x 8 = 16\n",
      "2 x 9 = 18\n",
      "\n"
     ]
    }
   ],
   "source": [
    "def gugu(end = 9):\n",
    "    data =''\n",
    "    for j in range(2,end + 1):\n",
    "        print(f\"{str(j)+'단':=^10}\")\n",
    "        for i in range(1,10):\n",
    "            data += (f'{j} x {i} = {j*i}')+'\\n'\n",
    "    return data # 함수를 종료시킬때 return을 고의적의로 씀(2번 쓰면 안됨 for에선(?))\n",
    "print(gugu(2))"
   ]
  },
  {
   "cell_type": "markdown",
   "id": "055d147d-adca-4957-bc07-c1d0b10332ef",
   "metadata": {},
   "source": [
    "## 입력값과 리턴값에 따른 함수의 형태"
   ]
  },
  {
   "cell_type": "code",
   "execution_count": 20,
   "id": "d11b18c9-759f-4107-b19a-2d365556450f",
   "metadata": {},
   "outputs": [],
   "source": [
    "# 일반적인 함수\n",
    "def add(a, b):\n",
    "    result = a + b\n",
    "    return result"
   ]
  },
  {
   "cell_type": "code",
   "execution_count": 22,
   "id": "46422a51-1e7e-470f-887b-59fdbb5060dd",
   "metadata": {},
   "outputs": [
    {
     "name": "stdout",
     "output_type": "stream",
     "text": [
      "87\n"
     ]
    }
   ],
   "source": [
    "a = add(77,10) #위에 a랑 여기 a는 다름, 동명이인이라 생각하기\n",
    "print(a)"
   ]
  },
  {
   "cell_type": "code",
   "execution_count": 23,
   "id": "46bc8219-aebb-4f44-9ea9-4bd6f69dd11a",
   "metadata": {},
   "outputs": [],
   "source": [
    "# 입력값이 없는 함수\n",
    "def say():\n",
    "    return '안녕'"
   ]
  },
  {
   "cell_type": "code",
   "execution_count": 24,
   "id": "6828e0c1-437d-43d2-bd2b-e56bd46d3204",
   "metadata": {},
   "outputs": [
    {
     "name": "stdout",
     "output_type": "stream",
     "text": [
      "안녕\n"
     ]
    }
   ],
   "source": [
    "a = say()\n",
    "print(a)"
   ]
  },
  {
   "cell_type": "code",
   "execution_count": 25,
   "id": "fdc65e80-c988-46f8-90ae-b16ce56f935e",
   "metadata": {},
   "outputs": [],
   "source": [
    "# 리턴값이 없는 함수\n",
    "def add(a,b):\n",
    "    print(\"%d, %d의 합은 %d 입니다.\" %(a, b, a+b))"
   ]
  },
  {
   "cell_type": "code",
   "execution_count": 26,
   "id": "eebb91a7-7975-4020-af86-f0b961a9220d",
   "metadata": {},
   "outputs": [
    {
     "name": "stdout",
     "output_type": "stream",
     "text": [
      "11, 33의 합은 44 입니다.\n"
     ]
    }
   ],
   "source": [
    "add(11,33)"
   ]
  },
  {
   "cell_type": "code",
   "execution_count": 27,
   "id": "6b7b4c71-1b0d-4e15-93f1-47752c53706f",
   "metadata": {},
   "outputs": [],
   "source": [
    "# 입력값과 리턴값이 없는 함수\n",
    "def say():\n",
    "    print(\"안녕\")\n",
    "    print(\"입력값과 리턴값이 없어요\")\n",
    "    print(\"빠이~\")"
   ]
  },
  {
   "cell_type": "code",
   "execution_count": 28,
   "id": "fcc4741d-d2a1-47de-8031-dd08817164f2",
   "metadata": {},
   "outputs": [
    {
     "name": "stdout",
     "output_type": "stream",
     "text": [
      "안녕\n",
      "입력값과 리턴값이 없어요\n",
      "빠이~\n"
     ]
    }
   ],
   "source": [
    "say()"
   ]
  },
  {
   "cell_type": "code",
   "execution_count": 35,
   "id": "223c6f23-01d6-440d-a40b-7d9a3eb3b8c9",
   "metadata": {},
   "outputs": [],
   "source": [
    "# 테스트i\n",
    "import time as t\n",
    "def disp():\n",
    "    print(\"안녕\\r\",end=\"\")\n",
    "    t.sleep(1)\n",
    "    print(\"입력값과 리턴값이 없어요.\\r\",end=\"\")\n",
    "    t.sleep(1)\n",
    "    print(\"빠이~           \\r\",end=\"\")\n",
    "    t.sleep(1)"
   ]
  },
  {
   "cell_type": "code",
   "execution_count": 36,
   "id": "40a2f168-f2b2-482f-a22f-83e85db506db",
   "metadata": {},
   "outputs": [
    {
     "name": "stdout",
     "output_type": "stream",
     "text": [
      "빠이~           "
     ]
    }
   ],
   "source": [
    "disp()"
   ]
  },
  {
   "cell_type": "code",
   "execution_count": 43,
   "id": "98a077f6-910f-45ae-9781-221b334892df",
   "metadata": {},
   "outputs": [
    {
     "name": "stdout",
     "output_type": "stream",
     "text": [
      "44\n"
     ]
    }
   ],
   "source": [
    "# max() //\n",
    "def bs(li=[33,11,22,44]):\n",
    "    sw = 0\n",
    "    for x in range(len(li)):\n",
    "        if sw < li[x]:\n",
    "            sw = li[x]\n",
    "    return sw\n",
    "print(bs())"
   ]
  },
  {
   "cell_type": "code",
   "execution_count": 44,
   "id": "3145dd09-e2ee-456a-aad1-c5ff0d0677da",
   "metadata": {},
   "outputs": [
    {
     "name": "stdout",
     "output_type": "stream",
     "text": [
      "33\n"
     ]
    }
   ],
   "source": [
    "print(bs([7,6,5,4,11,22,33]))"
   ]
  },
  {
   "cell_type": "code",
   "execution_count": 45,
   "id": "7f537761-2ccf-4917-9eb7-8bc8803eb59d",
   "metadata": {},
   "outputs": [],
   "source": [
    "# 매개변수를 지정하여 호출하기\n",
    "def sub(a,b):\n",
    "    return a-b"
   ]
  },
  {
   "cell_type": "code",
   "execution_count": 46,
   "id": "6f79a3a4-c660-4679-b313-46b4537ee54a",
   "metadata": {},
   "outputs": [
    {
     "name": "stdout",
     "output_type": "stream",
     "text": [
      "4\n"
     ]
    }
   ],
   "source": [
    "# result = sub(a=7,b=3)\n",
    "result = sub(b=3, a=7) # 순서는 상관없음\n",
    "print(result)"
   ]
  },
  {
   "cell_type": "code",
   "execution_count": 56,
   "id": "ae98ad85-4dad-4456-9fda-6e4f4f4545b8",
   "metadata": {},
   "outputs": [],
   "source": [
    "# !pip install matplotlib"
   ]
  },
  {
   "cell_type": "code",
   "execution_count": 72,
   "id": "5e57d3bd-7d95-4949-92a4-da4a0824fac8",
   "metadata": {},
   "outputs": [],
   "source": [
    "# 테스트 : 함수 random 주사위\n",
    "import random as r\n",
    "import matplotlib.pyplot as plt # 맷플럽립에 들어가는 컬러 챗gpt에 물어보기\n",
    "results = {}\n",
    "def dice(target = 100000):\n",
    "    box = []\n",
    "    num = 0 \n",
    "    while num < target: \n",
    "        num = num + 1\n",
    "        ran = r.randint(1,6) \n",
    "        box.append(ran)\n",
    "    if target == len(box):\n",
    "        print(f\"{target}회 정상 진행되었습니다.\")\n",
    "    else:\n",
    "        print(f\"검증 결과 횟수 이상이 있습니다. 이유:({target}회 목표로 동작하였으나, {len(box)}으로 측정되었습니다.)\")\n",
    "    \n",
    "    for n in range(1,7):\n",
    "        results[n] = box.count(n)\n",
    "        print(f'{n}번이 {box.count(n)}번, ({(box.count(n)/len(box))*100:.2f}%) 나왔습니다.')\n",
    "    print(results)\n",
    "    color = [\"skyblue\",\"orange\",\"skyblue\",\"skyblue\",\"skyblue\",\"skyblue\"]\n",
    "    plt.bar(results.keys(),results.values(),color=color)\n",
    "    plt.show()"
   ]
  },
  {
   "cell_type": "code",
   "execution_count": 73,
   "id": "c2ce9b40-416a-42b7-80d4-a3d176c41356",
   "metadata": {},
   "outputs": [
    {
     "name": "stdout",
     "output_type": "stream",
     "text": [
      "100000회 정상 진행되었습니다.\n",
      "1번이 16744번, (16.74%) 나왔습니다.\n",
      "2번이 16787번, (16.79%) 나왔습니다.\n",
      "3번이 16588번, (16.59%) 나왔습니다.\n",
      "4번이 16619번, (16.62%) 나왔습니다.\n",
      "5번이 16557번, (16.56%) 나왔습니다.\n",
      "6번이 16705번, (16.71%) 나왔습니다.\n",
      "{1: 16744, 2: 16787, 3: 16588, 4: 16619, 5: 16557, 6: 16705}\n"
     ]
    },
    {
     "data": {
      "image/png": "[encoded data removed]",
      "text/plain": [
       "<Figure size 640x480 with 1 Axes>"
      ]
     },
     "metadata": {},
     "output_type": "display_data"
    }
   ],
   "source": [
    "dice()\n",
    "# plt.bar(x축,y축)"
   ]
  },
  {
   "cell_type": "code",
   "execution_count": 79,
   "id": "e382d6b6-fd78-40c2-a393-5215f53d4313",
   "metadata": {},
   "outputs": [],
   "source": [
    "# 여러개의 입력값을 받는 함수 만들기\n",
    "def add_many(*args):\n",
    "    result = 0\n",
    "    for i in args:\n",
    "            result = result + i\n",
    "    return result"
   ]
  },
  {
   "cell_type": "code",
   "execution_count": 83,
   "id": "fd6dceb4-d895-4545-98a1-61ba3840e31b",
   "metadata": {},
   "outputs": [
    {
     "name": "stdout",
     "output_type": "stream",
     "text": [
      "10\n"
     ]
    }
   ],
   "source": [
    "res = add_many(1,4,5)\n",
    "print(res)"
   ]
  },
  {
   "cell_type": "code",
   "execution_count": 92,
   "id": "ec139328-c36f-416e-898a-3af96228fdba",
   "metadata": {},
   "outputs": [],
   "source": [
    "# 161p\n",
    "def add_mul(choice, *args):\n",
    "    if choice == \"add\":\n",
    "        result = 0\n",
    "        for i in args:\n",
    "            result = result + i\n",
    "    elif choice == \"mul\":\n",
    "        result = 1\n",
    "        for i in args:\n",
    "            result = result * i\n",
    "    return result"
   ]
  },
  {
   "cell_type": "code",
   "execution_count": 93,
   "id": "cdaa75d6-b9b5-413b-94fd-ffc7ed83be3e",
   "metadata": {},
   "outputs": [
    {
     "name": "stdout",
     "output_type": "stream",
     "text": [
      "15\n"
     ]
    }
   ],
   "source": [
    "result = add_mul('add', 1, 2, 3, 4, 5)\n",
    "print(result)"
   ]
  },
  {
   "cell_type": "code",
   "execution_count": 99,
   "id": "35c19160-d66a-4d7d-902a-3c09d2783fc0",
   "metadata": {},
   "outputs": [
    {
     "name": "stdout",
     "output_type": "stream",
     "text": [
      "{'name': '홍길동', 'age': 21, 'address': '대한민국'}\n"
     ]
    }
   ],
   "source": [
    "# 키워드 매개변수 : kwrgs # 딕셔너리 만드는거\n",
    "def print_kwargs(**kwargs):\n",
    "    print(kwargs)\n",
    "print_kwargs(name='홍길동', age=21, address='대한민국')\n",
    "# print_kwargs({name='홍길동', age=21, address='대한민국'})"
   ]
  },
  {
   "cell_type": "code",
   "execution_count": 107,
   "id": "ae1b12d3-26bb-40ce-ab34-5dbbfebdf9fa",
   "metadata": {},
   "outputs": [
    {
     "name": "stdout",
     "output_type": "stream",
     "text": [
      "{'name': '홍길동', 'age': 21, 'address': '대한민국'}\n"
     ]
    }
   ],
   "source": [
    "def print_kwargs(kwargs):\n",
    "    print(kwargs)\n",
    "print_kwargs({'name':'홍길동', 'age':21, 'address':'대한민국'})"
   ]
  },
  {
   "cell_type": "code",
   "execution_count": 100,
   "id": "135a7337-76b2-43f2-b51d-fc53f9e177e6",
   "metadata": {},
   "outputs": [],
   "source": [
    "# test\n",
    "def test():\n",
    "    print('저야 영광이죠~!!')\n",
    "    if  True : return\n",
    "    print('집에가고싶어!~!')"
   ]
  },
  {
   "cell_type": "code",
   "execution_count": 102,
   "id": "8005519e-b806-4a16-9f0a-0255ab8d21c1",
   "metadata": {},
   "outputs": [
    {
     "name": "stdout",
     "output_type": "stream",
     "text": [
      "저야 영광이죠~!!\n"
     ]
    }
   ],
   "source": [
    "test()"
   ]
  },
  {
   "cell_type": "code",
   "execution_count": 105,
   "id": "653883ce-4ed3-4c6b-9b57-008f4f653abc",
   "metadata": {},
   "outputs": [
    {
     "name": "stdout",
     "output_type": "stream",
     "text": [
      "35 286\n"
     ]
    }
   ],
   "source": [
    "# test2\n",
    "def test2(a,b):\n",
    "    return (a+b, a*b)\n",
    "add_result, mul_result = test2(13, 22)\n",
    "print(add_result, mul_result)"
   ]
  },
  {
   "cell_type": "code",
   "execution_count": 112,
   "id": "885bdb9a-6f63-4ada-b82d-b6a7336b38b4",
   "metadata": {},
   "outputs": [],
   "source": [
    "# 164p\n",
    "def say_nick(nick):\n",
    "    if nick == \"바보\":\n",
    "        return\n",
    "    print(\"나의 별명은 %s입니다.\" % nick)"
   ]
  },
  {
   "cell_type": "code",
   "execution_count": 114,
   "id": "4d3dd2ba-84c1-4631-86d8-eb8921edd72f",
   "metadata": {},
   "outputs": [
    {
     "name": "stdout",
     "output_type": "stream",
     "text": [
      "나의 별명은 야호입니다.\n"
     ]
    }
   ],
   "source": [
    "say_nick('야호')"
   ]
  },
  {
   "cell_type": "code",
   "execution_count": 117,
   "id": "b62b031d-fd2e-4042-ac1c-730e903e5d66",
   "metadata": {},
   "outputs": [],
   "source": [
    "say_nick('바보')"
   ]
  },
  {
   "cell_type": "code",
   "execution_count": null,
   "id": "9e10daf4-e893-4bed-a591-10a311dcac34",
   "metadata": {},
   "outputs": [],
   "source": []
  }
 ],
 "metadata": {
  "kernelspec": {
   "display_name": "Python 3 (ipykernel)",
   "language": "python",
   "name": "python3"
  },
  "language_info": {
   "codemirror_mode": {
    "name": "ipython",
    "version": 3
   },
   "file_extension": ".py",
   "mimetype": "text/x-python",
   "name": "python",
   "nbconvert_exporter": "python",
   "pygments_lexer": "ipython3",
   "version": "3.13.1"
  }
 },
 "nbformat": 4,
 "nbformat_minor": 5
}
