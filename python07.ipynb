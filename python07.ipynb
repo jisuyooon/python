{
 "cells": [
  {
   "cell_type": "markdown",
   "id": "0580c754-7c93-4d1f-9f28-cf669c0cb13b",
   "metadata": {},
   "source": [
    "# 내장함수"
   ]
  },
  {
   "cell_type": "code",
   "execution_count": 2,
   "id": "3600ec99-90de-405d-931a-10f192450b70",
   "metadata": {},
   "outputs": [
    {
     "name": "stdout",
     "output_type": "stream",
     "text": [
      "3\n",
      "1.2\n"
     ]
    }
   ],
   "source": [
    "# abs * # 절댓값을 리턴함\n",
    "print(abs(-3))\n",
    "print(abs(-1.2))"
   ]
  },
  {
   "cell_type": "code",
   "execution_count": 7,
   "id": "12e3b7c7-338c-45aa-b70f-07c9476c57cc",
   "metadata": {},
   "outputs": [
    {
     "name": "stdout",
     "output_type": "stream",
     "text": [
      "True\n",
      "False\n",
      "True\n"
     ]
    }
   ],
   "source": [
    "# all *\n",
    "print(all([1,2,3])) \n",
    "print(all([11,22,0,44,55])) # 하나라도 문제있음 멈춤\n",
    "print(all([])) # 특이사항 # 얘는 이렇게 정했기 때문에 따라줘야함"
   ]
  },
  {
   "cell_type": "code",
   "execution_count": 12,
   "id": "786381c6-b761-44ec-af3b-bbae3ff45ba8",
   "metadata": {},
   "outputs": [
    {
     "name": "stdout",
     "output_type": "stream",
     "text": [
      "True\n",
      "False\n",
      "False\n"
     ]
    }
   ],
   "source": [
    "# any *\n",
    "print(any([1,2,3,0]))\n",
    "print(any([0,\"\",[], False]))\n",
    "print(any([]))"
   ]
  },
  {
   "cell_type": "code",
   "execution_count": 25,
   "id": "9c13d162-cbc6-4318-8bf5-dfbc3dbdd6b3",
   "metadata": {},
   "outputs": [
    {
     "name": "stdout",
     "output_type": "stream",
     "text": [
      "A\n",
      "가\n",
      "65\n",
      "44032\n"
     ]
    }
   ],
   "source": [
    "# chr\n",
    "print(chr(65)) # 48은 0x30이고 0이라는 것 기억해두면 좋음 \n",
    "print(chr(44032))\n",
    "# 유니코드 - utf-8(인코딩방식) 하고 관련있음\n",
    "# 아스키코드\n",
    "print(ord('A'))\n",
    "print(ord('가'))"
   ]
  },
  {
   "cell_type": "code",
   "execution_count": 49,
   "id": "72da6962-b93f-4c82-a991-bd70b24eb203",
   "metadata": {},
   "outputs": [
    {
     "name": "stdout",
     "output_type": "stream",
     "text": [
      "ABCDEFGHIJKLMNOPQRSTUVWXYZ"
     ]
    }
   ],
   "source": [
    "# 문1) 아스키코드표 보고 A부터 Z까지 차례로 모두 출력(65부터 90까지)\n",
    "for x in range(65, 91):\n",
    "    print(chr(x) , end=\"\")"
   ]
  },
  {
   "cell_type": "code",
   "execution_count": 66,
   "id": "225659d0-c7ae-4e62-ac6f-5c9dd1a63be5",
   "metadata": {},
   "outputs": [
    {
     "name": "stdout",
     "output_type": "stream",
     "text": [
      "zyxwvutsrqponmlkjihgfedcba"
     ]
    }
   ],
   "source": [
    "# 문2) 소문자 z부터 a까지 역순으로 모두 차례로 출력\n",
    "for x in range(122,96,-1):\n",
    "\tprint(chr(x), end=\"\")"
   ]
  },
  {
   "cell_type": "code",
   "execution_count": null,
   "id": "2b1b1b76-4415-4f00-9610-bb8c3201f417",
   "metadata": {},
   "outputs": [],
   "source": [
    "# 문3) A1부터 A10까지 증가 후 B1부터 B10까지 증가 그리고 C1부터 C10까지 증가하게 하기\n",
    "def A():    \n",
    "    for x in range(65):\n",
    "        print()"
   ]
  }
 ],
 "metadata": {
  "kernelspec": {
   "display_name": "Python 3 (ipykernel)",
   "language": "python",
   "name": "python3"
  },
  "language_info": {
   "codemirror_mode": {
    "name": "ipython",
    "version": 3
   },
   "file_extension": ".py",
   "mimetype": "text/x-python",
   "name": "python",
   "nbconvert_exporter": "python",
   "pygments_lexer": "ipython3",
   "version": "3.13.1"
  }
 },
 "nbformat": 4,
 "nbformat_minor": 5
}
