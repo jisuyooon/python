{
 "cells": [
  {
   "cell_type": "markdown",
   "id": "af6319ac-7198-4215-b91a-722d356b1214",
   "metadata": {},
   "source": [
    "# 클래스"
   ]
  },
  {
   "cell_type": "markdown",
   "id": "f5e91b3c-2cfa-49fd-a40f-d18f52ff01fe",
   "metadata": {},
   "source": [
    "## 클래스 기본"
   ]
  },
  {
   "cell_type": "code",
   "execution_count": 5,
   "id": "bda6b7b3-69a8-47a4-bec2-ee3d1ee11ba6",
   "metadata": {},
   "outputs": [
    {
     "name": "stdout",
     "output_type": "stream",
     "text": [
      "[1, 2, 3, 4] <class 'list'>\n",
      "(11, 22, 33, 44) <class 'tuple'>\n"
     ]
    }
   ],
   "source": [
    "what1 = [1,2,3,4]\n",
    "what2 = ['a','b','c']\n",
    "who = 11,22,33,44\n",
    "print(what,type(what))\n",
    "print(who,type(who))"
   ]
  },
  {
   "cell_type": "code",
   "execution_count": 7,
   "id": "369ad85d-bf3d-4fc3-9fe4-3f41f006dc93",
   "metadata": {},
   "outputs": [
    {
     "name": "stdout",
     "output_type": "stream",
     "text": [
      "3\n",
      "7\n"
     ]
    }
   ],
   "source": [
    "result = 0\n",
    "def add(num):\n",
    "    global result\n",
    "    result += num\n",
    "    return result\n",
    "\n",
    "print(add(3))\n",
    "print(add(4))"
   ]
  },
  {
   "cell_type": "code",
   "execution_count": 14,
   "id": "5490fee8-a9bf-4dad-902e-cfdfc73ed22f",
   "metadata": {},
   "outputs": [
    {
     "name": "stdout",
     "output_type": "stream",
     "text": [
      "1: 1\n",
      "2: 1\n",
      "2: 2\n",
      "2: 3\n",
      "1: 2\n",
      "1: 3\n"
     ]
    }
   ],
   "source": [
    "# 함수로 구성\n",
    "result1 = 0\n",
    "result2 = 0\n",
    "def add1(num):\n",
    "    global result1\n",
    "    result1 += num\n",
    "    return result1\n",
    "def add2(num):\n",
    "    global result2\n",
    "    result2 += num\n",
    "    return result2\n",
    "\n",
    "print('1:',add1(1))\n",
    "print('2:',add2(1))\n",
    "print('2:',add2(1))\n",
    "print('2:',add2(1))\n",
    "print('1:',add1(1))\n",
    "print('1:',add1(1))"
   ]
  },
  {
   "cell_type": "code",
   "execution_count": 16,
   "id": "d105925f-cdd7-4901-832d-0dbacc21f2e1",
   "metadata": {},
   "outputs": [
    {
     "name": "stdout",
     "output_type": "stream",
     "text": [
      "1: 1\n",
      "2: 1\n",
      "2: 2\n",
      "2: 3\n",
      "1: 2\n",
      "1: 3\n",
      "2: 2\n",
      "2: 1\n"
     ]
    }
   ],
   "source": [
    "# 클래스 구성\n",
    "class Calculator:\n",
    "    def __init__(self):\n",
    "        self.result = 0\n",
    "    def add(self, num):\n",
    "        self.result += num\n",
    "        return self.result\n",
    "    def sub(self, num):\n",
    "        self.result -= num\n",
    "        return self.result\n",
    "\n",
    "# 인스턴스화\n",
    "Cal1 = Calculator() # [1,2,3,4,5] #Cal1 Calulator()의 인스턴스임\n",
    "Cal2 = Calculator() # ['a','b','c']\n",
    "\n",
    "print('1:',Cal1.add(1))\n",
    "print('2:',Cal2.add(1))\n",
    "print('2:',Cal2.add(1))\n",
    "print('2:',Cal2.add(1))\n",
    "print('1:',Cal1.add(1))\n",
    "print('1:',Cal1.add(1))\n",
    "\n",
    "print('2:',Cal2.sub(1))\n",
    "print('2:',Cal2.sub(1))"
   ]
  },
  {
   "cell_type": "markdown",
   "id": "e0f3c4f4-80b0-4858-afd7-f963cf73a7f3",
   "metadata": {},
   "source": [
    "## 생성자"
   ]
  },
  {
   "cell_type": "code",
   "execution_count": 34,
   "id": "9411748a-6600-48e3-97fd-f08b8d925781",
   "metadata": {},
   "outputs": [],
   "source": [
    "# 예제1\n",
    "class Dduk: # 설계도만 이렇게 만들어 놓은거\n",
    "    def __init__(self, won, ea): # __(언더바 2개) 들어간건 외부에서 접근 못함(?) # self는 내부에서 없는애 취급함\n",
    "        self.won = won\n",
    "        self.ea = ea\n",
    "    def dduk(self):\n",
    "        result = self.won * self.ea\n",
    "        print(f\"배가 고파서 떡볶이집에서 떡볶이를 {result}원어치 먹었다.\")\n",
    "    def odeng(self):\n",
    "        result = self.won * 2 * self.ea\n",
    "        print(f\"배가 고파서 떡볶이집에서 오뎅을 {result}원어치 먹었다.\")\n",
    "    def sundae(self):\n",
    "        result = self.won * self.ea\n",
    "        print(f\"배가 고파서 떡볶이집에서 순대를 {result}원어치 먹었다.\")"
   ]
  },
  {
   "cell_type": "code",
   "execution_count": 44,
   "id": "da4db01b-0e56-4ba4-8fda-f69e51b11ebc",
   "metadata": {},
   "outputs": [],
   "source": [
    "성훈 = Dduk(2000,3)\n",
    "희성 = Dduk(3000,2)\n",
    "기윤 = Dduk(1500,6)\n",
    "지수 = Dduk(1000,4)"
   ]
  },
  {
   "cell_type": "code",
   "execution_count": 36,
   "id": "98b575be-54f5-4549-8637-f804469800c7",
   "metadata": {},
   "outputs": [
    {
     "name": "stdout",
     "output_type": "stream",
     "text": [
      "배가 고파서 떡볶이집에서 떡볶이를 6000원어치 먹었다.\n",
      "배가 고파서 떡볶이집에서 오뎅을 12000원어치 먹었다.\n"
     ]
    }
   ],
   "source": [
    "성훈.dduk()\n",
    "성훈.odeng()"
   ]
  },
  {
   "cell_type": "code",
   "execution_count": 37,
   "id": "7164c187-3a6c-4200-8146-e3b9fafdfc00",
   "metadata": {},
   "outputs": [
    {
     "name": "stdout",
     "output_type": "stream",
     "text": [
      "배가 고파서 떡볶이집에서 떡볶이를 6000원어치 먹었다.\n",
      "배가 고파서 떡볶이집에서 오뎅을 12000원어치 먹었다.\n"
     ]
    }
   ],
   "source": [
    "희성.dduk()\n",
    "희성.odeng()"
   ]
  },
  {
   "cell_type": "code",
   "execution_count": 38,
   "id": "bb520b9b-85fe-48f9-9263-5de1ae8e1387",
   "metadata": {},
   "outputs": [
    {
     "name": "stdout",
     "output_type": "stream",
     "text": [
      "배가 고파서 떡볶이집에서 떡볶이를 9000원어치 먹었다.\n",
      "배가 고파서 떡볶이집에서 오뎅을 18000원어치 먹었다.\n"
     ]
    }
   ],
   "source": [
    "기윤.dduk()\n",
    "기윤.odeng()"
   ]
  },
  {
   "cell_type": "code",
   "execution_count": 39,
   "id": "6a0090c0-f902-422d-87c1-8a25a421064d",
   "metadata": {},
   "outputs": [],
   "source": [
    "성훈.__init__(3300,2) # 초기값 변경"
   ]
  },
  {
   "cell_type": "code",
   "execution_count": 40,
   "id": "5dde357a-c600-4db0-b377-63402b97f531",
   "metadata": {},
   "outputs": [
    {
     "name": "stdout",
     "output_type": "stream",
     "text": [
      "배가 고파서 떡볶이집에서 떡볶이를 6600원어치 먹었다.\n",
      "배가 고파서 떡볶이집에서 오뎅을 13200원어치 먹었다.\n"
     ]
    }
   ],
   "source": [
    "성훈.dduk()\n",
    "성훈.odeng()"
   ]
  },
  {
   "cell_type": "code",
   "execution_count": 45,
   "id": "800f454b-5c89-41a7-91e0-20cc1d62da69",
   "metadata": {},
   "outputs": [
    {
     "name": "stdout",
     "output_type": "stream",
     "text": [
      "배가 고파서 떡볶이집에서 떡볶이를 4000원어치 먹었다.\n",
      "배가 고파서 떡볶이집에서 오뎅을 8000원어치 먹었다.\n",
      "배가 고파서 떡볶이집에서 순대를 4000원어치 먹었다.\n"
     ]
    }
   ],
   "source": [
    "지수.dduk()\n",
    "지수.odeng()\n",
    "지수.sundae()"
   ]
  },
  {
   "cell_type": "code",
   "execution_count": 46,
   "id": "c4c46fc0-834b-4d4e-8fdc-2fed152b8d7d",
   "metadata": {},
   "outputs": [],
   "source": [
    "지수.__init__(1500,4)"
   ]
  },
  {
   "cell_type": "code",
   "execution_count": 43,
   "id": "02f3ed15-0bdc-45d8-a350-c5f2cd14ee71",
   "metadata": {},
   "outputs": [
    {
     "name": "stdout",
     "output_type": "stream",
     "text": [
      "배가 고파서 떡볶이집에서 떡볶이를 7500원어치 먹었다.\n",
      "배가 고파서 떡볶이집에서 오뎅을 15000원어치 먹었다.\n",
      "배가 고파서 떡볶이집에서 순대를 7500원어치 먹었다.\n"
     ]
    }
   ],
   "source": [
    "지수.dduk()\n",
    "지수.odeng()\n",
    "지수.sundae()"
   ]
  },
  {
   "cell_type": "markdown",
   "id": "3c2ac84a-5f51-4d51-a76f-c43b3bd18225",
   "metadata": {},
   "source": [
    "## 예제들"
   ]
  },
  {
   "cell_type": "code",
   "execution_count": 55,
   "id": "4c09b785-4ba5-4185-beae-e7824d7262e7",
   "metadata": {},
   "outputs": [
    {
     "name": "stdout",
     "output_type": "stream",
     "text": [
      "방가방가1 저는 고전 인사입니다!!\n",
      "방가방가2 저는 고전 인사입니다!!\n",
      "방가방가3 저는 고전 인사입니다!!\n",
      "==============================\n",
      "\n",
      "이것은 예로부터 전해오는 고전 인사함수 입니다. DocString\n",
      "\n",
      "==============================\n",
      "Help on function test in module __main__:\n",
      "\n",
      "test()\n",
      "    이것은 예로부터 전해오는 고전 인사함수 입니다. DocString\n",
      "\n"
     ]
    }
   ],
   "source": [
    "# 테스트\n",
    "def test():\n",
    "    \"\"\"\n",
    "    이것은 예로부터 전해오는 고전 인사함수 입니다. DocString\n",
    "    \"\"\"\n",
    "    print(\"방가방가1 저는 고전 인사입니다!!\")\n",
    "    print(\"방가방가2 저는 고전 인사입니다!!\")\n",
    "    print(\"방가방가3 저는 고전 인사입니다!!\")\n",
    "test()\n",
    "print(\"=\"*30)\n",
    "print(test.__doc__)\n",
    "print(\"=\"*30)\n",
    "help(test)"
   ]
  },
  {
   "cell_type": "code",
   "execution_count": 64,
   "id": "f5c670f5-1230-4245-9120-2324b4c123df",
   "metadata": {},
   "outputs": [],
   "source": [
    "# 테스트2\n",
    "# class의 self없이 함수 만들기\n",
    "def set_car(name, color):\n",
    "    return {\"name\":name,\"color\":color}\n",
    "\n",
    "def get_car_info(car):\n",
    "    return f\"Car:{car['name']},color:{car['color']}\""
   ]
  },
  {
   "cell_type": "code",
   "execution_count": 65,
   "id": "503dadc4-2a3f-4619-9959-2a7be1681c45",
   "metadata": {},
   "outputs": [
    {
     "name": "stdout",
     "output_type": "stream",
     "text": [
      "{'name': 'HD', 'color': 'Blue'}\n",
      "Car:HD,color:Blue\n"
     ]
    }
   ],
   "source": [
    "# 자동차를 생성\n",
    "car = set_car(\"HD\",\"Blue\")\n",
    "print(car)\n",
    "# 자동차 정보를 생성\n",
    "print(get_car_info(car))"
   ]
  },
  {
   "cell_type": "code",
   "execution_count": 66,
   "id": "29ff41e0-1a98-412d-8d23-22455e3e0df5",
   "metadata": {},
   "outputs": [
    {
     "name": "stdout",
     "output_type": "stream",
     "text": [
      "Car:Kia,color:White\n"
     ]
    }
   ],
   "source": [
    "print(get_car_info(set_car(\"Kia\",\"White\"))) # 함수안에 함수안에 함수"
   ]
  },
  {
   "cell_type": "code",
   "execution_count": 91,
   "id": "43804eb0-6889-45ee-a9e0-ffa422c0ca24",
   "metadata": {},
   "outputs": [
    {
     "name": "stdout",
     "output_type": "stream",
     "text": [
      "Car:HD,Color:Yellow\n",
      "Car:Kia,Color:White\n"
     ]
    }
   ],
   "source": [
    "# 테스트 3\n",
    "class Car:\n",
    "    def set_car(name, color):\n",
    "        return {\"name\":name,\"color\":color}\n",
    "    def get_car_info(car):\n",
    "        return f\"Car:{car['name']},Color:{car['color']}\"\n",
    "\n",
    "car1 = Car.set_car(\"HD\",\"Yellow\")\n",
    "car2 = Car.set_car(\"Kia\",\"White\")\n",
    "print(Car.get_car_info(car1))\n",
    "print(Car.get_car_info(car2))"
   ]
  },
  {
   "cell_type": "code",
   "execution_count": 95,
   "id": "f8182b00-2c15-481b-84f1-fee219e02a68",
   "metadata": {},
   "outputs": [
    {
     "name": "stdout",
     "output_type": "stream",
     "text": [
      "Car:HD,Color:Black\n",
      "Car:Kia,Color:Gray\n"
     ]
    }
   ],
   "source": [
    "# 테스트 4\n",
    "class Car:\n",
    "    def __init__(self,name,color): # 생성자\n",
    "        self.name = name\n",
    "        self.color = color\n",
    "    def get_car_info(self):\n",
    "        return f\"Car:{self.name},Color:{self.color}\"\n",
    "\n",
    "car1 = Car(\"HD\",\"Black\")\n",
    "car2 = Car(\"Kia\",\"Gray\")\n",
    "\n",
    "print(car1.get_car_info())\n",
    "print(car2.get_car_info())"
   ]
  },
  {
   "cell_type": "code",
   "execution_count": 113,
   "id": "a8bd35ba-e9a2-47d6-8560-d4f6de80f890",
   "metadata": {},
   "outputs": [],
   "source": [
    "# 테스트 5\n",
    "class Car:\n",
    "    def __init__(self,name,color): # 생성자\n",
    "        self.name = name\n",
    "        self.color = color\n",
    "        self.__speed = 0 # 초기값 0 # speed 앞에 언더바 __ 하면 외부에서 직접접근 못함\n",
    "    def get_car_info(self):\n",
    "        return f\"Car:{self.name},Color:{self.color}\"\n",
    "    def acc(self, amount):\n",
    "        self.speed += amount # 속도가 증가\n",
    "        return f\"{self.color}색 {self.name} 속도 올려요. 현재속도는 {self.speed}km/h\""
   ]
  },
  {
   "cell_type": "code",
   "execution_count": 114,
   "id": "e05d6889-5a08-4e09-8f47-4a1c5bfb2926",
   "metadata": {},
   "outputs": [
    {
     "name": "stdout",
     "output_type": "stream",
     "text": [
      "Car:HD,Color:Black\n",
      "Car:Kia,Color:Gray\n"
     ]
    }
   ],
   "source": [
    "car1 = Car(\"HD\",\"Black\")\n",
    "car2 = Car(\"Kia\",\"Gray\")\n",
    "\n",
    "print(car1.get_car_info())\n",
    "print(car2.get_car_info())"
   ]
  },
  {
   "cell_type": "code",
   "execution_count": 115,
   "id": "ac347c05-fbc6-4665-8c27-cf5ad3fd4d21",
   "metadata": {},
   "outputs": [
    {
     "name": "stdout",
     "output_type": "stream",
     "text": [
      "Black색 HD 속도 올려요. 현재속도는 30km/h\n",
      "Gray색 Kia 속도 올려요. 현재속도는 50km/h\n",
      "Black색 HD 속도 올려요. 현재속도는 40km/h\n"
     ]
    }
   ],
   "source": [
    "print(car1.acc(30))\n",
    "print(car2.acc(50))\n",
    "print(car1.acc(10))"
   ]
  },
  {
   "cell_type": "code",
   "execution_count": 112,
   "id": "4c12f01e-7c6d-4d59-9ba1-71dec6fea702",
   "metadata": {
    "scrolled": true
   },
   "outputs": [
    {
     "name": "stdout",
     "output_type": "stream",
     "text": [
      "Black색 HD 속도 올려요. 현재속도는 41km/h\n",
      "Black색 HD 속도 올려요. 현재속도는 42km/h\n",
      "Black색 HD 속도 올려요. 현재속도는 43km/h\n",
      "Black색 HD 속도 올려요. 현재속도는 44km/h\n",
      "Black색 HD 속도 올려요. 현재속도는 45km/h\n",
      "Black색 HD 속도 올려요. 현재속도는 46km/h\n",
      "Black색 HD 속도 올려요. 현재속도는 47km/h\n",
      "Black색 HD 속도 올려요. 현재속도는 48km/h\n",
      "Black색 HD 속도 올려요. 현재속도는 49km/h\n",
      "Black색 HD 속도 올려요. 현재속도는 50km/h\n",
      "Black색 HD 속도 올려요. 현재속도는 51km/h\n",
      "Black색 HD 속도 올려요. 현재속도는 52km/h\n",
      "Black색 HD 속도 올려요. 현재속도는 53km/h\n",
      "Black색 HD 속도 올려요. 현재속도는 54km/h\n",
      "Black색 HD 속도 올려요. 현재속도는 55km/h\n",
      "Black색 HD 속도 올려요. 현재속도는 56km/h\n",
      "Black색 HD 속도 올려요. 현재속도는 57km/h\n",
      "Black색 HD 속도 올려요. 현재속도는 58km/h\n",
      "Black색 HD 속도 올려요. 현재속도는 59km/h\n",
      "Black색 HD 속도 올려요. 현재속도는 60km/h\n",
      "Black색 HD 속도 올려요. 현재속도는 61km/h\n",
      "Black색 HD 속도 올려요. 현재속도는 62km/h\n",
      "Black색 HD 속도 올려요. 현재속도는 63km/h\n",
      "Black색 HD 속도 올려요. 현재속도는 64km/h\n",
      "Black색 HD 속도 올려요. 현재속도는 65km/h\n",
      "Black색 HD 속도 올려요. 현재속도는 66km/h\n",
      "Black색 HD 속도 올려요. 현재속도는 67km/h\n",
      "Black색 HD 속도 올려요. 현재속도는 68km/h\n",
      "Black색 HD 속도 올려요. 현재속도는 69km/h\n",
      "Black색 HD 속도 올려요. 현재속도는 70km/h\n",
      "Black색 HD 속도 올려요. 현재속도는 71km/h\n",
      "Black색 HD 속도 올려요. 현재속도는 72km/h\n",
      "Black색 HD 속도 올려요. 현재속도는 73km/h\n",
      "Black색 HD 속도 올려요. 현재속도는 74km/h\n",
      "Black색 HD 속도 올려요. 현재속도는 75km/h\n",
      "Black색 HD 속도 올려요. 현재속도는 76km/h\n",
      "Black색 HD 속도 올려요. 현재속도는 77km/h\n",
      "Black색 HD 속도 올려요. 현재속도는 78km/h\n",
      "Black색 HD 속도 올려요. 현재속도는 79km/h\n",
      "Black색 HD 속도 올려요. 현재속도는 80km/h\n",
      "Black색 HD 속도 올려요. 현재속도는 81km/h\n",
      "Black색 HD 속도 올려요. 현재속도는 82km/h\n",
      "Black색 HD 속도 올려요. 현재속도는 83km/h\n",
      "Black색 HD 속도 올려요. 현재속도는 84km/h\n",
      "Black색 HD 속도 올려요. 현재속도는 85km/h\n",
      "Black색 HD 속도 올려요. 현재속도는 86km/h\n",
      "Black색 HD 속도 올려요. 현재속도는 87km/h\n",
      "Black색 HD 속도 올려요. 현재속도는 88km/h\n",
      "Black색 HD 속도 올려요. 현재속도는 89km/h\n",
      "Black색 HD 속도 올려요. 현재속도는 90km/h\n",
      "Black색 HD 속도 올려요. 현재속도는 91km/h\n",
      "Black색 HD 속도 올려요. 현재속도는 92km/h\n",
      "Black색 HD 속도 올려요. 현재속도는 93km/h\n",
      "Black색 HD 속도 올려요. 현재속도는 94km/h\n",
      "Black색 HD 속도 올려요. 현재속도는 95km/h\n",
      "Black색 HD 속도 올려요. 현재속도는 96km/h\n",
      "Black색 HD 속도 올려요. 현재속도는 97km/h\n",
      "Black색 HD 속도 올려요. 현재속도는 98km/h\n",
      "Black색 HD 속도 올려요. 현재속도는 99km/h\n",
      "Black색 HD 속도 올려요. 현재속도는 100km/h\n",
      "100Km/h 속도유지중...\n"
     ]
    }
   ],
   "source": [
    "# 테스트 연습\n",
    "import time as t # 멈추는건 ii\n",
    "for n in range(60):\n",
    "    print(car1.acc(1))\n",
    "    t.sleep(1)\n",
    "print(\"100Km/h 속도유지중...\")"
   ]
  },
  {
   "cell_type": "code",
   "execution_count": 125,
   "id": "32995eb8-6fc1-4224-afe9-737426cfd7e9",
   "metadata": {},
   "outputs": [],
   "source": [
    "# 테스트 6 상속\n",
    "class Mycar(Car): # 위에는 부모클래스 얘는 자식클래스\n",
    "    def turbo(self):\n",
    "        self.speed += 50\n",
    "        print(f\"내차가 나른다!! 터보 ! {self.speed} Km/h\")"
   ]
  },
  {
   "cell_type": "code",
   "execution_count": 126,
   "id": "9cbf0698-90e4-48bd-8499-95a0b0705180",
   "metadata": {},
   "outputs": [],
   "source": [
    "my = Mycar(\"mycar\",\"green\")"
   ]
  },
  {
   "cell_type": "code",
   "execution_count": 127,
   "id": "9b8aa4c6-4462-472d-bb80-7dfdf98b7fbc",
   "metadata": {},
   "outputs": [
    {
     "name": "stdout",
     "output_type": "stream",
     "text": [
      "내차가 나른다!! 터보 ! 50 Km/h\n",
      "None\n",
      "내차가 나른다!! 터보 ! 100 Km/h\n",
      "None\n"
     ]
    }
   ],
   "source": [
    "print(my.turbo())\n",
    "print(my.turbo())"
   ]
  },
  {
   "cell_type": "code",
   "execution_count": 1,
   "id": "a635955b-57e3-43bb-94a2-046eef37f988",
   "metadata": {},
   "outputs": [],
   "source": [
    "# 테스트 7\n",
    "class Pet:\n",
    "    def __init__(self,name,species):\n",
    "        \"\"\"펫을 생성\"\"\"\n",
    "        self.name = name\n",
    "        self.species = species\n",
    "        self.hunger = 50 # 초기 배고픔 수치 (0~100)\n",
    "    def feed(self):\n",
    "        \"\"\"밥을 주면 배고픔 감소\"\"\"\n",
    "        if self.hunger > 10:\n",
    "            self.hunger -= 10\n",
    "        return f\"{self.name}에게 밥을 줬습니다! 배고픔:{self.hunger}\"\n",
    "    def play(self):\n",
    "        \"\"\"놀아주면 배고픔이 증가\"\"\"\n",
    "        if self.hunger <= 80:\n",
    "            self.hunger += 20\n",
    "        else:\n",
    "            self.hunger = 100\n",
    "        return f\"{self.name}와 아주 잘 놀아줬어요!!! 배고픔:{self.hunger}\""
   ]
  },
  {
   "cell_type": "code",
   "execution_count": 9,
   "id": "662b71fb-c64d-4688-a70b-938cf2d574dc",
   "metadata": {},
   "outputs": [
    {
     "name": "stdout",
     "output_type": "stream",
     "text": [
      "뽀삐에게 밥을 줬습니다! 배고픔:40\n",
      "뽀삐에게 밥을 줬습니다! 배고픔:30\n",
      "아지와 아주 잘 놀아줬어요!!! 배고픔:70\n",
      "아지와 아주 잘 놀아줬어요!!! 배고픔:90\n",
      "아지와 아주 잘 놀아줬어요!!! 배고픔:100\n",
      "뽀삐와 아주 잘 놀아줬어요!!! 배고픔:50\n",
      "뽀삐와 아주 잘 놀아줬어요!!! 배고픔:70\n",
      "컁이와 아주 잘 놀아줬어요!!! 배고픔:70\n",
      "컁이와 아주 잘 놀아줬어요!!! 배고픔:90\n",
      "컁이에게 밥을 줬습니다! 배고픔:80\n"
     ]
    }
   ],
   "source": [
    "# 펫 생성\n",
    "dog1 = Pet(\"뽀삐\",\"말티즈\")\n",
    "dog2 = Pet(\"아지\",\"요크\")\n",
    "cat = Pet(\"컁이\",\"나만고양이없어\")\n",
    "print(dog1.feed())\n",
    "print(dog1.feed())\n",
    "print(dog2.play())\n",
    "print(dog2.play())\n",
    "print(dog2.play())\n",
    "print(dog1.play())\n",
    "print(dog1.play())\n",
    "print(cat.play())\n",
    "print(cat.play())\n",
    "print(cat.feed())"
   ]
  },
  {
   "cell_type": "code",
   "execution_count": 15,
   "id": "cab62b0d-3c07-46c5-90a4-f60499e2cfc6",
   "metadata": {},
   "outputs": [],
   "source": [
    "# 테스트 8\n",
    "class Bacteria:\n",
    "    def __init__(self,initial_population, growth_rate):\n",
    "        \"\"\"세균초기화\"\"\"\n",
    "        self.population = initial_population\n",
    "        self.growth_rate = growth_rate\n",
    "        self.time = 0 # 시작시간\n",
    "    def grow(self,hours):\n",
    "        \"\"\"일정 시간이 지나면 세균이 증식함\"\"\"\n",
    "        self.time += hours\n",
    "        self.population *= self.growth_rate**hours\n",
    "        return f\"{self.time} 시간 후 세균 수: { int(self.population) }마리\"\n",
    "    def check(self):\n",
    "        \"\"\"현재 세균 수 확인\"\"\"\n",
    "        return f\"현재 세균 수 : { int(self.population)}마리\""
   ]
  },
  {
   "cell_type": "code",
   "execution_count": 16,
   "id": "a8c57d8b-1378-41e5-9472-9dc53c2c51a6",
   "metadata": {},
   "outputs": [],
   "source": [
    "bacteria = Bacteria( 100, 2)"
   ]
  },
  {
   "cell_type": "code",
   "execution_count": 17,
   "id": "f024edf3-0ded-46f5-bc20-ab1165320a4e",
   "metadata": {},
   "outputs": [
    {
     "name": "stdout",
     "output_type": "stream",
     "text": [
      "1 시간 후 세균 수: 200마리\n",
      "3 시간 후 세균 수: 800마리\n",
      "6 시간 후 세균 수: 6400마리\n"
     ]
    }
   ],
   "source": [
    "print(bacteria.grow(1))\n",
    "print(bacteria.grow(2))\n",
    "print(bacteria.grow(3))"
   ]
  },
  {
   "cell_type": "code",
   "execution_count": 44,
   "id": "22898941-2ea9-4a6d-b5da-3fcc74d04bfa",
   "metadata": {},
   "outputs": [
    {
     "name": "stdout",
     "output_type": "stream",
     "text": [
      "철수님의 잔고는 50000원 입니다.\n",
      "영희님의 잔고는 200000원 입니다.\n",
      "철수님의 잔고는 9000000원 입니다.\n",
      "9000000\n"
     ]
    }
   ],
   "source": [
    "# 테스트 9 은행예금 캡슐화 안됨, 클래스 변수\n",
    "class BankAccount:\n",
    "    interest_rate = 0.02 # 클래스 변수\n",
    "    def __init__(self, owner, balance):\n",
    "        self.owner = owner\n",
    "        self.balance = balance or 0 \n",
    "    def bprint(self):\n",
    "        return f\"{self.owner}님의 잔고는 {self.balance}원 입니다.\"\n",
    "\n",
    "acc1 = BankAccount(\"철수\",50000)\n",
    "acc2 = BankAccount(\"영희\",200000)\n",
    "print(acc1.bprint())\n",
    "print(acc2.bprint())\n",
    "# 공격후\n",
    "acc1.balance = 9000000\n",
    "print(acc1.bprint())\n",
    "print(acc1.balance)"
   ]
  },
  {
   "cell_type": "code",
   "execution_count": 48,
   "id": "960c3cae-bc93-4e22-9c37-0b1e18ae8965",
   "metadata": {},
   "outputs": [
    {
     "name": "stdout",
     "output_type": "stream",
     "text": [
      "철수님의 잔고는 50000원 입니다.\n",
      "영희님의 잔고는 200000원 입니다.\n",
      "0.02%의 이자가 반영된 금액은 51000원 입니다.\n",
      "0.02%의 이자가 반영된 금액은 204000원 입니다.\n",
      "0.03%의 이자가 반영된 금액은 51500원 입니다.\n",
      "0.03%의 이자가 반영된 금액은 206000원 입니다.\n"
     ]
    }
   ],
   "source": [
    "# 테스트 9 은행예금 캡슐화 된 예제, 클래스 변수\n",
    "class BankAccount:\n",
    "    interest_rate = 0.02 # 클래스 변수\n",
    "    def __init__(self, owner, balance):\n",
    "        self.owner = owner\n",
    "        self.__balance = balance or 0 # __언더바 2개(캡슐화) 쓰면 밑에도 계속 써야함\n",
    "    def bprint(self):\n",
    "        return f\"{self.owner}님의 잔고는 {self.__balance}원 입니다.\"\n",
    "    def deposit(self, amount):\n",
    "        self.__balance += amount\n",
    "        return f\"{self.owner}님의 계좌에 {amount}원이 입금 되었습니다. 현재 잔액: {self.__balance}원\"\n",
    "    def withdraw(self, amount): \n",
    "        if self.__balance >= amount:\n",
    "            self.__balance -= amount\n",
    "            return f\"{self.owner}님의 계좌에 {amount}원이 출금 되었습니다. 현재 잔액: {self.__balance}원\"\n",
    "        return \"잔액이 부족합니다.\"\n",
    "    def interest(self):\n",
    "        total = self.__balance * (1 + self.interest_rate)\n",
    "        return f\"{self.interest_rate}%의 이자가 반영된 금액은 {total:.0f}원 입니다.\"\n",
    "# 인스턴스화\n",
    "acc3 = BankAccount(\"철수\",50000)\n",
    "acc4 = BankAccount(\"영희\",200000)\n",
    "print(acc3.bprint())\n",
    "print(acc4.bprint())\n",
    "print(acc3.interest())\n",
    "print(acc4.interest())\n",
    "# 클래스 변수 바꾸기\n",
    "BankAccount.interest_rate = 0.03\n",
    "print(acc3.interest())\n",
    "print(acc4.interest())\n",
    "\n",
    "# 공격후\n",
    "# acc3.balance = 9000000\n",
    "# print(acc3.balance)\n",
    "\n",
    "# 내장메소드로 캡슐화된 변수 접근\n",
    "# print(acc3.deposit(30000))\n",
    "# print(acc3.withdraw(5500))"
   ]
  },
  {
   "cell_type": "code",
   "execution_count": 50,
   "id": "bee4ad09-6b13-49c2-961d-5bc906fa21ff",
   "metadata": {},
   "outputs": [
    {
     "name": "stdout",
     "output_type": "stream",
     "text": [
      "잔액이 2000원으로 증가했습니다.\n",
      "콜라을(를) 구매했습니다! 남은 잔액: 500원\n",
      "잔액이 부족합니다! (사이다 가격: 1400원, 현재 잔액: 500원)\n",
      "잔액 500원이 반환되었습니다.\n"
     ]
    }
   ],
   "source": [
    "# 연습문제\n",
    "class VendingMachine:\n",
    "    def __init__(self):\n",
    "        \"\"\"자동판매기 초기화\"\"\"\n",
    "        self.balance = 0 # 사용자의 잔액\n",
    "        self.items = { # 상품 목록 (이름: 가격)\n",
    "            \"콜라\": 1500,\n",
    "            \"사이다\": 1400,\n",
    "            \"물\": 1000\n",
    "        }\n",
    "\n",
    "    def insert_money(self, amount):\n",
    "        \"\"\"잔액 충전\"\"\"\n",
    "        self.balance += amount\n",
    "        return f\"잔액이 {self.balance}원으로 증가했습니다.\"\n",
    "    def buy_item(self, item_name):\n",
    "        \"\"\"상품 구매\"\"\"\n",
    "        if item_name not in self.items:\n",
    "            return f\"{item_name}은(는) 판매하지 않는 상품입니다.)\"\n",
    "        price = self.items[item_name]\n",
    "        if self.balance < price:\n",
    "            return f\"잔액이 부족합니다! ({item_name} 가격: {price}원, 현재 잔액: {self.balance}원)\"\n",
    "        self.balance -= price\n",
    "        return f\"{item_name}을(를) 구매했습니다! 남은 잔액: {self.balance}원\"\n",
    "    def refund(self):\n",
    "        \"\"\"잔액 반환\"\"\"\n",
    "        amount = self.balance\n",
    "        self.balance = 0\n",
    "        return f\"잔액 {amount}원이 반환되었습니다.\"\n",
    "# 자동판매기 객체 생성\n",
    "vm = VendingMachine()\n",
    "# 잔액 충전\n",
    "print(vm.insert_money(2000)) # 잔액이 2000원으로 증가했습니다.\n",
    "# 상품 구매\n",
    "print(vm.buy_item(\"콜라\")) # 콜라을(를) 구매했습니다! 남은 잔액: 500원\n",
    "print(vm.buy_item(\"사이다\")) # 잔액이 부족합니다! (사이다 가격: 1400원, 현재 잔액: 500원)\n",
    "# 잔액 반환\n",
    "print(vm.refund()) # 잔액 500원이 반환되었습니다."
   ]
  },
  {
   "cell_type": "code",
   "execution_count": 3,
   "id": "3b652cc9-1711-4739-8b6e-3b59a4a93298",
   "metadata": {},
   "outputs": [],
   "source": [
    "# 자동화 연습\n",
    "import turtle\n",
    "window = turtle.Screen()\n",
    "window.bgcolor(\"black\")\n",
    "\n",
    "# 거북이 생성\n",
    "my_turtle = turtle.Turtle()\n",
    "my_turtle.shape(\"turtle\")\n",
    "my_turtle.color(\"yellow\")\n",
    "\n",
    "# 사각형 그리기\n",
    "for _ in range(4):\n",
    "    my_turtle.forward(100)\n",
    "    my_turtle.right(90)\n",
    "    my_turtle.forward(100)\n",
    "    my_turtle.left(45)\n",
    "    my_turtle.back(100)   "
   ]
  },
  {
   "cell_type": "code",
   "execution_count": 53,
   "id": "c69ca962-f80d-43d0-a5d2-2a6e553e7b4c",
   "metadata": {},
   "outputs": [
    {
     "name": "stdout",
     "output_type": "stream",
     "text": [
      "1 2\n"
     ]
    }
   ],
   "source": [
    "# 테스트\n",
    "a, _, c = 1, 77, 2 # _(언더바)는 신경쓰지 마라는 뜻\n",
    "print(a, c)"
   ]
  },
  {
   "cell_type": "code",
   "execution_count": 54,
   "id": "57ddd2a0-edfb-4f31-ad12-58f48ebe097d",
   "metadata": {},
   "outputs": [
    {
     "name": "stdout",
     "output_type": "stream",
     "text": [
      "인사 다섯번 할게요.\n",
      "인사 다섯번 할게요.\n",
      "인사 다섯번 할게요.\n",
      "인사 다섯번 할게요.\n",
      "인사 다섯번 할게요.\n"
     ]
    }
   ],
   "source": [
    "for _ in range(5):\n",
    "    print(\"인사 다섯번 할게요.\")"
   ]
  },
  {
   "cell_type": "code",
   "execution_count": null,
   "id": "88d72962-e7a4-4944-946d-5c2d5d470cee",
   "metadata": {},
   "outputs": [],
   "source": []
  }
 ],
 "metadata": {
  "kernelspec": {
   "display_name": "Python 3 (ipykernel)",
   "language": "python",
   "name": "python3"
  },
  "language_info": {
   "codemirror_mode": {
    "name": "ipython",
    "version": 3
   },
   "file_extension": ".py",
   "mimetype": "text/x-python",
   "name": "python",
   "nbconvert_exporter": "python",
   "pygments_lexer": "ipython3",
   "version": "3.13.1"
  }
 },
 "nbformat": 4,
 "nbformat_minor": 5
}
