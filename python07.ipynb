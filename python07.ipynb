{
 "cells": [
  {
   "cell_type": "markdown",
   "id": "0580c754-7c93-4d1f-9f28-cf669c0cb13b",
   "metadata": {},
   "source": [
    "# 내장함수"
   ]
  },
  {
   "cell_type": "code",
   "execution_count": 2,
   "id": "3600ec99-90de-405d-931a-10f192450b70",
   "metadata": {},
   "outputs": [
    {
     "name": "stdout",
     "output_type": "stream",
     "text": [
      "3\n",
      "1.2\n"
     ]
    }
   ],
   "source": [
    "# abs * # 절댓값을 리턴함\n",
    "print(abs(-3))\n",
    "print(abs(-1.2))"
   ]
  },
  {
   "cell_type": "code",
   "execution_count": 7,
   "id": "12e3b7c7-338c-45aa-b70f-07c9476c57cc",
   "metadata": {},
   "outputs": [
    {
     "name": "stdout",
     "output_type": "stream",
     "text": [
      "True\n",
      "False\n",
      "True\n"
     ]
    }
   ],
   "source": [
    "# all *\n",
    "print(all([1,2,3])) \n",
    "print(all([11,22,0,44,55])) # 하나라도 문제있음 멈춤\n",
    "print(all([])) # 특이사항 # 얘는 이렇게 정했기 때문에 따라줘야함"
   ]
  },
  {
   "cell_type": "code",
   "execution_count": 12,
   "id": "786381c6-b761-44ec-af3b-bbae3ff45ba8",
   "metadata": {},
   "outputs": [
    {
     "name": "stdout",
     "output_type": "stream",
     "text": [
      "True\n",
      "False\n",
      "False\n"
     ]
    }
   ],
   "source": [
    "# any *\n",
    "print(any([1,2,3,0]))\n",
    "print(any([0,\"\",[], False]))\n",
    "print(any([]))"
   ]
  },
  {
   "cell_type": "code",
   "execution_count": 25,
   "id": "9c13d162-cbc6-4318-8bf5-dfbc3dbdd6b3",
   "metadata": {},
   "outputs": [
    {
     "name": "stdout",
     "output_type": "stream",
     "text": [
      "A\n",
      "가\n",
      "65\n",
      "44032\n"
     ]
    }
   ],
   "source": [
    "# chr\n",
    "print(chr(65)) # 48은 0x30이고 0이라는 것 기억해두면 좋음 \n",
    "print(chr(44032))\n",
    "# 유니코드 - utf-8(인코딩방식) 하고 관련있음\n",
    "# 아스키코드\n",
    "print(ord('A'))\n",
    "print(ord('가'))"
   ]
  },
  {
   "cell_type": "code",
   "execution_count": 73,
   "id": "72da6962-b93f-4c82-a991-bd70b24eb203",
   "metadata": {},
   "outputs": [
    {
     "name": "stdout",
     "output_type": "stream",
     "text": [
      "A B C D E F G H I J K L M N O P Q R S T U V W X Y Z "
     ]
    }
   ],
   "source": [
    "# 문1) 아스키코드표 보고 A부터 Z까지 차례로 모두 출력(65부터 90까지)\n",
    "for x in range(65, 91):\n",
    "    print(chr(x) , end=\" \")\n",
    "    \n",
    "# num = 65\n",
    "# while num < 91:\n",
    "#     print(chr(num), end=\" \")\n",
    "#     num = num+1"
   ]
  },
  {
   "cell_type": "code",
   "execution_count": 74,
   "id": "225659d0-c7ae-4e62-ac6f-5c9dd1a63be5",
   "metadata": {},
   "outputs": [
    {
     "name": "stdout",
     "output_type": "stream",
     "text": [
      "z y x w v u t s r q p o n m l k j i h g f e d c b a "
     ]
    }
   ],
   "source": [
    "# 문2) 소문자 z부터 a까지 역순으로 모두 차례로 출력\n",
    "for x in range(122,96,-1):\n",
    "\tprint(chr(x), end=\" \")\n",
    "    \n",
    "# num = 122\n",
    "# while num > 96:\n",
    "#     print(chr(num), end=\" \")\n",
    "#     num = num-1"
   ]
  },
  {
   "cell_type": "code",
   "execution_count": 72,
   "id": "2b1b1b76-4415-4f00-9610-bb8c3201f417",
   "metadata": {},
   "outputs": [
    {
     "name": "stdout",
     "output_type": "stream",
     "text": [
      "A1 A2 A3 A4 A5 A6 A7 A8 A9 A10 \n",
      "\n",
      "B1 B2 B3 B4 B5 B6 B7 B8 B9 B10 \n",
      "\n",
      "C1 C2 C3 C4 C5 C6 C7 C8 C9 C10 \n",
      "\n"
     ]
    }
   ],
   "source": [
    "# 문3) A1부터 A10까지 증가 후 B1부터 B10까지 증가 그리고 C1부터 C10까지 증가하게 하기\n",
    "for k in range(65,68):\n",
    "    for l in range(1,11):\n",
    "        print(f\"{chr(k)}{l} \",end='')\n",
    "    print(\"\\n\")\n",
    "\n",
    "# num = 64\n",
    "# while num < 67:\n",
    "#     num = num + 1\n",
    "#     for x in range(1,11):\n",
    "#         print(chr(num)+str(x), end=\" \")"
   ]
  },
  {
   "cell_type": "code",
   "execution_count": 1,
   "id": "dbffc79e-411c-4195-b3d9-b492125c77cd",
   "metadata": {},
   "outputs": [
    {
     "name": "stdin",
     "output_type": "stream",
     "text": [
      "당신의 기분을 한 문장으로 표현해주세요:  좋아 좋아서 좋아요 사랑 사랑해 나빠 진짜 나빠\n"
     ]
    },
    {
     "name": "stdout",
     "output_type": "stream",
     "text": [
      "1\n",
      "2\n",
      "1\n",
      "0\n",
      "0\n"
     ]
    }
   ],
   "source": [
    "positive_words = [\"좋아\", \"행복\", \"멋져\", \"최고\", \"사랑해\"]\n",
    "negative_words = [\"싫어\", \"화나\", \"짜증\", \"별로\", \"나빠\"]\n",
    "text = input(\"당신의 기분을 한 문장으로 표현해주세요: \")\n",
    "\n",
    "# 간단1\n",
    "# for v in positive_words:\n",
    "#     if v in text:\n",
    "#         print(\"기분이 좋아보이네요.\")\n",
    "# for n in negative_words:\n",
    "#     if n in text:\n",
    "#         print(\"기분이 나빠보이네요.\")\n",
    "\n",
    "# 해설2\n",
    "# if any(word in text for word in positive_words):\n",
    "#     print(\"기분이 좋아보이네요\")\n",
    "# elif any(word in text for word in negative_words):\n",
    "#     print(\"기분이 나빠보이네요\")\n",
    "# else:\n",
    "#     print(\"보통이시네요.\")\n",
    "\n",
    "# 해설3\n",
    "# pos = [v for v in positive_words if v in text]\n",
    "# print(pos,len(pos))\n",
    "# neg = [n for n in negative_words if n in text]\n",
    "# print(neg,len(neg))\n",
    "# if len(pos)> len(neg):\n",
    "# # abs(len(pos) - len(neg))>0 값의 차이, 크기, 변화폭\n",
    "#      print(\"기분이 좋아보이네요\")\n",
    "# elif len(pos)< len(neg):\n",
    "#      print(\"기분이 나빠보이네요\")\n",
    "# else:\n",
    "#     print(\"보통이시네요.\")\n",
    "\n",
    "# 해설4\n",
    "pnum = 0\n",
    "text = text.split(\" \")\n",
    "for v in positive_words:\n",
    "    for s in text:\n",
    "        if v == s:\n",
    "            pnum += 1\n",
    "            print(pnum)\n",
    "for x in negative_words:\n",
    "    for y in text:\n",
    "        if x == y:\n",
    "            pnum -= 1\n",
    "            print(pnum)\n",
    "print(pnum)"
   ]
  },
  {
   "cell_type": "code",
   "execution_count": 3,
   "id": "e791aff0-2af1-4bb2-8412-6874a98a9b7a",
   "metadata": {},
   "outputs": [],
   "source": [
    "# !pip install konlpy # 한글 형태소 분석기"
   ]
  },
  {
   "cell_type": "code",
   "execution_count": 2,
   "id": "bdbde67f-c706-4e13-9b76-b5a8b4b18e5e",
   "metadata": {},
   "outputs": [
    {
     "name": "stdin",
     "output_type": "stream",
     "text": [
      "당신의 기분을 한 문장으로 설명해주세요:  좋아 좋아서 좋아요 사랑 사랑해 나빠 진짜 나빠\n"
     ]
    },
    {
     "name": "stdout",
     "output_type": "stream",
     "text": [
      "['좋다', '좋다', '좋다', '사랑', '사랑', '하다', '나쁘다', '진짜', '나쁘다']\n"
     ]
    }
   ],
   "source": [
    "from konlpy.tag import Okt # 대문자 O\n",
    "\n",
    "# 한글 형태소 분석기\n",
    "okt = Okt()\n",
    "\n",
    "positive_words = [\"좋다\",\"행복\",\"멋지다\",\"최고\",\"사랑\"] # 기본으로 다 바꿔놓음\n",
    "negative_words = [\"싫다\",\"화나다\",\"짜증\",\"별로\",\"나쁘다\"]\n",
    "text = input(\"당신의 기분을 한 문장으로 설명해주세요: \")\n",
    "\n",
    "words = okt.morphs(text, stem=True)\n",
    "print(words)"
   ]
  },
  {
   "cell_type": "code",
   "execution_count": 137,
   "id": "3dca2556-efab-4c31-baaa-69a0a6871e59",
   "metadata": {},
   "outputs": [
    {
     "name": "stderr",
     "output_type": "stream",
     "text": [
      "java version \"1.8.0_441\"\n",
      "Java(TM) SE Runtime Environment (build 1.8.0_441-b07)\n",
      "Java HotSpot(TM) 64-Bit Server VM (build 25.441-b07, mixed mode)\n"
     ]
    }
   ],
   "source": [
    "!java -version"
   ]
  },
  {
   "cell_type": "code",
   "execution_count": 7,
   "id": "eb115ec3-6f33-4acb-8301-5beb15e76c7d",
   "metadata": {
    "scrolled": true
   },
   "outputs": [],
   "source": [
    "# dir 객체가 가지고 있는 함수(메서드)를 보여줌 *(__되어있는건 내장함수, 아닌건 메서드)\n",
    "# dir([1,2,3])\n",
    "# dir({'1':'a'})"
   ]
  },
  {
   "cell_type": "code",
   "execution_count": 138,
   "id": "1646ef18-f218-4b74-a8d7-a24d038ccd4e",
   "metadata": {},
   "outputs": [
    {
     "name": "stdout",
     "output_type": "stream",
     "text": [
      "(4, 1)\n",
      "4 1\n"
     ]
    }
   ],
   "source": [
    "# divmod 몫과 나머지\n",
    "print(divmod(13,3)) # 몫이 4고 나머지가 1이다\n",
    "print(13//3,13%3)"
   ]
  },
  {
   "cell_type": "code",
   "execution_count": 139,
   "id": "50c87e0d-274f-47f7-a93b-cd5f91c9df72",
   "metadata": {},
   "outputs": [
    {
     "name": "stdout",
     "output_type": "stream",
     "text": [
      "1 순위 과일은: apple\n",
      "2 순위 과일은: banana\n",
      "3 순위 과일은: kiwi\n",
      "4 순위 과일은: cherry\n",
      "5 순위 과일은: mango\n"
     ]
    }
   ],
   "source": [
    "# enumerate ** 열거하다 \n",
    "fruit = ['apple','banana','kiwi','cherry','mango']\n",
    "for i, f in enumerate(fruit, start=1):\n",
    "    print(i,'순위 과일은:', f)"
   ]
  },
  {
   "cell_type": "code",
   "execution_count": 14,
   "id": "bf51c563-7073-4ca3-89c9-395a81ce8b1a",
   "metadata": {},
   "outputs": [
    {
     "data": {
      "text/plain": [
       "'A1'"
      ]
     },
     "execution_count": 14,
     "metadata": {},
     "output_type": "execute_result"
    }
   ],
   "source": [
    "# 문자열로 구성된 실행값을 리턴, 보안문제\n",
    "eval('1+2')\n",
    "eval(\"'A'+'1'\")"
   ]
  },
  {
   "cell_type": "code",
   "execution_count": 13,
   "id": "f5f5439d-9e35-427d-ac94-c8d3b6502d27",
   "metadata": {},
   "outputs": [
    {
     "name": "stdout",
     "output_type": "stream",
     "text": [
      "[1, 2, 6]\n"
     ]
    }
   ],
   "source": [
    "# filter (함수, 이터러블) **\n",
    "def positive(l):\n",
    "    result = []\n",
    "    for i in l:\n",
    "        if i > 0:\n",
    "            result.append(i)\n",
    "    return result\n",
    "print(positive([1,-3,2,0,-5,6]))"
   ]
  },
  {
   "cell_type": "code",
   "execution_count": 16,
   "id": "6b2c1887-3138-4861-ab66-33e91b13337d",
   "metadata": {},
   "outputs": [
    {
     "name": "stdout",
     "output_type": "stream",
     "text": [
      "[1, 2, 6]\n"
     ]
    }
   ],
   "source": [
    "# 위에꺼 리스트컴프리헨션으로 줄인 것\n",
    "def pos(l):\n",
    "    return [i for i in l if i > 0]\n",
    "print(pos([1,-3,2,0,-5,6]))"
   ]
  },
  {
   "cell_type": "code",
   "execution_count": 140,
   "id": "fc8542a7-696b-4e87-a539-89bac50424ec",
   "metadata": {},
   "outputs": [
    {
     "name": "stdout",
     "output_type": "stream",
     "text": [
      "[1, 2, 6]\n"
     ]
    }
   ],
   "source": [
    "l = [1,-3,2,0,-5,6]\n",
    "def positive(x):\n",
    "    return x > 0\n",
    "print(list(filter(positive,l)))"
   ]
  },
  {
   "cell_type": "code",
   "execution_count": 143,
   "id": "3299363f-4433-49c2-9303-39fdc8324b25",
   "metadata": {},
   "outputs": [
    {
     "name": "stdout",
     "output_type": "stream",
     "text": [
      "[1, 2, 6]\n"
     ]
    }
   ],
   "source": [
    "# 위에꺼 람다 이용\n",
    "print(list(filter(lambda x : x > 0 ,l))) #l(영어 엘)이랑 1(숫자 일) 혼동 조심하기"
   ]
  },
  {
   "cell_type": "code",
   "execution_count": 145,
   "id": "81db8a32-5a05-4f0b-a79a-1863ff26ee10",
   "metadata": {},
   "outputs": [
    {
     "name": "stdout",
     "output_type": "stream",
     "text": [
      "1\n",
      "2\n",
      "6\n"
     ]
    }
   ],
   "source": [
    "for n in filter(lambda x : x >0 ,l): #range(4)\n",
    "    print(n)"
   ]
  },
  {
   "cell_type": "code",
   "execution_count": 30,
   "id": "7b7fdcd6-7944-4707-832c-e8f34d962546",
   "metadata": {},
   "outputs": [
    {
     "name": "stdout",
     "output_type": "stream",
     "text": [
      "0xea\n",
      "0o11\n",
      "0b1001\n"
     ]
    }
   ],
   "source": [
    "# hex, oct, bin\n",
    "print(hex(234)) \n",
    "print(oct(9))\n",
    "print(bin(9))"
   ]
  },
  {
   "cell_type": "code",
   "execution_count": 34,
   "id": "0a466d52-12f8-444a-93a1-9f025c276ff1",
   "metadata": {},
   "outputs": [
    {
     "name": "stdout",
     "output_type": "stream",
     "text": [
      "140716040586216\n",
      "140716040586216\n",
      "140716040586216\n",
      "True\n"
     ]
    }
   ],
   "source": [
    "# id 고유 주솟값을 리턴\n",
    "a = 3\n",
    "print(id(3))\n",
    "print(id(a))\n",
    "b = a\n",
    "print(id(b))\n",
    "print(all([id(3)==id(a),id(a)==id(b),id(3)==id(b)]))"
   ]
  },
  {
   "cell_type": "code",
   "execution_count": 146,
   "id": "f48b40dc-f569-4b3f-9c92-8e81829f497b",
   "metadata": {},
   "outputs": [],
   "source": [
    "# input *\n",
    "# input은 스트링으로 값을 전달받는다. 그러므로 계산시 int나 float으로 변경할 것"
   ]
  },
  {
   "cell_type": "code",
   "execution_count": 36,
   "id": "cab832dc-6922-4f31-8d23-8f7856407e1d",
   "metadata": {},
   "outputs": [],
   "source": [
    "# int *\n",
    "# 문자를 숫자로 변환, 정수로 변환, 소수점이 사라짐."
   ]
  },
  {
   "cell_type": "code",
   "execution_count": 39,
   "id": "2c9ac37e-5ae3-474d-ab52-a926bdef66f1",
   "metadata": {},
   "outputs": [
    {
     "name": "stdout",
     "output_type": "stream",
     "text": [
      "사람입니다.\n",
      "사람입니다.\n",
      "True\n",
      "True\n",
      "False\n"
     ]
    }
   ],
   "source": [
    "# isinstance(object, class) 인스턴스 확인용\n",
    "\n",
    "class Person:\n",
    "    def p(self):\n",
    "        return(\"사람입니다.\")\n",
    "class Animal:pass\n",
    "a = Person()\n",
    "b = Person()\n",
    "c = Animal()\n",
    "print(a.p())\n",
    "print(b.p())\n",
    "print(isinstance(a,Person))\n",
    "print(isinstance(b,Person))\n",
    "print(isinstance(c,Person))"
   ]
  },
  {
   "cell_type": "code",
   "execution_count": 148,
   "id": "ce432158-0b23-4b19-8a92-41bc62a6829b",
   "metadata": {},
   "outputs": [
    {
     "name": "stdout",
     "output_type": "stream",
     "text": [
      "6\n",
      "4\n",
      "2\n"
     ]
    }
   ],
   "source": [
    "# len ** \n",
    "print(len(\"python\"))\n",
    "print(len([1,2,3,4]))\n",
    "print(len((1,'a')))"
   ]
  },
  {
   "cell_type": "code",
   "execution_count": 41,
   "id": "33443a68-50d4-4803-9f2b-6380f655eebc",
   "metadata": {},
   "outputs": [],
   "source": [
    "# list **"
   ]
  },
  {
   "cell_type": "code",
   "execution_count": 44,
   "id": "33226f76-4f59-46b6-a2dc-19caa35f02d3",
   "metadata": {},
   "outputs": [
    {
     "name": "stdout",
     "output_type": "stream",
     "text": [
      "[2, 4, 6, 8]\n"
     ]
    }
   ],
   "source": [
    "# map ** # map은 입력과 출력의 양이 값다, 하지만 형태는 다르게 나옴(filter는 출력 값이 적게 나옴)\n",
    "# filter는 문지기임, true or false 판단하여 true만 나오게끔 함\n",
    "def two_items(nl): # 짧게 줄여보기(람다식이나 리스트컴프리헨션 처럼)\n",
    "    result = []\n",
    "    for n in nl:\n",
    "        result.append(n*2)\n",
    "    return result\n",
    "print(two_items([1,2,3,4]))"
   ]
  },
  {
   "cell_type": "code",
   "execution_count": 45,
   "id": "dc640444-bcc6-4534-9632-bea8ff8613a9",
   "metadata": {},
   "outputs": [
    {
     "data": {
      "text/plain": [
       "[2, 4, 6, 8]"
      ]
     },
     "execution_count": 45,
     "metadata": {},
     "output_type": "execute_result"
    }
   ],
   "source": [
    "def two_times(x):\n",
    "    return x * 2\n",
    "list(map(two_times,[1,2,3,4]))"
   ]
  },
  {
   "cell_type": "code",
   "execution_count": 46,
   "id": "ff2752c0-4801-44ca-98dd-845e0c6be16b",
   "metadata": {},
   "outputs": [
    {
     "data": {
      "text/plain": [
       "[2, 4, 6, 8]"
      ]
     },
     "execution_count": 46,
     "metadata": {},
     "output_type": "execute_result"
    }
   ],
   "source": [
    "list(map(lambda x: x*2,[1,2,3,4])) # 람다에서 x를 리턴할건데 x에 2를 곱해서 나오게 하라 "
   ]
  },
  {
   "cell_type": "code",
   "execution_count": 51,
   "id": "058781b9-5a59-49c9-b517-200d4a8141ab",
   "metadata": {},
   "outputs": [
    {
     "name": "stdout",
     "output_type": "stream",
     "text": [
      "[1, 3, 5]\n",
      "[2, 4, 6]\n",
      "[1, 2, 3, 4, 5, 6]\n",
      "[11, 12, 13, 14, 15, 16]\n",
      "[1, 4, 9, 16, 25, 36]\n",
      "[11, 24, 39, 56, 75, 96]\n"
     ]
    }
   ],
   "source": [
    "# 테스트\n",
    "li = [1,2,3,4,5,6]\n",
    "def odd(x):\n",
    "    return x % 2 != 0 # or ==1\n",
    "def even(x):\n",
    "    return x % 2 == 0\n",
    "def add(x):\n",
    "    return x + 10\n",
    "def mul(x):\n",
    "    return x * x\n",
    "def addmul(x):\n",
    "    return (x + 10) * x\n",
    "print(list(filter(odd,li)))\n",
    "print(list(filter(even,li)))\n",
    "print(list(filter(add,li))) # add식이 트루이기 때문에 다 튀어나옴\n",
    "print(list(map(add,li)))\n",
    "print(list(map(mul,li)))\n",
    "print(list(map(addmul,li)))"
   ]
  },
  {
   "cell_type": "code",
   "execution_count": 54,
   "id": "885a08ee-19b9-450d-a976-f316fad556d0",
   "metadata": {},
   "outputs": [
    {
     "data": {
      "text/plain": [
       "'y'"
      ]
     },
     "execution_count": 54,
     "metadata": {},
     "output_type": "execute_result"
    }
   ],
   "source": [
    "# max * # 가장 큰값 출력 \n",
    "max([1,21,3,14,56,16,7])\n",
    "max('python') # 문자일 경우 유니코드 값으로 판단"
   ]
  },
  {
   "cell_type": "code",
   "execution_count": 56,
   "id": "ea2d6a47-5c44-48ca-9299-c48190e43d45",
   "metadata": {},
   "outputs": [
    {
     "data": {
      "text/plain": [
       "'h'"
      ]
     },
     "execution_count": 56,
     "metadata": {},
     "output_type": "execute_result"
    }
   ],
   "source": [
    "# min * # 가장 작은값 출력\n",
    "min([1,21,3,14,56,16,7])\n",
    "min('python') # 문자일 경우 유니코드 값으로 판단"
   ]
  },
  {
   "cell_type": "code",
   "execution_count": null,
   "id": "c56e51fa-19e2-4ff8-82a0-a3f249db7f47",
   "metadata": {},
   "outputs": [],
   "source": [
    "# open *\n",
    "f = open('README.md','r',encoding=\"utf-8\") # 리드미 파일은 팀 깃허브랑 연결시 될듯\n",
    "f.read()"
   ]
  },
  {
   "cell_type": "code",
   "execution_count": 59,
   "id": "cbad4d66-728c-4e67-8638-7a35efdf8610",
   "metadata": {},
   "outputs": [
    {
     "name": "stdout",
     "output_type": "stream",
     "text": [
      "16\n"
     ]
    }
   ],
   "source": [
    "# pow * # 몇에 몇승 # x를 y제곱한 결과값을 리턴 !!\n",
    "print(pow(2,4))"
   ]
  },
  {
   "cell_type": "code",
   "execution_count": 64,
   "id": "8c122a05-b66f-4426-b9d0-f4cc6f6176c3",
   "metadata": {},
   "outputs": [
    {
     "name": "stdout",
     "output_type": "stream",
     "text": [
      "[0, 1, 2, 3, 4]\n",
      "[5, 6, 7, 8, 9]\n",
      "[5, 7, 9]\n",
      "[15, 14, 13, 12, 11, 10, 9, 8, 7, 6, 5, 4, 3, 2, 1]\n"
     ]
    }
   ],
   "source": [
    "# range **\n",
    "# 인수가 하나\n",
    "print(list(range(5)))\n",
    "# 인수가 2개\n",
    "print(list(range(5,10)))\n",
    "# 인수가 3개\n",
    "print(list(range(5,10,2)))\n",
    "# 역순(스탬조절)\n",
    "print(list(range(15,0,-1)))"
   ]
  },
  {
   "cell_type": "code",
   "execution_count": 75,
   "id": "ee30689e-8a35-4db9-8fe2-d2d260edc2a1",
   "metadata": {},
   "outputs": [
    {
     "name": "stdout",
     "output_type": "stream",
     "text": [
      "3\n",
      "4\n",
      "3\n",
      "3.5\n",
      "3.495\n"
     ]
    }
   ],
   "source": [
    "# round * # 반올림\n",
    "print(round(3.45))\n",
    "print(round(3.546))\n",
    "print(round(3.495))\n",
    "print(round(3.495,2))\n",
    "print(round(3.495,3))"
   ]
  },
  {
   "cell_type": "code",
   "execution_count": 77,
   "id": "217ad7e7-72eb-42c8-9da9-9eb464448fd0",
   "metadata": {},
   "outputs": [
    {
     "name": "stdout",
     "output_type": "stream",
     "text": [
      "[3, 2, 1, 4, 6, 7]\n",
      "[1, 2, 3, 4, 6, 7]\n",
      "[7, 6, 4, 3, 2, 1]\n"
     ]
    }
   ],
   "source": [
    "# sorted(iterable) * 정렬된 리스트로 리턴\n",
    "s0 = [3,2,1,4,6,7]\n",
    "s1 = sorted(s0)\n",
    "s2 = sorted(s0,reverse = True)\n",
    "print(s0)\n",
    "print(s1)\n",
    "print(s2)"
   ]
  },
  {
   "cell_type": "code",
   "execution_count": 80,
   "id": "892d59fd-2a3f-451a-b75c-94acff123f5c",
   "metadata": {},
   "outputs": [
    {
     "name": "stdout",
     "output_type": "stream",
     "text": [
      "23 <class 'int'>\n",
      "23 <class 'str'>\n"
     ]
    }
   ],
   "source": [
    "# str * 문자열로 변환\n",
    "num = 23\n",
    "st = str(23)\n",
    "print(num,type(num))\n",
    "print(st,type(st))"
   ]
  },
  {
   "cell_type": "code",
   "execution_count": 81,
   "id": "aa75893b-586e-4734-8c7b-9ad1b1656440",
   "metadata": {},
   "outputs": [
    {
     "name": "stdout",
     "output_type": "stream",
     "text": [
      "15\n"
     ]
    }
   ],
   "source": [
    "# sum * 이터러블데이터의 합을 리턴\n",
    "print(sum([1,2,3,4,5]))"
   ]
  },
  {
   "cell_type": "code",
   "execution_count": 86,
   "id": "fc54c6d5-c42c-46e5-a29f-4577cc88c1d5",
   "metadata": {},
   "outputs": [
    {
     "name": "stdout",
     "output_type": "stream",
     "text": [
      "('a', 'b', 'c')\n",
      "(1, 2, 3, 4, 5, 6)\n",
      "(1, 2, 3, 4, 5, 6)\n"
     ]
    }
   ],
   "source": [
    "# tuple * 튜플로 바꾸기\n",
    "print(tuple(\"abc\"))\n",
    "print(tuple([1,2,3,4,5,6]))\n",
    "print(tuple((1,2,3,4,5,6)))"
   ]
  },
  {
   "cell_type": "code",
   "execution_count": 89,
   "id": "0d454841-ea8b-4a2e-b675-2ef99bef742c",
   "metadata": {},
   "outputs": [
    {
     "name": "stdout",
     "output_type": "stream",
     "text": [
      "<class 'str'>\n",
      "<class 'int'>\n"
     ]
    }
   ],
   "source": [
    "# type ** 자료형 확인\n",
    "print(type(\"abc\"))\n",
    "print(type(1234))\n",
    "# print(type(open(\"README.md\",\"r\"))) # 파일 자료형"
   ]
  },
  {
   "cell_type": "code",
   "execution_count": 96,
   "id": "d4e2d159-0944-46b0-ba68-0116ddecbaa8",
   "metadata": {},
   "outputs": [
    {
     "name": "stdout",
     "output_type": "stream",
     "text": [
      "11 : apple => dog\n",
      "22 : banana => cat\n",
      "33 : kiwi => elephant\n",
      "44 : cherry => lion\n",
      "55 : mango => Rabbit\n"
     ]
    }
   ],
   "source": [
    "# zip ** 묶어서 리턴\n",
    "fruit = ['apple','banana','kiwi','cherry','mango']\n",
    "animal = ['dog','cat','elephant','lion','Rabbit']\n",
    "num = [11,22,33,44,55]\n",
    "for f, a, n in zip(fruit, animal, num): # 세개의 이터러블한 아이들을 zip으로 묶어주는 것임\n",
    "    print(n,':', f,'=>',a)"
   ]
  },
  {
   "cell_type": "markdown",
   "id": "7aca3416-2126-43b4-8f89-dd46b52de0f9",
   "metadata": {},
   "source": [
    "# 표준 라이브러리"
   ]
  },
  {
   "cell_type": "markdown",
   "id": "0b8af276-657c-46cf-bd17-985517bc52bc",
   "metadata": {},
   "source": [
    "## datetime.date"
   ]
  },
  {
   "cell_type": "code",
   "execution_count": 112,
   "id": "e7653804-a89f-4996-8ee9-10e22ce3826d",
   "metadata": {},
   "outputs": [
    {
     "name": "stdout",
     "output_type": "stream",
     "text": [
      "전체 수업기간: 172 일\n",
      "남은 수업기간: 157 일\n",
      "지난 수업기간: 157 일\n"
     ]
    }
   ],
   "source": [
    "import datetime\n",
    "day1 = datetime.date(2025,2,3)\n",
    "day2 = datetime.date(2025,7,25)\n",
    "diff = day2 - day1\n",
    "print(\"전체 수업기간:\",diff.days,\"일\") # diff 두에 days 붙이면 시간 말고 날짜만 나옴 !!\n",
    "diff2 = day2 - datetime.datetime.now().date()\n",
    "print(\"남은 수업기간:\", diff2.days,\"일\")\n",
    "print(\"지난 수업기간:\", diff2.days,\"일\")\n",
    "# diff.days - 15 # 157일 남음"
   ]
  },
  {
   "cell_type": "code",
   "execution_count": 106,
   "id": "b1adb35e-8fb5-43a9-9f26-e53db6cd95e2",
   "metadata": {},
   "outputs": [
    {
     "data": {
      "text/plain": [
       "datetime.date(2025, 2, 18)"
      ]
     },
     "execution_count": 106,
     "metadata": {},
     "output_type": "execute_result"
    }
   ],
   "source": [
    "datetime.datetime.now().date() # date()를 넣으면 date 타입으로 변환됨"
   ]
  },
  {
   "cell_type": "code",
   "execution_count": 102,
   "id": "b91a061d-45b2-4a72-9ca2-e6e9527452c8",
   "metadata": {},
   "outputs": [],
   "source": [
    "# dir(datetime)"
   ]
  },
  {
   "cell_type": "code",
   "execution_count": 123,
   "id": "649545e3-d229-42d6-b53d-3ba225facb66",
   "metadata": {},
   "outputs": [
    {
     "name": "stdout",
     "output_type": "stream",
     "text": [
      "그날은 화요일 입니다.\n"
     ]
    }
   ],
   "source": [
    "# 요일 확인 !!\n",
    "days = [\"월\",\"화\",\"수\",\"목\",\"금\",\"토\",\"일\"]\n",
    "day = datetime.date(2025,12,2)\n",
    "# day.isoweekday() # 1부터 시작\n",
    "print(\"그날은 \"+days[day.weekday()]+\"요일 입니다.\")"
   ]
  },
  {
   "cell_type": "code",
   "execution_count": 126,
   "id": "04966d8e-9f21-4fee-91d3-aed80aa0b90c",
   "metadata": {},
   "outputs": [
    {
     "name": "stdin",
     "output_type": "stream",
     "text": [
      "생일을 년월일 형식으로 입력해주세요 20000212\n"
     ]
    },
    {
     "name": "stdout",
     "output_type": "stream",
     "text": [
      "당신의 생일은 토요일 입니다\n",
      "오늘로 태어난 지 9138  일 입니다\n",
      "2000-02-12\n",
      "2025-02-18\n"
     ]
    }
   ],
   "source": [
    "# 예제 1번 # 경주님\n",
    "import datetime\n",
    "inp = input(\"생일을 년월일 형식으로 입력해주세요\")\n",
    "\n",
    "year = inp[:4]\n",
    "year = int(year)\n",
    "\n",
    "month = inp[4:6]\n",
    "month = int(month)\n",
    "\n",
    "day = inp[6:]\n",
    "day = int(day)\n",
    "\n",
    "birth = datetime.date(year,month,day)\n",
    "today = datetime.datetime.now().date()\n",
    "howlong = (today - birth).days \n",
    "\n",
    "days = ['월','화','수','목','금','토','일']\n",
    "print(\"당신의 생일은 \" + days[birth.weekday()]+\"요일 입니다\")\n",
    "print(\"오늘로 태어난 지\",howlong,\" 일 입니다\")\n",
    "print(birth)\n",
    "print(today)"
   ]
  },
  {
   "cell_type": "code",
   "execution_count": 136,
   "id": "41b47dc6-fc70-43ba-a147-b520e531d7ae",
   "metadata": {},
   "outputs": [
    {
     "name": "stdin",
     "output_type": "stream",
     "text": [
      "생일을 입력해주세요. 20000212\n"
     ]
    },
    {
     "name": "stdout",
     "output_type": "stream",
     "text": [
      "생일로부터 지난 시간:  9138 일\n",
      "그날은 토요일 입니다.\n"
     ]
    }
   ],
   "source": [
    "import datetime\n",
    "inp = input(\"생일을 입력해주세요.\")\n",
    "\n",
    "year = inp[:4]\n",
    "year = int(year)\n",
    "\n",
    "month = inp[4:6]\n",
    "month = int(month)\n",
    "\n",
    "day = inp[6:]\n",
    "day = int(day)\n",
    "\n",
    "day1 = datetime.date(year,month,day)\n",
    "day2 = datetime.datetime.now().date()\n",
    "diff = day2 - day1\n",
    "print(\"생일로부터 지난 시간: \", diff.days,\"일\")\n",
    "days = ['월','화','수','목','금','토','일']\n",
    "print(\"그날은 \"+days[day1.weekday()]+\"요일 입니다.\")"
   ]
  },
  {
   "cell_type": "code",
   "execution_count": 125,
   "id": "934cb5b8-e499-4d8c-8c9d-d937e3aaa1bb",
   "metadata": {},
   "outputs": [
    {
     "name": "stdout",
     "output_type": "stream",
     "text": [
      "어린이날까지 남은 기간: 76 일\n",
      "그날은 월요일입니다.\n"
     ]
    }
   ],
   "source": [
    "# 예제 2번 # 나\n",
    "import datetime\n",
    "day1 = datetime.date(2025,5,5)\n",
    "diff = day1 - datetime.datetime.now().date()\n",
    "print(\"어린이날까지 남은 기간:\", diff.days,\"일\")\n",
    "days = ['월','화','수','목','금','토','일']\n",
    "day = datetime.date(2025,5,5)\n",
    "print(\"그날은 \"+days[day.weekday()]+\"요일입니다.\")"
   ]
  },
  {
   "cell_type": "code",
   "execution_count": 118,
   "id": "7a073d7b-6b39-4a7b-a79a-30de3c85d973",
   "metadata": {},
   "outputs": [
    {
     "name": "stdout",
     "output_type": "stream",
     "text": [
      "오늘부터 어버이날까지 79일 남았습니다.\n",
      "어버이날은 목요일 입니다.\n"
     ]
    }
   ],
   "source": [
    "import datetime\n",
    "# 예제 3번 # 정민님\n",
    "# 오늘부터 어버이날 며칠 남았는지, 무슨 요일인지\n",
    "parents = datetime.date(2025,5,8)\n",
    "today = datetime.datetime.now().date()\n",
    "count = parents - today\n",
    "print(f\"오늘부터 어버이날까지 {count.days}일 남았습니다.\")\n",
    "\n",
    "days = ['월', '화', '수', '목', '금', '토', '일']\n",
    "print(\"어버이날은 \" + days[parents.weekday()] + \"요일 입니다.\")"
   ]
  },
  {
   "cell_type": "code",
   "execution_count": 127,
   "id": "0095c70e-33f5-43fc-9e39-8b2124716c47",
   "metadata": {},
   "outputs": [
    {
     "name": "stdout",
     "output_type": "stream",
     "text": [
      "2025-02-18에서 크리스마스까지 310일 남았습니다 그 날은 목요일 입니다\n"
     ]
    }
   ],
   "source": [
    "# 예제 4번 # 민주님\n",
    "import datetime\n",
    "day1 = datetime.datetime.now().date()\n",
    "day2 = datetime.date(2025,12,25)\n",
    "diff = (day2 - day1).days\n",
    "days = ['월','화','수','목','금','토','일']\n",
    "print(f'{day1}에서 크리스마스까지 {diff}일 남았습니다 그 날은 {days[day2.weekday()]}요일 입니다')"
   ]
  },
  {
   "cell_type": "markdown",
   "id": "bb58fc12-f59b-4958-8b46-a499e56f9b13",
   "metadata": {},
   "source": [
    "## time"
   ]
  },
  {
   "cell_type": "code",
   "execution_count": 150,
   "id": "de32b837-9271-4bba-94d1-e63a8b829c77",
   "metadata": {},
   "outputs": [
    {
     "data": {
      "text/plain": [
       "1739855560.8898263"
      ]
     },
     "execution_count": 150,
     "metadata": {},
     "output_type": "execute_result"
    }
   ],
   "source": [
    "# time.time *\n",
    "import time\n",
    "time.time() # 밑에 나온 이값이 생각보다 중요함"
   ]
  },
  {
   "cell_type": "code",
   "execution_count": 152,
   "id": "8c11b6d2-4018-4a0f-9efd-44c4f8c71a6b",
   "metadata": {},
   "outputs": [
    {
     "name": "stdout",
     "output_type": "stream",
     "text": [
      "time.struct_time(tm_year=2025, tm_mon=2, tm_mday=18, tm_hour=14, tm_min=14, tm_sec=24, tm_wday=1, tm_yday=49, tm_isdst=0)\n"
     ]
    }
   ],
   "source": [
    "# time.localtime\n",
    "tt = time.localtime(time.time())\n",
    "print(tt)"
   ]
  },
  {
   "cell_type": "code",
   "execution_count": 153,
   "id": "ba4243ae-f12e-430a-8241-fd17c3405062",
   "metadata": {},
   "outputs": [
    {
     "data": {
      "text/plain": [
       "'Tue Feb 18 14:15:36 2025'"
      ]
     },
     "execution_count": 153,
     "metadata": {},
     "output_type": "execute_result"
    }
   ],
   "source": [
    "# time.asctime\n",
    "time.asctime(time.localtime(time.time()))"
   ]
  },
  {
   "cell_type": "code",
   "execution_count": 154,
   "id": "d04d73ec-8032-4325-a870-28d5a4211d54",
   "metadata": {},
   "outputs": [
    {
     "data": {
      "text/plain": [
       "'Tue Feb 18 14:16:02 2025'"
      ]
     },
     "execution_count": 154,
     "metadata": {},
     "output_type": "execute_result"
    }
   ],
   "source": [
    "# time.ctime() * # 현재시간\n",
    "time.ctime()"
   ]
  },
  {
   "cell_type": "code",
   "execution_count": 158,
   "id": "8a824997-f0cb-4e79-af4c-b36460d2310e",
   "metadata": {},
   "outputs": [
    {
     "name": "stdout",
     "output_type": "stream",
     "text": [
      "02/18/25\n",
      "Tue Feb 18 14:18:53 2025\n",
      "14:18:53\n"
     ]
    }
   ],
   "source": [
    "# time.strftime\n",
    "print(time.strftime('%x',time.localtime(time.time())))\n",
    "print(time.strftime('%c',time.localtime(time.time())))\n",
    "print(time.strftime('%X',time.localtime(time.time())))"
   ]
  },
  {
   "cell_type": "code",
   "execution_count": 160,
   "id": "4d64396e-7a75-4e5e-89a7-14488545f75f",
   "metadata": {},
   "outputs": [
    {
     "name": "stdout",
     "output_type": "stream",
     "text": [
      "10"
     ]
    }
   ],
   "source": [
    "# time.sleep\n",
    "import time as t\n",
    "for i in range(1,11):\n",
    "    print(i, end='\\r')\n",
    "    t.sleep(1)"
   ]
  },
  {
   "cell_type": "markdown",
   "id": "a1967b72-fbd1-421e-b54d-1879cbbf0ff4",
   "metadata": {},
   "source": [
    "## math.gcd , math.lcm"
   ]
  },
  {
   "cell_type": "code",
   "execution_count": 2,
   "id": "015a186d-8618-4a5c-9878-8938ee2f15c9",
   "metadata": {},
   "outputs": [],
   "source": [
    "import math"
   ]
  },
  {
   "cell_type": "code",
   "execution_count": 5,
   "id": "c8917e50-83d1-4d52-ada9-18edd1f4922b",
   "metadata": {},
   "outputs": [
    {
     "name": "stdout",
     "output_type": "stream",
     "text": [
      "3.141592653589793\n",
      "20\n",
      "75\n"
     ]
    }
   ],
   "source": [
    "print(math.pi)\n",
    "print(math.gcd(60,100,80)) # 20이라는 최대공약수 값 구할수있음\n",
    "print(math.lcm(15,25)) # 최소공배수 값"
   ]
  },
  {
   "cell_type": "markdown",
   "id": "59ae5861-7f21-4b95-ab7f-9d1a081282bf",
   "metadata": {},
   "source": [
    "## random"
   ]
  },
  {
   "cell_type": "code",
   "execution_count": 12,
   "id": "96deca07-e526-4ac2-998d-e805029848da",
   "metadata": {},
   "outputs": [
    {
     "name": "stdout",
     "output_type": "stream",
     "text": [
      "0.1159106499009952\n",
      "8\n"
     ]
    }
   ],
   "source": [
    "import random as r\n",
    "# r.random()\n",
    "print(r.random()) # 0.0에서 1.0 사이의 난수\n",
    "# r.randint()\n",
    "print(r.randint(1,10)) # a에서 b까지의 난수 리턴"
   ]
  },
  {
   "cell_type": "code",
   "execution_count": 16,
   "id": "05bd12eb-9fd0-42c3-a8d0-6037b2de1a02",
   "metadata": {},
   "outputs": [
    {
     "name": "stdout",
     "output_type": "stream",
     "text": [
      "66 22 55 33 33 11 "
     ]
    }
   ],
   "source": [
    "# r.choice()\n",
    "data = [11,22,33,44,55,66]\n",
    "for n in range(6):\n",
    "    print(r.choice(data), end=' ')"
   ]
  },
  {
   "cell_type": "code",
   "execution_count": 17,
   "id": "e3b4eb29-9aed-4014-8762-8c3fca2531c4",
   "metadata": {},
   "outputs": [
    {
     "name": "stdout",
     "output_type": "stream",
     "text": [
      "[7, 5, 16, 10, 11, 18, 1, 15, 8, 4, 17, 12, 19, 2, 9, 3, 13, 20, 14, 6] 20\n",
      "{1, 2, 3, 4, 5, 6, 7, 8, 9, 10, 11, 12, 13, 14, 15, 16, 17, 18, 19, 20} 20\n"
     ]
    }
   ],
   "source": [
    "# r.sample()\n",
    "li = list(range(1,21))\n",
    "arr = []\n",
    "for n in r.sample(li,len(li)): # 로또할때 sample쓰면 끝남\n",
    "    arr.append(n)\n",
    "print(arr, len(arr))   \n",
    "sarr = set(arr)\n",
    "print(sarr,len(sarr))"
   ]
  },
  {
   "cell_type": "code",
   "execution_count": null,
   "id": "001de52f-370b-4d1b-b671-bfbea0ecf739",
   "metadata": {},
   "outputs": [],
   "source": []
  }
 ],
 "metadata": {
  "kernelspec": {
   "display_name": "Python 3 (ipykernel)",
   "language": "python",
   "name": "python3"
  },
  "language_info": {
   "codemirror_mode": {
    "name": "ipython",
    "version": 3
   },
   "file_extension": ".py",
   "mimetype": "text/x-python",
   "name": "python",
   "nbconvert_exporter": "python",
   "pygments_lexer": "ipython3",
   "version": "3.13.1"
  }
 },
 "nbformat": 4,
 "nbformat_minor": 5
}
