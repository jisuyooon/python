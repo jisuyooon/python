{
 "cells": [
  {
   "cell_type": "markdown",
   "id": "5ac27ebc-b51f-4a79-a72c-eaf70a921489",
   "metadata": {},
   "source": [
    "# 온라인 쇼핑몰 매출관계 분석"
   ]
  },
  {
   "cell_type": "markdown",
   "id": "717e50fb-e429-4879-9fa1-150240c7e7af",
   "metadata": {},
   "source": [
    "- 국가통계포털 https://kosis.kr/index/index.do\n",
    "- 온라인쇼핑몰 판매매체별 / 상품군별거래액\n",
    "- 합계 등을 제외하고 선택(전기전자통신 2020년 전후로 분리되어서 미리 합침)\n",
    "- 행렬을 전환\n",
    "<div style=\"display:flex\">\n",
    "    <img style=\"padding:10px\" src=\"attachment:33e1e4c8-332d-42ca-907b-008ee328f08b.png\" width=180>\n",
    "    <img style=\"padding:10px\" src=\"attachment:581a4d47-326b-4b95-84e5-863e94fe7e7b.png\" width=180>\n",
    "</div>"
   ]
  },
  {
   "cell_type": "code",
   "execution_count": 1,
   "id": "8aefea5f-9b02-4307-b237-88981d799f4d",
   "metadata": {},
   "outputs": [],
   "source": [
    "import matplotlib\n",
    "import matplotlib.pyplot as plt\n",
    "import matplotlib.font_manager as fm\n",
    "# import matplotlib.dates as mdates\n",
    "\n",
    "import pandas as pd\n",
    "from datetime import datetime"
   ]
  },
  {
   "cell_type": "code",
   "execution_count": 2,
   "id": "819aaa07-81bb-46ef-95f0-06632336ce67",
   "metadata": {},
   "outputs": [],
   "source": [
    "# font 설정 D2coding\n",
    "d2_path = \"./ref/D2Coding-Ver1.3.2-20180524.ttf\"\n",
    "fm.fontManager.addfont(d2_path)\n",
    "matplotlib.rcParams[\"font.family\"] = \"D2Coding\""
   ]
  },
  {
   "cell_type": "code",
   "execution_count": 3,
   "id": "8641d348-ceb3-499f-bcc1-358db36e8790",
   "metadata": {},
   "outputs": [
    {
     "data": {
      "text/html": [
       "<div>\n",
       "<style scoped>\n",
       "    .dataframe tbody tr th:only-of-type {\n",
       "        vertical-align: middle;\n",
       "    }\n",
       "\n",
       "    .dataframe tbody tr th {\n",
       "        vertical-align: top;\n",
       "    }\n",
       "\n",
       "    .dataframe thead th {\n",
       "        text-align: right;\n",
       "    }\n",
       "</style>\n",
       "<table border=\"1\" class=\"dataframe\">\n",
       "  <thead>\n",
       "    <tr style=\"text-align: right;\">\n",
       "      <th></th>\n",
       "      <th>category</th>\n",
       "      <th>date</th>\n",
       "      <th>internet</th>\n",
       "      <th>mobile</th>\n",
       "    </tr>\n",
       "  </thead>\n",
       "  <tbody>\n",
       "    <tr>\n",
       "      <th>2203</th>\n",
       "      <td>기타</td>\n",
       "      <td>2024.08</td>\n",
       "      <td>61304</td>\n",
       "      <td>120200</td>\n",
       "    </tr>\n",
       "    <tr>\n",
       "      <th>2204</th>\n",
       "      <td>기타</td>\n",
       "      <td>2024.09</td>\n",
       "      <td>63863</td>\n",
       "      <td>126583</td>\n",
       "    </tr>\n",
       "    <tr>\n",
       "      <th>2205</th>\n",
       "      <td>기타</td>\n",
       "      <td>2024.10</td>\n",
       "      <td>68403</td>\n",
       "      <td>128216</td>\n",
       "    </tr>\n",
       "    <tr>\n",
       "      <th>2206</th>\n",
       "      <td>기타</td>\n",
       "      <td>2024.11 p)</td>\n",
       "      <td>73246</td>\n",
       "      <td>135527</td>\n",
       "    </tr>\n",
       "    <tr>\n",
       "      <th>2207</th>\n",
       "      <td>기타</td>\n",
       "      <td>2024.12 p)</td>\n",
       "      <td>75613</td>\n",
       "      <td>144134</td>\n",
       "    </tr>\n",
       "  </tbody>\n",
       "</table>\n",
       "</div>"
      ],
      "text/plain": [
       "     category        date  internet  mobile\n",
       "2203       기타     2024.08     61304  120200\n",
       "2204       기타     2024.09     63863  126583\n",
       "2205       기타     2024.10     68403  128216\n",
       "2206       기타  2024.11 p)     73246  135527\n",
       "2207       기타  2024.12 p)     75613  144134"
      ]
     },
     "execution_count": 3,
     "metadata": {},
     "output_type": "execute_result"
    }
   ],
   "source": [
    "file_path = \"./ref/온라인쇼핑몰_판매매체별_상품군별거래액.csv\"\n",
    "ori = pd.read_csv(file_path, encoding=\"EUC-KR\") # utf-8\n",
    "ori.columns = [\"category\",\"date\",\"internet\",\"mobile\"]\n",
    "ori.tail()"
   ]
  },
  {
   "cell_type": "code",
   "execution_count": 4,
   "id": "986c5612-d9e1-4c38-8bde-c3db5d4a60d2",
   "metadata": {},
   "outputs": [
    {
     "name": "stdout",
     "output_type": "stream",
     "text": [
      "수정전\n",
      "2203       2024.08\n",
      "2204       2024.09\n",
      "2205       2024.10\n",
      "2206    2024.11 p)\n",
      "2207    2024.12 p)\n",
      "Name: date, dtype: object\n",
      "수정후\n",
      "2203    2024.08\n",
      "2204    2024.09\n",
      "2205    2024.10\n",
      "2206    2024.11\n",
      "2207    2024.12\n",
      "Name: date, dtype: object\n"
     ]
    }
   ],
   "source": [
    "print(\"수정전\")\n",
    "print(ori['date'].tail())\n",
    "ori['date'] = ori['date'].map(lambda x: x.rstrip(' p)')) # 리플레이스 활용해도됨\n",
    "print(\"수정후\")\n",
    "print(ori['date'].tail())"
   ]
  },
  {
   "cell_type": "code",
   "execution_count": 8,
   "id": "f36bba62-6414-41c4-865f-32c936197ab5",
   "metadata": {},
   "outputs": [
    {
     "data": {
      "text/html": [
       "<div>\n",
       "<style scoped>\n",
       "    .dataframe tbody tr th:only-of-type {\n",
       "        vertical-align: middle;\n",
       "    }\n",
       "\n",
       "    .dataframe tbody tr th {\n",
       "        vertical-align: top;\n",
       "    }\n",
       "\n",
       "    .dataframe thead th {\n",
       "        text-align: right;\n",
       "    }\n",
       "</style>\n",
       "<table border=\"1\" class=\"dataframe\">\n",
       "  <thead>\n",
       "    <tr style=\"text-align: right;\">\n",
       "      <th></th>\n",
       "      <th>category</th>\n",
       "      <th>date</th>\n",
       "      <th>internet</th>\n",
       "      <th>mobile</th>\n",
       "    </tr>\n",
       "  </thead>\n",
       "  <tbody>\n",
       "    <tr>\n",
       "      <th>2203</th>\n",
       "      <td>기타</td>\n",
       "      <td>2024-08-01</td>\n",
       "      <td>61304</td>\n",
       "      <td>120200</td>\n",
       "    </tr>\n",
       "    <tr>\n",
       "      <th>2204</th>\n",
       "      <td>기타</td>\n",
       "      <td>2024-09-01</td>\n",
       "      <td>63863</td>\n",
       "      <td>126583</td>\n",
       "    </tr>\n",
       "    <tr>\n",
       "      <th>2205</th>\n",
       "      <td>기타</td>\n",
       "      <td>2024-10-01</td>\n",
       "      <td>68403</td>\n",
       "      <td>128216</td>\n",
       "    </tr>\n",
       "    <tr>\n",
       "      <th>2206</th>\n",
       "      <td>기타</td>\n",
       "      <td>2024-11-01</td>\n",
       "      <td>73246</td>\n",
       "      <td>135527</td>\n",
       "    </tr>\n",
       "    <tr>\n",
       "      <th>2207</th>\n",
       "      <td>기타</td>\n",
       "      <td>2024-12-01</td>\n",
       "      <td>75613</td>\n",
       "      <td>144134</td>\n",
       "    </tr>\n",
       "  </tbody>\n",
       "</table>\n",
       "</div>"
      ],
      "text/plain": [
       "     category       date  internet  mobile\n",
       "2203       기타 2024-08-01     61304  120200\n",
       "2204       기타 2024-09-01     63863  126583\n",
       "2205       기타 2024-10-01     68403  128216\n",
       "2206       기타 2024-11-01     73246  135527\n",
       "2207       기타 2024-12-01     75613  144134"
      ]
     },
     "execution_count": 8,
     "metadata": {},
     "output_type": "execute_result"
    }
   ],
   "source": [
    "ori['date'] = pd.to_datetime(ori[\"date\"], format='%Y.%m')\n",
    "ori.dtypes\n",
    "ori.tail()"
   ]
  },
  {
   "cell_type": "code",
   "execution_count": 37,
   "id": "02b24297-9fb7-41c5-8c40-87da71f6422e",
   "metadata": {},
   "outputs": [
    {
     "data": {
      "text/html": [
       "<div>\n",
       "<style scoped>\n",
       "    .dataframe tbody tr th:only-of-type {\n",
       "        vertical-align: middle;\n",
       "    }\n",
       "\n",
       "    .dataframe tbody tr th {\n",
       "        vertical-align: top;\n",
       "    }\n",
       "\n",
       "    .dataframe thead th {\n",
       "        text-align: right;\n",
       "    }\n",
       "</style>\n",
       "<table border=\"1\" class=\"dataframe\">\n",
       "  <thead>\n",
       "    <tr style=\"text-align: right;\">\n",
       "      <th></th>\n",
       "      <th>category</th>\n",
       "      <th>date</th>\n",
       "      <th>internet</th>\n",
       "      <th>mobile</th>\n",
       "    </tr>\n",
       "  </thead>\n",
       "  <tbody>\n",
       "    <tr>\n",
       "      <th>1690</th>\n",
       "      <td>여행 및 교통서비스</td>\n",
       "      <td>2021-11-01</td>\n",
       "      <td>251920</td>\n",
       "      <td>729359</td>\n",
       "    </tr>\n",
       "    <tr>\n",
       "      <th>1541</th>\n",
       "      <td>애완용품</td>\n",
       "      <td>2017-06-01</td>\n",
       "      <td>22732</td>\n",
       "      <td>33360</td>\n",
       "    </tr>\n",
       "    <tr>\n",
       "      <th>1586</th>\n",
       "      <td>애완용품</td>\n",
       "      <td>2021-03-01</td>\n",
       "      <td>33127</td>\n",
       "      <td>125099</td>\n",
       "    </tr>\n",
       "    <tr>\n",
       "      <th>1635</th>\n",
       "      <td>여행 및 교통서비스</td>\n",
       "      <td>2017-04-01</td>\n",
       "      <td>534384</td>\n",
       "      <td>600457</td>\n",
       "    </tr>\n",
       "    <tr>\n",
       "      <th>1662</th>\n",
       "      <td>여행 및 교통서비스</td>\n",
       "      <td>2019-07-01</td>\n",
       "      <td>657421</td>\n",
       "      <td>994070</td>\n",
       "    </tr>\n",
       "  </tbody>\n",
       "</table>\n",
       "</div>"
      ],
      "text/plain": [
       "        category       date  internet  mobile\n",
       "1690  여행 및 교통서비스 2021-11-01    251920  729359\n",
       "1541        애완용품 2017-06-01     22732   33360\n",
       "1586        애완용품 2021-03-01     33127  125099\n",
       "1635  여행 및 교통서비스 2017-04-01    534384  600457\n",
       "1662  여행 및 교통서비스 2019-07-01    657421  994070"
      ]
     },
     "execution_count": 37,
     "metadata": {},
     "output_type": "execute_result"
    }
   ],
   "source": [
    "ex1_data = ori.copy()\n",
    "# ex1_data[50:90] # 컴퓨터 및 주변기기\n",
    "# ex1_data[ex1_data['category']== '음식서비스'] # '컴퓨터 및 주변기기', '의복', '신발', '가방', '음·식료품', '음식서비스', '애완용품', '여행 및 교통서비스'\n",
    "obj = ['컴퓨터 및 주변기기', '농축수산물', '의복', '신발', '가방', '음·식료품', '음식서비스', '애완용품', '여행 및 교통서비스']\n",
    "ex1_data = ex1_data[ex1_data['category'].isin(obj)]\n",
    "ex1_data.sample(5) # 랜덤해서 뽑아줌"
   ]
  },
  {
   "cell_type": "code",
   "execution_count": 43,
   "id": "a41aa6ac-a028-47b2-8d0e-983311003c4e",
   "metadata": {},
   "outputs": [
    {
     "data": {
      "image/png": "[encoded data removed]",
      "text/plain": [
       "<Figure size 1000x500 with 1 Axes>"
      ]
     },
     "metadata": {},
     "output_type": "display_data"
    }
   ],
   "source": [
    "fig , ax = plt.subplots(figsize=(10,5))\n",
    "\n",
    "category = obj # ['컴퓨터 및 주변기기', '농축수산물', '의복', '신발', '가방', '음·식료품', '음식서비스', '애완용품', '여행 및 교통서비스']\n",
    "\n",
    "for cate in obj:\n",
    "    category_data = ex1_data[ex1_data['category'] == cate]\n",
    "    x_data = category_data['internet']\n",
    "    y_data = category_data['mobile']\n",
    "    ax.scatter( x_data , y_data, s = 20 , label = cate )\n",
    "\n",
    "\n",
    "ax.set_xlabel(\"인터넷 쇼핑\")\n",
    "ax.set_ylabel(\"모바일 쇼핑\")\n",
    "ax.legend(loc=\"best\")\n",
    "ax.plot([0,1000000],[0,1000000],'k-',alpha=0.7)\n",
    "plt.show() # 거의 대부분 상품들이 모바일에서 많이 팔렸다는 걸 볼수있음\n",
    "# print(category_data,x_data,y_data)"
   ]
  },
  {
   "cell_type": "code",
   "execution_count": null,
   "id": "227f8f27-c552-46b2-b386-14709ab5d260",
   "metadata": {},
   "outputs": [],
   "source": []
  }
 ],
 "metadata": {
  "kernelspec": {
   "display_name": "Python 3 (ipykernel)",
   "language": "python",
   "name": "python3"
  },
  "language_info": {
   "codemirror_mode": {
    "name": "ipython",
    "version": 3
   },
   "file_extension": ".py",
   "mimetype": "text/x-python",
   "name": "python",
   "nbconvert_exporter": "python",
   "pygments_lexer": "ipython3",
   "version": "3.13.1"
  }
 },
 "nbformat": 4,
 "nbformat_minor": 5
}
