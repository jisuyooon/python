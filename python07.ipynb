{
 "cells": [
  {
   "cell_type": "markdown",
   "id": "0580c754-7c93-4d1f-9f28-cf669c0cb13b",
   "metadata": {},
   "source": [
    "# 내장함수"
   ]
  },
  {
   "cell_type": "code",
   "execution_count": 2,
   "id": "3600ec99-90de-405d-931a-10f192450b70",
   "metadata": {},
   "outputs": [
    {
     "name": "stdout",
     "output_type": "stream",
     "text": [
      "3\n",
      "1.2\n"
     ]
    }
   ],
   "source": [
    "# abs * # 절댓값을 리턴함\n",
    "print(abs(-3))\n",
    "print(abs(-1.2))"
   ]
  },
  {
   "cell_type": "code",
   "execution_count": 7,
   "id": "12e3b7c7-338c-45aa-b70f-07c9476c57cc",
   "metadata": {},
   "outputs": [
    {
     "name": "stdout",
     "output_type": "stream",
     "text": [
      "True\n",
      "False\n",
      "True\n"
     ]
    }
   ],
   "source": [
    "# all *\n",
    "print(all([1,2,3])) \n",
    "print(all([11,22,0,44,55])) # 하나라도 문제있음 멈춤\n",
    "print(all([])) # 특이사항 # 얘는 이렇게 정했기 때문에 따라줘야함"
   ]
  },
  {
   "cell_type": "code",
   "execution_count": 12,
   "id": "786381c6-b761-44ec-af3b-bbae3ff45ba8",
   "metadata": {},
   "outputs": [
    {
     "name": "stdout",
     "output_type": "stream",
     "text": [
      "True\n",
      "False\n",
      "False\n"
     ]
    }
   ],
   "source": [
    "# any *\n",
    "print(any([1,2,3,0]))\n",
    "print(any([0,\"\",[], False]))\n",
    "print(any([]))"
   ]
  },
  {
   "cell_type": "code",
   "execution_count": 25,
   "id": "9c13d162-cbc6-4318-8bf5-dfbc3dbdd6b3",
   "metadata": {},
   "outputs": [
    {
     "name": "stdout",
     "output_type": "stream",
     "text": [
      "A\n",
      "가\n",
      "65\n",
      "44032\n"
     ]
    }
   ],
   "source": [
    "# chr\n",
    "print(chr(65)) # 48은 0x30이고 0이라는 것 기억해두면 좋음 \n",
    "print(chr(44032))\n",
    "# 유니코드 - utf-8(인코딩방식) 하고 관련있음\n",
    "# 아스키코드\n",
    "print(ord('A'))\n",
    "print(ord('가'))"
   ]
  },
  {
   "cell_type": "code",
   "execution_count": 73,
   "id": "72da6962-b93f-4c82-a991-bd70b24eb203",
   "metadata": {},
   "outputs": [
    {
     "name": "stdout",
     "output_type": "stream",
     "text": [
      "A B C D E F G H I J K L M N O P Q R S T U V W X Y Z "
     ]
    }
   ],
   "source": [
    "# 문1) 아스키코드표 보고 A부터 Z까지 차례로 모두 출력(65부터 90까지)\n",
    "for x in range(65, 91):\n",
    "    print(chr(x) , end=\" \")\n",
    "    \n",
    "# num = 65\n",
    "# while num < 91:\n",
    "#     print(chr(num), end=\" \")\n",
    "#     num = num+1"
   ]
  },
  {
   "cell_type": "code",
   "execution_count": 74,
   "id": "225659d0-c7ae-4e62-ac6f-5c9dd1a63be5",
   "metadata": {},
   "outputs": [
    {
     "name": "stdout",
     "output_type": "stream",
     "text": [
      "z y x w v u t s r q p o n m l k j i h g f e d c b a "
     ]
    }
   ],
   "source": [
    "# 문2) 소문자 z부터 a까지 역순으로 모두 차례로 출력\n",
    "for x in range(122,96,-1):\n",
    "\tprint(chr(x), end=\" \")\n",
    "    \n",
    "# num = 122\n",
    "# while num > 96:\n",
    "#     print(chr(num), end=\" \")\n",
    "#     num = num-1"
   ]
  },
  {
   "cell_type": "code",
   "execution_count": 72,
   "id": "2b1b1b76-4415-4f00-9610-bb8c3201f417",
   "metadata": {},
   "outputs": [
    {
     "name": "stdout",
     "output_type": "stream",
     "text": [
      "A1 A2 A3 A4 A5 A6 A7 A8 A9 A10 \n",
      "\n",
      "B1 B2 B3 B4 B5 B6 B7 B8 B9 B10 \n",
      "\n",
      "C1 C2 C3 C4 C5 C6 C7 C8 C9 C10 \n",
      "\n"
     ]
    }
   ],
   "source": [
    "# 문3) A1부터 A10까지 증가 후 B1부터 B10까지 증가 그리고 C1부터 C10까지 증가하게 하기\n",
    "for k in range(65,68):\n",
    "    for l in range(1,11):\n",
    "        print(f\"{chr(k)}{l} \",end='')\n",
    "    print(\"\\n\")\n",
    "\n",
    "# num = 64\n",
    "# while num < 67:\n",
    "#     num = num + 1\n",
    "#     for x in range(1,11):\n",
    "#         print(chr(num)+str(x), end=\" \")"
   ]
  },
  {
   "cell_type": "code",
   "execution_count": 1,
   "id": "dbffc79e-411c-4195-b3d9-b492125c77cd",
   "metadata": {},
   "outputs": [
    {
     "name": "stdin",
     "output_type": "stream",
     "text": [
      "당신의 기분을 한 문장으로 표현해주세요:  좋아 좋아서 좋아요 사랑 사랑해 나빠 진짜 나빠\n"
     ]
    },
    {
     "name": "stdout",
     "output_type": "stream",
     "text": [
      "1\n",
      "2\n",
      "1\n",
      "0\n",
      "0\n"
     ]
    }
   ],
   "source": [
    "positive_words = [\"좋아\", \"행복\", \"멋져\", \"최고\", \"사랑해\"]\n",
    "negative_words = [\"싫어\", \"화나\", \"짜증\", \"별로\", \"나빠\"]\n",
    "text = input(\"당신의 기분을 한 문장으로 표현해주세요: \")\n",
    "\n",
    "# 간단1\n",
    "# for v in positive_words:\n",
    "#     if v in text:\n",
    "#         print(\"기분이 좋아보이네요.\")\n",
    "# for n in negative_words:\n",
    "#     if n in text:\n",
    "#         print(\"기분이 나빠보이네요.\")\n",
    "\n",
    "# 해설2\n",
    "# if any(word in text for word in positive_words):\n",
    "#     print(\"기분이 좋아보이네요\")\n",
    "# elif any(word in text for word in negative_words):\n",
    "#     print(\"기분이 나빠보이네요\")\n",
    "# else:\n",
    "#     print(\"보통이시네요.\")\n",
    "\n",
    "# 해설3\n",
    "# pos = [v for v in positive_words if v in text]\n",
    "# print(pos,len(pos))\n",
    "# neg = [n for n in negative_words if n in text]\n",
    "# print(neg,len(neg))\n",
    "# if len(pos)> len(neg):\n",
    "# # abs(len(pos) - len(neg))>0 값의 차이, 크기, 변화폭\n",
    "#      print(\"기분이 좋아보이네요\")\n",
    "# elif len(pos)< len(neg):\n",
    "#      print(\"기분이 나빠보이네요\")\n",
    "# else:\n",
    "#     print(\"보통이시네요.\")\n",
    "\n",
    "# 해설4\n",
    "pnum = 0\n",
    "text = text.split(\" \")\n",
    "for v in positive_words:\n",
    "    for s in text:\n",
    "        if v == s:\n",
    "            pnum += 1\n",
    "            print(pnum)\n",
    "for x in negative_words:\n",
    "    for y in text:\n",
    "        if x == y:\n",
    "            pnum -= 1\n",
    "            print(pnum)\n",
    "print(pnum)"
   ]
  },
  {
   "cell_type": "code",
   "execution_count": 3,
   "id": "e791aff0-2af1-4bb2-8412-6874a98a9b7a",
   "metadata": {},
   "outputs": [],
   "source": [
    "# !pip install konlpy # 한글 형태소 분석기"
   ]
  },
  {
   "cell_type": "code",
   "execution_count": 2,
   "id": "bdbde67f-c706-4e13-9b76-b5a8b4b18e5e",
   "metadata": {},
   "outputs": [
    {
     "name": "stdin",
     "output_type": "stream",
     "text": [
      "당신의 기분을 한 문장으로 설명해주세요:  좋아 좋아서 좋아요 사랑 사랑해 나빠 진짜 나빠\n"
     ]
    },
    {
     "name": "stdout",
     "output_type": "stream",
     "text": [
      "['좋다', '좋다', '좋다', '사랑', '사랑', '하다', '나쁘다', '진짜', '나쁘다']\n"
     ]
    }
   ],
   "source": [
    "from konlpy.tag import Okt # 대문자 O\n",
    "\n",
    "# 한글 형태소 분석기\n",
    "okt = Okt()\n",
    "\n",
    "positive_words = [\"좋다\",\"행복\",\"멋지다\",\"최고\",\"사랑\"] # 기본으로 다 바꿔놓음\n",
    "negative_words = [\"싫다\",\"화나다\",\"짜증\",\"별로\",\"나쁘다\"]\n",
    "text = input(\"당신의 기분을 한 문장으로 설명해주세요: \")\n",
    "\n",
    "words = okt.morphs(text, stem=True)\n",
    "print(words)"
   ]
  },
  {
   "cell_type": "code",
   "execution_count": null,
   "id": "eb115ec3-6f33-4acb-8301-5beb15e76c7d",
   "metadata": {},
   "outputs": [],
   "source": []
  }
 ],
 "metadata": {
  "kernelspec": {
   "display_name": "Python 3 (ipykernel)",
   "language": "python",
   "name": "python3"
  },
  "language_info": {
   "codemirror_mode": {
    "name": "ipython",
    "version": 3
   },
   "file_extension": ".py",
   "mimetype": "text/x-python",
   "name": "python",
   "nbconvert_exporter": "python",
   "pygments_lexer": "ipython3",
   "version": "3.13.1"
  }
 },
 "nbformat": 4,
 "nbformat_minor": 5
}
