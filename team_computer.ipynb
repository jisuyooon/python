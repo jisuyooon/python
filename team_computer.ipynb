{
 "cells": [
  {
   "cell_type": "code",
   "execution_count": 1,
   "id": "c192267c-c4aa-4770-a19b-81c0d1b7f38c",
   "metadata": {},
   "outputs": [],
   "source": [
    "import matplotlib\n",
    "import matplotlib.pyplot as plt\n",
    "import matplotlib.font_manager as fm\n",
    "# import matplotlib.dates as mdates\n",
    "\n",
    "import pandas as pd\n",
    "from datetime import datetime"
   ]
  },
  {
   "cell_type": "code",
   "execution_count": 2,
   "id": "1a4dd4e1-c39f-4121-9342-a3972708a074",
   "metadata": {},
   "outputs": [],
   "source": [
    "# font 설정 D2coding\n",
    "d2_path = \"./ref/D2Coding-Ver1.3.2-20180524.ttf\"\n",
    "fm.fontManager.addfont(d2_path)\n",
    "matplotlib.rcParams[\"font.family\"] = \"D2Coding\""
   ]
  },
  {
   "cell_type": "code",
   "execution_count": 3,
   "id": "1868fdc9-3408-45b0-8279-e61826e60921",
   "metadata": {},
   "outputs": [
    {
     "data": {
      "text/html": [
       "<div>\n",
       "<style scoped>\n",
       "    .dataframe tbody tr th:only-of-type {\n",
       "        vertical-align: middle;\n",
       "    }\n",
       "\n",
       "    .dataframe tbody tr th {\n",
       "        vertical-align: top;\n",
       "    }\n",
       "\n",
       "    .dataframe thead th {\n",
       "        text-align: right;\n",
       "    }\n",
       "</style>\n",
       "<table border=\"1\" class=\"dataframe\">\n",
       "  <thead>\n",
       "    <tr style=\"text-align: right;\">\n",
       "      <th></th>\n",
       "      <th>category</th>\n",
       "      <th>date</th>\n",
       "      <th>internet</th>\n",
       "      <th>mobile</th>\n",
       "    </tr>\n",
       "  </thead>\n",
       "  <tbody>\n",
       "    <tr>\n",
       "      <th>2203</th>\n",
       "      <td>기타</td>\n",
       "      <td>2024.08</td>\n",
       "      <td>61304</td>\n",
       "      <td>120200</td>\n",
       "    </tr>\n",
       "    <tr>\n",
       "      <th>2204</th>\n",
       "      <td>기타</td>\n",
       "      <td>2024.09</td>\n",
       "      <td>63863</td>\n",
       "      <td>126583</td>\n",
       "    </tr>\n",
       "    <tr>\n",
       "      <th>2205</th>\n",
       "      <td>기타</td>\n",
       "      <td>2024.10</td>\n",
       "      <td>68403</td>\n",
       "      <td>128216</td>\n",
       "    </tr>\n",
       "    <tr>\n",
       "      <th>2206</th>\n",
       "      <td>기타</td>\n",
       "      <td>2024.11 p)</td>\n",
       "      <td>73246</td>\n",
       "      <td>135527</td>\n",
       "    </tr>\n",
       "    <tr>\n",
       "      <th>2207</th>\n",
       "      <td>기타</td>\n",
       "      <td>2024.12 p)</td>\n",
       "      <td>75613</td>\n",
       "      <td>144134</td>\n",
       "    </tr>\n",
       "  </tbody>\n",
       "</table>\n",
       "</div>"
      ],
      "text/plain": [
       "     category        date  internet  mobile\n",
       "2203       기타     2024.08     61304  120200\n",
       "2204       기타     2024.09     63863  126583\n",
       "2205       기타     2024.10     68403  128216\n",
       "2206       기타  2024.11 p)     73246  135527\n",
       "2207       기타  2024.12 p)     75613  144134"
      ]
     },
     "execution_count": 3,
     "metadata": {},
     "output_type": "execute_result"
    }
   ],
   "source": [
    "file_path = \"./ref/온라인쇼핑몰_판매매체별_상품군별거래액.csv\"\n",
    "ori = pd.read_csv(file_path, encoding=\"EUC-KR\") # utf-8\n",
    "ori.columns = [\"category\",\"date\",\"internet\",\"mobile\"]\n",
    "ori.tail()"
   ]
  },
  {
   "cell_type": "code",
   "execution_count": 4,
   "id": "51d966ac-1d76-4aa2-b673-6137ca82a62a",
   "metadata": {},
   "outputs": [
    {
     "name": "stdout",
     "output_type": "stream",
     "text": [
      "수정전\n",
      "2203       2024.08\n",
      "2204       2024.09\n",
      "2205       2024.10\n",
      "2206    2024.11 p)\n",
      "2207    2024.12 p)\n",
      "Name: date, dtype: object\n",
      "수정후\n",
      "2203    2024.08\n",
      "2204    2024.09\n",
      "2205    2024.10\n",
      "2206    2024.11\n",
      "2207    2024.12\n",
      "Name: date, dtype: object\n"
     ]
    }
   ],
   "source": [
    "print(\"수정전\")\n",
    "print(ori['date'].tail())\n",
    "ori['date'] = ori['date'].map(lambda x: x.rstrip(' p)')) # 리플레이스 활용해도됨\n",
    "print(\"수정후\")\n",
    "print(ori['date'].tail())"
   ]
  },
  {
   "cell_type": "code",
   "execution_count": 5,
   "id": "6f266d69-f1b8-4726-98fb-243fc02edbed",
   "metadata": {},
   "outputs": [
    {
     "data": {
      "text/html": [
       "<div>\n",
       "<style scoped>\n",
       "    .dataframe tbody tr th:only-of-type {\n",
       "        vertical-align: middle;\n",
       "    }\n",
       "\n",
       "    .dataframe tbody tr th {\n",
       "        vertical-align: top;\n",
       "    }\n",
       "\n",
       "    .dataframe thead th {\n",
       "        text-align: right;\n",
       "    }\n",
       "</style>\n",
       "<table border=\"1\" class=\"dataframe\">\n",
       "  <thead>\n",
       "    <tr style=\"text-align: right;\">\n",
       "      <th></th>\n",
       "      <th>category</th>\n",
       "      <th>date</th>\n",
       "      <th>internet</th>\n",
       "      <th>mobile</th>\n",
       "    </tr>\n",
       "  </thead>\n",
       "  <tbody>\n",
       "    <tr>\n",
       "      <th>2203</th>\n",
       "      <td>기타</td>\n",
       "      <td>2024-08-01</td>\n",
       "      <td>61304</td>\n",
       "      <td>120200</td>\n",
       "    </tr>\n",
       "    <tr>\n",
       "      <th>2204</th>\n",
       "      <td>기타</td>\n",
       "      <td>2024-09-01</td>\n",
       "      <td>63863</td>\n",
       "      <td>126583</td>\n",
       "    </tr>\n",
       "    <tr>\n",
       "      <th>2205</th>\n",
       "      <td>기타</td>\n",
       "      <td>2024-10-01</td>\n",
       "      <td>68403</td>\n",
       "      <td>128216</td>\n",
       "    </tr>\n",
       "    <tr>\n",
       "      <th>2206</th>\n",
       "      <td>기타</td>\n",
       "      <td>2024-11-01</td>\n",
       "      <td>73246</td>\n",
       "      <td>135527</td>\n",
       "    </tr>\n",
       "    <tr>\n",
       "      <th>2207</th>\n",
       "      <td>기타</td>\n",
       "      <td>2024-12-01</td>\n",
       "      <td>75613</td>\n",
       "      <td>144134</td>\n",
       "    </tr>\n",
       "  </tbody>\n",
       "</table>\n",
       "</div>"
      ],
      "text/plain": [
       "     category       date  internet  mobile\n",
       "2203       기타 2024-08-01     61304  120200\n",
       "2204       기타 2024-09-01     63863  126583\n",
       "2205       기타 2024-10-01     68403  128216\n",
       "2206       기타 2024-11-01     73246  135527\n",
       "2207       기타 2024-12-01     75613  144134"
      ]
     },
     "execution_count": 5,
     "metadata": {},
     "output_type": "execute_result"
    }
   ],
   "source": [
    "ori['date'] = pd.to_datetime(ori[\"date\"], format='%Y.%m')\n",
    "ori.dtypes\n",
    "ori.tail()"
   ]
  },
  {
   "cell_type": "code",
   "execution_count": 6,
   "id": "bbc59092-8184-4510-8dff-4ea61a66d7f2",
   "metadata": {},
   "outputs": [
    {
     "data": {
      "text/html": [
       "<div>\n",
       "<style scoped>\n",
       "    .dataframe tbody tr th:only-of-type {\n",
       "        vertical-align: middle;\n",
       "    }\n",
       "\n",
       "    .dataframe tbody tr th {\n",
       "        vertical-align: top;\n",
       "    }\n",
       "\n",
       "    .dataframe thead th {\n",
       "        text-align: right;\n",
       "    }\n",
       "</style>\n",
       "<table border=\"1\" class=\"dataframe\">\n",
       "  <thead>\n",
       "    <tr style=\"text-align: right;\">\n",
       "      <th></th>\n",
       "      <th>category</th>\n",
       "      <th>date</th>\n",
       "      <th>internet</th>\n",
       "      <th>mobile</th>\n",
       "    </tr>\n",
       "  </thead>\n",
       "  <tbody>\n",
       "    <tr>\n",
       "      <th>1214</th>\n",
       "      <td>농축수산물</td>\n",
       "      <td>2022-03-01</td>\n",
       "      <td>194883</td>\n",
       "      <td>624681</td>\n",
       "    </tr>\n",
       "    <tr>\n",
       "      <th>546</th>\n",
       "      <td>신발</td>\n",
       "      <td>2022-07-01</td>\n",
       "      <td>83854</td>\n",
       "      <td>222553</td>\n",
       "    </tr>\n",
       "    <tr>\n",
       "      <th>1963</th>\n",
       "      <td>음식서비스</td>\n",
       "      <td>2020-08-01</td>\n",
       "      <td>84744</td>\n",
       "      <td>1592675</td>\n",
       "    </tr>\n",
       "    <tr>\n",
       "      <th>1184</th>\n",
       "      <td>농축수산물</td>\n",
       "      <td>2019-09-01</td>\n",
       "      <td>126828</td>\n",
       "      <td>247714</td>\n",
       "    </tr>\n",
       "    <tr>\n",
       "      <th>5</th>\n",
       "      <td>컴퓨터 및 주변기기</td>\n",
       "      <td>2017-06-01</td>\n",
       "      <td>262908</td>\n",
       "      <td>113811</td>\n",
       "    </tr>\n",
       "  </tbody>\n",
       "</table>\n",
       "</div>"
      ],
      "text/plain": [
       "        category       date  internet   mobile\n",
       "1214       농축수산물 2022-03-01    194883   624681\n",
       "546           신발 2022-07-01     83854   222553\n",
       "1963       음식서비스 2020-08-01     84744  1592675\n",
       "1184       농축수산물 2019-09-01    126828   247714\n",
       "5     컴퓨터 및 주변기기 2017-06-01    262908   113811"
      ]
     },
     "execution_count": 6,
     "metadata": {},
     "output_type": "execute_result"
    }
   ],
   "source": [
    "ex1_data = ori.copy()\n",
    "# ex1_data[50:90] # 컴퓨터 및 주변기기\n",
    "# ex1_data[ex1_data['category']== '음식서비스'] # '컴퓨터 및 주변기기', '의복', '신발', '가방', '음·식료품', '음식서비스', '애완용품', '여행 및 교통서비스'\n",
    "obj = ['컴퓨터 및 주변기기', '농축수산물', '의복', '신발', '가방', '음·식료품', '음식서비스', '애완용품', '여행 및 교통서비스']\n",
    "ex1_data = ex1_data[ex1_data['category'].isin(obj)]\n",
    "ex1_data.sample(5) # 랜덤해서 뽑아줌"
   ]
  },
  {
   "cell_type": "code",
   "execution_count": 7,
   "id": "400db92d-5a9e-4336-af1b-97ccae511994",
   "metadata": {},
   "outputs": [
    {
     "data": {
      "image/png": "[encoded data removed]",
      "text/plain": [
       "<Figure size 1000x500 with 1 Axes>"
      ]
     },
     "metadata": {},
     "output_type": "display_data"
    }
   ],
   "source": [
    "fig, ax = plt.subplots(figsize=(10, 5))\n",
    "\n",
    "tdata = ex1_data[ex1_data['category'] == obj[0]]['date']\n",
    "second = ex1_data[ex1_data['category'] == obj[0]]\n",
    "idata = second['internet']\n",
    "mdata = second['mobile']\n",
    "\n",
    "ax.scatter(tdata, idata, s=20, label=obj[0] + '(인터넷)')\n",
    "ax.scatter(tdata, mdata, s=20, label=obj[0] + '(모바일)')\n",
    "ax.legend()\n",
    "\n",
    "plt.show()"
   ]
  },
  {
   "cell_type": "code",
   "execution_count": null,
   "id": "6ac57ede-e152-42d2-8f68-4970e361b5c8",
   "metadata": {},
   "outputs": [],
   "source": []
  }
 ],
 "metadata": {
  "kernelspec": {
   "display_name": "Python 3 (ipykernel)",
   "language": "python",
   "name": "python3"
  },
  "language_info": {
   "codemirror_mode": {
    "name": "ipython",
    "version": 3
   },
   "file_extension": ".py",
   "mimetype": "text/x-python",
   "name": "python",
   "nbconvert_exporter": "python",
   "pygments_lexer": "ipython3",
   "version": "3.13.1"
  }
 },
 "nbformat": 4,
 "nbformat_minor": 5
}
