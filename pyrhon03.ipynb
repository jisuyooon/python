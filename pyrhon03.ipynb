{
 "cells": [
  {
   "cell_type": "markdown",
   "id": "ca837ffe-1b38-48dc-befa-6e0f4763d89b",
   "metadata": {},
   "source": [
    "# 제어문"
   ]
  },
  {
   "cell_type": "markdown",
   "id": "148d8468-54f4-44fd-af10-1ed4666df346",
   "metadata": {},
   "source": [
    "## if 문"
   ]
  },
  {
   "cell_type": "code",
   "execution_count": 28,
   "id": "740d7ced-94a4-4541-9daf-7733a9350400",
   "metadata": {},
   "outputs": [
    {
     "name": "stdout",
     "output_type": "stream",
     "text": [
      "항상 동작합니다!\n",
      "5가 큽니다\n"
     ]
    }
   ],
   "source": [
    "if True:\n",
    "    print(\"항상 동작합니다!\")\n",
    "if False:\n",
    "    print(\"항상 동작할까요?\")   \n",
    "if [1,3]: #True가 됐던 애들은 다 나옴\n",
    "    print(\"5가 큽니다\")\n",
    "if 4 > 10:\n",
    "    print(\"나올까요?\")"
   ]
  },
  {
   "cell_type": "code",
   "execution_count": 3,
   "id": "10858fa0-11c8-461e-bf8b-d6e2fc88ba0d",
   "metadata": {},
   "outputs": [
    {
     "name": "stdout",
     "output_type": "stream",
     "text": [
      "가라\n"
     ]
    }
   ],
   "source": [
    "if False:\n",
    "    print(\"택시를\")\n",
    "    print(\"타고\")\n",
    "print(\"가라\")"
   ]
  },
  {
   "cell_type": "code",
   "execution_count": 6,
   "id": "c7557587-5cca-4677-ae1e-baeb23eb71c9",
   "metadata": {},
   "outputs": [
    {
     "name": "stdin",
     "output_type": "stream",
     "text": [
      "얼마 가지고 있습니까? 5000\n"
     ]
    },
    {
     "name": "stdout",
     "output_type": "stream",
     "text": [
      "택시타고 가세요.\n"
     ]
    }
   ],
   "source": [
    "mymoney = int(input('얼마 가지고 있습니까?'))\n",
    "if mymoney >= 3000:\n",
    "    print('택시타고 가세요.')\n",
    "# if mymoney < 3000:\n",
    "else:\n",
    "    print('걸어가세요.')    "
   ]
  },
  {
   "cell_type": "code",
   "execution_count": 8,
   "id": "aeca585b-b83e-4b55-bf49-27e89ad5e334",
   "metadata": {},
   "outputs": [],
   "source": [
    "# and, or, not"
   ]
  },
  {
   "cell_type": "code",
   "execution_count": 10,
   "id": "bcb48ccb-7458-4466-876a-c827db193b9f",
   "metadata": {},
   "outputs": [
    {
     "name": "stdout",
     "output_type": "stream",
     "text": [
      "==== and 연산 ====\n",
      "True\n",
      "False\n",
      "False\n",
      "False\n",
      "==== or 연산 ====\n",
      "True\n",
      "True\n",
      "True\n",
      "False\n",
      "==== not 연산 ====\n",
      "True\n",
      "False\n",
      "True\n"
     ]
    }
   ],
   "source": [
    "print(\"==== and 연산 ====\")\n",
    "print(True and True)\n",
    "print(True and False)\n",
    "print(False and True)\n",
    "print(False and False)\n",
    "print(\"==== or 연산 ====\")\n",
    "print(True or True)\n",
    "print(True or False)\n",
    "print(False or True)\n",
    "print(False or False)    \n",
    "print(\"==== not 연산 ====\")\n",
    "print(True)\n",
    "print(not True)\n",
    "print(not False)"
   ]
  },
  {
   "cell_type": "code",
   "execution_count": 15,
   "id": "d892f74f-c3bc-4ec9-8270-a23e2c7c62e2",
   "metadata": {},
   "outputs": [
    {
     "name": "stdout",
     "output_type": "stream",
     "text": [
      "만납시다\n"
     ]
    }
   ],
   "source": [
    "이상형 = True\n",
    "똑똑 = True\n",
    "if 이상형 and 똑똑: #무조건 둘다 충족되야함\n",
    "    print(\"만납시다\")\n",
    "else:\n",
    "    print(\"그래여..\")"
   ]
  },
  {
   "cell_type": "code",
   "execution_count": 18,
   "id": "ad1a5190-205b-4581-914b-9e29a0e07a83",
   "metadata": {},
   "outputs": [
    {
     "name": "stdout",
     "output_type": "stream",
     "text": [
      "그렇군요..\n"
     ]
    }
   ],
   "source": [
    "이상형 = False\n",
    "다정 = False\n",
    "if 이상형 or 다정: #둘중 하나만 충족되면 됨\n",
    "    print(\"만납시다\")\n",
    "else:\n",
    "    print(\"그렇군요..\")"
   ]
  },
  {
   "cell_type": "code",
   "execution_count": 21,
   "id": "38cbc2d5-15c2-40b1-941e-fb0d9158fa72",
   "metadata": {},
   "outputs": [
    {
     "name": "stdout",
     "output_type": "stream",
     "text": [
      "잘가요\n"
     ]
    }
   ],
   "source": [
    "주사 = True\n",
    "if not 주사:\n",
    "    print(\"만나요\")\n",
    "else:\n",
    "    print(\"잘가요\")"
   ]
  },
  {
   "cell_type": "code",
   "execution_count": 24,
   "id": "3a131c31-eb91-4e01-a75c-371a3e7e9b52",
   "metadata": {},
   "outputs": [
    {
     "name": "stdout",
     "output_type": "stream",
     "text": [
      "택시를 타고 가라\n"
     ]
    }
   ],
   "source": [
    "money = 2000\n",
    "card = True\n",
    "if money >= 3000 or card:\n",
    "    print(\"택시를 타고 가라\")\n",
    "else:\n",
    "    print(\"걸어가라\")"
   ]
  },
  {
   "cell_type": "code",
   "execution_count": 32,
   "id": "5d87b02d-2a6d-42ff-a605-2dd5b19f45a0",
   "metadata": {},
   "outputs": [
    {
     "name": "stdout",
     "output_type": "stream",
     "text": [
      "A회사 불합격입니다.\n",
      "B회사 합격입니다.\n",
      "C회사 합격입니다.\n"
     ]
    }
   ],
   "source": [
    "me = 'Python'\n",
    "compA = ['JAVA','CSS','Javascript','C','MySQL']\n",
    "compB = ['JAVA','Python','Javascript','C','MySQL']\n",
    "compC = ['JAVA','Python','HTML','MySQL']\n",
    "if me in compA:\n",
    "    print(\"A회사 합격입니다.\")\n",
    "else:\n",
    "    print(\"A회사 불합격입니다.\")\n",
    "if me in compB:\n",
    "    print(\"B회사 합격입니다.\")\n",
    "else:\n",
    "    print(\"B회사 불합격입니다.\")\n",
    "if me in compC:\n",
    "    print(\"C회사 합격입니다.\")\n",
    "else:\n",
    "    print(\"C회사 불합격입니다.\")"
   ]
  },
  {
   "cell_type": "code",
   "execution_count": 40,
   "id": "85226862-e7d4-464d-8123-4b0ef9858aef",
   "metadata": {},
   "outputs": [
    {
     "name": "stdin",
     "output_type": "stream",
     "text": [
      "점수를 입력하세요. 90\n"
     ]
    },
    {
     "name": "stdout",
     "output_type": "stream",
     "text": [
      "학점:A\n"
     ]
    }
   ],
   "source": [
    "# 연습문제1\n",
    "me = int(input(\"점수를 입력하세요.\"))\n",
    "\n",
    "if me >= 90 and me <= 100: #and는 파이썬에서 안써도 됨 한번에 가능 밑에 예시\n",
    "    grade = 'A'\n",
    "if me >= 80 and me < 90:\n",
    "    grade = 'B'\n",
    "if me >= 70 and me < 80:\n",
    "    grade = 'C'\n",
    "if me >= 60 and me < 70:\n",
    "    grade = 'D'\n",
    "if me < 60:\n",
    "    grade = 'F'\n",
    "\n",
    "print(f\"학점:{grade}\")"
   ]
  },
  {
   "cell_type": "code",
   "execution_count": 9,
   "id": "61815a9f-4b4d-4150-8578-d0faa049b43e",
   "metadata": {},
   "outputs": [
    {
     "name": "stdin",
     "output_type": "stream",
     "text": [
      "점수를 입력하세요. \n"
     ]
    },
    {
     "name": "stdout",
     "output_type": "stream",
     "text": [
      "C 학점입니다.\n"
     ]
    }
   ],
   "source": [
    "# 연습문제1 방법1 if만 사용\n",
    "점수 = int(input(\"점수를 입력하세요.\") or 77)\n",
    "grade = 'F'\n",
    "if 90 <= 점수: grade = 'A'\n",
    "if 80 <= 점수 < 90: grade = 'B'\n",
    "if 70 <= 점수 < 80: grade = 'C'\n",
    "if 60 <= 점수 < 70: grade = 'D'\n",
    "print(f\"{grade} 학점입니다.\")"
   ]
  },
  {
   "cell_type": "code",
   "execution_count": 13,
   "id": "405b8578-4bef-4a9c-8678-501a2d46a88b",
   "metadata": {},
   "outputs": [
    {
     "name": "stdin",
     "output_type": "stream",
     "text": [
      "점수를 입력하세요. \n"
     ]
    },
    {
     "name": "stdout",
     "output_type": "stream",
     "text": [
      "F 학점입니다.\n"
     ]
    }
   ],
   "source": [
    "# 연습문제1 방법2 if, elif, else 사용 #배치를 잘해야함 #위에꺼보다 효율적임\n",
    "score = int(input(\"점수를 입력하세요.\") or 37) # or뒤에 넣은 수는 디폴트값, 아무것도 안치면 37점으로 학점 계산.\n",
    "if 90 <= score : grade = 'A'\n",
    "elif 80 <= score: grade = 'B'\n",
    "elif 70 <= score: grade = 'C'\n",
    "elif 60 <= score: grade = 'D'\n",
    "else: grade = 'F'\n",
    "print(f\"{grade} 학점입니다.\")"
   ]
  },
  {
   "cell_type": "code",
   "execution_count": 27,
   "id": "ae8badd3-7026-4818-9f21-7eee05917431",
   "metadata": {},
   "outputs": [
    {
     "name": "stdin",
     "output_type": "stream",
     "text": [
      "온도를 입력하세요. 9\n"
     ]
    },
    {
     "name": "stdout",
     "output_type": "stream",
     "text": [
      "계절은 겨울❤️👽입니다.\n"
     ]
    }
   ],
   "source": [
    "# 연습문제2\n",
    "온도 = int(input(\"온도를 입력하세요.\"))\n",
    "if 25 <= 온도 : 계절 = '여름'\n",
    "elif 15 <= 온도 < 25 : 계절 = '봄'\n",
    "elif 10 <= 온도 < 15 : 계절 = '가을'\n",
    "else: 계절 = '겨울❤️👽'\n",
    "print(f\"계절은 {계절}입니다.\")"
   ]
  },
  {
   "cell_type": "markdown",
   "id": "f93a05c2-382d-4073-8972-1347bad2511e",
   "metadata": {},
   "source": [
    "## while 문"
   ]
  },
  {
   "cell_type": "code",
   "execution_count": 24,
   "id": "f6f0309f-6ada-4c0e-8dbb-89858e8fea7f",
   "metadata": {},
   "outputs": [
    {
     "name": "stdout",
     "output_type": "stream",
     "text": [
      "나무를 1번 찍었습니다.\n",
      "나무를 2번 찍었습니다.\n",
      "나무를 3번 찍었습니다.\n",
      "나무를 4번 찍었습니다.\n",
      "나무를 5번 찍었습니다.\n",
      "나무를 6번 찍었습니다.\n",
      "나무를 7번 찍었습니다.\n",
      "나무를 8번 찍었습니다.\n",
      "나무를 9번 찍었습니다.\n",
      "나무를 10번 찍었습니다.\n",
      "나무 넘어갑니다.\n"
     ]
    }
   ],
   "source": [
    "treeHit = 0\n",
    "while treeHit < 10:\n",
    "    treeHit = treeHit + 1\n",
    "    print(\"나무를 %d번 찍었습니다.\" % treeHit)\n",
    "    if treeHit == 10:\n",
    "        print(\"나무 넘어갑니다.\")"
   ]
  },
  {
   "cell_type": "code",
   "execution_count": 26,
   "id": "930b7e34-31d7-47b7-8aa9-5404457d122c",
   "metadata": {},
   "outputs": [
    {
     "name": "stdout",
     "output_type": "stream",
     "text": [
      "나무를 1번 찍었습니다.\n",
      "나무를 2번 찍었습니다.\n",
      "나무를 3번 찍었습니다.\n",
      "나무를 4번 찍었습니다.\n",
      "나무를 5번 찍었습니다.\n",
      "나무를 6번 찍었습니다.\n",
      "나무를 7번 찍었습니다.\n",
      "나무를 8번 찍었습니다.\n",
      "나무를 9번 찍었습니다.\n",
      "나무를 10번 찍었습니다.\n",
      "나무 넘어갑니다.\n"
     ]
    }
   ],
   "source": [
    "namu = 10\n",
    "while namu:\n",
    "    namu -=1\n",
    "    print(f\"나무를 {10 - namu}번 찍었습니다.\")\n",
    "print(\"나무 넘어갑니다.\")"
   ]
  },
  {
   "cell_type": "code",
   "execution_count": 2,
   "id": "611a7098-7cfe-4c03-8906-6ce4773fb161",
   "metadata": {},
   "outputs": [
    {
     "name": "stdout",
     "output_type": "stream",
     "text": [
      "시스템이 종료되었습니다.\n"
     ]
    }
   ],
   "source": [
    "from IPython.display import clear_output\n",
    "print(\"선택해 주세요.\")\n",
    "prompt = \"\"\"\n",
    "    1. Add\n",
    "    2. Del\n",
    "    3. List\n",
    "    4. Quit\n",
    "\"\"\"\n",
    "number = 0\n",
    "while number != 4:\n",
    "    print(prompt)\n",
    "    number = int(input())\n",
    "    clear_output(wait=True) # 이전 질문 지우기\n",
    "print(\"시스템이 종료되었습니다.\")"
   ]
  },
  {
   "cell_type": "code",
   "execution_count": 35,
   "id": "5fe2108d-ede1-4f22-86c7-668c30ef5534",
   "metadata": {},
   "outputs": [
    {
     "name": "stdout",
     "output_type": "stream",
     "text": [
      "1 나 화났어!\n",
      "2 나 화났어!\n",
      "3 나 화났어!\n",
      "4 나 화났어!\n",
      "5 나 화났어!\n",
      "6 나 화났어!\n",
      "7 나 화났어!\n",
      "8 나 화났어!\n",
      "9 나 화났어!\n",
      "10 나 화났어!\n"
     ]
    }
   ],
   "source": [
    "num = 0 # 초기값 중요\n",
    "while True:\n",
    "    num+=1 #이거 위치에 따라 달라짐 #더하고 나서 보여줄래 보여주고나서 뺄래\n",
    "    print(num, \"나 화났어!\") #멈추려면 ee 누르기\n",
    "    if num >= 10:\n",
    "        break #while의 진정제는 break"
   ]
  }
 ],
 "metadata": {
  "kernelspec": {
   "display_name": "Python 3 (ipykernel)",
   "language": "python",
   "name": "python3"
  },
  "language_info": {
   "codemirror_mode": {
    "name": "ipython",
    "version": 3
   },
   "file_extension": ".py",
   "mimetype": "text/x-python",
   "name": "python",
   "nbconvert_exporter": "python",
   "pygments_lexer": "ipython3",
   "version": "3.13.1"
  }
 },
 "nbformat": 4,
 "nbformat_minor": 5
}
