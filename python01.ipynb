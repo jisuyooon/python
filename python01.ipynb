{
 "cells": [
  {
   "cell_type": "markdown",
   "id": "db1f6e63-d2a6-47b6-8689-cf03ad62df52",
   "metadata": {},
   "source": [
    "# 주피터랩 단축키\n",
    "- a: 위 셀 추가\n",
    "- b: 아래 셀 추가\n",
    "- ctrl + shift + 방향키 위  : 셀 위로 이동\n",
    "- ctrl + shift + 방향키 아래  : 셀 아래로 이동\n",
    "- shift + enter : 셀 실행\n",
    "- dd : 셀 삭제\n",
    "- x : 셀 잘라내기\n",
    "- c : 셀 복사\n",
    "- v : 셀 붙여넣기\n",
    "- z : undo (복구)\n",
    "- shift + z : redo (다시진행)\n",
    "- m : markdown\n",
    "- y : code"
   ]
  },
  {
   "cell_type": "markdown",
   "id": "6dd17f00-274b-4352-b814-3b3424bea912",
   "metadata": {},
   "source": [
    "# print기초"
   ]
  },
  {
   "cell_type": "code",
   "execution_count": 16,
   "id": "ba728089-2a04-42a9-997b-f1a736fa24b8",
   "metadata": {},
   "outputs": [
    {
     "name": "stdout",
     "output_type": "stream",
     "text": [
      "주피터랩에 처음이에요\n",
      "사실은 두번째\n"
     ]
    }
   ],
   "source": [
    "print('주피터랩에 처음이에요')\n",
    "print('사실은 두번째')"
   ]
  },
  {
   "cell_type": "code",
   "execution_count": 12,
   "id": "58fe8b03-3deb-4502-a27e-235ff883c8c3",
   "metadata": {},
   "outputs": [
    {
     "name": "stdout",
     "output_type": "stream",
     "text": [
      "4610\n"
     ]
    }
   ],
   "source": [
    "print(1277+3333)"
   ]
  },
  {
   "cell_type": "code",
   "execution_count": 20,
   "id": "7b926ea9-a6fa-42df-9d23-aa07c8ac35d7",
   "metadata": {},
   "outputs": [
    {
     "name": "stdout",
     "output_type": "stream",
     "text": [
      "시간이 많이 남았어...\n"
     ]
    }
   ],
   "source": [
    "import time as t\n",
    "print('배고프다',end='\\r')\n",
    "t.sleep(1)\n",
    "print('근데',end='\\r')\n",
    "t.sleep(1)\n",
    "print('시간이 많이 남았어...')"
   ]
  },
  {
   "cell_type": "code",
   "execution_count": 22,
   "id": "f421a0cd-76b5-453a-97b3-1291b19e4447",
   "metadata": {},
   "outputs": [
    {
     "name": "stdout",
     "output_type": "stream",
     "text": [
      "1-2-3-4-5\n"
     ]
    }
   ],
   "source": [
    "print(1,2,3,4,5, sep='-')"
   ]
  },
  {
   "cell_type": "markdown",
   "id": "025867b3-bda8-40fc-8802-e10be7df684f",
   "metadata": {},
   "source": [
    "# 자료형"
   ]
  },
  {
   "cell_type": "markdown",
   "id": "5d052c4b-05ff-4da8-85be-d760aedd2ac1",
   "metadata": {},
   "source": [
    "## 숫자형"
   ]
  },
  {
   "cell_type": "code",
   "execution_count": 38,
   "id": "a9731bcd-3aab-439f-9224-e9800acdbc23",
   "metadata": {},
   "outputs": [
    {
     "name": "stdout",
     "output_type": "stream",
     "text": [
      "덧셈 877\n",
      "===================\n",
      "뺄셈 677\n",
      "===================\n",
      "곱셈 77700\n",
      "===================\n",
      "나눗셈 7.77\n",
      "===================\n",
      "몫 7\n",
      "===================\n",
      "나머지 77\n",
      "===================\n",
      "승 603729\n",
      "===================\n"
     ]
    }
   ],
   "source": [
    "# 사칙연산 예\n",
    "sachik = 777\n",
    "sem = 100\n",
    "\n",
    "print('덧셈',sachik + sem, end='\\n===================\\n')\n",
    "print('뺄셈',sachik - sem, end='\\n===================\\n')\n",
    "print('곱셈',sachik * sem, end='\\n===================\\n')\n",
    "print('나눗셈',sachik / sem, end='\\n===================\\n')\n",
    "print('몫',sachik // sem, end='\\n===================\\n')\n",
    "print('나머지',sachik % sem, end='\\n===================\\n')\n",
    "print('승',sachik ** 2, end='\\n===================\\n')"
   ]
  },
  {
   "cell_type": "code",
   "execution_count": 23,
   "id": "691b410d-d25b-4b5d-a9ab-d516a658186d",
   "metadata": {},
   "outputs": [
    {
     "name": "stdout",
     "output_type": "stream",
     "text": [
      "123 -178 0\n"
     ]
    }
   ],
   "source": [
    "# 정수형\n",
    "a = 123\n",
    "b = -178\n",
    "c = 0\n",
    "print(a,b,c)"
   ]
  },
  {
   "cell_type": "code",
   "execution_count": 41,
   "id": "d45e7f27-f75f-4e61-895d-efece917fdd2",
   "metadata": {},
   "outputs": [
    {
     "name": "stdout",
     "output_type": "stream",
     "text": [
      "1.2 -3.14 4.24e-10\n"
     ]
    }
   ],
   "source": [
    "# 실수형\n",
    "aa = 1.2\n",
    "bb = -3.14\n",
    "cc = 4.24e-10\n",
    "print(aa,bb,cc)"
   ]
  },
  {
   "cell_type": "code",
   "execution_count": 52,
   "id": "1c8a4592-e223-497c-bedc-4e81fac28f29",
   "metadata": {},
   "outputs": [
    {
     "name": "stdout",
     "output_type": "stream",
     "text": [
      "15\n",
      "127 2748\n"
     ]
    }
   ],
   "source": [
    "# 2진수(bin), 8진수(oct)와 16진수(hex)\n",
    "aaa = 0b1111\n",
    "print(aaa)\n",
    "# 8진수(oct)와 16진수(hex)\n",
    "bbb = 0o177\n",
    "ccc = 0xABC\n",
    "print(bbb, ccc)"
   ]
  },
  {
   "cell_type": "code",
   "execution_count": 56,
   "id": "214c17b4-e18f-49f3-baae-20abdc469cc4",
   "metadata": {},
   "outputs": [
    {
     "name": "stdout",
     "output_type": "stream",
     "text": [
      "7\n",
      "-1\n",
      "12\n",
      "0.75\n",
      "81\n"
     ]
    }
   ],
   "source": [
    "a = 3\n",
    "b = 4\n",
    "print(a + b)\n",
    "print(a - b)\n",
    "print(a * b)\n",
    "print(a / b)\n",
    "print(a ** b)"
   ]
  },
  {
   "cell_type": "code",
   "execution_count": 64,
   "id": "13f66358-adc8-4412-8681-a5cab78e38f5",
   "metadata": {},
   "outputs": [
    {
     "name": "stdout",
     "output_type": "stream",
     "text": [
      "2\n",
      "3\n",
      "4\n"
     ]
    }
   ],
   "source": [
    "#복합연산자\n",
    "a = 1\n",
    "a = a + 1 #a += 1\n",
    "print(a)\n",
    "a = a + 1\n",
    "print(a)\n",
    "a = a + 1\n",
    "print(a)"
   ]
  },
  {
   "cell_type": "code",
   "execution_count": 76,
   "id": "adcb9628-8819-46b4-a2d6-cc81d7b81361",
   "metadata": {},
   "outputs": [
    {
     "name": "stdout",
     "output_type": "stream",
     "text": [
      "9\n",
      "8\n",
      "7\n"
     ]
    }
   ],
   "source": [
    "#복합연산자\n",
    "a = 10\n",
    "a -= 1\n",
    "print(a)\n",
    "a -= 1\n",
    "print(a)\n",
    "a -= 1\n",
    "print(a)"
   ]
  },
  {
   "cell_type": "code",
   "execution_count": 77,
   "id": "325209e6-c1c0-4949-84fb-90e52c60674b",
   "metadata": {},
   "outputs": [],
   "source": [
    "#복합연산자\n",
    "# +=, -=, *=, /=, //=, %=, **="
   ]
  },
  {
   "cell_type": "markdown",
   "id": "467295d5-b32d-4bf9-b66f-6b3cbfd1745e",
   "metadata": {},
   "source": [
    "## 문자열 자료형"
   ]
  },
  {
   "cell_type": "markdown",
   "id": "f1d89af0-e89d-498c-929a-277c1aa24b8f",
   "metadata": {},
   "source": [
    "### 문자열 연산하기"
   ]
  },
  {
   "cell_type": "code",
   "execution_count": 82,
   "id": "b195064c-b984-4936-b2ba-546129219e77",
   "metadata": {},
   "outputs": [
    {
     "name": "stdout",
     "output_type": "stream",
     "text": [
      "문자형입니다\n",
      "\n",
      "이것은 여러줄 문자열 처리입니다.\n",
      "\n",
      "\n",
      "이것도 여러 줄 문자열 입니다.\n",
      "\n"
     ]
    }
   ],
   "source": [
    "# 주석처리입니다.\n",
    "str1 = '문자형입니다'\n",
    "print(str1)\n",
    "str2 = '''\n",
    "이것은 여러줄 문자열 처리입니다.\n",
    "'''\n",
    "print(str2)\n",
    "str3 = \"\"\"\n",
    "이것도 여러 줄 문자열 입니다.\n",
    "\"\"\"\n",
    "print(str3)"
   ]
  },
  {
   "cell_type": "code",
   "execution_count": 86,
   "id": "bfa7025d-b5ef-4f16-be5c-9555f7100e12",
   "metadata": {},
   "outputs": [
    {
     "name": "stdout",
     "output_type": "stream",
     "text": [
      "Python's favorite food is perl\n"
     ]
    }
   ],
   "source": [
    "# food = \"Python's favorite food is perl\"\n",
    "food = 'Python\\'s favorite food is perl'\n",
    "print(food)"
   ]
  },
  {
   "cell_type": "code",
   "execution_count": 88,
   "id": "589bf096-ec3c-40e1-90a4-31fe3cfefa9d",
   "metadata": {},
   "outputs": [
    {
     "name": "stdout",
     "output_type": "stream",
     "text": [
      "Life is too short\n",
      "You need python\n"
     ]
    }
   ],
   "source": [
    "mutiline = \"Life is too short\\nYou need python\"\n",
    "print(mutiline)"
   ]
  },
  {
   "cell_type": "code",
   "execution_count": 89,
   "id": "07f16585-6e90-4fbd-8a76-75dec9663e10",
   "metadata": {},
   "outputs": [
    {
     "name": "stdout",
     "output_type": "stream",
     "text": [
      "\n",
      "Life is short\n",
      "You need python\n",
      "\n"
     ]
    }
   ],
   "source": [
    "multiline = '''\n",
    "Life is short\n",
    "You need python\n",
    "'''\n",
    "print(multiline)"
   ]
  },
  {
   "cell_type": "markdown",
   "id": "a6fac3f7-c648-42e3-9b2b-dac18b4ae02e",
   "metadata": {},
   "source": [
    "<table>\n",
    "<thead>\n",
    "<tr>\n",
    "<th>코드</th>\n",
    "<th>설명</th>\n",
    "</tr>\n",
    "</thead>\n",
    "<tbody>\n",
    "<tr>\n",
    "<td><code>\\n</code></td>\n",
    "<td>문자열 안에서 줄을 바꿀 때 사용</td>\n",
    "</tr>\n",
    "<tr>\n",
    "<td><code>\\t</code></td>\n",
    "<td>문자열 사이에 탭 간격을 줄 때 사용</td>\n",
    "</tr>\n",
    "<tr>\n",
    "<td><code>\\\\</code></td>\n",
    "<td><code>\\</code>를 그대로 표현할 때 사용</td>\n",
    "</tr>\n",
    "<tr>\n",
    "<td><code>\\'</code></td>\n",
    "<td>작은따옴표(')를 그대로 표현할 때 사용</td>\n",
    "</tr>\n",
    "<tr>\n",
    "<td><code>\\\"</code></td>\n",
    "<td>큰따옴표(\")를 그대로 표현할 때 사용</td>\n",
    "</tr>\n",
    "<tr>\n",
    "<td><code>\\r</code></td>\n",
    "<td>캐리지 리턴(줄 바꿈 문자, 커서를 현재 줄의 가장 앞으로 이동)</td>\n",
    "</tr>\n",
    "<tr>\n",
    "<td><code>\\f</code></td>\n",
    "<td>폼 피드(줄 바꿈 문자, 커서를 현재 줄의 다음 줄로 이동)</td>\n",
    "</tr>\n",
    "<tr>\n",
    "<td><code>\\a</code></td>\n",
    "<td>벨 소리(출력할 때 PC 스피커에서 '삑' 소리가 난다)</td>\n",
    "</tr>\n",
    "<tr>\n",
    "<td><code>\\b</code></td>\n",
    "<td>백 스페이스</td>\n",
    "</tr>\n",
    "<tr>\n",
    "<td><code>\\000</code></td>\n",
    "<td>널 문자</td>\n",
    "</tr>\n",
    "</tbody>\n",
    "</table>"
   ]
  },
  {
   "cell_type": "code",
   "execution_count": 90,
   "id": "3ae3b5a7-3a3d-418f-8c49-edcd33ba67cb",
   "metadata": {},
   "outputs": [
    {
     "name": "stdout",
     "output_type": "stream",
     "text": [
      "Python is fun!\n"
     ]
    }
   ],
   "source": [
    "# 문자열 연산하기\n",
    "head = \"Python\"\n",
    "tail = \" is fun!\"\n",
    "print(head + tail)"
   ]
  },
  {
   "cell_type": "code",
   "execution_count": 97,
   "id": "b7c26e3d-3235-413d-9fd4-2e24db750bf1",
   "metadata": {},
   "outputs": [
    {
     "name": "stdout",
     "output_type": "stream",
     "text": [
      "Python\n",
      "Python\n",
      "Python\n",
      "Python\n",
      "Python\n",
      "\n"
     ]
    }
   ],
   "source": [
    "a = \"Python\" + \"\\n\"\n",
    "print(a * 5)"
   ]
  },
  {
   "cell_type": "code",
   "execution_count": 123,
   "id": "994e8d9b-1be5-4d8a-811c-d534f1f7eb51",
   "metadata": {},
   "outputs": [
    {
     "name": "stdout",
     "output_type": "stream",
     "text": [
      "===============\n",
      "    영 수 증\n",
      "===============\n",
      "아메리카노:16500\n",
      "라떼:7200\n",
      "허브티:13200\n",
      "===============\n"
     ]
    }
   ],
   "source": [
    "p1 = 5500 * 3\n",
    "p2 = 7200 * 1\n",
    "p3 = 6600 * 2\n",
    "m1 = \"아메리카노:\" + str(p1) + \"\\n\" #문자랑 숫자는 더할 수 없다.\n",
    "m2 = \"라떼:\" + str(p2) + \"\\n\"\n",
    "m3 = \"허브티:\" + str(p3)\n",
    "title = \"    \" + \"영 수 증\" #문자와 문자는 더할 수 있다.\n",
    "print(\"=\" *15) # 문자랑 숫자는 곱할 수 있다.\n",
    "print(title)\n",
    "print(\"=\" *15)\n",
    "print(m1+m2+m3)\n",
    "print(\"=\" *15)"
   ]
  },
  {
   "cell_type": "code",
   "execution_count": 130,
   "id": "d7b311c7-22d3-4836-9e4e-eb0852033c2e",
   "metadata": {},
   "outputs": [
    {
     "name": "stdout",
     "output_type": "stream",
     "text": [
      "===============\n",
      "    영 수 증\n",
      "===============\n",
      "아메리카노:17100원\n",
      "라떼:7200원\n",
      "허브티:13200원\n",
      "===============\n",
      " 91\n"
     ]
    }
   ],
   "source": [
    "#숫자계산\n",
    "p1 = 5700 * 3\n",
    "p2 = 7200 * 1\n",
    "p3 = 6600 * 2\n",
    "\n",
    "#문자열계산\n",
    "m1 = \"아메리카노:\" + str(p1) + \"원\\n\" #문자랑 숫자는 더할 수 없다.\n",
    "m2 = \"라떼:\" + str(p2) + \"원\\n\"\n",
    "m3 = \"허브티:\" + str(p3) + \"원\"\n",
    "title = \"    \" + \"영 수 증\" #문자와 문자는 더할 수 있다.\n",
    "\n",
    "#출력 조합\n",
    "pp = ''\n",
    "pp += (\"=\" *15)+'\\n' # 문자랑 숫자는 곱할 수 있다.\n",
    "pp += (title)+'\\n'\n",
    "pp += (\"=\" *15)+'\\n'\n",
    "pp += (m1+m2+m3)+'\\n'\n",
    "pp += (\"=\" *15)+'\\n'\n",
    "\n",
    "#출력\n",
    "print(pp, len(pp))"
   ]
  },
  {
   "cell_type": "code",
   "execution_count": 131,
   "id": "4e7f1f21-5c05-4873-942e-facddfff505e",
   "metadata": {},
   "outputs": [
    {
     "name": "stdout",
     "output_type": "stream",
     "text": [
      "17\n"
     ]
    }
   ],
   "source": [
    "a = \"Life is too short\"\n",
    "print(len(a))"
   ]
  },
  {
   "cell_type": "markdown",
   "id": "618d2047-05e4-45e4-a23a-099e528a7afb",
   "metadata": {},
   "source": [
    "### 문자열 인덱싱과 슬라이싱"
   ]
  },
  {
   "cell_type": "code",
   "execution_count": 141,
   "id": "c9ae4e78-8464-4fa4-85bd-5ddeef33fcf2",
   "metadata": {},
   "outputs": [
    {
     "name": "stdout",
     "output_type": "stream",
     "text": [
      "Life\n",
      "L i f e\n"
     ]
    }
   ],
   "source": [
    "print(a[0]+a[1]+a[2]+a[3])\n",
    "print(a[0],a[1],a[2],a[3])"
   ]
  },
  {
   "cell_type": "code",
   "execution_count": 147,
   "id": "27593d72-f0dc-4997-ac9a-62cdd09d3865",
   "metadata": {},
   "outputs": [
    {
     "name": "stdout",
     "output_type": "stream",
     "text": [
      "t o o\n"
     ]
    }
   ],
   "source": [
    "#too 출력하기\n",
    "print(a[8],a[9],a[10])"
   ]
  },
  {
   "cell_type": "code",
   "execution_count": 143,
   "id": "817739c0-97f5-4b23-953e-9839a81c62d1",
   "metadata": {},
   "outputs": [
    {
     "name": "stdout",
     "output_type": "stream",
     "text": [
      "t r\n"
     ]
    }
   ],
   "source": [
    "print(a[-1],a[-2])"
   ]
  },
  {
   "cell_type": "code",
   "execution_count": 149,
   "id": "b2ea2754-c28f-4909-b359-bc145205742e",
   "metadata": {},
   "outputs": [
    {
     "name": "stdout",
     "output_type": "stream",
     "text": [
      "too\n",
      "need\n"
     ]
    }
   ],
   "source": [
    "a = 'Life is too short, You need Python'\n",
    "#too 출력하기\n",
    "print(a[8:11]) #8 <= a < 11\n",
    "print(a[23:27])"
   ]
  },
  {
   "cell_type": "code",
   "execution_count": 152,
   "id": "a3b238b2-5738-43e1-9eab-86a9fe8ab3c8",
   "metadata": {},
   "outputs": [
    {
     "name": "stdout",
     "output_type": "stream",
     "text": [
      "Life is too short, You need\n"
     ]
    }
   ],
   "source": [
    "print(a[:27])"
   ]
  },
  {
   "cell_type": "code",
   "execution_count": 153,
   "id": "8c35b5d7-ca03-4a9a-9462-85f70ec1a777",
   "metadata": {},
   "outputs": [
    {
     "name": "stdout",
     "output_type": "stream",
     "text": [
      "Python\n"
     ]
    }
   ],
   "source": [
    "print(a[28:])"
   ]
  },
  {
   "cell_type": "code",
   "execution_count": 161,
   "id": "e1daad3b-2405-4fa3-832a-259fe1b72249",
   "metadata": {},
   "outputs": [
    {
     "name": "stdout",
     "output_type": "stream",
     "text": [
      "nohtyP deen uoY ,trohs oot si efiL\n"
     ]
    }
   ],
   "source": [
    "print(a[::-1])"
   ]
  },
  {
   "cell_type": "code",
   "execution_count": 168,
   "id": "91e9bd94-6a8d-41d2-a229-0775ff100a49",
   "metadata": {},
   "outputs": [
    {
     "name": "stdout",
     "output_type": "stream",
     "text": [
      "20250203\n",
      "오늘은화창하다\n"
     ]
    }
   ],
   "source": [
    "today = \"20250203오늘은화창하다\"\n",
    "date = today[:8]\n",
    "weather = today[8:]\n",
    "print(date+ \"\\n\" + weather)"
   ]
  },
  {
   "cell_type": "code",
   "execution_count": 186,
   "id": "33119720-39e2-4ce3-82d3-1952c03d5043",
   "metadata": {},
   "outputs": [
    {
     "name": "stdout",
     "output_type": "stream",
     "text": [
      "2025년 2월 3일 오늘은 화창하다!\n"
     ]
    }
   ],
   "source": [
    "today = \"20250203오늘은화창하다\"\n",
    "year = today[:4]\n",
    "month = today[5:6]\n",
    "day = today[7:8]\n",
    "weather1 = today[8:11]\n",
    "weather2 = today[11:]\n",
    "print(year+\"년 \"+month+\"월 \"+day+\"일 \"+weather1+\" \"+weather2+\"!\")"
   ]
  },
  {
   "cell_type": "code",
   "execution_count": 200,
   "id": "c6d7723a-5321-4af2-8370-c0bab13a48d4",
   "metadata": {},
   "outputs": [
    {
     "name": "stdout",
     "output_type": "stream",
     "text": [
      "한국서 돈벌고 '나 몰라라' 코스트코… 연회비 인상률은 미국의 2배\n"
     ]
    }
   ],
   "source": [
    "import requests\n",
    "url = 'https://v.daum.net/v/20250203151815463'\n",
    "res = requests.get(url).text\n",
    "print(res[374:411])"
   ]
  },
  {
   "cell_type": "code",
   "execution_count": 209,
   "id": "36b6d24c-75e2-4fad-9b90-7fa7d4fc838e",
   "metadata": {},
   "outputs": [
    {
     "name": "stdout",
     "output_type": "stream",
     "text": [
      "한국서 돈벌고 '나 몰라라' 코스트코… 연회비 인상률은 미국의 3배\n"
     ]
    }
   ],
   "source": [
    "import requests\n",
    "url = 'https://v.daum.net/v/20250203151815463'\n",
    "res = requests.get(url).text\n",
    "print(res[374:409]+\"3\"+res[410:411])"
   ]
  },
  {
   "cell_type": "code",
   "execution_count": 4,
   "id": "9a4b5151-fe0b-4aac-8869-a5d4385537f4",
   "metadata": {},
   "outputs": [
    {
     "name": "stdout",
     "output_type": "stream",
     "text": [
      "한국서 돈벌고 '나 몰라라' 코스트코… 연회비 인상률은 미국의 3배\n"
     ]
    }
   ],
   "source": [
    "import requests\n",
    "url = 'https://v.daum.net/v/20250203151815463'\n",
    "res = requests.get(url).text\n",
    "result = res[374:411]\n",
    "out = result[:-2] + '3' + result[-1]\n",
    "print(out)"
   ]
  },
  {
   "cell_type": "code",
   "execution_count": 236,
   "id": "d41b2f95-9293-426a-9913-0f8a1b0da857",
   "metadata": {},
   "outputs": [
    {
     "name": "stdout",
     "output_type": "stream",
     "text": [
      "지수의 톡쏘는 일상 : 네이버 블로그\n"
     ]
    }
   ],
   "source": [
    "import requests\n",
    "url = 'https://blog.naver.com/droad777' \n",
    "res = requests.get(url).text\n",
    "result = res[895:915]\n",
    "out = '지수' + result[2:]\n",
    "print(out)"
   ]
  },
  {
   "cell_type": "code",
   "execution_count": null,
   "id": "13efdc76-503e-4c96-8c98-e952271d5cbb",
   "metadata": {},
   "outputs": [],
   "source": [
    "# p62"
   ]
  },
  {
   "cell_type": "markdown",
   "id": "d59dee7e-8065-494d-8695-880a9a6bfeef",
   "metadata": {},
   "source": [
    "### 문자열 포매팅"
   ]
  },
  {
   "cell_type": "code",
   "execution_count": 12,
   "id": "9c5fcfa8-e09b-4ea6-86ed-7ebf23a8ed15",
   "metadata": {},
   "outputs": [
    {
     "name": "stdout",
     "output_type": "stream",
     "text": [
      "I eat 3 apples.\n",
      "I eat 12 apples.\n",
      "I eat five apples.\n"
     ]
    }
   ],
   "source": [
    "print(\"I eat 3 apples.\")\n",
    "print(\"I eat %d apples.\" %12)\n",
    "print(\"I eat %s apples.\" %\"five\")"
   ]
  },
  {
   "cell_type": "markdown",
   "id": "926a121d-7f40-4365-94ef-b2df9cac3517",
   "metadata": {},
   "source": [
    "<table>\n",
    "<thead>\n",
    "<tr>\n",
    "<th>코드</th>\n",
    "<th>설명</th>\n",
    "</tr>\n",
    "</thead>\n",
    "<tbody>\n",
    "<tr>\n",
    "<td>%s</td>\n",
    "<td>문자열(String)</td>\n",
    "</tr>\n",
    "<tr>\n",
    "<td>%c</td>\n",
    "<td>문자 1개(character)</td>\n",
    "</tr>\n",
    "<tr>\n",
    "<td>%d</td>\n",
    "<td>정수(Integer)</td>\n",
    "</tr>\n",
    "<tr>\n",
    "<td>%f</td>\n",
    "<td>부동소수(floating-point)</td>\n",
    "</tr>\n",
    "<tr>\n",
    "<td>%o</td>\n",
    "<td>8진수</td>\n",
    "</tr>\n",
    "<tr>\n",
    "<td>%x</td>\n",
    "<td>16진수</td>\n",
    "</tr>\n",
    "<tr>\n",
    "<td>%%</td>\n",
    "<td>Literal % (문자 <code>%</code> 자체)</td>\n",
    "</tr>\n",
    "</tbody>\n",
    "</table>"
   ]
  },
  {
   "cell_type": "code",
   "execution_count": 32,
   "id": "468278b6-e9ec-4689-b071-a4aa871a1a56",
   "metadata": {},
   "outputs": [
    {
     "name": "stdout",
     "output_type": "stream",
     "text": [
      "사람 몸의 수분은 60% 이다\n"
     ]
    }
   ],
   "source": [
    "print(\"사람 몸의 수분은 %d%% 이다\" %60) "
   ]
  },
  {
   "cell_type": "code",
   "execution_count": 27,
   "id": "27481f2d-9bea-474c-a98e-d3d9565438af",
   "metadata": {},
   "outputs": [
    {
     "name": "stdout",
     "output_type": "stream",
     "text": [
      "십진수로 123은 16진수로 7b이다\n",
      "십진수로 123은 8진수로 173이다\n"
     ]
    }
   ],
   "source": [
    "print(\"십진수로 %d은 16진수로 %x이다\" %(123, 123))\n",
    "print(\"십진수로 %d은 8진수로 %o이다\" %(123, 123))"
   ]
  },
  {
   "cell_type": "code",
   "execution_count": 30,
   "id": "54cafd74-2cb5-401a-9dfa-dade4130f678",
   "metadata": {},
   "outputs": [
    {
     "name": "stdout",
     "output_type": "stream",
     "text": [
      "십진수로 456은 16진수로 1c8이다 십진수로 456은 8진수로 710이다\n"
     ]
    }
   ],
   "source": [
    "print((\"십진수로 %d은 16진수로 %x이다\" %(456, 456)),(\"십진수로 %d은 8진수로 %o이다\" %(456, 456)))"
   ]
  },
  {
   "cell_type": "code",
   "execution_count": 40,
   "id": "abdb3eca-6a14-4f14-99d1-a94c97b96ac5",
   "metadata": {},
   "outputs": [
    {
     "name": "stdout",
     "output_type": "stream",
     "text": [
      "        hi\n"
     ]
    }
   ],
   "source": [
    "# 정렬과 공백 (오른쪽 정렬)\n",
    "print(\"%10s\" % \"hi\")"
   ]
  },
  {
   "attachments": {
    "3368adde-5819-4730-830d-efc279c52e85.png": {
     "image/png": "[encoded data removed]"
    }
   },
   "cell_type": "markdown",
   "id": "4befd915-70f5-4b50-b8a0-b4864c253c3c",
   "metadata": {},
   "source": [
    "<img src=\"attachment:3368adde-5819-4730-830d-efc279c52e85.png\" width=400>"
   ]
  },
  {
   "cell_type": "code",
   "execution_count": 43,
   "id": "3fac21a4-1b73-445e-9344-5f530ad6fc3d",
   "metadata": {},
   "outputs": [
    {
     "name": "stdout",
     "output_type": "stream",
     "text": [
      "hi        jane\n"
     ]
    }
   ],
   "source": [
    "# 정렬과 공백 (음수일 때 왼쪽 정렬)\n",
    "print(\"%-10sjane\" % \"hi\")"
   ]
  },
  {
   "attachments": {
    "46e49468-4123-4679-ba85-7826d3caaddc.png": {
     "image/png": "[encoded data removed]"
    }
   },
   "cell_type": "markdown",
   "id": "a355ba13-dda2-4ad6-94a6-88ea0d096e65",
   "metadata": {},
   "source": [
    "<img src=\"attachment:46e49468-4123-4679-ba85-7826d3caaddc.png\" width=400>"
   ]
  },
  {
   "cell_type": "code",
   "execution_count": 53,
   "id": "92fbd0d4-5bfc-494e-810e-9ffa11e84cb6",
   "metadata": {},
   "outputs": [
    {
     "name": "stdout",
     "output_type": "stream",
     "text": [
      "3.1416\n",
      "3.1416\n",
      "    3.1416\n"
     ]
    }
   ],
   "source": [
    "# 소수점 표현하기\n",
    "print(\"%.4f\" %3.141592)\n",
    "print(\"%0.4f\" %3.141592)\n",
    "print(\"%10.4f\" %3.141592) #.도 자리를 차지함"
   ]
  },
  {
   "attachments": {
    "066569ee-21c9-4468-8bd2-1b99e22d4df5.png": {
     "image/png": "[encoded data removed]"
    }
   },
   "cell_type": "markdown",
   "id": "555a66fe-1acf-4ccc-a44a-cc7daa69b416",
   "metadata": {},
   "source": [
    "<img src=\"attachment:066569ee-21c9-4468-8bd2-1b99e22d4df5.png\" width=400>"
   ]
  },
  {
   "cell_type": "markdown",
   "id": "c43ffb10-40bd-4e5f-8c30-86d1708386e1",
   "metadata": {},
   "source": [
    "### format 함수를 사용한 포매팅"
   ]
  },
  {
   "cell_type": "code",
   "execution_count": 64,
   "id": "772b0bd3-78e4-4a5a-bb2c-171d415398aa",
   "metadata": {},
   "outputs": [
    {
     "name": "stdout",
     "output_type": "stream",
     "text": [
      "I eat 3 of 10 apples\n"
     ]
    }
   ],
   "source": [
    "# 바로 대입하기\n",
    "print(\"I eat {0} of {1} apples\".format(3,10)) # print(표현할 값.format()), .은 내부에 라는 뜻"
   ]
  },
  {
   "cell_type": "code",
   "execution_count": 65,
   "id": "33c6b771-3350-46a6-9137-e5c9a914aa29",
   "metadata": {},
   "outputs": [
    {
     "name": "stdout",
     "output_type": "stream",
     "text": [
      "I eat three of 10 apples\n"
     ]
    }
   ],
   "source": [
    "# 변수로 대입하기\n",
    "total = 10\n",
    "ea = \"three\"\n",
    "print(\"I eat {0} of {1} apples\".format(ea,total))"
   ]
  },
  {
   "cell_type": "code",
   "execution_count": 63,
   "id": "66de8538-871e-4abc-8755-eaf95b6a25e7",
   "metadata": {},
   "outputs": [
    {
     "name": "stdout",
     "output_type": "stream",
     "text": [
      "I eat three of 10 apples\n"
     ]
    }
   ],
   "source": [
    "print(\"I eat {ea} of {total} apples\".format(ea=\"three\",total=10))"
   ]
  },
  {
   "cell_type": "code",
   "execution_count": 67,
   "id": "0beba1db-70d7-4242-a06f-44a4b6f794d1",
   "metadata": {},
   "outputs": [
    {
     "name": "stdout",
     "output_type": "stream",
     "text": [
      "I ate 10 apples. so I was sick 3 days\n"
     ]
    }
   ],
   "source": [
    "# 인덱스와 이름을 혼용해서 넣기\n",
    "print(\"I ate {0} apples. so I was sick {day} days\".format(10, day=3))"
   ]
  },
  {
   "cell_type": "code",
   "execution_count": 76,
   "id": "9456c0e9-7cb2-4dfd-a3cb-f8b7af312c88",
   "metadata": {},
   "outputs": [
    {
     "name": "stdout",
     "output_type": "stream",
     "text": [
      "        hi\n"
     ]
    }
   ],
   "source": [
    "# 우측 정렬\n",
    "print(\"{0:>10}\".format(\"hi\"))"
   ]
  },
  {
   "cell_type": "code",
   "execution_count": 74,
   "id": "c438539b-1102-463c-9186-0b25a8877700",
   "metadata": {},
   "outputs": [
    {
     "name": "stdout",
     "output_type": "stream",
     "text": [
      "    hi    \n"
     ]
    }
   ],
   "source": [
    "#가운데 정렬\n",
    "print(\"{0:^10}\".format(\"hi\")) "
   ]
  },
  {
   "cell_type": "code",
   "execution_count": 75,
   "id": "f3ce85d1-28f9-49f3-b957-3e47f4fbd1c2",
   "metadata": {},
   "outputs": [
    {
     "name": "stdout",
     "output_type": "stream",
     "text": [
      "hi        \n"
     ]
    }
   ],
   "source": [
    "# 좌측 정렬\n",
    "print(\"{0:<10}\".format(\"hi\"))"
   ]
  },
  {
   "cell_type": "code",
   "execution_count": 80,
   "id": "7e5d3f1b-d7ab-4b5c-bbff-45232c9ffbd0",
   "metadata": {},
   "outputs": [
    {
     "name": "stdout",
     "output_type": "stream",
     "text": [
      "ㅋㅋㅋㅋㅋㅋㅋㅋ웃겨!ㅋㅋㅋㅋㅋㅋㅋㅋㅋ\n"
     ]
    }
   ],
   "source": [
    "#가운데 정렬 + (여백에)글자 채우기\n",
    "print(\"{0:ㅋ^20}\".format(\"웃겨!\")) "
   ]
  },
  {
   "cell_type": "code",
   "execution_count": 88,
   "id": "0756ce4b-6320-4978-ab1b-90c3ef75021b",
   "metadata": {},
   "outputs": [
    {
     "name": "stdout",
     "output_type": "stream",
     "text": [
      "              3.1416\n"
     ]
    }
   ],
   "source": [
    "# 소수점 표현하기\n",
    "pi = 3.141592\n",
    "print(\"{0:20.4f}\".format(pi)) #20은 공백량"
   ]
  },
  {
   "cell_type": "code",
   "execution_count": 91,
   "id": "3ab9bda8-1063-4021-bf32-6dbe3d3df2a3",
   "metadata": {},
   "outputs": [
    {
     "name": "stdout",
     "output_type": "stream",
     "text": [
      "중괄호 는 { 과 }입니다.\n"
     ]
    }
   ],
   "source": [
    "# 이스케이프 처리\n",
    "print(\"{0} 는 {{ 과 }}입니다.\".format(\"중괄호\"))"
   ]
  },
  {
   "cell_type": "code",
   "execution_count": 122,
   "id": "d8fee700-f93b-4695-8b5c-81086bf0825b",
   "metadata": {},
   "outputs": [
    {
     "name": "stdout",
     "output_type": "stream",
     "text": [
      "1111011\n"
     ]
    }
   ],
   "source": [
    "# 2진수 처리\n",
    "print(\"{0:>b}\".format(123)) #{0:b}도 오케이"
   ]
  },
  {
   "cell_type": "code",
   "execution_count": 119,
   "id": "00a0f53d-52e7-4702-b338-85f148a453bd",
   "metadata": {},
   "outputs": [
    {
     "name": "stdout",
     "output_type": "stream",
     "text": [
      "01111011\n"
     ]
    }
   ],
   "source": [
    "# 출력하라 0111 1011\n",
    "# 2진수 처리\n",
    "print(\"{0:0>8b}\".format(123))"
   ]
  },
  {
   "cell_type": "markdown",
   "id": "2336c450-a40f-424f-a2af-06c324f529d5",
   "metadata": {},
   "source": [
    "### f문자열 포매팅"
   ]
  },
  {
   "cell_type": "code",
   "execution_count": 126,
   "id": "185173cb-14dd-44f5-8d16-ab92e7fc7303",
   "metadata": {},
   "outputs": [
    {
     "name": "stdout",
     "output_type": "stream",
     "text": [
      "나의 이름은 윤지수입니다. 나이는 26입니다.\n",
      "내년이면 27살이 됩니다.\n"
     ]
    }
   ],
   "source": [
    "# \"\".format() -> f\" \"\n",
    "name = \"윤지수\"\n",
    "age = 26\n",
    "print(f\"나의 이름은 {name}입니다. 나이는 {age}입니다.\")\n",
    "print(f\"내년이면 {age + 1}살이 됩니다.\")"
   ]
  },
  {
   "cell_type": "code",
   "execution_count": 137,
   "id": "15fdc83c-d99f-428f-b7c7-ebde1c013b51",
   "metadata": {},
   "outputs": [
    {
     "name": "stdout",
     "output_type": "stream",
     "text": [
      "나의 이름은 홍길동 입니다. 나이는 30 입니다. 성별은 male 입니다.\n"
     ]
    }
   ],
   "source": [
    "d = {'name':'홍길동','age':30,'gen':'male'}\n",
    "print(f'나의 이름은 {d[\"name\"]} 입니다. 나이는 {d[\"age\"]} 입니다. 성별은 {d[\"gen\"]} 입니다.')"
   ]
  },
  {
   "cell_type": "code",
   "execution_count": 135,
   "id": "05f85d29-c83c-4db3-8afc-20039658cddf",
   "metadata": {},
   "outputs": [
    {
     "name": "stdout",
     "output_type": "stream",
     "text": [
      "hi        \n",
      "        hi\n",
      "    hi    \n"
     ]
    }
   ],
   "source": [
    "# 왼쪽 정렬\n",
    "print(f'{\"hi\":<10}')\n",
    "# 오른쪽 정렬\n",
    "print(f'{\"hi\":>10}')\n",
    "# 가운데 정렬\n",
    "print(f'{\"hi\":^10}')"
   ]
  },
  {
   "cell_type": "code",
   "execution_count": 140,
   "id": "a54ec91f-e012-41be-b92f-ea538af2128c",
   "metadata": {},
   "outputs": [
    {
     "name": "stdout",
     "output_type": "stream",
     "text": [
      "====hi====\n",
      "hi!!!!!!!!\n"
     ]
    }
   ],
   "source": [
    "# 공백 채우기\n",
    "print(f'{\"hi\":=^10}')\n",
    "print(f'{\"hi\":!<10}')"
   ]
  },
  {
   "cell_type": "code",
   "execution_count": 142,
   "id": "1130dbcf-6289-4846-85b4-6066ef6cb7f0",
   "metadata": {},
   "outputs": [
    {
     "name": "stdout",
     "output_type": "stream",
     "text": [
      "3.4213\n",
      "    3.4213\n"
     ]
    }
   ],
   "source": [
    "# 소수점 표현\n",
    "y = 3.42134234\n",
    "print(f'{y:0.4f}')\n",
    "print(f'{y:10.4f}')"
   ]
  },
  {
   "cell_type": "code",
   "execution_count": 1,
   "id": "975fa867-9d79-4167-90b1-244b1e4134e6",
   "metadata": {},
   "outputs": [
    {
     "name": "stdout",
     "output_type": "stream",
     "text": [
      "{ and }\n"
     ]
    }
   ],
   "source": [
    "# f문자열에서 {}를 문자 그대로 표현하기 \n",
    "print(f'{{ and }}')"
   ]
  },
  {
   "cell_type": "markdown",
   "id": "4b318cdf-fd4b-4802-bb62-89d8f31e439a",
   "metadata": {},
   "source": [
    "### 문자열 관련 함수들"
   ]
  },
  {
   "cell_type": "code",
   "execution_count": 7,
   "id": "0020083b-18e1-4d8c-beca-2fbdee1b00d8",
   "metadata": {},
   "outputs": [
    {
     "data": {
      "text/plain": [
       "2"
      ]
     },
     "execution_count": 7,
     "metadata": {},
     "output_type": "execute_result"
    }
   ],
   "source": [
    "# 문제 개수 세기 count\n",
    "\"hobby\".count('b')"
   ]
  },
  {
   "cell_type": "code",
   "execution_count": 6,
   "id": "33bbc5e4-1b69-46fc-8b2c-f4f8f8f92539",
   "metadata": {},
   "outputs": [
    {
     "name": "stdout",
     "output_type": "stream",
     "text": [
      "한국서 돈벌고 '나 몰라라' 코스트코… 연회비 인상률은 미국의 3배\n",
      "1\n"
     ]
    }
   ],
   "source": [
    "import requests\n",
    "url = 'https://v.daum.net/v/20250203151815463'\n",
    "res = requests.get(url).text\n",
    "result = res[374:411]\n",
    "out = result[:-2] + '3' + result[-1]\n",
    "print(out)\n",
    "print(out.count('한국'))"
   ]
  },
  {
   "cell_type": "code",
   "execution_count": 12,
   "id": "912df2db-aeaf-482b-82d0-6da44252d952",
   "metadata": {},
   "outputs": [
    {
     "name": "stdout",
     "output_type": "stream",
     "text": [
      "한국서 돈벌고 '나 몰라라' 코스트코… 연회비 인상률은 미국의 3배\n"
     ]
    },
    {
     "data": {
      "text/plain": [
       "-1"
      ]
     },
     "execution_count": 12,
     "metadata": {},
     "output_type": "execute_result"
    }
   ],
   "source": [
    "# 위치 알려주기1 find\n",
    "print(out)\n",
    "out.find('밥') # -1이 나오면 해당하는 값이 없는 것"
   ]
  },
  {
   "cell_type": "code",
   "execution_count": 13,
   "id": "01ac9c09-731f-45de-83c4-69870e893018",
   "metadata": {},
   "outputs": [
    {
     "name": "stdout",
     "output_type": "stream",
     "text": [
      "374\n"
     ]
    }
   ],
   "source": [
    "import requests\n",
    "url = 'https://v.daum.net/v/20250203151815463'\n",
    "res = requests.get(url).text\n",
    "print(res.find('한'))"
   ]
  },
  {
   "cell_type": "code",
   "execution_count": 29,
   "id": "3e6df443-d9a7-418c-8aba-3a96cba67801",
   "metadata": {},
   "outputs": [
    {
     "name": "stdout",
     "output_type": "stream",
     "text": [
      "41529\n",
      "좋아하는 노래제목: toxic till the end\n"
     ]
    }
   ],
   "source": [
    "import requests\n",
    "url = 'https://music.apple.com/kr/playlist/%EC%98%A4%EB%8A%98%EC%9D%98-top-100-%EB%8C%80%ED%95%9C%EB%AF%BC%EA%B5%AD/pl.d3d10c32fbc540b38e266367dc8cb00c' \n",
    "res = requests.get(url).text\n",
    "# print(res.text)\n",
    "print(res.find('toxic till the end'))\n",
    "# print(res.index('toxi till the end')) # 없으면 오류 발생\n",
    "print('좋아하는 노래제목:',res[41529:41547])"
   ]
  },
  {
   "cell_type": "code",
   "execution_count": null,
   "id": "64e5e463-ac42-4fdd-91b1-2aa396ca353d",
   "metadata": {},
   "outputs": [],
   "source": [
    "dir(str)"
   ]
  },
  {
   "cell_type": "code",
   "execution_count": 67,
   "id": "dfe1a15d-64d4-4e80-8539-ae67918c1418",
   "metadata": {},
   "outputs": [
    {
     "name": "stdout",
     "output_type": "stream",
     "text": [
      "a,b,c,d,e,f,g\n"
     ]
    }
   ],
   "source": [
    "# 문자열 삽입 join *\n",
    "# 리스트(배열), 튜플을 문자열로\n",
    "print(\",\".join('abcdefg'))"
   ]
  },
  {
   "cell_type": "code",
   "execution_count": 34,
   "id": "c8016220-8613-42e8-a615-d97596013efe",
   "metadata": {},
   "outputs": [
    {
     "data": {
      "text/plain": [
       "'a,b,c,d'"
      ]
     },
     "execution_count": 34,
     "metadata": {},
     "output_type": "execute_result"
    }
   ],
   "source": [
    "\",\".join(['a','b','c','d'])"
   ]
  },
  {
   "cell_type": "code",
   "execution_count": 37,
   "id": "972a7fd1-0f4f-47b3-82ab-5b0a875cbe1e",
   "metadata": {},
   "outputs": [
    {
     "name": "stdout",
     "output_type": "stream",
     "text": [
      "HI\n"
     ]
    }
   ],
   "source": [
    "# 소문자를 대문자로 바꾸기 upper\n",
    "a = \"hi\"\n",
    "print(a.upper())"
   ]
  },
  {
   "cell_type": "code",
   "execution_count": 38,
   "id": "c5ce59bf-4c76-4bb9-b4d1-7db8d0c223a0",
   "metadata": {},
   "outputs": [
    {
     "name": "stdout",
     "output_type": "stream",
     "text": [
      "hi\n"
     ]
    }
   ],
   "source": [
    "# 대문자를 소문자로 바꾸기 lower\n",
    "a = \"HI\"\n",
    "print(a.lower())"
   ]
  },
  {
   "cell_type": "code",
   "execution_count": 47,
   "id": "c0185f17-5397-4e7e-9f7c-0e83891c60da",
   "metadata": {},
   "outputs": [
    {
     "name": "stdout",
     "output_type": "stream",
     "text": [
      "Life is Egg\n",
      "LIFE IS EGG\n",
      "life is egg\n"
     ]
    }
   ],
   "source": [
    "# 연습\n",
    "v = \"Life is Egg\"\n",
    "big = v.upper()\n",
    "small = v.lower()\n",
    "print(v) #원본은 안 바뀜, 손상 안됨(원본 파괴하는 애도 있음)\n",
    "print(big)\n",
    "print(small)"
   ]
  },
  {
   "cell_type": "code",
   "execution_count": 56,
   "id": "fd60b81b-d1a2-4c2a-8484-f017ac3f38fe",
   "metadata": {},
   "outputs": [
    {
     "name": "stdout",
     "output_type": "stream",
     "text": [
      "  !   hi  !  \n",
      "!   hi  !  \n",
      "  !   hi  !\n",
      "!   hi  !\n"
     ]
    }
   ],
   "source": [
    "a = \"  !   hi  !  \"\n",
    "aa =a.lstrip()\n",
    "bb =a.rstrip()\n",
    "cc =a.strip()\n",
    "print(a)\n",
    "print(aa)\n",
    "print(bb)\n",
    "print(cc)"
   ]
  },
  {
   "cell_type": "code",
   "execution_count": 55,
   "id": "75fdec35-77e8-401a-8e66-1ef671f7aa29",
   "metadata": {},
   "outputs": [
    {
     "name": "stdout",
     "output_type": "stream",
     "text": [
      "         hi         \n",
      "hi         \n",
      "         hi\n",
      "hi\n"
     ]
    }
   ],
   "source": [
    "f = f\"{'hi':^20}\"\n",
    "f1 = f.lstrip()\n",
    "f2 = f.rstrip()\n",
    "f3 = f.strip()\n",
    "print(f)\n",
    "print(f1)\n",
    "print(f2)\n",
    "print(f3)"
   ]
  },
  {
   "cell_type": "code",
   "execution_count": 58,
   "id": "eeded1b4-5659-40ef-9735-8c7ac9f251eb",
   "metadata": {},
   "outputs": [
    {
     "name": "stdout",
     "output_type": "stream",
     "text": [
      "Life is  Egg\n",
      "Life is  Beautiful\n"
     ]
    }
   ],
   "source": [
    "# 문자열 바꾸기 replace **\n",
    "a = \"Life is  Egg\"\n",
    "c = a.replace(\"Egg\",\"Beautiful\") #여기서 c대신 a로 쓰면 덮어쓰는거\n",
    "print(a)\n",
    "print(c)\n",
    "\n",
    "# \"Life is  Egg\".replace().sum()"
   ]
  },
  {
   "cell_type": "code",
   "execution_count": 63,
   "id": "43e0d7a8-bed8-44bb-91fb-7926714c29e6",
   "metadata": {},
   "outputs": [
    {
     "name": "stdout",
     "output_type": "stream",
     "text": [
      "['Life', 'is', 'Egg']\n"
     ]
    }
   ],
   "source": [
    "# 문자열 나누기 split * \n",
    "# 문자열을 배열로  \n",
    "a = \"Life-is-Egg\"\n",
    "aa = a.split('-')\n",
    "print(aa)"
   ]
  },
  {
   "cell_type": "code",
   "execution_count": 72,
   "id": "7ca2d019-6df8-4a2b-bf74-095f73114ba1",
   "metadata": {},
   "outputs": [
    {
     "name": "stdout",
     "output_type": "stream",
     "text": [
      "['abcdefghi']\n",
      "a=b=c=d=e=f=g=h=i\n",
      "['a', 'b', 'c', 'd', 'e', 'f', 'g', 'h', 'i']\n",
      "abcdefghi\n"
     ]
    }
   ],
   "source": [
    "# 연습(복습하기)\n",
    "ex = \"abcdefghi\"\n",
    "ex2 = ex.split()\n",
    "print(ex2)\n",
    "ex_join = \"=\".join(ex)\n",
    "print(ex_join)\n",
    "ex_split = ex_join.split(\"=\")\n",
    "print(ex_split)\n",
    "ex_replace = ex_join.replace(\"=\",\"\")\n",
    "print(ex_replace)"
   ]
  },
  {
   "cell_type": "code",
   "execution_count": null,
   "id": "ef4b5ffd-0932-4b3c-b338-9d60fddb686f",
   "metadata": {},
   "outputs": [],
   "source": []
  }
 ],
 "metadata": {
  "kernelspec": {
   "display_name": "Python 3 (ipykernel)",
   "language": "python",
   "name": "python3"
  },
  "language_info": {
   "codemirror_mode": {
    "name": "ipython",
    "version": 3
   },
   "file_extension": ".py",
   "mimetype": "text/x-python",
   "name": "python",
   "nbconvert_exporter": "python",
   "pygments_lexer": "ipython3",
   "version": "3.13.1"
  }
 },
 "nbformat": 4,
 "nbformat_minor": 5
}
