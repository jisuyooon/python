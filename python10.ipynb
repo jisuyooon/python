{
 "cells": [
  {
   "cell_type": "code",
   "execution_count": null,
   "metadata": {
    "id": "yvFQqqfvgN5d"
   },
   "outputs": [],
   "source": [
    "# with open('./drive/MyDrive/ReadME.md','w') as f:\n",
    "#     data = f.write('*반가워요.')\n",
    "#     print(\"저장되었습니다.\")\n",
    "# !pwd"
   ]
  },
  {
   "cell_type": "markdown",
   "metadata": {
    "id": "42QWrR_Niol3"
   },
   "source": [
    "# 넘파이 (numpy)"
   ]
  },
  {
   "cell_type": "markdown",
   "metadata": {
    "id": "ntdMM7T-jZHf"
   },
   "source": [
    "- ndim : 축의 개수\n",
    "- shape : 배열의 차원정보\n",
    "- size : 배열안에 있는 원소의 총 개수\n",
    "- dtype : 배열 원소의 자료형"
   ]
  },
  {
   "cell_type": "markdown",
   "metadata": {
    "id": "KC3pb756uMpQ"
   },
   "source": [
    "## 1차원과 속성들"
   ]
  },
  {
   "cell_type": "code",
   "execution_count": 6,
   "metadata": {
    "colab": {
     "base_uri": "https://localhost:8080/"
    },
    "id": "carhnSMRhpHx",
    "outputId": "fcdc81be-8fc4-495d-e0bf-e1a897d9ebf6"
   },
   "outputs": [
    {
     "name": "stdout",
     "output_type": "stream",
     "text": [
      "[0 1 2 3 4] <class 'numpy.ndarray'>\n",
      "1\n",
      "(5,)\n",
      "5\n",
      "int64\n",
      "3\n",
      "[2 3]\n"
     ]
    }
   ],
   "source": [
    "# pip install numpy\n",
    "import numpy as np\n",
    "narry = np.array(range(5))\n",
    "print(narry,type(narry))\n",
    "print(narry.ndim)\n",
    "print(narry.shape)\n",
    "print(narry.size)\n",
    "print(narry.dtype)\n",
    "print(narry[3])\n",
    "print(narry[2:4]) # <= x <"
   ]
  },
  {
   "cell_type": "code",
   "execution_count": 7,
   "metadata": {
    "colab": {
     "base_uri": "https://localhost:8080/"
    },
    "id": "CdWARPWdjPCg",
    "outputId": "9e9eca24-7dca-4083-cf53-91e3180a9b00"
   },
   "outputs": [
    {
     "name": "stdout",
     "output_type": "stream",
     "text": [
      "[1 2 3 4] int64\n",
      "['1' '2' 'a' 'b'] <U21\n",
      "['1' '2' '3' '4'] <U1\n"
     ]
    }
   ],
   "source": [
    "narr1 = np.array ([1,2,3,4])\n",
    "narr2 = np.array ([1,2,'a','b'])\n",
    "narr3 = np.array ([1,2,3,4],dtype='str')\n",
    "print(narr1,narr1.dtype)\n",
    "print(narr2,narr2.dtype)\n",
    "print(narr3,narr3.dtype)"
   ]
  },
  {
   "cell_type": "code",
   "execution_count": 8,
   "metadata": {
    "colab": {
     "base_uri": "https://localhost:8080/"
    },
    "id": "0M7LXlsKp1z2",
    "outputId": "15aa032f-fc07-42e8-d02e-5262504ee545"
   },
   "outputs": [
    {
     "name": "stdout",
     "output_type": "stream",
     "text": [
      "[[0 0]\n",
      " [0 0]] 2 int64 (2, 2) 4 <class 'numpy.ndarray'>\n",
      "[[1. 1.]\n",
      " [1. 1.]] 2 float64 (2, 2) 4 <class 'numpy.ndarray'>\n",
      "[[3 3 3]\n",
      " [3 3 3]\n",
      " [3 3 3]] 2 int64 (3, 3) 9 <class 'numpy.ndarray'>\n",
      "[['number' 'number' 'number']\n",
      " ['number' 'number' 'number']\n",
      " ['number' 'number' 'number']] 2 <U6 (3, 3) 9 <class 'numpy.ndarray'>\n",
      "[[1. 0. 0.]\n",
      " [0. 1. 0.]\n",
      " [0. 0. 1.]] 2 float64 (3, 3) 9 <class 'numpy.ndarray'>\n",
      "[ 0 20 40 60 80] 1 int64 (5,) 5 <class 'numpy.ndarray'>\n",
      "[ 0 20 40 60 80] 1 int64 (5,) 5 <class 'numpy.ndarray'>\n"
     ]
    }
   ],
   "source": [
    "narr4 = np.zeros((2,2), dtype='int64')\n",
    "narr6 = np.full((3,3),3)\n",
    "narr5 = np.ones((2,2))\n",
    "narr7 = np.full((3,3),'number')\n",
    "narr8 = np.eye(3)\n",
    "narr9 = np.linspace(0,100,5,endpoint=False,dtype='int64') # 0에서 100을 포함해서 5가지\n",
    "narr10 = np.arange(0,100,20)\n",
    "print(narr4,narr4.ndim,narr4.dtype,narr4.shape,narr4.size,type(narr4))\n",
    "print(narr5,narr5.ndim,narr5.dtype,narr5.shape,narr5.size,type(narr5))\n",
    "print(narr6,narr6.ndim,narr6.dtype,narr6.shape,narr6.size,type(narr6))\n",
    "print(narr7,narr7.ndim,narr7.dtype,narr7.shape,narr7.size,type(narr7))\n",
    "print(narr8,narr8.ndim,narr8.dtype,narr8.shape,narr8.size,type(narr8))\n",
    "print(narr9,narr9.ndim,narr9.dtype,narr9.shape,narr9.size,type(narr9))\n",
    "print(narr10,narr10.ndim,narr10.dtype,narr10.shape,narr10.size,type(narr10))"
   ]
  },
  {
   "cell_type": "markdown",
   "metadata": {
    "id": "UlIRJJkDuR5X"
   },
   "source": [
    "## 2차원 배열"
   ]
  },
  {
   "cell_type": "code",
   "execution_count": 9,
   "metadata": {
    "colab": {
     "base_uri": "https://localhost:8080/"
    },
    "id": "RqKiHY9OvWyQ",
    "outputId": "4c08e761-a278-4104-d396-9c6f354d8f21"
   },
   "outputs": [
    {
     "name": "stdout",
     "output_type": "stream",
     "text": [
      "[2, 3, 4, 5, 6, 7, 8, 9]\n",
      "[2 3 4 5 6 7 8 9]\n"
     ]
    },
    {
     "data": {
      "text/plain": [
       "array([0, 1, 2, 3, 4, 5, 6, 7, 8, 9])"
      ]
     },
     "execution_count": 9,
     "metadata": {},
     "output_type": "execute_result"
    }
   ],
   "source": [
    "print(list(range(2,10)))\n",
    "print(np.arange(2,10))\n",
    "range(10)\n",
    "np.arange(10)"
   ]
  },
  {
   "cell_type": "code",
   "execution_count": 10,
   "metadata": {
    "colab": {
     "base_uri": "https://localhost:8080/"
    },
    "id": "v1RCjFFAlWPg",
    "outputId": "7a5d78ef-6a76-41fc-e174-bfd313504228"
   },
   "outputs": [
    {
     "name": "stdout",
     "output_type": "stream",
     "text": [
      "[[0 0]\n",
      " [0 0]] 2 int64 (2, 2) 4 <class 'numpy.ndarray'>\n"
     ]
    }
   ],
   "source": [
    "arr1 = np.array([[0,0],[0,0]])\n",
    "print(arr1,arr1.ndim,arr1.dtype,arr1.shape, arr1.size, type(arr1))"
   ]
  },
  {
   "cell_type": "code",
   "execution_count": 11,
   "metadata": {
    "colab": {
     "base_uri": "https://localhost:8080/"
    },
    "id": "BS7s2S3YpgNw",
    "outputId": "13c8e9b3-af3e-4343-974c-c9d77361feec"
   },
   "outputs": [
    {
     "name": "stdout",
     "output_type": "stream",
     "text": [
      "차원: 2 /데이터타입: int64 /형태: (3, 3) /크기: 9 <class 'numpy.ndarray'> [[1 2 3]\n",
      " [4 5 6]\n",
      " [7 8 9]]\n",
      "차원: 2 /데이터타입: int64 /형태: (3, 3) /크기: 9 <class 'numpy.ndarray'> [[1 2 3]\n",
      " [4 5 6]\n",
      " [7 8 9]]\n",
      "차원: 2 /데이터타입: int64 /형태: (2, 5) /크기: 10 <class 'numpy.ndarray'> [[ 1  2  3  4  5]\n",
      " [ 6  7  8  9 10]]\n",
      "차원: 2 /데이터타입: int64 /형태: (5, 2) /크기: 10 <class 'numpy.ndarray'> [[ 1  2]\n",
      " [ 3  4]\n",
      " [ 5  6]\n",
      " [ 7  8]\n",
      " [ 9 10]]\n",
      "차원: 3 /데이터타입: int64 /형태: (3, 3, 3) /크기: 27 <class 'numpy.ndarray'> [[[ 1  2  3]\n",
      "  [ 4  5  6]\n",
      "  [ 7  8  9]]\n",
      "\n",
      " [[10 11 12]\n",
      "  [13 14 15]\n",
      "  [16 17 18]]\n",
      "\n",
      " [[19 20 21]\n",
      "  [22 23 24]\n",
      "  [25 26 27]]]\n"
     ]
    }
   ],
   "source": [
    "arr2 = np.array([1,2,3,4,5,6,7,8,9]).reshape(3,3)\n",
    "arr3 = np.arange(1,10).reshape(3,3)\n",
    "arr4 = np.arange(1,11).reshape(2,5)\n",
    "arr5 = np.arange(1,11).reshape(5,2)\n",
    "arr6 = np.arange(1,28).reshape(3,3,3)\n",
    "print('차원:',arr2.ndim,'/데이터타입:',arr2.dtype,'/형태:',arr2.shape,'/크기:', arr2.size, type(arr2),arr2)\n",
    "print('차원:',arr3.ndim,'/데이터타입:',arr3.dtype,'/형태:',arr3.shape,'/크기:', arr3.size, type(arr3),arr3)\n",
    "print('차원:',arr4.ndim,'/데이터타입:',arr4.dtype,'/형태:',arr4.shape,'/크기:', arr4.size, type(arr4),arr4)\n",
    "print('차원:',arr5.ndim,'/데이터타입:',arr5.dtype,'/형태:',arr5.shape,'/크기:', arr5.size, type(arr5),arr5)\n",
    "print('차원:',arr6.ndim,'/데이터타입:',arr6.dtype,'/형태:',arr6.shape,'/크기:', arr6.size, type(arr6),arr6)"
   ]
  },
  {
   "cell_type": "code",
   "execution_count": 12,
   "metadata": {
    "colab": {
     "base_uri": "https://localhost:8080/"
    },
    "id": "W32t5gqJu8xR",
    "outputId": "00577e9d-0177-4c56-dd56-6d865c4be467"
   },
   "outputs": [
    {
     "name": "stdout",
     "output_type": "stream",
     "text": [
      "[[ 1  2  3  4  5  6  7]\n",
      " [ 8  9 10 11 12 13 14]\n",
      " [15 16 17 18 19 20 21]] \n",
      " =========================\n",
      "[[1]\n",
      " [2]\n",
      " [3]\n",
      " [4]\n",
      " [5]\n",
      " [6]\n",
      " [7]] \n",
      " =========================\n",
      "[[ 1  2]\n",
      " [ 3  4]\n",
      " [ 5  6]\n",
      " [ 7  8]\n",
      " [ 9 10]] \n",
      " =========================\n",
      "[[ 1  2  3  4  5  6  7]\n",
      " [ 8  9 10 11 12 13 14]\n",
      " [15 16 17 18 19 20 21]] \n",
      " =========================\n",
      "[[[ 1]\n",
      "  [ 2]\n",
      "  [ 3]]\n",
      "\n",
      " [[ 4]\n",
      "  [ 5]\n",
      "  [ 6]]\n",
      "\n",
      " [[ 7]\n",
      "  [ 8]\n",
      "  [ 9]]\n",
      "\n",
      " [[10]\n",
      "  [11]\n",
      "  [12]]]\n"
     ]
    }
   ],
   "source": [
    "test1 = np.arange(1,22).reshape(3,7)\n",
    "test2 = np.arange(1,8).reshape(7,1)\n",
    "test3 = np.arange(1,11).reshape(5,2)\n",
    "test4 = np.arange(1,22).reshape(3,7)\n",
    "test5 = np.arange(1,13).reshape(4,3,1)\n",
    "print(test1,\"\\n\",'='*25)\n",
    "print(test2,\"\\n\",'='*25)\n",
    "print(test3,\"\\n\",'='*25)\n",
    "print(test4,\"\\n\",'='*25)\n",
    "print(test5)"
   ]
  },
  {
   "cell_type": "code",
   "execution_count": 13,
   "metadata": {
    "colab": {
     "base_uri": "https://localhost:8080/"
    },
    "id": "93Ab1own2q_y",
    "outputId": "3742d693-0da7-4639-be90-55fdd35d1be8"
   },
   "outputs": [
    {
     "data": {
      "text/plain": [
       "array([10, 11, 12])"
      ]
     },
     "execution_count": 13,
     "metadata": {},
     "output_type": "execute_result"
    }
   ],
   "source": [
    "test1[1][2:5]"
   ]
  },
  {
   "cell_type": "code",
   "execution_count": 14,
   "metadata": {
    "colab": {
     "base_uri": "https://localhost:8080/"
    },
    "id": "omtGFpSa-vUB",
    "outputId": "d85275ca-7d49-4b46-8e9f-ae82ecc4bc73"
   },
   "outputs": [
    {
     "name": "stdout",
     "output_type": "stream",
     "text": [
      "[4 5 6 7]\n",
      "[11 12 13 14]\n",
      "[18 19 20 21]\n"
     ]
    }
   ],
   "source": [
    "print(test4[0][3:])\n",
    "print(test4[1][3:])\n",
    "print(test4[2][3:])"
   ]
  },
  {
   "cell_type": "code",
   "execution_count": 15,
   "metadata": {
    "colab": {
     "base_uri": "https://localhost:8080/"
    },
    "id": "KV-k6Wex_xUY",
    "outputId": "cb7105b6-133f-4b25-f321-4f1cec33b247"
   },
   "outputs": [
    {
     "data": {
      "text/plain": [
       "array([[10],\n",
       "       [17]])"
      ]
     },
     "execution_count": 15,
     "metadata": {},
     "output_type": "execute_result"
    }
   ],
   "source": [
    "test4[1:3,2:3]"
   ]
  },
  {
   "cell_type": "code",
   "execution_count": 16,
   "metadata": {
    "colab": {
     "base_uri": "https://localhost:8080/"
    },
    "id": "6qGoPJ9S_GuA",
    "outputId": "0ee175be-f92e-4413-f555-5bf11896b331"
   },
   "outputs": [
    {
     "data": {
      "text/plain": [
       "array([[ 1,  2,  3,  4,  5,  6,  7],\n",
       "       [ 8,  9, 10, 11, 12, 13, 14],\n",
       "       [15, 16, 17, 18, 19, 20, 21]])"
      ]
     },
     "execution_count": 16,
     "metadata": {},
     "output_type": "execute_result"
    }
   ],
   "source": [
    "test4"
   ]
  },
  {
   "cell_type": "code",
   "execution_count": 17,
   "metadata": {
    "colab": {
     "base_uri": "https://localhost:8080/"
    },
    "id": "eAJ81MrD_lhR",
    "outputId": "e3959ad2-f632-4708-ebdb-731d13021159"
   },
   "outputs": [
    {
     "data": {
      "text/plain": [
       "array([[ 4,  5,  6,  7],\n",
       "       [11, 12, 13, 14],\n",
       "       [18, 19, 20, 21]])"
      ]
     },
     "execution_count": 17,
     "metadata": {},
     "output_type": "execute_result"
    }
   ],
   "source": [
    "test4[0:3,3:7]"
   ]
  },
  {
   "cell_type": "code",
   "execution_count": 18,
   "metadata": {
    "colab": {
     "base_uri": "https://localhost:8080/"
    },
    "id": "j6Y7ex7sDuTR",
    "outputId": "a911db7d-063e-4fbc-bed4-df3570688ab2"
   },
   "outputs": [
    {
     "data": {
      "text/plain": [
       "array([[12, 13],\n",
       "       [19, 20]])"
      ]
     },
     "execution_count": 18,
     "metadata": {},
     "output_type": "execute_result"
    }
   ],
   "source": [
    "test4[1:3,4:6]"
   ]
  },
  {
   "cell_type": "code",
   "execution_count": 19,
   "metadata": {
    "colab": {
     "base_uri": "https://localhost:8080/"
    },
    "id": "bhiYbQQqEsSh",
    "outputId": "d82cba4f-c80b-4c93-cde6-fa1ec61aa0bb"
   },
   "outputs": [
    {
     "name": "stdout",
     "output_type": "stream",
     "text": [
      "[[False False False False False False False]\n",
      " [False False False False False  True  True]\n",
      " [ True  True  True  True  True  True  True]]\n",
      "[13 14 15 16 17 18 19 20 21]\n",
      "[[False  True False  True False  True False]\n",
      " [ True False  True False  True False  True]\n",
      " [False  True False  True False  True False]]\n",
      "[ 2  4  6  8 10 12 14 16 18 20]\n"
     ]
    }
   ],
   "source": [
    "print(test4 > 12)\n",
    "print(test4[test4 > 12])\n",
    "print(test4 % 2 == 0)\n",
    "print(test4[test4 % 2 == 0])"
   ]
  },
  {
   "cell_type": "code",
   "execution_count": 20,
   "metadata": {
    "colab": {
     "base_uri": "https://localhost:8080/"
    },
    "id": "-GUJb6v-FEbh",
    "outputId": "5148e915-a6eb-4b2a-d5ab-7625d22891be"
   },
   "outputs": [
    {
     "name": "stdout",
     "output_type": "stream",
     "text": [
      "덧셈: [ 7  9 11 13 15]\n",
      "뺄셈: [5 5 5 5 5]\n",
      "곱셈: [ 6 14 24 36 50]\n",
      "나눗셈: [6.         3.5        2.66666667 2.25       2.        ]\n"
     ]
    }
   ],
   "source": [
    "# np 배열 연산 // shape 가 같을 경우 원소별 연산이 가능\n",
    "np1 = np.array([6,7,8,9,10])\n",
    "np2 = np.array([1,2,3,4,5])\n",
    "print(\"덧셈:\",np1 + np2)\n",
    "print(\"뺄셈:\",np1 - np2)\n",
    "print(\"곱셈:\",np1 * np2)\n",
    "print(\"나눗셈:\",np1 / np2)"
   ]
  },
  {
   "cell_type": "code",
   "execution_count": 21,
   "metadata": {
    "colab": {
     "base_uri": "https://localhost:8080/"
    },
    "id": "jpQR-dqEGA3z",
    "outputId": "f9f0b63c-f9b5-4b67-c9b1-5a5f461970e4"
   },
   "outputs": [
    {
     "name": "stdout",
     "output_type": "stream",
     "text": [
      "[ 6  7  8  9 10]\n",
      "[16 17 18 19 20]\n"
     ]
    }
   ],
   "source": [
    "# 브로드캐스팅\n",
    "np3 = np1 + 10\n",
    "print(np1)\n",
    "print(np3)"
   ]
  },
  {
   "cell_type": "code",
   "execution_count": 22,
   "metadata": {
    "colab": {
     "base_uri": "https://localhost:8080/"
    },
    "id": "_kM64sf9G5Vx",
    "outputId": "75639429-9a5f-4bd9-bf27-11827d4da15b"
   },
   "outputs": [
    {
     "name": "stdout",
     "output_type": "stream",
     "text": [
      "[[1 2 3]\n",
      " [4 5 6]\n",
      " [7 8 9]]\n",
      "[[11]\n",
      " [22]\n",
      " [33]]\n",
      "=====스칼라와 연산=====\n",
      "[[1 2 3]\n",
      " [4 5 6]\n",
      " [7 8 9]]\n",
      "[[ 4  5  6]\n",
      " [ 7  8  9]\n",
      " [10 11 12]]\n",
      "[[ 2  4  6]\n",
      " [ 8 10 12]\n",
      " [14 16 18]]\n",
      "=====2D와 1D의 연산=====\n",
      "[[11]\n",
      " [22]\n",
      " [33]]\n",
      "[[12 13 14]\n",
      " [26 27 28]\n",
      " [40 41 42]]\n",
      "[[ 11  22  33]\n",
      " [ 88 110 132]\n",
      " [231 264 297]]\n"
     ]
    }
   ],
   "source": [
    "br1 = np.arange(1,10).reshape(3,3)\n",
    "br2 = np.array([11,22,33]).reshape(3,1)\n",
    "print(br1)\n",
    "print(br2)\n",
    "# 스칼라와 연산\n",
    "print(\"=====스칼라와 연산=====\")\n",
    "print(br1)\n",
    "print(br1+3)\n",
    "print(br1*2)\n",
    "# 2D와 1D의 연산\n",
    "print(\"=====2D와 1D의 연산=====\")\n",
    "print(br2)\n",
    "print(br1+br2)\n",
    "print(br1*br2)"
   ]
  },
  {
   "cell_type": "code",
   "execution_count": 23,
   "metadata": {
    "colab": {
     "base_uri": "https://localhost:8080/"
    },
    "id": "EXzbDf6fHUWC",
    "outputId": "4ece11f1-22bf-4d05-f4c3-a4deab68b371"
   },
   "outputs": [
    {
     "name": "stdout",
     "output_type": "stream",
     "text": [
      "[[1 2 3]\n",
      " [4 5 6]\n",
      " [7 8 9]]\n",
      "[1 2 3 4 5 6 7 8 9]\n",
      "[1 2 3 4 5 6 7 8 9]\n"
     ]
    }
   ],
   "source": [
    "# flatten 처리\n",
    "ff = np.arange(1,10).reshape(3,3)\n",
    "print(ff)\n",
    "print(ff.reshape(9))\n",
    "print(ff.flatten()) # flatten은 일자로 쭉 펴줌"
   ]
  },
  {
   "cell_type": "markdown",
   "metadata": {},
   "source": [
    "## Random number 발생"
   ]
  },
  {
   "cell_type": "markdown",
   "metadata": {},
   "source": [
    "- np.random.randint(): 균일 분포의 정수 난수\n",
    "- np.random.rand(): 0부터 1사이의 균일 분포 난수 생성\n",
    "- np.random.randn(): 표준 정규 분포 난수 생성\n",
    "- np.random.normal(): 정규 분포 난수 생성"
   ]
  },
  {
   "cell_type": "code",
   "execution_count": 24,
   "metadata": {},
   "outputs": [
    {
     "data": {
      "text/plain": [
       "array([[[111,  66, 185],\n",
       "        [211, 254,  57],\n",
       "        [ 60,  84, 166]],\n",
       "\n",
       "       [[  2,  23,  72],\n",
       "        [145,  45,  94],\n",
       "        [210, 112, 147]],\n",
       "\n",
       "       [[167, 103, 101],\n",
       "        [108, 110,  47],\n",
       "        [226,  48, 243]]], dtype=int32)"
      ]
     },
     "execution_count": 24,
     "metadata": {},
     "output_type": "execute_result"
    }
   ],
   "source": [
    "# randomint\n",
    "import numpy as np\n",
    "x = np.random.randint(0,255,size=(3,3,3))\n",
    "x"
   ]
  },
  {
   "cell_type": "code",
   "execution_count": 25,
   "metadata": {},
   "outputs": [
    {
     "name": "stdout",
     "output_type": "stream",
     "text": [
      "평균값: 118.4074074074074 표준편차: 68.2610779283856 최소값: 2 최대값: 254\n"
     ]
    }
   ],
   "source": [
    "print('평균값:',np.mean(x),'표준편차:',np.std(x),'최소값:',x.min(),'최대값:',x.max())"
   ]
  },
  {
   "cell_type": "code",
   "execution_count": 18,
   "metadata": {},
   "outputs": [
    {
     "data": {
      "text/plain": [
       "array([[2, 2, 2, 1, 2],\n",
       "       [4, 3, 3, 4, 2],\n",
       "       [1, 4, 2, 3, 4],\n",
       "       [4, 2, 2, 3, 1],\n",
       "       [4, 2, 3, 3, 4],\n",
       "       [3, 2, 2, 1, 2],\n",
       "       [1, 3, 4, 2, 2],\n",
       "       [4, 1, 3, 1, 2],\n",
       "       [1, 2, 1, 2, 2],\n",
       "       [4, 1, 4, 2, 4]], dtype=int32)"
      ]
     },
     "execution_count": 18,
     "metadata": {},
     "output_type": "execute_result"
    }
   ],
   "source": [
    "size=(10,5)\n",
    "x = np.random.randint(1,5,size=size) # 1에서 5까지 난수\n",
    "x\n",
    "# print(np.mean(x))"
   ]
  },
  {
   "cell_type": "code",
   "execution_count": 19,
   "metadata": {},
   "outputs": [
    {
     "data": {
      "text/plain": [
       "array([[0.82632519, 0.51830946, 0.47550335, 0.39798284, 0.40953083],\n",
       "       [0.13193604, 0.23101142, 0.24915649, 0.94815841, 0.42708115],\n",
       "       [0.05799232, 0.15336   , 0.52150361, 0.66738313, 0.16634798],\n",
       "       [0.66409972, 0.87814068, 0.50792343, 0.73686075, 0.43353384],\n",
       "       [0.85547813, 0.11721371, 0.7216929 , 0.89195115, 0.99476584],\n",
       "       [0.16413692, 0.63547356, 0.33036975, 0.10670233, 0.30425801],\n",
       "       [0.08843712, 0.67477276, 0.01929433, 0.83828311, 0.99003686],\n",
       "       [0.43207596, 0.48008295, 0.18539071, 0.42624582, 0.04939882],\n",
       "       [0.32101573, 0.01008575, 0.63172554, 0.25758275, 0.20917766],\n",
       "       [0.62523126, 0.12119809, 0.29203615, 0.58913032, 0.55863135]])"
      ]
     },
     "execution_count": 19,
     "metadata": {},
     "output_type": "execute_result"
    }
   ],
   "source": [
    "x = np.random.rand(10,5)\n",
    "x\n",
    "# print(np.mean(x))"
   ]
  },
  {
   "cell_type": "code",
   "execution_count": 21,
   "metadata": {},
   "outputs": [
    {
     "name": "stdout",
     "output_type": "stream",
     "text": [
      "[[ 5.29627937  8.49041831  4.26566724  0.99826892  7.5711118 ]\n",
      " [ 6.14354312  9.0542503   4.9113203   2.71415643  6.71225265]\n",
      " [-2.62596591  5.53613915  4.17065981  0.96350918 -0.26935548]\n",
      " [ 0.95144217  0.94390738  5.47445537  6.46439931  2.47626092]\n",
      " [ 5.47625809  4.90926839  4.35793725  3.77395839 10.04481919]\n",
      " [ 6.61115628  6.03529946  0.04543933 10.68750984  1.2916719 ]\n",
      " [ 9.86148826  5.40026622  8.10858148  9.90967363  2.56563982]\n",
      " [ 2.74664032  9.31769767  9.61678223  0.49236815  4.00757162]\n",
      " [ 5.19943154  5.24262905  6.95634889  5.83676078  6.80695366]\n",
      " [ 3.828747    7.61662737 10.0324445   7.36190659  5.0838673 ]]\n",
      "5.189369291003959 3.108330120816885 -2.625965908502833 10.687509838428571\n"
     ]
    }
   ],
   "source": [
    "x = np.random.normal(5,3,(10,5)) # 평균이 , 표준편차 3\n",
    "print(x)\n",
    "print(np.mean(x),np.std(x),x.min(),x.max())"
   ]
  },
  {
   "cell_type": "code",
   "execution_count": 25,
   "metadata": {},
   "outputs": [
    {
     "name": "stdout",
     "output_type": "stream",
     "text": [
      "[[-0.80901288 -1.05589545 -1.10683944  0.36928362 -0.56226501]\n",
      " [-0.73990065  0.20575659  0.21319111 -1.19681143 -1.2474442 ]\n",
      " [ 0.17427556 -0.49054355  0.75025261 -1.10881841  1.16950518]\n",
      " [ 0.92478219 -0.13720992 -0.6880841   0.55164002 -1.21742273]\n",
      " [ 1.21682695  0.44021576 -0.05690466  0.21108392  0.32077812]\n",
      " [ 0.80698251  0.25791087  1.15843979  0.57646648  0.30245609]\n",
      " [ 1.61797389 -0.64480559  0.3778407   0.6921928   1.88815325]\n",
      " [ 1.64710094  0.71402266  0.86956378 -0.49127956 -1.96401609]\n",
      " [ 0.99571179 -1.76032269 -1.55405892 -1.45996453  0.22687528]\n",
      " [-1.65217736  1.35440385 -1.30774412 -0.76805804 -0.15623323]]\n",
      "[[-0.80901288 -1.05589545 -1.10683944  0.36928362 -0.56226501]\n",
      " [-0.73990065  0.20575659  0.21319111 -1.19681143 -1.2474442 ]\n",
      " [ 0.17427556 -0.49054355  0.75025261 -1.10881841  1.16950518]\n",
      " [ 0.92478219 -0.13720992 -0.6880841   0.55164002 -1.21742273]\n",
      " [ 1.21682695  0.44021576 -0.05690466  0.21108392  0.32077812]\n",
      " [ 0.80698251  0.25791087  1.15843979  0.57646648  0.30245609]\n",
      " [ 1.61797389 -0.64480559  0.3778407   0.6921928   1.88815325]\n",
      " [ 1.64710094  0.71402266  0.86956378 -0.49127956 -1.96401609]\n",
      " [ 0.99571179 -1.76032269 -1.55405892 -1.45996453  0.22687528]\n",
      " [-1.65217736  1.35440385 -1.30774412 -0.76805804 -0.15623323]] -0.04284252471668005 0.9871958804382205 -1.964016086711694 1.8881532541791322\n"
     ]
    }
   ],
   "source": [
    "x = np.random.randn(10,5)\n",
    "print(x)\n",
    "print(x, np.mean(x), np.std(x),x.min(),x.max())"
   ]
  },
  {
   "cell_type": "code",
   "execution_count": 28,
   "metadata": {},
   "outputs": [
    {
     "name": "stdout",
     "output_type": "stream",
     "text": [
      "x의 개수 14\n",
      "x의 개수 11\n",
      "x의 개수 3\n"
     ]
    }
   ],
   "source": [
    "x = np.array([3,4,45,43,65,0,0,0,24362,6,45,6,432,562])\n",
    "print('x의 개수',len(x))\n",
    "print('x의 개수',np.count_nonzero(x))\n",
    "print('x의 개수',len(x) - np.count_nonzero(x))"
   ]
  },
  {
   "cell_type": "code",
   "execution_count": 30,
   "metadata": {},
   "outputs": [
    {
     "name": "stdout",
     "output_type": "stream",
     "text": [
      "1826.642857142857\n",
      "1826.642857142857\n",
      "39093356.8010204\n",
      "39093356.8010204\n",
      "6252.468056777291\n",
      "6252.468056777291\n",
      "24362\n",
      "0\n",
      "24.5\n"
     ]
    }
   ],
   "source": [
    "print(np.mean(x))\n",
    "print(x.mean())\n",
    "print(np.var(x))\n",
    "print(x.var())\n",
    "print(np.std(x))\n",
    "print(x.std())\n",
    "print(x.max())\n",
    "print(x.min())\n",
    "print(np.median(x))"
   ]
  },
  {
   "cell_type": "code",
   "execution_count": 31,
   "metadata": {},
   "outputs": [
    {
     "name": "stdout",
     "output_type": "stream",
     "text": [
      "0.0\n",
      "3.25\n",
      "24.5\n",
      "60.0\n",
      "24362.0\n"
     ]
    }
   ],
   "source": [
    "print(np.percentile(x,0)) # 최소값\n",
    "print(np.percentile(x,25)) # 제1사분위수\n",
    "print(np.percentile(x,50)) # 중앙값, 제2사분위수\n",
    "print(np.percentile(x,75)) # 제3사분위수\n",
    "print(np.percentile(x,100)) # 최대값"
   ]
  },
  {
   "cell_type": "code",
   "execution_count": 26,
   "metadata": {
    "scrolled": true
   },
   "outputs": [
    {
     "name": "stdout",
     "output_type": "stream",
     "text": [
      "27\n"
     ]
    }
   ],
   "source": [
    "print(len(x.flatten()))"
   ]
  },
  {
   "cell_type": "code",
   "execution_count": 33,
   "metadata": {},
   "outputs": [
    {
     "name": "stdout",
     "output_type": "stream",
     "text": [
      "27\n",
      "22\n"
     ]
    }
   ],
   "source": [
    "import numpy as np\n",
    "y = np.array([0,1,2,3,4,6,34,2,0,23,3,1,2,3,0,0,12,3,5,34,3,3,23,0,1,2,3]).reshape(3,3,3)\n",
    "print(len(y.flatten()))\n",
    "print(np.count_nonzero(y))"
   ]
  },
  {
   "cell_type": "markdown",
   "metadata": {},
   "source": [
    "## 판다스(pandas)"
   ]
  },
  {
   "cell_type": "markdown",
   "metadata": {},
   "source": [
    "- 시리즈(series) # 단수, 하나만 있을때\n",
    "- 데이터프레임(dataframe) # 복수, 여러개 있을때"
   ]
  },
  {
   "cell_type": "code",
   "execution_count": 2,
   "metadata": {},
   "outputs": [],
   "source": [
    "# !pip install pandas"
   ]
  },
  {
   "cell_type": "code",
   "execution_count": 4,
   "metadata": {},
   "outputs": [],
   "source": [
    "import numpy as np\n",
    "import pandas as pd # 여기서 오류가 안나야 설치된것"
   ]
  },
  {
   "cell_type": "code",
   "execution_count": 28,
   "metadata": {},
   "outputs": [
    {
     "name": "stdout",
     "output_type": "stream",
     "text": [
      "[1 2 3 4 5]\n",
      "0    1\n",
      "1    2\n",
      "2    3\n",
      "3    4\n",
      "4    5\n",
      "dtype: int64 <class 'pandas.core.series.Series'> RangeIndex(start=0, stop=5, step=1) [1 2 3 4 5] int64\n"
     ]
    }
   ],
   "source": [
    "# 판다스 기초(넘파이값 넣을수있음을 알기)\n",
    "data1 =np.arange(1,6)\n",
    "print(data1)\n",
    "data2 = pd.Series(data1)\n",
    "print(data2, type(data2), data2.index, data2.values, data2.dtype) # 왼쪽은 데이터 레이블(인덱스), 오른쪽은 데이터 시리즈(벨류값)"
   ]
  },
  {
   "cell_type": "code",
   "execution_count": 13,
   "metadata": {
    "scrolled": true
   },
   "outputs": [],
   "source": [
    "# dir(data2) # 쓸수있는 기능 조회가능"
   ]
  },
  {
   "cell_type": "code",
   "execution_count": 21,
   "metadata": {},
   "outputs": [
    {
     "name": "stdout",
     "output_type": "stream",
     "text": [
      "0    1.00\n",
      "1    2.00\n",
      "2    3.14\n",
      "3    4.00\n",
      "4    5.00\n",
      "dtype: float64\n"
     ]
    }
   ],
   "source": [
    "# 판다스 시리즈의 데이터타입\n",
    "data3 = pd.Series([1,2,3.14,4,5]) # 하나의 데이터 값이 다르면 그 데이터 값을 기준으로 맞춤\n",
    "# data3 = pd.Series([1,2,3,4,5], dtype=\"float\")\n",
    "print(data3)"
   ]
  },
  {
   "cell_type": "code",
   "execution_count": 19,
   "metadata": {},
   "outputs": [
    {
     "name": "stdout",
     "output_type": "stream",
     "text": [
      "a    1\n",
      "b    2\n",
      "c    3\n",
      "d    4\n",
      "dtype: int64\n"
     ]
    }
   ],
   "source": [
    "# 판다스 시리즈의 인덱스설정\n",
    "data3 = pd.Series([1,2,3,4], index=['a','b','c','d'])\n",
    "print(data3)"
   ]
  },
  {
   "cell_type": "code",
   "execution_count": 41,
   "metadata": {},
   "outputs": [
    {
     "name": "stdout",
     "output_type": "stream",
     "text": [
      "korea      5182\n",
      "japan     12622\n",
      "china    141178\n",
      "usa       32976\n",
      "dtype: int64 Index(['korea', 'japan', 'china', 'usa'], dtype='object') [  5182  12622 141178  32976]\n",
      "1 (4,) 4\n",
      "12622\n",
      "12622\n"
     ]
    }
   ],
   "source": [
    "# 판다스 시리즈 딕셔너리데이터\n",
    "population_dict = { # 딕셔너리 준비한 것\n",
    "    'korea':5182,\n",
    "    'japan':12622,\n",
    "    'china':141178,\n",
    "    'usa':32976\n",
    "}\n",
    "# population_dict.keys() # 이건 함수임(밑에 country.index이건 속성, 다른거임,()가 쳐져있는거랑 아닌거랑 유심히 보기)\n",
    "# population_dict.values()\n",
    "# population_dict.items()\n",
    "country = pd.Series(population_dict)\n",
    "print(country, country.index, country.values)\n",
    "print(country.ndim, country.shape, country.size)\n",
    "# 시리즈 원소에 접근방법\n",
    "# print(country['japan'])\n",
    "print(country.loc['japan']) # loc는 location이라는 뜻, 위에 애랑 값은 똑같이 나오지만 그래도 loc 찍어주기\n",
    "print(country.iloc[1])"
   ]
  },
  {
   "cell_type": "code",
   "execution_count": 43,
   "metadata": {},
   "outputs": [
    {
     "data": {
      "text/html": [
       "<div>\n",
       "<style scoped>\n",
       "    .dataframe tbody tr th:only-of-type {\n",
       "        vertical-align: middle;\n",
       "    }\n",
       "\n",
       "    .dataframe tbody tr th {\n",
       "        vertical-align: top;\n",
       "    }\n",
       "\n",
       "    .dataframe thead th {\n",
       "        text-align: right;\n",
       "    }\n",
       "</style>\n",
       "<table border=\"1\" class=\"dataframe\">\n",
       "  <thead>\n",
       "    <tr style=\"text-align: right;\">\n",
       "      <th></th>\n",
       "      <th>A</th>\n",
       "      <th>B</th>\n",
       "      <th>C</th>\n",
       "    </tr>\n",
       "  </thead>\n",
       "  <tbody>\n",
       "    <tr>\n",
       "      <th>a</th>\n",
       "      <td>1</td>\n",
       "      <td>2</td>\n",
       "      <td>3</td>\n",
       "    </tr>\n",
       "    <tr>\n",
       "      <th>b</th>\n",
       "      <td>4</td>\n",
       "      <td>5</td>\n",
       "      <td>6</td>\n",
       "    </tr>\n",
       "    <tr>\n",
       "      <th>c</th>\n",
       "      <td>7</td>\n",
       "      <td>8</td>\n",
       "      <td>9</td>\n",
       "    </tr>\n",
       "  </tbody>\n",
       "</table>\n",
       "</div>"
      ],
      "text/plain": [
       "   A  B  C\n",
       "a  1  2  3\n",
       "b  4  5  6\n",
       "c  7  8  9"
      ]
     },
     "execution_count": 43,
     "metadata": {},
     "output_type": "execute_result"
    }
   ],
   "source": [
    "# 판다스 데이터 프레임\n",
    "df = pd.DataFrame([[1,2,3],[4,5,6],[7,8,9]],index=['a','b','c'],columns=['A','B','C'])\n",
    "df # 가로는 컬럼, 세로는 인덱스"
   ]
  },
  {
   "cell_type": "code",
   "execution_count": 1,
   "metadata": {},
   "outputs": [
    {
     "name": "stdout",
     "output_type": "stream",
     "text": [
      "인구수 시리즈 데이터:\n",
      "korea      5182\n",
      "japan     12622\n",
      "china    141178\n",
      "usa       32976\n",
      "dtype: int64\n",
      "GDP 시리즈 데이터:\n",
      "korea     169320000\n",
      "japan     516700000\n",
      "china     140925000\n",
      "usa      2041280000\n",
      "dtype: int64\n",
      "=========================\n",
      "데이터 프레임 생성:\n",
      "Index(['korea', 'japan', 'china', 'usa'], dtype='object', name='Country') Index(['population', 'gdp'], dtype='object', name='Info')\n",
      "[[      5182  169320000]\n",
      " [     12622  516700000]\n",
      " [    141178  140925000]\n",
      " [     32976 2041280000]] (4, 2) 8 차원: 2\n"
     ]
    }
   ],
   "source": [
    "# 테스트\n",
    "import numpy as np\n",
    "import pandas as pd\n",
    "# 두개의 시리즈 데이터\n",
    "print(\"인구수 시리즈 데이터:\")\n",
    "population_dict = { # 딕셔너리 준비한 것\n",
    "    'korea':5182,\n",
    "    'japan':12622,\n",
    "    'china':141178,\n",
    "    'usa':32976\n",
    "}\n",
    "population = pd.Series(population_dict)\n",
    "print(population)\n",
    "\n",
    "print(\"GDP 시리즈 데이터:\")\n",
    "GDP_dict = { # 딕셔너리 준비한 것\n",
    "    'korea':169320000,\n",
    "    'japan':516700000,\n",
    "    'china':140925000,\n",
    "    'usa':2041280000\n",
    "}\n",
    "GDP = pd.Series(GDP_dict)\n",
    "print(GDP)\n",
    "print('='*25)\n",
    "print(\"데이터 프레임 생성:\")\n",
    "country = pd.DataFrame({'population':population,'gdp':GDP}) # 컬럼의 타이틀이 됨\n",
    "country.index.name = \"Country\" # 인덱스 이름을 지정 # 속성에다 네임을 더 추가한다 생각하기\n",
    "country.columns.name = \"Info\" # 컬럼 이름 지정\n",
    "print(country.index, country.columns)\n",
    "print(country.values, country.shape, country.size, \"차원:\",country.ndim) # shape에 (4, 2) 값이 나오는건 컬럼값이 2개라는 뜻"
   ]
  },
  {
   "cell_type": "code",
   "execution_count": 2,
   "metadata": {},
   "outputs": [
    {
     "data": {
      "text/plain": [
       "(Info\n",
       " population       141178\n",
       " gdp           140925000\n",
       " Name: china, dtype: int64,\n",
       " Info\n",
       " population        12622\n",
       " gdp           516700000\n",
       " Name: japan, dtype: int64)"
      ]
     },
     "execution_count": 2,
     "metadata": {},
     "output_type": "execute_result"
    }
   ],
   "source": [
    "# 데이터 프레임의 요소 접근 방법, loc, iloc\n",
    "country.loc['korea'], country.loc['usa'] # loc는 키값을 기반으로 # 시리즈는 여기서 loc없어도 값 나오는데 데이터프레임은 안됨\n",
    "country.iloc[2], country.iloc[1] # iloc는 인덱스를 기반으로"
   ]
  },
  {
   "cell_type": "code",
   "execution_count": 3,
   "metadata": {},
   "outputs": [
    {
     "data": {
      "text/html": [
       "<div>\n",
       "<style scoped>\n",
       "    .dataframe tbody tr th:only-of-type {\n",
       "        vertical-align: middle;\n",
       "    }\n",
       "\n",
       "    .dataframe tbody tr th {\n",
       "        vertical-align: top;\n",
       "    }\n",
       "\n",
       "    .dataframe thead th {\n",
       "        text-align: right;\n",
       "    }\n",
       "</style>\n",
       "<table border=\"1\" class=\"dataframe\">\n",
       "  <thead>\n",
       "    <tr style=\"text-align: right;\">\n",
       "      <th>Info</th>\n",
       "      <th>population</th>\n",
       "      <th>gdp</th>\n",
       "    </tr>\n",
       "    <tr>\n",
       "      <th>Country</th>\n",
       "      <th></th>\n",
       "      <th></th>\n",
       "    </tr>\n",
       "  </thead>\n",
       "  <tbody>\n",
       "    <tr>\n",
       "      <th>korea</th>\n",
       "      <td>5182</td>\n",
       "      <td>169320000</td>\n",
       "    </tr>\n",
       "    <tr>\n",
       "      <th>japan</th>\n",
       "      <td>12622</td>\n",
       "      <td>516700000</td>\n",
       "    </tr>\n",
       "    <tr>\n",
       "      <th>china</th>\n",
       "      <td>141178</td>\n",
       "      <td>140925000</td>\n",
       "    </tr>\n",
       "    <tr>\n",
       "      <th>usa</th>\n",
       "      <td>32976</td>\n",
       "      <td>2041280000</td>\n",
       "    </tr>\n",
       "  </tbody>\n",
       "</table>\n",
       "</div>"
      ],
      "text/plain": [
       "Info     population         gdp\n",
       "Country                        \n",
       "korea          5182   169320000\n",
       "japan         12622   516700000\n",
       "china        141178   140925000\n",
       "usa           32976  2041280000"
      ]
     },
     "execution_count": 3,
     "metadata": {},
     "output_type": "execute_result"
    }
   ],
   "source": [
    "country"
   ]
  },
  {
   "cell_type": "code",
   "execution_count": 4,
   "metadata": {},
   "outputs": [
    {
     "data": {
      "text/html": [
       "<div>\n",
       "<style scoped>\n",
       "    .dataframe tbody tr th:only-of-type {\n",
       "        vertical-align: middle;\n",
       "    }\n",
       "\n",
       "    .dataframe tbody tr th {\n",
       "        vertical-align: top;\n",
       "    }\n",
       "\n",
       "    .dataframe thead th {\n",
       "        text-align: right;\n",
       "    }\n",
       "</style>\n",
       "<table border=\"1\" class=\"dataframe\">\n",
       "  <thead>\n",
       "    <tr style=\"text-align: right;\">\n",
       "      <th>Info</th>\n",
       "      <th>population</th>\n",
       "    </tr>\n",
       "    <tr>\n",
       "      <th>Country</th>\n",
       "      <th></th>\n",
       "    </tr>\n",
       "  </thead>\n",
       "  <tbody>\n",
       "    <tr>\n",
       "      <th>korea</th>\n",
       "      <td>5182</td>\n",
       "    </tr>\n",
       "    <tr>\n",
       "      <th>japan</th>\n",
       "      <td>12622</td>\n",
       "    </tr>\n",
       "  </tbody>\n",
       "</table>\n",
       "</div>"
      ],
      "text/plain": [
       "Info     population\n",
       "Country            \n",
       "korea          5182\n",
       "japan         12622"
      ]
     },
     "execution_count": 4,
     "metadata": {},
     "output_type": "execute_result"
    }
   ],
   "source": [
    "country.loc['korea':'japan',:'population'] # 주의: <= x <="
   ]
  },
  {
   "cell_type": "code",
   "execution_count": 5,
   "metadata": {},
   "outputs": [
    {
     "data": {
      "text/html": [
       "<div>\n",
       "<style scoped>\n",
       "    .dataframe tbody tr th:only-of-type {\n",
       "        vertical-align: middle;\n",
       "    }\n",
       "\n",
       "    .dataframe tbody tr th {\n",
       "        vertical-align: top;\n",
       "    }\n",
       "\n",
       "    .dataframe thead th {\n",
       "        text-align: right;\n",
       "    }\n",
       "</style>\n",
       "<table border=\"1\" class=\"dataframe\">\n",
       "  <thead>\n",
       "    <tr style=\"text-align: right;\">\n",
       "      <th>Info</th>\n",
       "      <th>population</th>\n",
       "    </tr>\n",
       "    <tr>\n",
       "      <th>Country</th>\n",
       "      <th></th>\n",
       "    </tr>\n",
       "  </thead>\n",
       "  <tbody>\n",
       "    <tr>\n",
       "      <th>korea</th>\n",
       "      <td>5182</td>\n",
       "    </tr>\n",
       "    <tr>\n",
       "      <th>japan</th>\n",
       "      <td>12622</td>\n",
       "    </tr>\n",
       "  </tbody>\n",
       "</table>\n",
       "</div>"
      ],
      "text/plain": [
       "Info     population\n",
       "Country            \n",
       "korea          5182\n",
       "japan         12622"
      ]
     },
     "execution_count": 5,
     "metadata": {},
     "output_type": "execute_result"
    }
   ],
   "source": [
    "country.iloc[0:2,:1] # 주의: <= x <"
   ]
  },
  {
   "cell_type": "code",
   "execution_count": 6,
   "metadata": {},
   "outputs": [
    {
     "data": {
      "text/html": [
       "<div>\n",
       "<style scoped>\n",
       "    .dataframe tbody tr th:only-of-type {\n",
       "        vertical-align: middle;\n",
       "    }\n",
       "\n",
       "    .dataframe tbody tr th {\n",
       "        vertical-align: top;\n",
       "    }\n",
       "\n",
       "    .dataframe thead th {\n",
       "        text-align: right;\n",
       "    }\n",
       "</style>\n",
       "<table border=\"1\" class=\"dataframe\">\n",
       "  <thead>\n",
       "    <tr style=\"text-align: right;\">\n",
       "      <th>Info</th>\n",
       "      <th>gdp</th>\n",
       "    </tr>\n",
       "    <tr>\n",
       "      <th>Country</th>\n",
       "      <th></th>\n",
       "    </tr>\n",
       "  </thead>\n",
       "  <tbody>\n",
       "    <tr>\n",
       "      <th>japan</th>\n",
       "      <td>516700000</td>\n",
       "    </tr>\n",
       "    <tr>\n",
       "      <th>china</th>\n",
       "      <td>140925000</td>\n",
       "    </tr>\n",
       "    <tr>\n",
       "      <th>usa</th>\n",
       "      <td>2041280000</td>\n",
       "    </tr>\n",
       "  </tbody>\n",
       "</table>\n",
       "</div>"
      ],
      "text/plain": [
       "Info            gdp\n",
       "Country            \n",
       "japan     516700000\n",
       "china     140925000\n",
       "usa      2041280000"
      ]
     },
     "execution_count": 6,
     "metadata": {},
     "output_type": "execute_result"
    }
   ],
   "source": [
    "country.iloc[1:4,1:2]"
   ]
  },
  {
   "cell_type": "code",
   "execution_count": 7,
   "metadata": {},
   "outputs": [
    {
     "data": {
      "text/html": [
       "<div>\n",
       "<style scoped>\n",
       "    .dataframe tbody tr th:only-of-type {\n",
       "        vertical-align: middle;\n",
       "    }\n",
       "\n",
       "    .dataframe tbody tr th {\n",
       "        vertical-align: top;\n",
       "    }\n",
       "\n",
       "    .dataframe thead th {\n",
       "        text-align: right;\n",
       "    }\n",
       "</style>\n",
       "<table border=\"1\" class=\"dataframe\">\n",
       "  <thead>\n",
       "    <tr style=\"text-align: right;\">\n",
       "      <th>Info</th>\n",
       "      <th>population</th>\n",
       "      <th>gdp</th>\n",
       "    </tr>\n",
       "    <tr>\n",
       "      <th>Country</th>\n",
       "      <th></th>\n",
       "      <th></th>\n",
       "    </tr>\n",
       "  </thead>\n",
       "  <tbody>\n",
       "    <tr>\n",
       "      <th>japan</th>\n",
       "      <td>12622</td>\n",
       "      <td>516700000</td>\n",
       "    </tr>\n",
       "    <tr>\n",
       "      <th>china</th>\n",
       "      <td>141178</td>\n",
       "      <td>140925000</td>\n",
       "    </tr>\n",
       "  </tbody>\n",
       "</table>\n",
       "</div>"
      ],
      "text/plain": [
       "Info     population        gdp\n",
       "Country                       \n",
       "japan         12622  516700000\n",
       "china        141178  140925000"
      ]
     },
     "execution_count": 7,
     "metadata": {},
     "output_type": "execute_result"
    }
   ],
   "source": [
    "country.iloc[1:3,:2]"
   ]
  },
  {
   "cell_type": "code",
   "execution_count": 8,
   "metadata": {},
   "outputs": [
    {
     "data": {
      "text/html": [
       "<div>\n",
       "<style scoped>\n",
       "    .dataframe tbody tr th:only-of-type {\n",
       "        vertical-align: middle;\n",
       "    }\n",
       "\n",
       "    .dataframe tbody tr th {\n",
       "        vertical-align: top;\n",
       "    }\n",
       "\n",
       "    .dataframe thead th {\n",
       "        text-align: right;\n",
       "    }\n",
       "</style>\n",
       "<table border=\"1\" class=\"dataframe\">\n",
       "  <thead>\n",
       "    <tr style=\"text-align: right;\">\n",
       "      <th>Info</th>\n",
       "      <th>population</th>\n",
       "      <th>gdp</th>\n",
       "      <th>gdp_per</th>\n",
       "    </tr>\n",
       "    <tr>\n",
       "      <th>Country</th>\n",
       "      <th></th>\n",
       "      <th></th>\n",
       "      <th></th>\n",
       "    </tr>\n",
       "  </thead>\n",
       "  <tbody>\n",
       "    <tr>\n",
       "      <th>korea</th>\n",
       "      <td>5182</td>\n",
       "      <td>169320000</td>\n",
       "      <td>32674.642995</td>\n",
       "    </tr>\n",
       "    <tr>\n",
       "      <th>japan</th>\n",
       "      <td>12622</td>\n",
       "      <td>516700000</td>\n",
       "      <td>40936.460149</td>\n",
       "    </tr>\n",
       "    <tr>\n",
       "      <th>china</th>\n",
       "      <td>141178</td>\n",
       "      <td>140925000</td>\n",
       "      <td>998.207936</td>\n",
       "    </tr>\n",
       "    <tr>\n",
       "      <th>usa</th>\n",
       "      <td>32976</td>\n",
       "      <td>2041280000</td>\n",
       "      <td>61901.989326</td>\n",
       "    </tr>\n",
       "  </tbody>\n",
       "</table>\n",
       "</div>"
      ],
      "text/plain": [
       "Info     population         gdp       gdp_per\n",
       "Country                                      \n",
       "korea          5182   169320000  32674.642995\n",
       "japan         12622   516700000  40936.460149\n",
       "china        141178   140925000    998.207936\n",
       "usa           32976  2041280000  61901.989326"
      ]
     },
     "execution_count": 8,
     "metadata": {},
     "output_type": "execute_result"
    }
   ],
   "source": [
    "# 컬럼추가(열추가) - 세로줄\n",
    "# country['test']=[11,22,33,44]\n",
    "# country.drop('test',axis=1) # axis는 축, 행(가로줄)이 0이고 열(세로줄)이 1임\n",
    "gdpper = country['gdp'] / country['population']\n",
    "country['gdp_per'] = gdpper\n",
    "country"
   ]
  },
  {
   "cell_type": "code",
   "execution_count": 9,
   "metadata": {
    "scrolled": true
   },
   "outputs": [
    {
     "data": {
      "text/html": [
       "<div>\n",
       "<style scoped>\n",
       "    .dataframe tbody tr th:only-of-type {\n",
       "        vertical-align: middle;\n",
       "    }\n",
       "\n",
       "    .dataframe tbody tr th {\n",
       "        vertical-align: top;\n",
       "    }\n",
       "\n",
       "    .dataframe thead th {\n",
       "        text-align: right;\n",
       "    }\n",
       "</style>\n",
       "<table border=\"1\" class=\"dataframe\">\n",
       "  <thead>\n",
       "    <tr style=\"text-align: right;\">\n",
       "      <th>Info</th>\n",
       "      <th>population</th>\n",
       "      <th>gdp</th>\n",
       "      <th>gdp_per</th>\n",
       "    </tr>\n",
       "    <tr>\n",
       "      <th>Country</th>\n",
       "      <th></th>\n",
       "      <th></th>\n",
       "      <th></th>\n",
       "    </tr>\n",
       "  </thead>\n",
       "  <tbody>\n",
       "    <tr>\n",
       "      <th>korea</th>\n",
       "      <td>5182</td>\n",
       "      <td>169320000</td>\n",
       "      <td>32674.642995</td>\n",
       "    </tr>\n",
       "    <tr>\n",
       "      <th>japan</th>\n",
       "      <td>12622</td>\n",
       "      <td>516700000</td>\n",
       "      <td>40936.460149</td>\n",
       "    </tr>\n",
       "    <tr>\n",
       "      <th>china</th>\n",
       "      <td>141178</td>\n",
       "      <td>140925000</td>\n",
       "      <td>998.207936</td>\n",
       "    </tr>\n",
       "    <tr>\n",
       "      <th>usa</th>\n",
       "      <td>32976</td>\n",
       "      <td>2041280000</td>\n",
       "      <td>61901.989326</td>\n",
       "    </tr>\n",
       "    <tr>\n",
       "      <th>india</th>\n",
       "      <td>142222</td>\n",
       "      <td>150505000</td>\n",
       "      <td>1058.239935</td>\n",
       "    </tr>\n",
       "  </tbody>\n",
       "</table>\n",
       "</div>"
      ],
      "text/plain": [
       "Info     population         gdp       gdp_per\n",
       "Country                                      \n",
       "korea          5182   169320000  32674.642995\n",
       "japan         12622   516700000  40936.460149\n",
       "china        141178   140925000    998.207936\n",
       "usa           32976  2041280000  61901.989326\n",
       "india        142222   150505000   1058.239935"
      ]
     },
     "execution_count": 9,
     "metadata": {},
     "output_type": "execute_result"
    }
   ],
   "source": [
    "# 행추가 방법1 - 가로줄\n",
    "country.loc['india'] = [142222,150505000,1212121]\n",
    "country.loc['india','gdp_per'] = country.loc['india','gdp']/country.loc['india','population']\n",
    "country"
   ]
  },
  {
   "cell_type": "code",
   "execution_count": 10,
   "metadata": {
    "scrolled": true
   },
   "outputs": [
    {
     "data": {
      "text/html": [
       "<div>\n",
       "<style scoped>\n",
       "    .dataframe tbody tr th:only-of-type {\n",
       "        vertical-align: middle;\n",
       "    }\n",
       "\n",
       "    .dataframe tbody tr th {\n",
       "        vertical-align: top;\n",
       "    }\n",
       "\n",
       "    .dataframe thead th {\n",
       "        text-align: right;\n",
       "    }\n",
       "</style>\n",
       "<table border=\"1\" class=\"dataframe\">\n",
       "  <thead>\n",
       "    <tr style=\"text-align: right;\">\n",
       "      <th>Info</th>\n",
       "      <th>population</th>\n",
       "      <th>gdp</th>\n",
       "      <th>gdp_per</th>\n",
       "    </tr>\n",
       "    <tr>\n",
       "      <th>Country</th>\n",
       "      <th></th>\n",
       "      <th></th>\n",
       "      <th></th>\n",
       "    </tr>\n",
       "  </thead>\n",
       "  <tbody>\n",
       "    <tr>\n",
       "      <th>korea</th>\n",
       "      <td>5182.0</td>\n",
       "      <td>1.693200e+08</td>\n",
       "      <td>32674.642995</td>\n",
       "    </tr>\n",
       "    <tr>\n",
       "      <th>japan</th>\n",
       "      <td>12622.0</td>\n",
       "      <td>5.167000e+08</td>\n",
       "      <td>40936.460149</td>\n",
       "    </tr>\n",
       "    <tr>\n",
       "      <th>china</th>\n",
       "      <td>141178.0</td>\n",
       "      <td>1.409250e+08</td>\n",
       "      <td>998.207936</td>\n",
       "    </tr>\n",
       "    <tr>\n",
       "      <th>usa</th>\n",
       "      <td>32976.0</td>\n",
       "      <td>2.041280e+09</td>\n",
       "      <td>61901.989326</td>\n",
       "    </tr>\n",
       "    <tr>\n",
       "      <th>india</th>\n",
       "      <td>142222.0</td>\n",
       "      <td>1.505050e+08</td>\n",
       "      <td>1058.239935</td>\n",
       "    </tr>\n",
       "    <tr>\n",
       "      <th>afirca</th>\n",
       "      <td>123456.0</td>\n",
       "      <td>7.777777e+06</td>\n",
       "      <td>NaN</td>\n",
       "    </tr>\n",
       "  </tbody>\n",
       "</table>\n",
       "</div>"
      ],
      "text/plain": [
       "Info     population           gdp       gdp_per\n",
       "Country                                        \n",
       "korea        5182.0  1.693200e+08  32674.642995\n",
       "japan       12622.0  5.167000e+08  40936.460149\n",
       "china      141178.0  1.409250e+08    998.207936\n",
       "usa         32976.0  2.041280e+09  61901.989326\n",
       "india      142222.0  1.505050e+08   1058.239935\n",
       "afirca     123456.0  7.777777e+06           NaN"
      ]
     },
     "execution_count": 10,
     "metadata": {},
     "output_type": "execute_result"
    }
   ],
   "source": [
    "# 행추가 방법2 - 가로줄\n",
    "africa = pd.Series( data = [123456,7777777], index=['population','gdp'])\n",
    "country.loc['afirca'] = africa\n",
    "# country.loc['africa','gdp_per'] = country.loc['africa','gdp']/country.loc['africa','population']\n",
    "country"
   ]
  },
  {
   "cell_type": "code",
   "execution_count": 11,
   "metadata": {},
   "outputs": [
    {
     "data": {
      "text/html": [
       "<div>\n",
       "<style scoped>\n",
       "    .dataframe tbody tr th:only-of-type {\n",
       "        vertical-align: middle;\n",
       "    }\n",
       "\n",
       "    .dataframe tbody tr th {\n",
       "        vertical-align: top;\n",
       "    }\n",
       "\n",
       "    .dataframe thead th {\n",
       "        text-align: right;\n",
       "    }\n",
       "</style>\n",
       "<table border=\"1\" class=\"dataframe\">\n",
       "  <thead>\n",
       "    <tr style=\"text-align: right;\">\n",
       "      <th>Info</th>\n",
       "      <th>population</th>\n",
       "      <th>gdp</th>\n",
       "      <th>gdp_per</th>\n",
       "    </tr>\n",
       "    <tr>\n",
       "      <th>Country</th>\n",
       "      <th></th>\n",
       "      <th></th>\n",
       "      <th></th>\n",
       "    </tr>\n",
       "  </thead>\n",
       "  <tbody>\n",
       "    <tr>\n",
       "      <th>korea</th>\n",
       "      <td>False</td>\n",
       "      <td>False</td>\n",
       "      <td>False</td>\n",
       "    </tr>\n",
       "    <tr>\n",
       "      <th>japan</th>\n",
       "      <td>False</td>\n",
       "      <td>False</td>\n",
       "      <td>False</td>\n",
       "    </tr>\n",
       "    <tr>\n",
       "      <th>china</th>\n",
       "      <td>False</td>\n",
       "      <td>False</td>\n",
       "      <td>False</td>\n",
       "    </tr>\n",
       "    <tr>\n",
       "      <th>usa</th>\n",
       "      <td>False</td>\n",
       "      <td>False</td>\n",
       "      <td>False</td>\n",
       "    </tr>\n",
       "    <tr>\n",
       "      <th>india</th>\n",
       "      <td>False</td>\n",
       "      <td>False</td>\n",
       "      <td>False</td>\n",
       "    </tr>\n",
       "    <tr>\n",
       "      <th>afirca</th>\n",
       "      <td>False</td>\n",
       "      <td>False</td>\n",
       "      <td>True</td>\n",
       "    </tr>\n",
       "  </tbody>\n",
       "</table>\n",
       "</div>"
      ],
      "text/plain": [
       "Info     population    gdp  gdp_per\n",
       "Country                            \n",
       "korea         False  False    False\n",
       "japan         False  False    False\n",
       "china         False  False    False\n",
       "usa           False  False    False\n",
       "india         False  False    False\n",
       "afirca        False  False     True"
      ]
     },
     "execution_count": 11,
     "metadata": {},
     "output_type": "execute_result"
    }
   ],
   "source": [
    "# 결측값(NaN) 확인하는 방법\n",
    "country.isnull()#.sum()"
   ]
  },
  {
   "cell_type": "code",
   "execution_count": null,
   "metadata": {
    "scrolled": true
   },
   "outputs": [],
   "source": [
    "# 열제거 drop(이름, axis=0)\n",
    "country = country.drop('africa', axis=0) # inplace = True 얘는 원본을 건드리는 애라 앞에 country = 이거 안넣어도 됨\n",
    "country"
   ]
  },
  {
   "cell_type": "code",
   "execution_count": 13,
   "metadata": {},
   "outputs": [],
   "source": [
    "# 테스트1 조건\n",
    "country = [country['population']> 140000]"
   ]
  },
  {
   "cell_type": "code",
   "execution_count": null,
   "metadata": {},
   "outputs": [],
   "source": [
    "# 테스트 2 조건 , 슬라이싱(loc,iloc 필수)\n",
    "country[(country['population']> 10000) & (country['population'] < 100000)].loc[:,:'population']"
   ]
  },
  {
   "cell_type": "code",
   "execution_count": 31,
   "metadata": {},
   "outputs": [
    {
     "name": "stdout",
     "output_type": "stream",
     "text": [
      "국어 성적 데이터:\n",
      "홍길동    80\n",
      "박철수    60\n",
      "김영희    70\n",
      "dtype: int64\n",
      "수학 성적 데이터:\n",
      "홍길동    70\n",
      "박철수    70\n",
      "김영희    90\n",
      "dtype: int64\n",
      "영어 성적 데이터:\n",
      "홍길동    80\n",
      "박철수    80\n",
      "김영희    80\n",
      "dtype: int64\n",
      "=========================\n",
      "데이터 프레임 생성:\n"
     ]
    },
    {
     "data": {
      "text/html": [
       "<div>\n",
       "<style scoped>\n",
       "    .dataframe tbody tr th:only-of-type {\n",
       "        vertical-align: middle;\n",
       "    }\n",
       "\n",
       "    .dataframe tbody tr th {\n",
       "        vertical-align: top;\n",
       "    }\n",
       "\n",
       "    .dataframe thead th {\n",
       "        text-align: right;\n",
       "    }\n",
       "</style>\n",
       "<table border=\"1\" class=\"dataframe\">\n",
       "  <thead>\n",
       "    <tr style=\"text-align: right;\">\n",
       "      <th>이름</th>\n",
       "      <th>국어</th>\n",
       "      <th>수학</th>\n",
       "      <th>영어</th>\n",
       "    </tr>\n",
       "  </thead>\n",
       "  <tbody>\n",
       "    <tr>\n",
       "      <th>홍길동</th>\n",
       "      <td>80</td>\n",
       "      <td>70</td>\n",
       "      <td>80</td>\n",
       "    </tr>\n",
       "    <tr>\n",
       "      <th>박철수</th>\n",
       "      <td>60</td>\n",
       "      <td>70</td>\n",
       "      <td>80</td>\n",
       "    </tr>\n",
       "    <tr>\n",
       "      <th>김영희</th>\n",
       "      <td>70</td>\n",
       "      <td>90</td>\n",
       "      <td>80</td>\n",
       "    </tr>\n",
       "  </tbody>\n",
       "</table>\n",
       "</div>"
      ],
      "text/plain": [
       "이름   국어  수학  영어\n",
       "홍길동  80  70  80\n",
       "박철수  60  70  80\n",
       "김영희  70  90  80"
      ]
     },
     "execution_count": 31,
     "metadata": {},
     "output_type": "execute_result"
    }
   ],
   "source": [
    "# 문제 1\n",
    "import numpy as np\n",
    "import pandas as pd\n",
    "\n",
    "print(\"국어 성적 데이터:\")\n",
    "korean_score = {\n",
    "    '홍길동':80,\n",
    "    '박철수':60,\n",
    "    '김영희':70\n",
    "}\n",
    "ks = pd.Series(korean_score)\n",
    "print(ks)\n",
    "\n",
    "print(\"수학 성적 데이터:\")\n",
    "math_score = {\n",
    "    '홍길동':70,\n",
    "    '박철수':70,\n",
    "    '김영희':90\n",
    "}\n",
    "ms = pd.Series(math_score)\n",
    "print(ms)\n",
    "\n",
    "print(\"영어 성적 데이터:\")\n",
    "english_score = {\n",
    "    '홍길동':80,\n",
    "    '박철수':80,\n",
    "    '김영희':80\n",
    "}\n",
    "es = pd.Series(english_score)\n",
    "print(es)\n",
    "\n",
    "print('='*25)\n",
    "print(\"데이터 프레임 생성:\")\n",
    "school = pd.DataFrame({ '국어':ks, '수학':ms, '영어':es})\n",
    "school.columns.name = \"이름\"\n",
    "school"
   ]
  },
  {
   "cell_type": "code",
   "execution_count": 32,
   "metadata": {},
   "outputs": [
    {
     "data": {
      "text/html": [
       "<div>\n",
       "<style scoped>\n",
       "    .dataframe tbody tr th:only-of-type {\n",
       "        vertical-align: middle;\n",
       "    }\n",
       "\n",
       "    .dataframe tbody tr th {\n",
       "        vertical-align: top;\n",
       "    }\n",
       "\n",
       "    .dataframe thead th {\n",
       "        text-align: right;\n",
       "    }\n",
       "</style>\n",
       "<table border=\"1\" class=\"dataframe\">\n",
       "  <thead>\n",
       "    <tr style=\"text-align: right;\">\n",
       "      <th>이름</th>\n",
       "      <th>국어</th>\n",
       "      <th>수학</th>\n",
       "    </tr>\n",
       "  </thead>\n",
       "  <tbody>\n",
       "    <tr>\n",
       "      <th>박철수</th>\n",
       "      <td>60</td>\n",
       "      <td>70</td>\n",
       "    </tr>\n",
       "  </tbody>\n",
       "</table>\n",
       "</div>"
      ],
      "text/plain": [
       "이름   국어  수학\n",
       "박철수  60  70"
      ]
     },
     "execution_count": 32,
     "metadata": {},
     "output_type": "execute_result"
    }
   ],
   "source": [
    "school.iloc[1:2,:2]"
   ]
  },
  {
   "cell_type": "code",
   "execution_count": 33,
   "metadata": {},
   "outputs": [
    {
     "data": {
      "text/html": [
       "<div>\n",
       "<style scoped>\n",
       "    .dataframe tbody tr th:only-of-type {\n",
       "        vertical-align: middle;\n",
       "    }\n",
       "\n",
       "    .dataframe tbody tr th {\n",
       "        vertical-align: top;\n",
       "    }\n",
       "\n",
       "    .dataframe thead th {\n",
       "        text-align: right;\n",
       "    }\n",
       "</style>\n",
       "<table border=\"1\" class=\"dataframe\">\n",
       "  <thead>\n",
       "    <tr style=\"text-align: right;\">\n",
       "      <th>이름</th>\n",
       "      <th>국어</th>\n",
       "      <th>수학</th>\n",
       "      <th>영어</th>\n",
       "    </tr>\n",
       "  </thead>\n",
       "  <tbody>\n",
       "    <tr>\n",
       "      <th>홍길동</th>\n",
       "      <td>80</td>\n",
       "      <td>70</td>\n",
       "      <td>80</td>\n",
       "    </tr>\n",
       "    <tr>\n",
       "      <th>박철수</th>\n",
       "      <td>60</td>\n",
       "      <td>70</td>\n",
       "      <td>80</td>\n",
       "    </tr>\n",
       "    <tr>\n",
       "      <th>김영희</th>\n",
       "      <td>70</td>\n",
       "      <td>90</td>\n",
       "      <td>80</td>\n",
       "    </tr>\n",
       "  </tbody>\n",
       "</table>\n",
       "</div>"
      ],
      "text/plain": [
       "이름   국어  수학  영어\n",
       "홍길동  80  70  80\n",
       "박철수  60  70  80\n",
       "김영희  70  90  80"
      ]
     },
     "execution_count": 33,
     "metadata": {},
     "output_type": "execute_result"
    }
   ],
   "source": [
    "school[school['수학'] >= 70]"
   ]
  },
  {
   "cell_type": "code",
   "execution_count": 34,
   "metadata": {},
   "outputs": [
    {
     "data": {
      "text/html": [
       "<div>\n",
       "<style scoped>\n",
       "    .dataframe tbody tr th:only-of-type {\n",
       "        vertical-align: middle;\n",
       "    }\n",
       "\n",
       "    .dataframe tbody tr th {\n",
       "        vertical-align: top;\n",
       "    }\n",
       "\n",
       "    .dataframe thead th {\n",
       "        text-align: right;\n",
       "    }\n",
       "</style>\n",
       "<table border=\"1\" class=\"dataframe\">\n",
       "  <thead>\n",
       "    <tr style=\"text-align: right;\">\n",
       "      <th>이름</th>\n",
       "      <th>국어</th>\n",
       "      <th>수학</th>\n",
       "      <th>영어</th>\n",
       "      <th>평균</th>\n",
       "    </tr>\n",
       "  </thead>\n",
       "  <tbody>\n",
       "    <tr>\n",
       "      <th>홍길동</th>\n",
       "      <td>80</td>\n",
       "      <td>70</td>\n",
       "      <td>80</td>\n",
       "      <td>76.666667</td>\n",
       "    </tr>\n",
       "    <tr>\n",
       "      <th>박철수</th>\n",
       "      <td>60</td>\n",
       "      <td>70</td>\n",
       "      <td>80</td>\n",
       "      <td>70.000000</td>\n",
       "    </tr>\n",
       "    <tr>\n",
       "      <th>김영희</th>\n",
       "      <td>70</td>\n",
       "      <td>90</td>\n",
       "      <td>80</td>\n",
       "      <td>80.000000</td>\n",
       "    </tr>\n",
       "  </tbody>\n",
       "</table>\n",
       "</div>"
      ],
      "text/plain": [
       "이름   국어  수학  영어         평균\n",
       "홍길동  80  70  80  76.666667\n",
       "박철수  60  70  80  70.000000\n",
       "김영희  70  90  80  80.000000"
      ]
     },
     "execution_count": 34,
     "metadata": {},
     "output_type": "execute_result"
    }
   ],
   "source": [
    "scoper = (school['국어']+school['수학']+school['영어']) / 3\n",
    "school['평균'] = scoper\n",
    "school"
   ]
  },
  {
   "cell_type": "code",
   "execution_count": 35,
   "metadata": {
    "scrolled": true
   },
   "outputs": [
    {
     "data": {
      "text/html": [
       "<div>\n",
       "<style scoped>\n",
       "    .dataframe tbody tr th:only-of-type {\n",
       "        vertical-align: middle;\n",
       "    }\n",
       "\n",
       "    .dataframe tbody tr th {\n",
       "        vertical-align: top;\n",
       "    }\n",
       "\n",
       "    .dataframe thead th {\n",
       "        text-align: right;\n",
       "    }\n",
       "</style>\n",
       "<table border=\"1\" class=\"dataframe\">\n",
       "  <thead>\n",
       "    <tr style=\"text-align: right;\">\n",
       "      <th>이름</th>\n",
       "      <th>국어</th>\n",
       "      <th>수학</th>\n",
       "      <th>영어</th>\n",
       "      <th>평균</th>\n",
       "    </tr>\n",
       "  </thead>\n",
       "  <tbody>\n",
       "    <tr>\n",
       "      <th>홍길동</th>\n",
       "      <td>80.0</td>\n",
       "      <td>70.0</td>\n",
       "      <td>80.0</td>\n",
       "      <td>76.666667</td>\n",
       "    </tr>\n",
       "    <tr>\n",
       "      <th>박철수</th>\n",
       "      <td>60.0</td>\n",
       "      <td>70.0</td>\n",
       "      <td>80.0</td>\n",
       "      <td>70.000000</td>\n",
       "    </tr>\n",
       "    <tr>\n",
       "      <th>김영희</th>\n",
       "      <td>70.0</td>\n",
       "      <td>90.0</td>\n",
       "      <td>80.0</td>\n",
       "      <td>80.000000</td>\n",
       "    </tr>\n",
       "    <tr>\n",
       "      <th>최자바</th>\n",
       "      <td>55.0</td>\n",
       "      <td>95.0</td>\n",
       "      <td>70.0</td>\n",
       "      <td>NaN</td>\n",
       "    </tr>\n",
       "  </tbody>\n",
       "</table>\n",
       "</div>"
      ],
      "text/plain": [
       "이름     국어    수학    영어         평균\n",
       "홍길동  80.0  70.0  80.0  76.666667\n",
       "박철수  60.0  70.0  80.0  70.000000\n",
       "김영희  70.0  90.0  80.0  80.000000\n",
       "최자바  55.0  95.0  70.0        NaN"
      ]
     },
     "execution_count": 35,
     "metadata": {},
     "output_type": "execute_result"
    }
   ],
   "source": [
    "최자바 = pd.Series( data = [55,95,70], index=['국어','수학','영어'])\n",
    "school.loc['최자바']=최자바\n",
    "# school.loc['최자바','평균'] = school.loc['최자바','국어'+'수학'+'영어']/3\n",
    "school"
   ]
  },
  {
   "cell_type": "code",
   "execution_count": 77,
   "metadata": {},
   "outputs": [
    {
     "data": {
      "text/html": [
       "<div>\n",
       "<style scoped>\n",
       "    .dataframe tbody tr th:only-of-type {\n",
       "        vertical-align: middle;\n",
       "    }\n",
       "\n",
       "    .dataframe tbody tr th {\n",
       "        vertical-align: top;\n",
       "    }\n",
       "\n",
       "    .dataframe thead th {\n",
       "        text-align: right;\n",
       "    }\n",
       "</style>\n",
       "<table border=\"1\" class=\"dataframe\">\n",
       "  <thead>\n",
       "    <tr style=\"text-align: right;\">\n",
       "      <th></th>\n",
       "      <th>이름</th>\n",
       "      <th>국어</th>\n",
       "      <th>수학</th>\n",
       "      <th>영어</th>\n",
       "    </tr>\n",
       "  </thead>\n",
       "  <tbody>\n",
       "    <tr>\n",
       "      <th>0</th>\n",
       "      <td>홍길동</td>\n",
       "      <td>80</td>\n",
       "      <td>70</td>\n",
       "      <td>90</td>\n",
       "    </tr>\n",
       "    <tr>\n",
       "      <th>1</th>\n",
       "      <td>박철수</td>\n",
       "      <td>60</td>\n",
       "      <td>70</td>\n",
       "      <td>80</td>\n",
       "    </tr>\n",
       "    <tr>\n",
       "      <th>2</th>\n",
       "      <td>김영희</td>\n",
       "      <td>70</td>\n",
       "      <td>90</td>\n",
       "      <td>80</td>\n",
       "    </tr>\n",
       "  </tbody>\n",
       "</table>\n",
       "</div>"
      ],
      "text/plain": [
       "    이름  국어  수학  영어\n",
       "0  홍길동  80  70  90\n",
       "1  박철수  60  70  80\n",
       "2  김영희  70  90  80"
      ]
     },
     "execution_count": 77,
     "metadata": {},
     "output_type": "execute_result"
    }
   ],
   "source": [
    "# 기본적인 방법\n",
    "data = {\n",
    "    '이름':['홍길동','박철수','김영희'],\n",
    "    '국어':[80,60,70],\n",
    "    '수학':[70,70,90],\n",
    "    '영어':[90,80,80]\n",
    "}\n",
    "df = pd.DataFrame(data)\n",
    "df"
   ]
  },
  {
   "cell_type": "code",
   "execution_count": 78,
   "metadata": {},
   "outputs": [
    {
     "data": {
      "text/html": [
       "<div>\n",
       "<style scoped>\n",
       "    .dataframe tbody tr th:only-of-type {\n",
       "        vertical-align: middle;\n",
       "    }\n",
       "\n",
       "    .dataframe tbody tr th {\n",
       "        vertical-align: top;\n",
       "    }\n",
       "\n",
       "    .dataframe thead th {\n",
       "        text-align: right;\n",
       "    }\n",
       "</style>\n",
       "<table border=\"1\" class=\"dataframe\">\n",
       "  <thead>\n",
       "    <tr style=\"text-align: right;\">\n",
       "      <th></th>\n",
       "      <th>이름</th>\n",
       "      <th>국어</th>\n",
       "      <th>수학</th>\n",
       "      <th>영어</th>\n",
       "    </tr>\n",
       "  </thead>\n",
       "  <tbody>\n",
       "    <tr>\n",
       "      <th>0</th>\n",
       "      <td>홍길동</td>\n",
       "      <td>80</td>\n",
       "      <td>70</td>\n",
       "      <td>80</td>\n",
       "    </tr>\n",
       "    <tr>\n",
       "      <th>1</th>\n",
       "      <td>박철수</td>\n",
       "      <td>60</td>\n",
       "      <td>70</td>\n",
       "      <td>80</td>\n",
       "    </tr>\n",
       "    <tr>\n",
       "      <th>2</th>\n",
       "      <td>김영희</td>\n",
       "      <td>70</td>\n",
       "      <td>90</td>\n",
       "      <td>80</td>\n",
       "    </tr>\n",
       "  </tbody>\n",
       "</table>\n",
       "</div>"
      ],
      "text/plain": [
       "    이름  국어  수학  영어\n",
       "0  홍길동  80  70  80\n",
       "1  박철수  60  70  80\n",
       "2  김영희  70  90  80"
      ]
     },
     "execution_count": 78,
     "metadata": {},
     "output_type": "execute_result"
    }
   ],
   "source": [
    "# 키값쌍으로 리스트에 저장하는 방법\n",
    "data = [\n",
    "    {'이름':'홍길동','국어':80, '수학':70, '영어':80},\n",
    "    {'이름':'박철수','국어':60, '수학':70, '영어':80},\n",
    "    {'이름':'김영희','국어':70, '수학':90, '영어':80}]\n",
    "df = pd.DataFrame(data)\n",
    "df"
   ]
  },
  {
   "cell_type": "code",
   "execution_count": 79,
   "metadata": {},
   "outputs": [
    {
     "data": {
      "text/html": [
       "<div>\n",
       "<style scoped>\n",
       "    .dataframe tbody tr th:only-of-type {\n",
       "        vertical-align: middle;\n",
       "    }\n",
       "\n",
       "    .dataframe tbody tr th {\n",
       "        vertical-align: top;\n",
       "    }\n",
       "\n",
       "    .dataframe thead th {\n",
       "        text-align: right;\n",
       "    }\n",
       "</style>\n",
       "<table border=\"1\" class=\"dataframe\">\n",
       "  <thead>\n",
       "    <tr style=\"text-align: right;\">\n",
       "      <th></th>\n",
       "      <th>이름</th>\n",
       "      <th>국어</th>\n",
       "      <th>수학</th>\n",
       "      <th>영어</th>\n",
       "    </tr>\n",
       "  </thead>\n",
       "  <tbody>\n",
       "    <tr>\n",
       "      <th>0</th>\n",
       "      <td>홍길동</td>\n",
       "      <td>80</td>\n",
       "      <td>70</td>\n",
       "      <td>80</td>\n",
       "    </tr>\n",
       "    <tr>\n",
       "      <th>1</th>\n",
       "      <td>박철수</td>\n",
       "      <td>60</td>\n",
       "      <td>70</td>\n",
       "      <td>80</td>\n",
       "    </tr>\n",
       "    <tr>\n",
       "      <th>2</th>\n",
       "      <td>김영희</td>\n",
       "      <td>70</td>\n",
       "      <td>90</td>\n",
       "      <td>80</td>\n",
       "    </tr>\n",
       "  </tbody>\n",
       "</table>\n",
       "</div>"
      ],
      "text/plain": [
       "    이름  국어  수학  영어\n",
       "0  홍길동  80  70  80\n",
       "1  박철수  60  70  80\n",
       "2  김영희  70  90  80"
      ]
     },
     "execution_count": 79,
     "metadata": {},
     "output_type": "execute_result"
    }
   ],
   "source": [
    "# 리스트에 튜플로 저장하는 방법\n",
    "data = [\n",
    "    ('홍길동',80,70,80),\n",
    "    ('박철수',60,70,80),\n",
    "    ('김영희',70,90,80)]\n",
    "df = pd.DataFrame(data,columns=['이름','국어','수학','영어'])\n",
    "df"
   ]
  },
  {
   "cell_type": "code",
   "execution_count": 80,
   "metadata": {},
   "outputs": [],
   "source": [
    "import numpy as np\n",
    "# data0 = [\n",
    "#     ('홍길동',80,70,80),\n",
    "#     ('박철수',60,70,80),\n",
    "#     ('김영희',70,90,80)]\n",
    "# data = np.array(data0)\n",
    "data = np.array([['홍길동',80,70,80],['박철수',60,70,80],['김영희',70,90,80]]) # 위에꺼랑 다르게 속도 빠름\n",
    "df = pd.DataFrame(data,columns=['이름','국어','수학','영어'])"
   ]
  },
  {
   "cell_type": "code",
   "execution_count": 81,
   "metadata": {},
   "outputs": [
    {
     "data": {
      "text/html": [
       "<div>\n",
       "<style scoped>\n",
       "    .dataframe tbody tr th:only-of-type {\n",
       "        vertical-align: middle;\n",
       "    }\n",
       "\n",
       "    .dataframe tbody tr th {\n",
       "        vertical-align: top;\n",
       "    }\n",
       "\n",
       "    .dataframe thead th {\n",
       "        text-align: right;\n",
       "    }\n",
       "</style>\n",
       "<table border=\"1\" class=\"dataframe\">\n",
       "  <thead>\n",
       "    <tr style=\"text-align: right;\">\n",
       "      <th></th>\n",
       "      <th>이름</th>\n",
       "      <th>국어</th>\n",
       "      <th>수학</th>\n",
       "      <th>영어</th>\n",
       "    </tr>\n",
       "  </thead>\n",
       "  <tbody>\n",
       "    <tr>\n",
       "      <th>0</th>\n",
       "      <td>홍길동</td>\n",
       "      <td>80</td>\n",
       "      <td>70</td>\n",
       "      <td>80</td>\n",
       "    </tr>\n",
       "    <tr>\n",
       "      <th>1</th>\n",
       "      <td>박철수</td>\n",
       "      <td>60</td>\n",
       "      <td>70</td>\n",
       "      <td>80</td>\n",
       "    </tr>\n",
       "    <tr>\n",
       "      <th>2</th>\n",
       "      <td>김영희</td>\n",
       "      <td>70</td>\n",
       "      <td>90</td>\n",
       "      <td>80</td>\n",
       "    </tr>\n",
       "  </tbody>\n",
       "</table>\n",
       "</div>"
      ],
      "text/plain": [
       "    이름  국어  수학  영어\n",
       "0  홍길동  80  70  80\n",
       "1  박철수  60  70  80\n",
       "2  김영희  70  90  80"
      ]
     },
     "execution_count": 81,
     "metadata": {},
     "output_type": "execute_result"
    }
   ],
   "source": [
    "# 1\n",
    "df"
   ]
  },
  {
   "cell_type": "code",
   "execution_count": 82,
   "metadata": {},
   "outputs": [
    {
     "data": {
      "text/html": [
       "<div>\n",
       "<style scoped>\n",
       "    .dataframe tbody tr th:only-of-type {\n",
       "        vertical-align: middle;\n",
       "    }\n",
       "\n",
       "    .dataframe tbody tr th {\n",
       "        vertical-align: top;\n",
       "    }\n",
       "\n",
       "    .dataframe thead th {\n",
       "        text-align: right;\n",
       "    }\n",
       "</style>\n",
       "<table border=\"1\" class=\"dataframe\">\n",
       "  <thead>\n",
       "    <tr style=\"text-align: right;\">\n",
       "      <th></th>\n",
       "      <th>이름</th>\n",
       "      <th>국어</th>\n",
       "      <th>수학</th>\n",
       "    </tr>\n",
       "  </thead>\n",
       "  <tbody>\n",
       "    <tr>\n",
       "      <th>1</th>\n",
       "      <td>박철수</td>\n",
       "      <td>60</td>\n",
       "      <td>70</td>\n",
       "    </tr>\n",
       "  </tbody>\n",
       "</table>\n",
       "</div>"
      ],
      "text/plain": [
       "    이름  국어  수학\n",
       "1  박철수  60  70"
      ]
     },
     "execution_count": 82,
     "metadata": {},
     "output_type": "execute_result"
    }
   ],
   "source": [
    "# 2\n",
    "df.iloc[1:2,:3]"
   ]
  },
  {
   "cell_type": "code",
   "execution_count": 83,
   "metadata": {
    "scrolled": true
   },
   "outputs": [
    {
     "data": {
      "text/html": [
       "<div>\n",
       "<style scoped>\n",
       "    .dataframe tbody tr th:only-of-type {\n",
       "        vertical-align: middle;\n",
       "    }\n",
       "\n",
       "    .dataframe tbody tr th {\n",
       "        vertical-align: top;\n",
       "    }\n",
       "\n",
       "    .dataframe thead th {\n",
       "        text-align: right;\n",
       "    }\n",
       "</style>\n",
       "<table border=\"1\" class=\"dataframe\">\n",
       "  <thead>\n",
       "    <tr style=\"text-align: right;\">\n",
       "      <th></th>\n",
       "      <th>이름</th>\n",
       "      <th>국어</th>\n",
       "      <th>수학</th>\n",
       "    </tr>\n",
       "  </thead>\n",
       "  <tbody>\n",
       "    <tr>\n",
       "      <th>1</th>\n",
       "      <td>박철수</td>\n",
       "      <td>60</td>\n",
       "      <td>70</td>\n",
       "    </tr>\n",
       "  </tbody>\n",
       "</table>\n",
       "</div>"
      ],
      "text/plain": [
       "    이름  국어  수학\n",
       "1  박철수  60  70"
      ]
     },
     "execution_count": 83,
     "metadata": {},
     "output_type": "execute_result"
    }
   ],
   "source": [
    "df.loc[1:1,:'수학'] # 앞에 인덱스 때문에 이렇게 가능(?)"
   ]
  },
  {
   "cell_type": "code",
   "execution_count": 84,
   "metadata": {},
   "outputs": [
    {
     "data": {
      "text/html": [
       "<div>\n",
       "<style scoped>\n",
       "    .dataframe tbody tr th:only-of-type {\n",
       "        vertical-align: middle;\n",
       "    }\n",
       "\n",
       "    .dataframe tbody tr th {\n",
       "        vertical-align: top;\n",
       "    }\n",
       "\n",
       "    .dataframe thead th {\n",
       "        text-align: right;\n",
       "    }\n",
       "</style>\n",
       "<table border=\"1\" class=\"dataframe\">\n",
       "  <thead>\n",
       "    <tr style=\"text-align: right;\">\n",
       "      <th></th>\n",
       "      <th>이름</th>\n",
       "      <th>국어</th>\n",
       "      <th>수학</th>\n",
       "      <th>영어</th>\n",
       "    </tr>\n",
       "  </thead>\n",
       "  <tbody>\n",
       "    <tr>\n",
       "      <th>0</th>\n",
       "      <td>홍길동</td>\n",
       "      <td>80</td>\n",
       "      <td>70</td>\n",
       "      <td>80</td>\n",
       "    </tr>\n",
       "    <tr>\n",
       "      <th>2</th>\n",
       "      <td>김영희</td>\n",
       "      <td>70</td>\n",
       "      <td>90</td>\n",
       "      <td>80</td>\n",
       "    </tr>\n",
       "  </tbody>\n",
       "</table>\n",
       "</div>"
      ],
      "text/plain": [
       "    이름  국어  수학  영어\n",
       "0  홍길동  80  70  80\n",
       "2  김영희  70  90  80"
      ]
     },
     "execution_count": 84,
     "metadata": {},
     "output_type": "execute_result"
    }
   ],
   "source": [
    "# 3\n",
    "# print(df['국어'].dtype)\n",
    "df[df['국어'].astype(int)>=70] # 데이터타입을 int로 바꿔줘야 계산이 됨"
   ]
  },
  {
   "cell_type": "code",
   "execution_count": 86,
   "metadata": {
    "scrolled": true
   },
   "outputs": [
    {
     "name": "stdout",
     "output_type": "stream",
     "text": [
      "평균 float64\n"
     ]
    },
    {
     "data": {
      "text/html": [
       "<div>\n",
       "<style scoped>\n",
       "    .dataframe tbody tr th:only-of-type {\n",
       "        vertical-align: middle;\n",
       "    }\n",
       "\n",
       "    .dataframe tbody tr th {\n",
       "        vertical-align: top;\n",
       "    }\n",
       "\n",
       "    .dataframe thead th {\n",
       "        text-align: right;\n",
       "    }\n",
       "</style>\n",
       "<table border=\"1\" class=\"dataframe\">\n",
       "  <thead>\n",
       "    <tr style=\"text-align: right;\">\n",
       "      <th></th>\n",
       "      <th>이름</th>\n",
       "      <th>국어</th>\n",
       "      <th>수학</th>\n",
       "      <th>영어</th>\n",
       "      <th>평균</th>\n",
       "    </tr>\n",
       "  </thead>\n",
       "  <tbody>\n",
       "    <tr>\n",
       "      <th>0</th>\n",
       "      <td>홍길동</td>\n",
       "      <td>80</td>\n",
       "      <td>70</td>\n",
       "      <td>80</td>\n",
       "      <td>77.0</td>\n",
       "    </tr>\n",
       "    <tr>\n",
       "      <th>1</th>\n",
       "      <td>박철수</td>\n",
       "      <td>60</td>\n",
       "      <td>70</td>\n",
       "      <td>80</td>\n",
       "      <td>70.0</td>\n",
       "    </tr>\n",
       "    <tr>\n",
       "      <th>2</th>\n",
       "      <td>김영희</td>\n",
       "      <td>70</td>\n",
       "      <td>90</td>\n",
       "      <td>80</td>\n",
       "      <td>80.0</td>\n",
       "    </tr>\n",
       "  </tbody>\n",
       "</table>\n",
       "</div>"
      ],
      "text/plain": [
       "    이름  국어  수학  영어    평균\n",
       "0  홍길동  80  70  80  77.0\n",
       "1  박철수  60  70  80  70.0\n",
       "2  김영희  70  90  80  80.0"
      ]
     },
     "execution_count": 86,
     "metadata": {},
     "output_type": "execute_result"
    }
   ],
   "source": [
    "# 4\n",
    "df['평균'] = (df['국어'].astype(int) + df['수학'].astype(int) + df['영어'].astype(int))/3\n",
    "print('평균',df['평균'].dtype)\n",
    "df.round()"
   ]
  },
  {
   "cell_type": "code",
   "execution_count": 66,
   "metadata": {},
   "outputs": [
    {
     "data": {
      "text/html": [
       "<div>\n",
       "<style scoped>\n",
       "    .dataframe tbody tr th:only-of-type {\n",
       "        vertical-align: middle;\n",
       "    }\n",
       "\n",
       "    .dataframe tbody tr th {\n",
       "        vertical-align: top;\n",
       "    }\n",
       "\n",
       "    .dataframe thead th {\n",
       "        text-align: right;\n",
       "    }\n",
       "</style>\n",
       "<table border=\"1\" class=\"dataframe\">\n",
       "  <thead>\n",
       "    <tr style=\"text-align: right;\">\n",
       "      <th></th>\n",
       "      <th>이름</th>\n",
       "      <th>국어</th>\n",
       "      <th>수학</th>\n",
       "      <th>영어</th>\n",
       "      <th>평균</th>\n",
       "    </tr>\n",
       "  </thead>\n",
       "  <tbody>\n",
       "    <tr>\n",
       "      <th>0</th>\n",
       "      <td>홍길동</td>\n",
       "      <td>80</td>\n",
       "      <td>70</td>\n",
       "      <td>80</td>\n",
       "      <td>76.666667</td>\n",
       "    </tr>\n",
       "    <tr>\n",
       "      <th>1</th>\n",
       "      <td>박철수</td>\n",
       "      <td>60</td>\n",
       "      <td>70</td>\n",
       "      <td>80</td>\n",
       "      <td>70.000000</td>\n",
       "    </tr>\n",
       "    <tr>\n",
       "      <th>2</th>\n",
       "      <td>김영희</td>\n",
       "      <td>70</td>\n",
       "      <td>90</td>\n",
       "      <td>80</td>\n",
       "      <td>80.000000</td>\n",
       "    </tr>\n",
       "    <tr>\n",
       "      <th>3</th>\n",
       "      <td>최자바</td>\n",
       "      <td>55</td>\n",
       "      <td>95</td>\n",
       "      <td>70</td>\n",
       "      <td>77.000000</td>\n",
       "    </tr>\n",
       "  </tbody>\n",
       "</table>\n",
       "</div>"
      ],
      "text/plain": [
       "    이름  국어  수학  영어         평균\n",
       "0  홍길동  80  70  80  76.666667\n",
       "1  박철수  60  70  80  70.000000\n",
       "2  김영희  70  90  80  80.000000\n",
       "3  최자바  55  95  70  77.000000"
      ]
     },
     "execution_count": 66,
     "metadata": {},
     "output_type": "execute_result"
    }
   ],
   "source": [
    "# 5\n",
    "# iloc, loc # iloc가 인덱스 기준이라 iloc가 더 빠름\n",
    "# df.iloc[3] = ('최자바',55,95,70,77) # 근데 iloc는 수정할수없음(?)\n",
    "df.loc[3] = ('최자바',55,95,70,77) # 수정할때는 loc\n",
    "df"
   ]
  },
  {
   "cell_type": "code",
   "execution_count": null,
   "metadata": {},
   "outputs": [],
   "source": []
  }
 ],
 "metadata": {
  "colab": {
   "provenance": [],
   "toc_visible": true
  },
  "kernelspec": {
   "display_name": "Python 3 (ipykernel)",
   "language": "python",
   "name": "python3"
  },
  "language_info": {
   "codemirror_mode": {
    "name": "ipython",
    "version": 3
   },
   "file_extension": ".py",
   "mimetype": "text/x-python",
   "name": "python",
   "nbconvert_exporter": "python",
   "pygments_lexer": "ipython3",
   "version": "3.13.1"
  }
 },
 "nbformat": 4,
 "nbformat_minor": 4
}
