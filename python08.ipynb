{
 "cells": [
  {
   "cell_type": "markdown",
   "id": "1e214c62-bc23-413e-8b32-166a02e8781c",
   "metadata": {},
   "source": [
    "# 외부 라이브러리"
   ]
  },
  {
   "cell_type": "markdown",
   "id": "40e772a9-8db9-4664-ae70-60036e02139d",
   "metadata": {},
   "source": [
    "## pip *"
   ]
  },
  {
   "cell_type": "markdown",
   "id": "30cb9100-f24a-4120-aad2-a95127e22621",
   "metadata": {},
   "source": [
    "- venv1 생성 후 백업: pip freeze > requirements.txt\n",
    "- venv2 생성 후 복구: pip install -r requirements.txt\n",
    "- venv3 jupyterlab 설치후 matplotlib 설치 후 백업하고\n",
    "- venv4 에 pip 리스트 그대로 복구하라.\n",
    "- venv5 에 numpy 2.2.2 버전으로 복구되도록 requirements.txt 수정 후 복구하라."
   ]
  },
  {
   "cell_type": "markdown",
   "id": "f60baacf-22d6-4f8c-a2a7-8f085c8e7045",
   "metadata": {},
   "source": [
    "## Faker"
   ]
  },
  {
   "cell_type": "code",
   "execution_count": 2,
   "id": "7dc5483e-1273-441a-806a-03e661257d87",
   "metadata": {},
   "outputs": [],
   "source": [
    "# !pip install Faker "
   ]
  },
  {
   "cell_type": "code",
   "execution_count": 12,
   "id": "38ba4196-5c6a-4b15-8272-a9d10b0baa5e",
   "metadata": {
    "scrolled": true
   },
   "outputs": [
    {
     "data": {
      "text/plain": [
       "[{'name': '문은경',\n",
       "  'id': 'xson',\n",
       "  'phone': '062-402-7349',\n",
       "  'email': 'coemyeongja@example.com'},\n",
       " {'name': '김정순',\n",
       "  'id': 'seunghyeonhan',\n",
       "  'phone': '053-844-6193',\n",
       "  'email': 'hanseohyeon@example.com'},\n",
       " {'name': '류하윤',\n",
       "  'id': 'mijeong51',\n",
       "  'phone': '033-156-9646',\n",
       "  'email': 'egim@example.org'},\n",
       " {'name': '김춘자',\n",
       "  'id': 'ki',\n",
       "  'phone': '041-150-2249',\n",
       "  'email': 'gimjaeho@example.org'},\n",
       " {'name': '최경희',\n",
       "  'id': 'jihui',\n",
       "  'phone': '055-186-5849',\n",
       "  'email': 'eunjeong71@example.net'},\n",
       " {'name': '김지우',\n",
       "  'id': 'yeongsug17',\n",
       "  'phone': '016-693-9122',\n",
       "  'email': 'yeonghyigim@example.org'},\n",
       " {'name': '박현준',\n",
       "  'id': 'bagyeweon',\n",
       "  'phone': '041-564-4188',\n",
       "  'email': 'yeonggil81@example.org'},\n",
       " {'name': '이춘자',\n",
       "  'id': 'caeweon34',\n",
       "  'phone': '052-906-8904',\n",
       "  'email': 'seojungim@example.org'},\n",
       " {'name': '서수민',\n",
       "  'id': 'eunji39',\n",
       "  'phone': '070-9288-5291',\n",
       "  'email': 'jaehogim@example.org'},\n",
       " {'name': '장경희',\n",
       "  'id': 'aryu',\n",
       "  'phone': '062-357-2595',\n",
       "  'email': 'fan@example.com'}]"
      ]
     },
     "execution_count": 12,
     "metadata": {},
     "output_type": "execute_result"
    }
   ],
   "source": [
    "from faker import Faker\n",
    "fake = Faker('ko-KR')\n",
    "[{'name':fake.name(),'id':fake.user_name(),'phone':fake.phone_number(),'email':fake.email()}for n in range(10)]"
   ]
  },
  {
   "cell_type": "markdown",
   "id": "e9abc907-26d9-4eb8-802b-0b60a0f76b08",
   "metadata": {},
   "source": [
    "<table style=\"float:left;width:400px\">\n",
    "<thead>\n",
    "<tr>\n",
    "<th>항목</th>\n",
    "<th>설명</th>\n",
    "</tr>\n",
    "</thead>\n",
    "<tbody>\n",
    "<tr>\n",
    "<td>fake.name()</td>\n",
    "<td>이름</td>\n",
    "</tr>\n",
    "<tr>\n",
    "<td>fake.address()</td>\n",
    "<td>주소</td>\n",
    "</tr>\n",
    "<tr>\n",
    "<td>fake.postcode()</td>\n",
    "<td>우편 번호</td>\n",
    "</tr>\n",
    "<tr>\n",
    "<td>fake.country()</td>\n",
    "<td>국가명</td>\n",
    "</tr>\n",
    "<tr>\n",
    "<td>fake.company()</td>\n",
    "<td>회사명</td>\n",
    "</tr>\n",
    "<tr>\n",
    "<td>fake.job()</td>\n",
    "<td>직업명</td>\n",
    "</tr>\n",
    "<tr>\n",
    "<td>fake.phone_number()</td>\n",
    "<td>휴대전화 번호</td>\n",
    "</tr>\n",
    "<tr>\n",
    "<td>fake.email()</td>\n",
    "<td>이메일 주소</td>\n",
    "</tr>\n",
    "<tr>\n",
    "<td>fake.user_name()</td>\n",
    "<td>사용자명</td>\n",
    "</tr>\n",
    "<tr>\n",
    "<td>fake.pyint(min_value=0, max_value=100)</td>\n",
    "<td>0부터 100 사이의 임의의 숫자</td>\n",
    "</tr>\n",
    "<tr>\n",
    "<td>fake.ipv4_private()</td>\n",
    "<td>IP 주소</td>\n",
    "</tr>\n",
    "<tr>\n",
    "<td>fake.text()</td>\n",
    "<td>임의의 문장 (한글 임의의 문장은 <code>fake.catch_phrase()</code> 사용)</td>\n",
    "</tr>\n",
    "<tr>\n",
    "<td>fake.color_name()</td>\n",
    "<td>색상명</td>\n",
    "</tr>\n",
    "</tbody>\n",
    "</table>"
   ]
  },
  {
   "cell_type": "code",
   "execution_count": null,
   "id": "afef9242-8e07-46eb-aef9-dd8bf20881dc",
   "metadata": {},
   "outputs": [],
   "source": [
    "# sympy # 그냥 한번 해보기(이건 챗지피티 사용 추천)\n",
    "from fractions import Fraction\n",
    "import sympy\n",
    "\n",
    "x = sympy.symbols(\"x\")"
   ]
  },
  {
   "cell_type": "code",
   "execution_count": 3,
   "id": "62b7ceeb-a827-4ee7-bcca-9ffbc541568a",
   "metadata": {
    "scrolled": true
   },
   "outputs": [
    {
     "name": "stdout",
     "output_type": "stream",
     "text": [
      "1위: REBEL HEART / IVE (아이브)\n",
      "2위: HOME SWEET HOME (feat. 태양, 대성) / G-DRAGON\n",
      "3위: 나는 반딧불 / 황가람\n",
      "4위: Whiplash / aespa\n",
      "5위: APT. / 로제 (ROSÉ)\n",
      "6위: 오늘만 I LOVE YOU / Bruno Mars\n",
      "7위: Drowning / BOYNEXTDOOR\n",
      "8위: ATTITUDE / WOODZ\n",
      "9위: toxic till the end / IVE (아이브)\n",
      "10위: Dash / 로제 (ROSÉ)\n",
      "11위: POWER / PLAVE\n",
      "12위: HAPPY / G-DRAGON\n",
      "13위: 내게 사랑이 뭐냐고 물어본다면 / DAY6 (데이식스)\n",
      "14위: RIZZ / 로이킴\n",
      "15위: DRIP / PLAVE\n",
      "16위: Island / BABYMONSTER\n",
      "17위: Chroma Drift / PLAVE\n",
      "18위: 12:32 (A to T) / PLAVE\n",
      "19위: 소나기 / PLAVE\n",
      "20위: 너와의 모든 지금 / 이클립스 (ECLIPSE)\n",
      " "
     ]
    }
   ],
   "source": [
    "# 반정형 데이터임\n",
    "import requests as req\n",
    "from bs4 import BeautifulSoup as bs\n",
    "url = \"https://www.melon.com/chart/index.htm\"\n",
    "headers = {'User-Agent':'Mozilla/5.0 (Windows NT 10.0; Win64; x64) AppleWebKit/537.36 (KHTML, like Gecko) Chrome/133.0.0.0 Safari/537.36 Edg/133.0.0.0'}\n",
    "web = req.get(url, headers = headers)\n",
    "soup = bs(web.content, 'html.parser')\n",
    "\n",
    "title = soup.select('.rank01')[:20] # 20위까지\n",
    "name = soup.select('.checkEllipsis a')[:20]\n",
    "str = ''\n",
    "for i, (t, n) in enumerate(zip(title, name),1):\n",
    "    str += f'{i}위: {t.text.strip()} / {n.text}\\n' \n",
    "print(str, end=' ')"
   ]
  },
  {
   "cell_type": "code",
   "execution_count": 4,
   "id": "fc04e30b-c21a-48cd-8127-355c3d7c1760",
   "metadata": {},
   "outputs": [
    {
     "name": "stdout",
     "output_type": "stream",
     "text": [
      "1위: REBEL HEART / IVE (아이브)\n",
      "2위: HOME SWEET HOME (feat. 태양, 대성) / G-DRAGON\n",
      "3위: 나는 반딧불 / 황가람\n",
      "4위: Whiplash / aespa\n",
      "5위: APT. / 로제 (ROSÉ)\n",
      "6위: 오늘만 I LOVE YOU / Bruno Mars\n",
      "7위: Drowning / BOYNEXTDOOR\n",
      "8위: ATTITUDE / WOODZ\n",
      "9위: toxic till the end / IVE (아이브)\n",
      "10위: Dash / 로제 (ROSÉ)\n",
      "11위: POWER / PLAVE\n",
      "12위: HAPPY / G-DRAGON\n",
      "13위: 내게 사랑이 뭐냐고 물어본다면 / DAY6 (데이식스)\n",
      "14위: RIZZ / 로이킴\n",
      "15위: DRIP / PLAVE\n",
      "16위: Chroma Drift / BABYMONSTER\n",
      "17위: Island / PLAVE\n",
      "18위: 소나기 / PLAVE\n",
      "19위: 12:32 (A to T) / 이클립스 (ECLIPSE)\n",
      "20위: 너와의 모든 지금 / PLAVE\n",
      " "
     ]
    }
   ],
   "source": [
    "import melon\n",
    "melon.mel()"
   ]
  },
  {
   "cell_type": "code",
   "execution_count": null,
   "id": "82f6bab8-dd9e-4380-9be9-0c390f6f011d",
   "metadata": {},
   "outputs": [],
   "source": []
  }
 ],
 "metadata": {
  "kernelspec": {
   "display_name": "Python 3 (ipykernel)",
   "language": "python",
   "name": "python3"
  },
  "language_info": {
   "codemirror_mode": {
    "name": "ipython",
    "version": 3
   },
   "file_extension": ".py",
   "mimetype": "text/x-python",
   "name": "python",
   "nbconvert_exporter": "python",
   "pygments_lexer": "ipython3",
   "version": "3.13.1"
  }
 },
 "nbformat": 4,
 "nbformat_minor": 5
}
