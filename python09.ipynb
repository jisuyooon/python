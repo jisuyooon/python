{
 "cells": [
  {
   "cell_type": "code",
   "execution_count": 5,
   "id": "1f49d508-01ef-4039-a18f-454ed7f31e31",
   "metadata": {
    "scrolled": true
   },
   "outputs": [],
   "source": [
    "!pip install -q -U google-genai"
   ]
  },
  {
   "cell_type": "code",
   "execution_count": 9,
   "id": "0b12a413-f595-455d-8d97-5db2449ca8c5",
   "metadata": {
    "id": "VAo-IR-MJljh",
    "scrolled": true
   },
   "outputs": [
    {
     "name": "stdout",
     "output_type": "stream",
     "text": [
      "Pandas는 파이썬에서 데이터를 효율적으로 다루고 분석하기 위한 핵심 라이브러리입니다. \n",
      "\n",
      "*   **데이터 구조**: Series(1차원), DataFrame(2차원)이라는 강력한 데이터 구조를 제공하여 엑셀처럼 데이터를 테이블 형태로 관리할 수 있습니다.\n",
      "\n",
      "*   **데이터 처리**: 데이터 정렬, 필터링, 그룹화, 결합 등 다양한 데이터 처리 및 변환 기능을 제공합니다.\n",
      "\n",
      "*   **데이터 분석**: 통계 분석, 시각화 기능을 내장하고 있어 데이터 분석을 용이하게 해줍니다.\n",
      "\n",
      "쉽게 말해, Pandas는 파이썬으로 엑셀 작업을 훨씬 빠르고 효율적으로 할 수 있게 도와주는 도구라고 생각하면 됩니다.\n",
      "\n"
     ]
    },
    {
     "data": {
      "text/plain": [
       "'Pandas는 파이썬에서 데이터를 효율적으로 다루고 분석하기 위한 핵심 라이브러리입니다. \\n\\n*   **데이터 구조**: Series(1차원), DataFrame(2차원)이라는 강력한 데이터 구조를 제공하여 엑셀처럼 데이터를 테이블 형태로 관리할 수 있습니다.\\n\\n*   **데이터 처리**: 데이터 정렬, 필터링, 그룹화, 결합 등 다양한 데이터 처리 및 변환 기능을 제공합니다.\\n\\n*   **데이터 분석**: 통계 분석, 시각화 기능을 내장하고 있어 데이터 분석을 용이하게 해줍니다.\\n\\n쉽게 말해, Pandas는 파이썬으로 엑셀 작업을 훨씬 빠르고 효율적으로 할 수 있게 도와주는 도구라고 생각하면 됩니다.\\n'"
      ]
     },
     "execution_count": 9,
     "metadata": {},
     "output_type": "execute_result"
    }
   ],
   "source": [
    "# 구글 제미나이 AI\n",
    "from google import genai\n",
    "def aiai(text):\n",
    "    client = genai.Client(api_key=\"\")\n",
    "    response = client.models.generate_content(model=\"gemini-2.0-flash\",contents=text + \";단, 200자 이내 그리고 서술형으로 친절하게 알려줘.\")\n",
    "    answer = response.text\n",
    "    print(answer)\n",
    "    return answer\n",
    "aiai(\"pandas에 대해서 궁금해\")"
   ]
  },
  {
   "cell_type": "code",
   "execution_count": null,
   "id": "cf129d97-b1ef-4d1f-a1b7-7f619e7a942b",
   "metadata": {},
   "outputs": [],
   "source": []
  }
 ],
 "metadata": {
  "kernelspec": {
   "display_name": "Python 3 (ipykernel)",
   "language": "python",
   "name": "python3"
  },
  "language_info": {
   "codemirror_mode": {
    "name": "ipython",
    "version": 3
   },
   "file_extension": ".py",
   "mimetype": "text/x-python",
   "name": "python",
   "nbconvert_exporter": "python",
   "pygments_lexer": "ipython3",
   "version": "3.13.1"
  }
 },
 "nbformat": 4,
 "nbformat_minor": 5
}
