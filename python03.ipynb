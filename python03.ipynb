{
 "cells": [
  {
   "cell_type": "markdown",
   "id": "ca837ffe-1b38-48dc-befa-6e0f4763d89b",
   "metadata": {},
   "source": [
    "# 제어문"
   ]
  },
  {
   "cell_type": "markdown",
   "id": "148d8468-54f4-44fd-af10-1ed4666df346",
   "metadata": {},
   "source": [
    "## if 문"
   ]
  },
  {
   "cell_type": "code",
   "execution_count": 28,
   "id": "740d7ced-94a4-4541-9daf-7733a9350400",
   "metadata": {},
   "outputs": [
    {
     "name": "stdout",
     "output_type": "stream",
     "text": [
      "항상 동작합니다!\n",
      "5가 큽니다\n"
     ]
    }
   ],
   "source": [
    "if True:\n",
    "    print(\"항상 동작합니다!\")\n",
    "if False:\n",
    "    print(\"항상 동작할까요?\")   \n",
    "if [1,3]: #True가 됐던 애들은 다 나옴\n",
    "    print(\"5가 큽니다\")\n",
    "if 4 > 10:\n",
    "    print(\"나올까요?\")"
   ]
  },
  {
   "cell_type": "code",
   "execution_count": 3,
   "id": "10858fa0-11c8-461e-bf8b-d6e2fc88ba0d",
   "metadata": {},
   "outputs": [
    {
     "name": "stdout",
     "output_type": "stream",
     "text": [
      "가라\n"
     ]
    }
   ],
   "source": [
    "if False:\n",
    "    print(\"택시를\")\n",
    "    print(\"타고\")\n",
    "print(\"가라\")"
   ]
  },
  {
   "cell_type": "code",
   "execution_count": 6,
   "id": "c7557587-5cca-4677-ae1e-baeb23eb71c9",
   "metadata": {},
   "outputs": [
    {
     "name": "stdin",
     "output_type": "stream",
     "text": [
      "얼마 가지고 있습니까? 5000\n"
     ]
    },
    {
     "name": "stdout",
     "output_type": "stream",
     "text": [
      "택시타고 가세요.\n"
     ]
    }
   ],
   "source": [
    "mymoney = int(input('얼마 가지고 있습니까?'))\n",
    "if mymoney >= 3000:\n",
    "    print('택시타고 가세요.')\n",
    "# if mymoney < 3000:\n",
    "else:\n",
    "    print('걸어가세요.')    "
   ]
  },
  {
   "cell_type": "code",
   "execution_count": 8,
   "id": "aeca585b-b83e-4b55-bf49-27e89ad5e334",
   "metadata": {},
   "outputs": [],
   "source": [
    "# and, or, not"
   ]
  },
  {
   "cell_type": "code",
   "execution_count": 10,
   "id": "bcb48ccb-7458-4466-876a-c827db193b9f",
   "metadata": {},
   "outputs": [
    {
     "name": "stdout",
     "output_type": "stream",
     "text": [
      "==== and 연산 ====\n",
      "True\n",
      "False\n",
      "False\n",
      "False\n",
      "==== or 연산 ====\n",
      "True\n",
      "True\n",
      "True\n",
      "False\n",
      "==== not 연산 ====\n",
      "True\n",
      "False\n",
      "True\n"
     ]
    }
   ],
   "source": [
    "print(\"==== and 연산 ====\")\n",
    "print(True and True)\n",
    "print(True and False)\n",
    "print(False and True)\n",
    "print(False and False)\n",
    "print(\"==== or 연산 ====\")\n",
    "print(True or True)\n",
    "print(True or False)\n",
    "print(False or True)\n",
    "print(False or False)    \n",
    "print(\"==== not 연산 ====\")\n",
    "print(True)\n",
    "print(not True)\n",
    "print(not False)"
   ]
  },
  {
   "cell_type": "code",
   "execution_count": 15,
   "id": "d892f74f-c3bc-4ec9-8270-a23e2c7c62e2",
   "metadata": {},
   "outputs": [
    {
     "name": "stdout",
     "output_type": "stream",
     "text": [
      "만납시다\n"
     ]
    }
   ],
   "source": [
    "이상형 = True\n",
    "똑똑 = True\n",
    "if 이상형 and 똑똑: #무조건 둘다 충족되야함\n",
    "    print(\"만납시다\")\n",
    "else:\n",
    "    print(\"그래여..\")"
   ]
  },
  {
   "cell_type": "code",
   "execution_count": 18,
   "id": "ad1a5190-205b-4581-914b-9e29a0e07a83",
   "metadata": {},
   "outputs": [
    {
     "name": "stdout",
     "output_type": "stream",
     "text": [
      "그렇군요..\n"
     ]
    }
   ],
   "source": [
    "이상형 = False\n",
    "다정 = False\n",
    "if 이상형 or 다정: #둘중 하나만 충족되면 됨\n",
    "    print(\"만납시다\")\n",
    "else:\n",
    "    print(\"그렇군요..\")"
   ]
  },
  {
   "cell_type": "code",
   "execution_count": 21,
   "id": "38cbc2d5-15c2-40b1-941e-fb0d9158fa72",
   "metadata": {},
   "outputs": [
    {
     "name": "stdout",
     "output_type": "stream",
     "text": [
      "잘가요\n"
     ]
    }
   ],
   "source": [
    "주사 = True\n",
    "if not 주사:\n",
    "    print(\"만나요\")\n",
    "else:\n",
    "    print(\"잘가요\")"
   ]
  },
  {
   "cell_type": "code",
   "execution_count": 24,
   "id": "3a131c31-eb91-4e01-a75c-371a3e7e9b52",
   "metadata": {},
   "outputs": [
    {
     "name": "stdout",
     "output_type": "stream",
     "text": [
      "택시를 타고 가라\n"
     ]
    }
   ],
   "source": [
    "money = 2000\n",
    "card = True\n",
    "if money >= 3000 or card:\n",
    "    print(\"택시를 타고 가라\")\n",
    "else:\n",
    "    print(\"걸어가라\")"
   ]
  },
  {
   "cell_type": "code",
   "execution_count": 32,
   "id": "5d87b02d-2a6d-42ff-a605-2dd5b19f45a0",
   "metadata": {},
   "outputs": [
    {
     "name": "stdout",
     "output_type": "stream",
     "text": [
      "A회사 불합격입니다.\n",
      "B회사 합격입니다.\n",
      "C회사 합격입니다.\n"
     ]
    }
   ],
   "source": [
    "me = 'Python'\n",
    "compA = ['JAVA','CSS','Javascript','C','MySQL']\n",
    "compB = ['JAVA','Python','Javascript','C','MySQL']\n",
    "compC = ['JAVA','Python','HTML','MySQL']\n",
    "if me in compA:\n",
    "    print(\"A회사 합격입니다.\")\n",
    "else:\n",
    "    print(\"A회사 불합격입니다.\")\n",
    "if me in compB:\n",
    "    print(\"B회사 합격입니다.\")\n",
    "else:\n",
    "    print(\"B회사 불합격입니다.\")\n",
    "if me in compC:\n",
    "    print(\"C회사 합격입니다.\")\n",
    "else:\n",
    "    print(\"C회사 불합격입니다.\")"
   ]
  },
  {
   "cell_type": "code",
   "execution_count": 40,
   "id": "85226862-e7d4-464d-8123-4b0ef9858aef",
   "metadata": {},
   "outputs": [
    {
     "name": "stdin",
     "output_type": "stream",
     "text": [
      "점수를 입력하세요. 90\n"
     ]
    },
    {
     "name": "stdout",
     "output_type": "stream",
     "text": [
      "학점:A\n"
     ]
    }
   ],
   "source": [
    "# 연습문제1\n",
    "me = int(input(\"점수를 입력하세요.\"))\n",
    "\n",
    "if me >= 90 and me <= 100: #and는 파이썬에서 안써도 됨 한번에 가능 밑에 예시\n",
    "    grade = 'A'\n",
    "if me >= 80 and me < 90:\n",
    "    grade = 'B'\n",
    "if me >= 70 and me < 80:\n",
    "    grade = 'C'\n",
    "if me >= 60 and me < 70:\n",
    "    grade = 'D'\n",
    "if me < 60:\n",
    "    grade = 'F'\n",
    "\n",
    "print(f\"학점:{grade}\")"
   ]
  },
  {
   "cell_type": "code",
   "execution_count": 9,
   "id": "61815a9f-4b4d-4150-8578-d0faa049b43e",
   "metadata": {},
   "outputs": [
    {
     "name": "stdin",
     "output_type": "stream",
     "text": [
      "점수를 입력하세요. \n"
     ]
    },
    {
     "name": "stdout",
     "output_type": "stream",
     "text": [
      "C 학점입니다.\n"
     ]
    }
   ],
   "source": [
    "# 연습문제1 방법1 if만 사용\n",
    "점수 = int(input(\"점수를 입력하세요.\") or 77)\n",
    "grade = 'F'\n",
    "if 90 <= 점수: grade = 'A'\n",
    "if 80 <= 점수 < 90: grade = 'B'\n",
    "if 70 <= 점수 < 80: grade = 'C'\n",
    "if 60 <= 점수 < 70: grade = 'D'\n",
    "print(f\"{grade} 학점입니다.\")"
   ]
  },
  {
   "cell_type": "code",
   "execution_count": 1,
   "id": "405b8578-4bef-4a9c-8678-501a2d46a88b",
   "metadata": {},
   "outputs": [
    {
     "name": "stdin",
     "output_type": "stream",
     "text": [
      "점수를 입력하세요. 30\n"
     ]
    },
    {
     "name": "stdout",
     "output_type": "stream",
     "text": [
      "F 학점입니다.\n"
     ]
    }
   ],
   "source": [
    "# 연습문제1 방법2 if, elif, else 사용 #배치를 잘해야함(순서 중요) #위에꺼보다 효율적임\n",
    "score = int(input(\"점수를 입력하세요.\") or 37) # or뒤에 넣은 수는 디폴트값, 아무것도 안치면 37점으로 학점 계산.\n",
    "if 90 <= score : grade = 'A'\n",
    "elif 80 <= score: grade = 'B'\n",
    "elif 70 <= score: grade = 'C'\n",
    "elif 60 <= score: grade = 'D'\n",
    "else: grade = 'F'\n",
    "print(f\"{grade} 학점입니다.\")"
   ]
  },
  {
   "cell_type": "code",
   "execution_count": 3,
   "id": "ae8badd3-7026-4818-9f21-7eee05917431",
   "metadata": {},
   "outputs": [
    {
     "name": "stdin",
     "output_type": "stream",
     "text": [
      "온도를 입력하세요. 7\n"
     ]
    },
    {
     "name": "stdout",
     "output_type": "stream",
     "text": [
      "계절은 겨울❤️👽입니다.\n"
     ]
    }
   ],
   "source": [
    "# 연습문제2\n",
    "온도 = int(input(\"온도를 입력하세요.\"))\n",
    "# 온도 = float(input(\"온도를 입력하세요.\"))\n",
    "if 25 <= 온도 : 계절 = '여름'\n",
    "elif 15 <= 온도 < 25 : 계절 = '봄'\n",
    "elif 10 <= 온도 < 15 : 계절 = '가을'\n",
    "else: 계절 = '겨울❤️👽'\n",
    "print(f\"계절은 {계절}입니다.\")"
   ]
  },
  {
   "cell_type": "markdown",
   "id": "f93a05c2-382d-4073-8972-1347bad2511e",
   "metadata": {},
   "source": [
    "## while 문"
   ]
  },
  {
   "cell_type": "code",
   "execution_count": 24,
   "id": "f6f0309f-6ada-4c0e-8dbb-89858e8fea7f",
   "metadata": {},
   "outputs": [
    {
     "name": "stdout",
     "output_type": "stream",
     "text": [
      "나무를 1번 찍었습니다.\n",
      "나무를 2번 찍었습니다.\n",
      "나무를 3번 찍었습니다.\n",
      "나무를 4번 찍었습니다.\n",
      "나무를 5번 찍었습니다.\n",
      "나무를 6번 찍었습니다.\n",
      "나무를 7번 찍었습니다.\n",
      "나무를 8번 찍었습니다.\n",
      "나무를 9번 찍었습니다.\n",
      "나무를 10번 찍었습니다.\n",
      "나무 넘어갑니다.\n"
     ]
    }
   ],
   "source": [
    "treeHit = 0\n",
    "while treeHit < 10:\n",
    "    treeHit = treeHit + 1\n",
    "    print(\"나무를 %d번 찍었습니다.\" % treeHit)\n",
    "    if treeHit == 10:\n",
    "        print(\"나무 넘어갑니다.\")"
   ]
  },
  {
   "cell_type": "code",
   "execution_count": 26,
   "id": "930b7e34-31d7-47b7-8aa9-5404457d122c",
   "metadata": {},
   "outputs": [
    {
     "name": "stdout",
     "output_type": "stream",
     "text": [
      "나무를 1번 찍었습니다.\n",
      "나무를 2번 찍었습니다.\n",
      "나무를 3번 찍었습니다.\n",
      "나무를 4번 찍었습니다.\n",
      "나무를 5번 찍었습니다.\n",
      "나무를 6번 찍었습니다.\n",
      "나무를 7번 찍었습니다.\n",
      "나무를 8번 찍었습니다.\n",
      "나무를 9번 찍었습니다.\n",
      "나무를 10번 찍었습니다.\n",
      "나무 넘어갑니다.\n"
     ]
    }
   ],
   "source": [
    "namu = 10\n",
    "while namu:\n",
    "    namu -=1\n",
    "    print(f\"나무를 {10 - namu}번 찍었습니다.\")\n",
    "print(\"나무 넘어갑니다.\")"
   ]
  },
  {
   "cell_type": "code",
   "execution_count": 2,
   "id": "611a7098-7cfe-4c03-8906-6ce4773fb161",
   "metadata": {},
   "outputs": [
    {
     "name": "stdout",
     "output_type": "stream",
     "text": [
      "시스템이 종료되었습니다.\n"
     ]
    }
   ],
   "source": [
    "from IPython.display import clear_output\n",
    "print(\"선택해 주세요.\")\n",
    "prompt = \"\"\"\n",
    "    1. Add\n",
    "    2. Del\n",
    "    3. List\n",
    "    4. Quit\n",
    "\"\"\"\n",
    "number = 0\n",
    "while number != 4:\n",
    "    print(prompt)\n",
    "    number = int(input())\n",
    "    clear_output(wait=True) # 이전 질문 지우기\n",
    "print(\"시스템이 종료되었습니다.\")"
   ]
  },
  {
   "cell_type": "code",
   "execution_count": 35,
   "id": "5fe2108d-ede1-4f22-86c7-668c30ef5534",
   "metadata": {},
   "outputs": [
    {
     "name": "stdout",
     "output_type": "stream",
     "text": [
      "1 나 화났어!\n",
      "2 나 화났어!\n",
      "3 나 화났어!\n",
      "4 나 화났어!\n",
      "5 나 화났어!\n",
      "6 나 화났어!\n",
      "7 나 화났어!\n",
      "8 나 화났어!\n",
      "9 나 화났어!\n",
      "10 나 화났어!\n"
     ]
    }
   ],
   "source": [
    "num = 0 # 초기값 중요\n",
    "while True:\n",
    "    num+=1 #이거 위치에 따라 달라짐 #더하고 나서 보여줄래 보여주고나서 뺄래\n",
    "    print(num, \"나 화났어!\") #멈추려면 ee 누르기\n",
    "    if num >= 10:\n",
    "        break #while의 진정제는 break"
   ]
  },
  {
   "cell_type": "code",
   "execution_count": 1,
   "id": "da9c03d3-079c-430f-aaf6-06a63eca5bcb",
   "metadata": {},
   "outputs": [
    {
     "name": "stdin",
     "output_type": "stream",
     "text": [
      "돈을 넣어 주세요. 1000\n"
     ]
    },
    {
     "name": "stdout",
     "output_type": "stream",
     "text": [
      "거스름돈 700를 주고 커피를 줍니다.\n"
     ]
    },
    {
     "name": "stdin",
     "output_type": "stream",
     "text": [
      "돈을 넣어 주세요. 1000\n"
     ]
    },
    {
     "name": "stdout",
     "output_type": "stream",
     "text": [
      "거스름돈 700를 주고 커피를 줍니다.\n"
     ]
    },
    {
     "name": "stdin",
     "output_type": "stream",
     "text": [
      "돈을 넣어 주세요. 0\n"
     ]
    },
    {
     "name": "stdout",
     "output_type": "stream",
     "text": [
      "돈을 다시 돌려 주고 커피를 주지 않습니다.\n",
      "남은 커피의 양의 1개입니다.\n"
     ]
    },
    {
     "name": "stdin",
     "output_type": "stream",
     "text": [
      "돈을 넣어 주세요. 300\n"
     ]
    },
    {
     "name": "stdout",
     "output_type": "stream",
     "text": [
      "커피를 줍니다.\n",
      "커피가 다 떨어졌습니다. 판매를 중지합니다.\n"
     ]
    }
   ],
   "source": [
    "# p137 개인숙제\n",
    "coffee = 3\n",
    "while True:\n",
    "    money = int(input(\"돈을 넣어 주세요.\"))\n",
    "    if money == 300:\n",
    "        print(\"커피를 줍니다.\")\n",
    "        coffee = coffee - 1\n",
    "    elif money > 300:\n",
    "        print(\"거스름돈 %d를 주고 커피를 줍니다.\" % (money - 300))\n",
    "        coffee = coffee - 1\n",
    "    else:\n",
    "        print(\"돈을 다시 돌려 주고 커피를 주지 않습니다.\")\n",
    "        print(\"남은 커피의 양의 %d개입니다.\" % coffee)\n",
    "    if coffee == 0:\n",
    "        print(\"커피가 다 떨어졌습니다. 판매를 중지합니다.\")\n",
    "        break"
   ]
  },
  {
   "cell_type": "code",
   "execution_count": 68,
   "id": "71395672-d595-41e1-99ee-36bb732aa16c",
   "metadata": {},
   "outputs": [
    {
     "data": {
      "text/plain": [
       "['BPF',\n",
       " 'LOG4',\n",
       " 'NV_MAGICCONST',\n",
       " 'RECIP_BPF',\n",
       " 'Random',\n",
       " 'SG_MAGICCONST',\n",
       " 'SystemRandom',\n",
       " 'TWOPI',\n",
       " '_ONE',\n",
       " '_Sequence',\n",
       " '__all__',\n",
       " '__builtins__',\n",
       " '__cached__',\n",
       " '__doc__',\n",
       " '__file__',\n",
       " '__loader__',\n",
       " '__name__',\n",
       " '__package__',\n",
       " '__spec__',\n",
       " '_accumulate',\n",
       " '_acos',\n",
       " '_bisect',\n",
       " '_ceil',\n",
       " '_cos',\n",
       " '_e',\n",
       " '_exp',\n",
       " '_fabs',\n",
       " '_floor',\n",
       " '_index',\n",
       " '_inst',\n",
       " '_isfinite',\n",
       " '_lgamma',\n",
       " '_log',\n",
       " '_log2',\n",
       " '_os',\n",
       " '_parse_args',\n",
       " '_pi',\n",
       " '_random',\n",
       " '_repeat',\n",
       " '_sha512',\n",
       " '_sin',\n",
       " '_sqrt',\n",
       " '_test',\n",
       " '_test_generator',\n",
       " '_urandom',\n",
       " 'betavariate',\n",
       " 'binomialvariate',\n",
       " 'choice',\n",
       " 'choices',\n",
       " 'expovariate',\n",
       " 'gammavariate',\n",
       " 'gauss',\n",
       " 'getrandbits',\n",
       " 'getstate',\n",
       " 'lognormvariate',\n",
       " 'main',\n",
       " 'normalvariate',\n",
       " 'paretovariate',\n",
       " 'randbytes',\n",
       " 'randint',\n",
       " 'random',\n",
       " 'randrange',\n",
       " 'sample',\n",
       " 'seed',\n",
       " 'setstate',\n",
       " 'shuffle',\n",
       " 'triangular',\n",
       " 'uniform',\n",
       " 'vonmisesvariate',\n",
       " 'weibullvariate']"
      ]
     },
     "execution_count": 68,
     "metadata": {},
     "output_type": "execute_result"
    }
   ],
   "source": [
    "dir(r)"
   ]
  },
  {
   "cell_type": "code",
   "execution_count": 24,
   "id": "3175ca15-3a23-4011-944d-1cf4ba5eaa65",
   "metadata": {},
   "outputs": [],
   "source": [
    "# random 주사위\n",
    "import random as r\n",
    "# ran = r.random()*6 + 1\n",
    "# 0부터 6까지 랜덤으로 숫자가 나옴(5.999까지 나와서 + 1 해주면 6도 나옴)\n",
    "box = [] # 초기화 중요함, 디폴트값 중요"
   ]
  },
  {
   "cell_type": "code",
   "execution_count": 26,
   "id": "acb15889-8dbd-40b5-8bc0-ff03dbee749a",
   "metadata": {},
   "outputs": [
    {
     "name": "stdout",
     "output_type": "stream",
     "text": [
      "검증 결과 횟수 이상이 있습니다. 이유:(100000회 목표로 동작하였으나, 200000으로 측정되었습니다.)\n",
      "1이(가) 33386번, (16.69%) 나왔습니다.\n",
      "2이(가) 33615번, (16.81%) 나왔습니다.\n",
      "3이(가) 33262번, (16.63%) 나왔습니다.\n",
      "4이(가) 33304번, (16.65%) 나왔습니다.\n",
      "5이(가) 33116번, (16.56%) 나왔습니다.\n",
      "6이(가) 33317번, (16.66%) 나왔습니다.\n"
     ]
    }
   ],
   "source": [
    "num = 0 # 아래 조건에서 10보다 작으니까 True가 됨(?)\n",
    "target = 100000\n",
    "while num < target: # 총 10번만 반복하도록 설정\n",
    "    num = num + 1\n",
    "    ran = r.randint(1,6) # 1에서 6까지 나옴\n",
    "    box.append(ran)\n",
    "if target == len(box):\n",
    "    print(f\"{target}회 정상 진행되었습니다.\")\n",
    "else:\n",
    "    print(f\"검증 결과 횟수 이상이 있습니다. 이유:({target}회 목표로 동작하였으나, {len(box)}으로 측정되었습니다.)\")\n",
    "    \n",
    "# print(len(box)) # 랜덤값들이 계속 나옴\n",
    "\n",
    "# 리스트의 특정한 숫자를 몇개인지 찾아내는 함수써서 # %로 표현 # 소수점 두자리 까지만 표현✌️\n",
    "    # 1이 몇번 등장했는지?\n",
    "    # 2가 몇번 등장했는지\n",
    "    # ...\n",
    "    # 6이 몇번 등장했는지\n",
    "\n",
    "print(f'1이(가) {box.count(1)}번, ({(box.count(1)/len(box))*100:.2f}%) 나왔습니다.')\n",
    "print(f'2이(가) {box.count(2)}번, ({(box.count(2)/len(box))*100:.2f}%) 나왔습니다.')\n",
    "print(f'3이(가) {box.count(3)}번, ({(box.count(3)/len(box))*100:.2f}%) 나왔습니다.')\n",
    "print(f'4이(가) {box.count(4)}번, ({(box.count(4)/len(box))*100:.2f}%) 나왔습니다.')\n",
    "print(f'5이(가) {box.count(5)}번, ({(box.count(5)/len(box))*100:.2f}%) 나왔습니다.')\n",
    "print(f'6이(가) {box.count(6)}번, ({(box.count(6)/len(box))*100:.2f}%) 나왔습니다.')\n",
    "\n",
    "#print(\"\") 6번이 가장 많이) 출현하였습니다.\n",
    "# 개인 숙제-> max(): 가장 큰 수, min(): 가장 작은 수"
   ]
  },
  {
   "cell_type": "markdown",
   "id": "8526b832-883d-4103-bda3-d7dd8e562629",
   "metadata": {},
   "source": [
    "## for 문"
   ]
  },
  {
   "cell_type": "code",
   "execution_count": 28,
   "id": "0ab94820-71e8-43b4-b2c1-834a5f7e7add",
   "metadata": {},
   "outputs": [
    {
     "name": "stdout",
     "output_type": "stream",
     "text": [
      "one\n",
      "two\n",
      "three\n"
     ]
    }
   ],
   "source": [
    "# 기본 for 문\n",
    "test_list = ['one', 'two', 'three']\n",
    "for i in test_list:\n",
    "    print(i)"
   ]
  },
  {
   "cell_type": "code",
   "execution_count": 31,
   "id": "63f4ebef-93a2-46d8-a327-2137a344143a",
   "metadata": {},
   "outputs": [
    {
     "name": "stdout",
     "output_type": "stream",
     "text": [
      "1 2 11\n",
      "3 4 33\n",
      "5 6 55\n"
     ]
    }
   ],
   "source": [
    "# 다양한 for 문의 사용\n",
    "a = [(1,2,11),(3,4,33),(5,6,55)]\n",
    "for (x, y, z) in a:\n",
    "    print(x, y, z)"
   ]
  },
  {
   "cell_type": "code",
   "execution_count": 36,
   "id": "5fd3983d-b8a9-49ea-859c-0812984113b6",
   "metadata": {},
   "outputs": [
    {
     "name": "stdout",
     "output_type": "stream",
     "text": [
      "1번 학생은 합격입니다.\n",
      "2번 학생은 불합격입니다.\n",
      "3번 학생은 합격입니다.\n",
      "4번 학생은 불합격입니다.\n",
      "5번 학생은 합격입니다.\n"
     ]
    }
   ],
   "source": [
    "# p143 marks1.py\n",
    "marks = [90, 25, 67, 45, 80]\n",
    "\n",
    "number = 0\n",
    "for mark in marks:\n",
    "    number = number + 1\n",
    "    # continue # 컨티뉴 여기 넣으면 다 건너뜀, 밑에 단 다 무시됨\n",
    "    if mark >= 60:\n",
    "        print(\"%d번 학생은 합격입니다.\" % number)\n",
    "    else:\n",
    "        print(\"%d번 학생은 불합격입니다.\" % number)"
   ]
  },
  {
   "cell_type": "code",
   "execution_count": 37,
   "id": "885b8bcc-2fd1-4481-87b6-1bcc96db69b1",
   "metadata": {},
   "outputs": [
    {
     "name": "stdout",
     "output_type": "stream",
     "text": [
      "1번 학생 축하합니다. 합격입니다.\n",
      "3번 학생 축하합니다. 합격입니다.\n",
      "5번 학생 축하합니다. 합격입니다.\n"
     ]
    }
   ],
   "source": [
    "# p144 marks2.py \n",
    "marks = [90,25,67,45,80]\n",
    "\n",
    "number = 0\n",
    "for mark in marks:\n",
    "    number = number + 1\n",
    "    if mark < 60:\n",
    "        continue # 60점 이하는 다 무시\n",
    "    print(\"%d번 학생 축하합니다. 합격입니다.\" % number)"
   ]
  },
  {
   "cell_type": "code",
   "execution_count": 44,
   "id": "d697be6e-8ad6-45ac-a10d-2a2f7e4f0316",
   "metadata": {},
   "outputs": [
    {
     "name": "stdout",
     "output_type": "stream",
     "text": [
      "1\n",
      "3\n",
      "5\n",
      "7\n",
      "9\n"
     ]
    }
   ],
   "source": [
    "# 연습문제\n",
    "marks = [1,2,3,4,5,6,7,8,9,10]\n",
    "\n",
    "for x in marks:\n",
    "    if x % 2 == 0: # 만약 짝수가 되면 건너뛰어라는 뜻\n",
    "        continue\n",
    "    print(x)"
   ]
  },
  {
   "cell_type": "code",
   "execution_count": 3,
   "id": "5b9a6ddb-aab9-48b8-b548-1eceb62af842",
   "metadata": {},
   "outputs": [
    {
     "name": "stdout",
     "output_type": "stream",
     "text": [
      "range(0, 10)\n"
     ]
    }
   ],
   "source": [
    "# range 함수\n",
    "a = range(10)\n",
    "print(a)"
   ]
  },
  {
   "cell_type": "code",
   "execution_count": 9,
   "id": "c0d99245-48fb-43dc-8bbb-ce81c8e2e4f6",
   "metadata": {},
   "outputs": [
    {
     "name": "stdout",
     "output_type": "stream",
     "text": [
      "0\n",
      "1\n",
      "2\n",
      "3\n",
      "4\n"
     ]
    }
   ],
   "source": [
    "# for n in range(10): # 바로 아래꺼랑 같은 결과물 나옴\n",
    "# for n in range(0,10):\n",
    "# for n in range(10,50,2): # 10부터 50까지 2스탭씩\n",
    "for n in range(5):\n",
    "    print(n)"
   ]
  },
  {
   "cell_type": "code",
   "execution_count": 11,
   "id": "8fa58d3b-a6c7-4b11-b68a-ad3525b7bbf8",
   "metadata": {},
   "outputs": [
    {
     "name": "stdout",
     "output_type": "stream",
     "text": [
      "[1, 2, 3, 4, 5, 6, 7, 8, 9, 10]\n"
     ]
    }
   ],
   "source": [
    "la = list(range(1,11))\n",
    "# la = list(range(0,100,2)) #짝수만 출력 가능\n",
    "print(la)"
   ]
  },
  {
   "cell_type": "code",
   "execution_count": 21,
   "id": "58692890-485d-43e2-bd25-b3b59281f90a",
   "metadata": {},
   "outputs": [
    {
     "name": "stdout",
     "output_type": "stream",
     "text": [
      "0\n",
      "2\n",
      "4\n",
      "6\n",
      "8\n"
     ]
    }
   ],
   "source": [
    "# for even in range(1,10,2): # 홀수만 출력하려면\n",
    "for even in range(0,10,2):\n",
    "    print(even)"
   ]
  },
  {
   "cell_type": "code",
   "execution_count": 26,
   "id": "53c2da09-4f4b-4fcf-b374-908bb796efb7",
   "metadata": {},
   "outputs": [
    {
     "name": "stdout",
     "output_type": "stream",
     "text": [
      "55\n"
     ]
    }
   ],
   "source": [
    "add = 0\n",
    "for n in range(1,11):\n",
    "    add += n\n",
    "print(add)"
   ]
  },
  {
   "cell_type": "code",
   "execution_count": 27,
   "id": "b22fea91-4b79-40e4-bfbd-cd68d864ba1e",
   "metadata": {},
   "outputs": [
    {
     "name": "stdout",
     "output_type": "stream",
     "text": [
      "8515\n"
     ]
    }
   ],
   "source": [
    "add = 0\n",
    "for n in range(1,131):\n",
    "    add += n\n",
    "print(add)"
   ]
  },
  {
   "cell_type": "code",
   "execution_count": 28,
   "id": "f2b8d1c4-e119-4a07-9c25-b8b38048aabc",
   "metadata": {},
   "outputs": [
    {
     "name": "stdout",
     "output_type": "stream",
     "text": [
      "1번 학생 축하합니다. 합격입니다.\n",
      "3번 학생 축하합니다. 합격입니다.\n",
      "5번 학생 축하합니다. 합격입니다.\n"
     ]
    }
   ],
   "source": [
    "# p145 marks3.py\n",
    "marks = [90, 25, 67, 45, 80]\n",
    "for number in range(len(marks)):\n",
    "    if marks[number] < 60:\n",
    "        continue\n",
    "    print(\"%d번 학생 축하합니다. 합격입니다.\" % (number + 1))"
   ]
  },
  {
   "cell_type": "code",
   "execution_count": 34,
   "id": "e9ddbdb1-e648-46fa-82bf-6676770497fc",
   "metadata": {},
   "outputs": [
    {
     "name": "stdout",
     "output_type": "stream",
     "text": [
      "     March 2025\n",
      "Su Mo Tu We Th Fr Sa\n",
      "                   1\n",
      " 2  3  4  5  6  7  8\n",
      " 9 10 11 12 13 14 15\n",
      "16 17 18 19 20 21 22\n",
      "23 24 25 26 27 28 29\n",
      "30 31\n",
      "\n"
     ]
    }
   ],
   "source": [
    "# 연습\n",
    "import calendar\n",
    "c = calendar.TextCalendar(calendar.SUNDAY)\n",
    "print(c.formatmonth(2025,3))"
   ]
  },
  {
   "cell_type": "code",
   "execution_count": null,
   "id": "d4e6384d-cc6d-4a49-b84b-a741306464b5",
   "metadata": {},
   "outputs": [],
   "source": [
    "# 테스트 타이머\n",
    "import time as t # t라는 이름으로 time을 사용한다는 뜻\n",
    "for x in range(11):\n",
    "    print(f'■', end='') # ii치면 멈춤\n",
    "    t.sleep(1) # 1초마다 하나씩 나옴"
   ]
  },
  {
   "cell_type": "code",
   "execution_count": 1,
   "id": "caa2622a-16b7-4b5c-bc90-89642f6e71e3",
   "metadata": {},
   "outputs": [
    {
     "name": "stderr",
     "output_type": "stream",
     "text": [
      "IOPub data rate exceeded.\n",
      "The Jupyter server will temporarily stop sending output\n",
      "to the client in order to avoid crashing it.\n",
      "To change this limit, set the config variable\n",
      "`--ServerApp.iopub_data_rate_limit`.\n",
      "\n",
      "Current values:\n",
      "ServerApp.iopub_data_rate_limit=1000000.0 (bytes/sec)\n",
      "ServerApp.rate_limit_window=3.0 (secs)\n",
      "\n"
     ]
    }
   ],
   "source": [
    "# 리스트 속도측정\n",
    "import time as t\n",
    "lt = []\n",
    "tp = []\n",
    "length = 10*1000*1000\n",
    "for x in range(length):\n",
    "    lt.append(x)\n",
    "for t in range(length):\n",
    "    tp.append(t)\n",
    "tp = tuple(tp)\n",
    "print(lt,type(lt))\n",
    "print(tp,type(tp))"
   ]
  },
  {
   "cell_type": "code",
   "execution_count": 10,
   "id": "a5f8bd59-9727-44f1-bb72-0b1f3d3a9366",
   "metadata": {},
   "outputs": [
    {
     "name": "stdout",
     "output_type": "stream",
     "text": [
      "0.39130616188049316\n"
     ]
    }
   ],
   "source": [
    "import time\n",
    "start = time.time()\n",
    "for x in lt:\n",
    "    lts = (1,2,3,4,5)\n",
    "print(time.time() - start) #나중시간에서 처음시간을 빼는 것"
   ]
  },
  {
   "cell_type": "code",
   "execution_count": 11,
   "id": "905e97cb-f7fa-4576-bb23-1240bee04565",
   "metadata": {},
   "outputs": [
    {
     "name": "stdout",
     "output_type": "stream",
     "text": [
      "0.3862190246582031\n"
     ]
    }
   ],
   "source": [
    "import time\n",
    "start = time.time()\n",
    "for x in tp:\n",
    "    tps = (1,2,3,4,5)\n",
    "print(time.time() - start)"
   ]
  },
  {
   "cell_type": "code",
   "execution_count": null,
   "id": "086b4fa5-4817-43af-9b46-ce635582f8ae",
   "metadata": {},
   "outputs": [],
   "source": [
    "AMD64 , ARM"
   ]
  },
  {
   "cell_type": "code",
   "execution_count": 19,
   "id": "a0675bb8-4d51-44a1-86ce-766dd7c599e5",
   "metadata": {},
   "outputs": [
    {
     "name": "stdout",
     "output_type": "stream",
     "text": [
      "Collecting tqdm\n",
      "  Downloading tqdm-4.67.1-py3-none-any.whl.metadata (57 kB)\n",
      "Requirement already satisfied: colorama in c:\\users\\admin\\appdata\\local\\programs\\python\\python313\\lib\\site-packages (from tqdm) (0.4.6)\n",
      "Downloading tqdm-4.67.1-py3-none-any.whl (78 kB)\n",
      "Installing collected packages: tqdm\n",
      "Successfully installed tqdm-4.67.1\n"
     ]
    }
   ],
   "source": [
    "!pip install tqdm # tqdm 설치하는거"
   ]
  },
  {
   "cell_type": "code",
   "execution_count": 8,
   "id": "24b4f949-6ab6-4740-86e2-839c4a5a87c8",
   "metadata": {},
   "outputs": [
    {
     "name": "stderr",
     "output_type": "stream",
     "text": [
      "100%|████████████████████████████████████████████████████████████████████████████████| 100/100 [00:10<00:00,  9.78it/s]\n"
     ]
    }
   ],
   "source": [
    "from tqdm import tqdm\n",
    "import time as tt\n",
    "for x in tqdm(range(100)):\n",
    "    pass #pass는 그냥 아무것도 안하고 pass만 하라는 뜻(?)\n",
    "    tt.sleep(0.1) # 0.1초 간격"
   ]
  },
  {
   "cell_type": "code",
   "execution_count": 7,
   "id": "db5d23c3-0a51-46f9-90e6-af0e59579b17",
   "metadata": {},
   "outputs": [
    {
     "name": "stdout",
     "output_type": "stream",
     "text": [
      "상승장\n"
     ]
    }
   ],
   "source": [
    "# 비트코인 시세로 상승장 하강장 구분하기 # 반정형 데이터\n",
    "import requests as req\n",
    "url = \"https://api.bithumb.com/public/ticker/ALL_KRW\"\n",
    "gdata = req.get(url).json()\n",
    "btc = gdata['data']['BTC']\n",
    "maxp = float(btc['max_price']) # 최대가\n",
    "minp = float(btc['min_price']) # 최소가\n",
    "openp = float(btc['opening_price']) # 시작가\n",
    "bandp = float(maxp) - float(minp) # 변화 폭\n",
    "if (openp + bandp) > maxp:\n",
    "    print(\"상승장\")\n",
    "else:\n",
    "    print(\"하강장\")"
   ]
  },
  {
   "cell_type": "code",
   "execution_count": 5,
   "id": "d1d89587-ffb1-4296-bcc5-c5cb2d508ddd",
   "metadata": {},
   "outputs": [
    {
     "name": "stdout",
     "output_type": "stream",
     "text": [
      "149956000\n"
     ]
    }
   ],
   "source": [
    "# 1분 캔들\n",
    "import requests as req\n",
    "url = 'https://api.bithumb.com/v1/candles/minutes/1?market=KRW-BTC&count=1'\n",
    "btc_data = req.get(url).json()\n",
    "\n",
    "print(btc_data[0]['trade_price'])"
   ]
  },
  {
   "cell_type": "code",
   "execution_count": 13,
   "id": "c341af6c-8ae5-47af-b8a4-26152884606b",
   "metadata": {},
   "outputs": [
    {
     "name": "stdout",
     "output_type": "stream",
     "text": [
      "2 x 1 = 2\n",
      "2 x 2 = 4\n",
      "2 x 3 = 6\n",
      "2 x 4 = 8\n",
      "2 x 5 = 10\n",
      "2 x 6 = 12\n",
      "2 x 7 = 14\n",
      "2 x 8 = 16\n",
      "2 x 9 = 18\n"
     ]
    }
   ],
   "source": [
    "# 2단만 출력하기\n",
    "for i in range(1,10):\n",
    "    print(f'{2} x {i} = {2*i}')"
   ]
  },
  {
   "cell_type": "code",
   "execution_count": 41,
   "id": "80ee200b-36b8-44d6-90d1-928679485212",
   "metadata": {},
   "outputs": [
    {
     "name": "stdout",
     "output_type": "stream",
     "text": [
      "2단\n",
      "2 x 1 = 2\n",
      "2 x 2 = 4\n",
      "2 x 3 = 6\n",
      "2 x 4 = 8\n",
      "2 x 5 = 10\n",
      "2 x 6 = 12\n",
      "2 x 7 = 14\n",
      "2 x 8 = 16\n",
      "2 x 9 = 18\n",
      "\n",
      "3단\n",
      "3 x 1 = 3\n",
      "3 x 2 = 6\n",
      "3 x 3 = 9\n",
      "3 x 4 = 12\n",
      "3 x 5 = 15\n",
      "3 x 6 = 18\n",
      "3 x 7 = 21\n",
      "3 x 8 = 24\n",
      "3 x 9 = 27\n",
      "\n",
      "4단\n",
      "4 x 1 = 4\n",
      "4 x 2 = 8\n",
      "4 x 3 = 12\n",
      "4 x 4 = 16\n",
      "4 x 5 = 20\n",
      "4 x 6 = 24\n",
      "4 x 7 = 28\n",
      "4 x 8 = 32\n",
      "4 x 9 = 36\n",
      "\n",
      "5단\n",
      "5 x 1 = 5\n",
      "5 x 2 = 10\n",
      "5 x 3 = 15\n",
      "5 x 4 = 20\n",
      "5 x 5 = 25\n",
      "5 x 6 = 30\n",
      "5 x 7 = 35\n",
      "5 x 8 = 40\n",
      "5 x 9 = 45\n",
      "\n",
      "6단\n",
      "6 x 1 = 6\n",
      "6 x 2 = 12\n",
      "6 x 3 = 18\n",
      "6 x 4 = 24\n",
      "6 x 5 = 30\n",
      "6 x 6 = 36\n",
      "6 x 7 = 42\n",
      "6 x 8 = 48\n",
      "6 x 9 = 54\n",
      "\n",
      "7단\n",
      "7 x 1 = 7\n",
      "7 x 2 = 14\n",
      "7 x 3 = 21\n",
      "7 x 4 = 28\n",
      "7 x 5 = 35\n",
      "7 x 6 = 42\n",
      "7 x 7 = 49\n",
      "7 x 8 = 56\n",
      "7 x 9 = 63\n",
      "\n",
      "8단\n",
      "8 x 1 = 8\n",
      "8 x 2 = 16\n",
      "8 x 3 = 24\n",
      "8 x 4 = 32\n",
      "8 x 5 = 40\n",
      "8 x 6 = 48\n",
      "8 x 7 = 56\n",
      "8 x 8 = 64\n",
      "8 x 9 = 72\n",
      "\n",
      "9단\n",
      "9 x 1 = 9\n",
      "9 x 2 = 18\n",
      "9 x 3 = 27\n",
      "9 x 4 = 36\n",
      "9 x 5 = 45\n",
      "9 x 6 = 54\n",
      "9 x 7 = 63\n",
      "9 x 8 = 72\n",
      "9 x 9 = 81\n",
      "\n"
     ]
    }
   ],
   "source": [
    "# 2단부터 9단까지 출력하기\n",
    "for j in range(2,10):\n",
    "    print(f\"{j}단\")\n",
    "    for i in range(1,10):\n",
    "        print(f'{j} x {i} = {j*i}')\n",
    "    print()"
   ]
  },
  {
   "cell_type": "code",
   "execution_count": null,
   "id": "bc62533e-3004-44d7-a8a0-307f54c54a52",
   "metadata": {},
   "outputs": [],
   "source": []
  }
 ],
 "metadata": {
  "kernelspec": {
   "display_name": "Python 3 (ipykernel)",
   "language": "python",
   "name": "python3"
  },
  "language_info": {
   "codemirror_mode": {
    "name": "ipython",
    "version": 3
   },
   "file_extension": ".py",
   "mimetype": "text/x-python",
   "name": "python",
   "nbconvert_exporter": "python",
   "pygments_lexer": "ipython3",
   "version": "3.13.1"
  }
 },
 "nbformat": 4,
 "nbformat_minor": 5
}
