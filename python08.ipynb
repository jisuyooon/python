{
 "cells": [
  {
   "cell_type": "markdown",
   "id": "1e214c62-bc23-413e-8b32-166a02e8781c",
   "metadata": {},
   "source": [
    "# 외부 라이브러리"
   ]
  },
  {
   "cell_type": "markdown",
   "id": "40e772a9-8db9-4664-ae70-60036e02139d",
   "metadata": {},
   "source": [
    "## pip *"
   ]
  },
  {
   "cell_type": "markdown",
   "id": "30cb9100-f24a-4120-aad2-a95127e22621",
   "metadata": {},
   "source": [
    "- venv1 생성 후 백업: pip freeze > requirements.txt\n",
    "- venv2 생성 후 복구: pip install -r requirements.txt\n",
    "- venv3 jupyterlab 설치후 matplotlib 설치 후 백업하고\n",
    "- venv4 에 pip 리스트 그대로 복구하라.\n",
    "- venv5 에 numpy 2.2.2 버전으로 복구되도록 requirements.txt 수정 후 복구하라."
   ]
  },
  {
   "cell_type": "markdown",
   "id": "f60baacf-22d6-4f8c-a2a7-8f085c8e7045",
   "metadata": {},
   "source": [
    "## Faker"
   ]
  },
  {
   "cell_type": "code",
   "execution_count": 2,
   "id": "7dc5483e-1273-441a-806a-03e661257d87",
   "metadata": {},
   "outputs": [],
   "source": [
    "# !pip install Faker "
   ]
  },
  {
   "cell_type": "code",
   "execution_count": 12,
   "id": "38ba4196-5c6a-4b15-8272-a9d10b0baa5e",
   "metadata": {
    "scrolled": true
   },
   "outputs": [
    {
     "data": {
      "text/plain": [
       "[{'name': '문은경',\n",
       "  'id': 'xson',\n",
       "  'phone': '062-402-7349',\n",
       "  'email': 'coemyeongja@example.com'},\n",
       " {'name': '김정순',\n",
       "  'id': 'seunghyeonhan',\n",
       "  'phone': '053-844-6193',\n",
       "  'email': 'hanseohyeon@example.com'},\n",
       " {'name': '류하윤',\n",
       "  'id': 'mijeong51',\n",
       "  'phone': '033-156-9646',\n",
       "  'email': 'egim@example.org'},\n",
       " {'name': '김춘자',\n",
       "  'id': 'ki',\n",
       "  'phone': '041-150-2249',\n",
       "  'email': 'gimjaeho@example.org'},\n",
       " {'name': '최경희',\n",
       "  'id': 'jihui',\n",
       "  'phone': '055-186-5849',\n",
       "  'email': 'eunjeong71@example.net'},\n",
       " {'name': '김지우',\n",
       "  'id': 'yeongsug17',\n",
       "  'phone': '016-693-9122',\n",
       "  'email': 'yeonghyigim@example.org'},\n",
       " {'name': '박현준',\n",
       "  'id': 'bagyeweon',\n",
       "  'phone': '041-564-4188',\n",
       "  'email': 'yeonggil81@example.org'},\n",
       " {'name': '이춘자',\n",
       "  'id': 'caeweon34',\n",
       "  'phone': '052-906-8904',\n",
       "  'email': 'seojungim@example.org'},\n",
       " {'name': '서수민',\n",
       "  'id': 'eunji39',\n",
       "  'phone': '070-9288-5291',\n",
       "  'email': 'jaehogim@example.org'},\n",
       " {'name': '장경희',\n",
       "  'id': 'aryu',\n",
       "  'phone': '062-357-2595',\n",
       "  'email': 'fan@example.com'}]"
      ]
     },
     "execution_count": 12,
     "metadata": {},
     "output_type": "execute_result"
    }
   ],
   "source": [
    "from faker import Faker\n",
    "fake = Faker('ko-KR')\n",
    "[{'name':fake.name(),'id':fake.user_name(),'phone':fake.phone_number(),'email':fake.email()}for n in range(10)]"
   ]
  },
  {
   "cell_type": "markdown",
   "id": "e9abc907-26d9-4eb8-802b-0b60a0f76b08",
   "metadata": {},
   "source": [
    "<table style=\"float:left;width:400px\">\n",
    "<thead>\n",
    "<tr>\n",
    "<th>항목</th>\n",
    "<th>설명</th>\n",
    "</tr>\n",
    "</thead>\n",
    "<tbody>\n",
    "<tr>\n",
    "<td>fake.name()</td>\n",
    "<td>이름</td>\n",
    "</tr>\n",
    "<tr>\n",
    "<td>fake.address()</td>\n",
    "<td>주소</td>\n",
    "</tr>\n",
    "<tr>\n",
    "<td>fake.postcode()</td>\n",
    "<td>우편 번호</td>\n",
    "</tr>\n",
    "<tr>\n",
    "<td>fake.country()</td>\n",
    "<td>국가명</td>\n",
    "</tr>\n",
    "<tr>\n",
    "<td>fake.company()</td>\n",
    "<td>회사명</td>\n",
    "</tr>\n",
    "<tr>\n",
    "<td>fake.job()</td>\n",
    "<td>직업명</td>\n",
    "</tr>\n",
    "<tr>\n",
    "<td>fake.phone_number()</td>\n",
    "<td>휴대전화 번호</td>\n",
    "</tr>\n",
    "<tr>\n",
    "<td>fake.email()</td>\n",
    "<td>이메일 주소</td>\n",
    "</tr>\n",
    "<tr>\n",
    "<td>fake.user_name()</td>\n",
    "<td>사용자명</td>\n",
    "</tr>\n",
    "<tr>\n",
    "<td>fake.pyint(min_value=0, max_value=100)</td>\n",
    "<td>0부터 100 사이의 임의의 숫자</td>\n",
    "</tr>\n",
    "<tr>\n",
    "<td>fake.ipv4_private()</td>\n",
    "<td>IP 주소</td>\n",
    "</tr>\n",
    "<tr>\n",
    "<td>fake.text()</td>\n",
    "<td>임의의 문장 (한글 임의의 문장은 <code>fake.catch_phrase()</code> 사용)</td>\n",
    "</tr>\n",
    "<tr>\n",
    "<td>fake.color_name()</td>\n",
    "<td>색상명</td>\n",
    "</tr>\n",
    "</tbody>\n",
    "</table>"
   ]
  },
  {
   "cell_type": "code",
   "execution_count": null,
   "id": "afef9242-8e07-46eb-aef9-dd8bf20881dc",
   "metadata": {},
   "outputs": [],
   "source": [
    "# sympy # 그냥 한번 해보기(이건 챗지피티 사용 추천)\n",
    "from fractions import Fraction\n",
    "import sympy\n",
    "\n",
    "x = sympy.symbols(\"x\")"
   ]
  },
  {
   "cell_type": "code",
   "execution_count": 15,
   "id": "62b7ceeb-a827-4ee7-bcca-9ffbc541568a",
   "metadata": {
    "scrolled": true
   },
   "outputs": [
    {
     "name": "stdout",
     "output_type": "stream",
     "text": [
      "<Response [200]>\n",
      "1위: REBEL HEART / IVE (아이브)\n",
      "2위: HOME SWEET HOME (feat. 태양, 대성) / G-DRAGON\n",
      "3위: 나는 반딧불 / 황가람\n",
      "4위: Whiplash / aespa\n",
      "5위: APT. / 로제 (ROSÉ)\n",
      "6위: Drowning / Bruno Mars\n",
      "7위: 오늘만 I LOVE YOU / WOODZ\n",
      "8위: ATTITUDE / BOYNEXTDOOR\n",
      "9위: toxic till the end / IVE (아이브)\n",
      "10위: Dash / 로제 (ROSÉ)\n",
      "11위: POWER / PLAVE\n",
      "12위: HAPPY / G-DRAGON\n",
      "13위: 내게 사랑이 뭐냐고 물어본다면 / DAY6 (데이식스)\n",
      "14위: DRIP / 로이킴\n",
      "15위: RIZZ / BABYMONSTER\n",
      "16위: Chroma Drift / PLAVE\n",
      "17위: 소나기 / PLAVE\n",
      "18위: Island / 이클립스 (ECLIPSE)\n",
      "19위: 너와의 모든 지금 / PLAVE\n",
      "20위: 모르시나요(PROD.로코베리) / 재쓰비 (JAESSBEE)\n",
      " "
     ]
    }
   ],
   "source": [
    "# 반정형 데이터임\n",
    "import requests as req\n",
    "from bs4 import BeautifulSoup as bs\n",
    "url = \"https://www.melon.com/chart/index.htm\"\n",
    "headers = {'User-Agent':'Mozilla/5.0 (Windows NT 10.0; Win64; x64) AppleWebKit/537.36 (KHTML, like Gecko) Chrome/133.0.0.0 Safari/537.36 Edg/133.0.0.0'}\n",
    "web = req.get(url, headers = headers)\n",
    "soup = bs(web.content, 'html.parser')\n",
    "print(web)\n",
    "title = soup.select('.rank01')[:20] # 20위까지\n",
    "name = soup.select('.checkEllipsis a')[:20]\n",
    "str = ''\n",
    "for i, (t, n) in enumerate(zip(title, name),1):\n",
    "    str += f'{i}위: {t.text.strip()} / {n.text}\\n' \n",
    "print(str, end=' ')"
   ]
  },
  {
   "cell_type": "code",
   "execution_count": 4,
   "id": "fc04e30b-c21a-48cd-8127-355c3d7c1760",
   "metadata": {},
   "outputs": [
    {
     "name": "stdout",
     "output_type": "stream",
     "text": [
      "1위: REBEL HEART / IVE (아이브)\n",
      "2위: HOME SWEET HOME (feat. 태양, 대성) / G-DRAGON\n",
      "3위: 나는 반딧불 / 황가람\n",
      "4위: Whiplash / aespa\n",
      "5위: APT. / 로제 (ROSÉ)\n",
      "6위: 오늘만 I LOVE YOU / Bruno Mars\n",
      "7위: Drowning / BOYNEXTDOOR\n",
      "8위: ATTITUDE / WOODZ\n",
      "9위: toxic till the end / IVE (아이브)\n",
      "10위: Dash / 로제 (ROSÉ)\n",
      "11위: POWER / PLAVE\n",
      "12위: HAPPY / G-DRAGON\n",
      "13위: 내게 사랑이 뭐냐고 물어본다면 / DAY6 (데이식스)\n",
      "14위: RIZZ / 로이킴\n",
      "15위: DRIP / PLAVE\n",
      "16위: Chroma Drift / BABYMONSTER\n",
      "17위: Island / PLAVE\n",
      "18위: 소나기 / PLAVE\n",
      "19위: 12:32 (A to T) / 이클립스 (ECLIPSE)\n",
      "20위: 너와의 모든 지금 / PLAVE\n",
      " "
     ]
    }
   ],
   "source": [
    "import melon\n",
    "melon.mel()"
   ]
  },
  {
   "cell_type": "code",
   "execution_count": 8,
   "id": "44089e95-3c33-4e1e-b559-99973135f1a5",
   "metadata": {},
   "outputs": [
    {
     "name": "stdout",
     "output_type": "stream",
     "text": [
      "Collecting html5lib\n",
      "  Downloading html5lib-1.1-py2.py3-none-any.whl.metadata (16 kB)\n",
      "Requirement already satisfied: six>=1.9 in c:\\users\\admin\\appdata\\local\\programs\\python\\python313\\lib\\site-packages (from html5lib) (1.17.0)\n",
      "Requirement already satisfied: webencodings in c:\\users\\admin\\appdata\\local\\programs\\python\\python313\\lib\\site-packages (from html5lib) (0.5.1)\n",
      "Downloading html5lib-1.1-py2.py3-none-any.whl (112 kB)\n",
      "Installing collected packages: html5lib\n",
      "Successfully installed html5lib-1.1\n"
     ]
    }
   ],
   "source": [
    "!pip install html5lib"
   ]
  },
  {
   "cell_type": "code",
   "execution_count": 12,
   "id": "82f6bab8-dd9e-4380-9be9-0c390f6f011d",
   "metadata": {
    "scrolled": true
   },
   "outputs": [
    {
     "name": "stdout",
     "output_type": "stream",
     "text": [
      "===============\n",
      "월 2025.02.17\n",
      "---------------\n",
      "정식-5,500원\n",
      "강황밥\n",
      "김치콩나물국\n",
      "돈육바싹불고기\n",
      "모듬잡채\n",
      "멸치새우견과볶음\n",
      "상추겉절이\n",
      "포기김치\n",
      "\n",
      "===============\n",
      "화 2025.02.18\n",
      "---------------\n",
      "정식-5,500원\n",
      "백미밥\n",
      "물만두국\n",
      "순살닭매콤조림\n",
      "쫄면야채무침\n",
      "파래무무침\n",
      "참나물겉절이\n",
      "포기김치\n",
      "\n",
      "===============\n",
      "수 2025.02.19\n",
      "---------------\n",
      "정식-5,500원\n",
      "백미밥\n",
      "모듬어묵국\n",
      "함박스테이크/치즈/소스\n",
      "스파게티/소스\n",
      "치커리유자청샐러드\n",
      "콩나물무침\n",
      "포기김치\n",
      "\n",
      "===============\n",
      "목 2025.02.20\n",
      "---------------\n",
      "정식-5,500원\n",
      "잡곡밥\n",
      "홍합미역국\n",
      "순살치킨/맛초킹소스\n",
      "꼬시레기두부무침\n",
      "잡채어묵조림\n",
      "상추겉절이\n",
      "포기김치\n",
      "\n",
      "===============\n",
      "금 2025.02.21\n",
      "---------------\n",
      "정식-5,500원\n",
      "백미밥\n",
      "국수\n",
      "깐풍기/소스\n",
      "알감자버터구이\n",
      "도토리묵김치무침\n",
      "열무겉절이\n",
      "포기김치\n",
      "\n"
     ]
    }
   ],
   "source": [
    "import requests as req\n",
    "from bs4 import BeautifulSoup as bs\n",
    "url = \"https://www.pusan.ac.kr/kor/CMS/MenuMgr/menuListOnBuilding.do?mCode=MN202\"\n",
    "headers = {'User-Agent':'Mozilla/5.0 (Windows NT 10.0; Win64; x64) AppleWebKit/537.36 (KHTML, like Gecko) Chrome/133.0.0.0 Safari/537.36 Edg/133.0.0.0'}\n",
    "web = req.get(url, headers = headers)\n",
    "soup = bs(web.content, 'html5lib') # 평소에는 html5lib 안씀 parser만 넣어주면됨\n",
    "# 여기 위에까진 거의 그대로 계속 씀\n",
    "menucard = soup.select('.menu-tbl')\n",
    "won = soup.select('.menu-tit01') # select은 배열로 가져오는 것, 셀렉원은 하나만 가져오는 것\n",
    "menu = soup.select('h3.menu-tit01+p') # menu-tit01 하위에 있는 형제인 p(여기서 +가 형제라는 뜻)\n",
    "day = soup.select('.day')\n",
    "date = soup.select('.date')\n",
    "# print(day,date)\n",
    "# test = soup.select('#cont > div.menu-wr > div.is-wauto-box.menu-tbl-wr > table > tbody > tr:nth-child(2) > td:nth-child(2) > ul > li > p')\n",
    "\n",
    "for d, dd, w, m in zip(day, date, won, menu): # for문 이해하기(중요)\n",
    "    print('='*15)\n",
    "    print(d.text, dd.text)\n",
    "    print('-'*15)\n",
    "    print(w.text+'\\n'+m.text)"
   ]
  },
  {
   "cell_type": "code",
   "execution_count": 13,
   "id": "20aa856f-b983-471d-9c56-325d0d0e36e7",
   "metadata": {
    "scrolled": true
   },
   "outputs": [
    {
     "name": "stdout",
     "output_type": "stream",
     "text": [
      "1위: REBEL HEART / IVE (아이브)\n",
      "2위: 나는 반딧불 / 황가람\n",
      "3위: HOME SWEET HOME (Feat. 태양 & 대성) / G-DRAGON\n",
      "4위: Whiplash / aespa\n",
      "5위: APT. / 로제 (ROSÉ) & Bruno Mars\n",
      "6위: Drowning / WOODZ\n",
      "7위: ATTITUDE / IVE (아이브)\n",
      "8위: 모르시나요 (Prod. by 로코베리) / 조째즈\n",
      "9위: HAPPY / DAY6 (데이식스)\n",
      "10위: 내게 사랑이 뭐냐고 물어본다면 / 로이킴\n",
      "11위: toxic till the end / 로제 (ROSÉ)\n",
      "12위: POWER / G-DRAGON\n",
      "13위: 내 이름 맑음 / QWER\n",
      "14위: Welcome to the Show / DAY6 (데이식스)\n",
      "15위: 한 페이지가 될 수 있게 / DAY6 (데이식스)\n",
      "16위: 소나기 / 이클립스 (ECLIPSE)\n",
      "17위: Supernova / aespa\n",
      "18위: 너와의 모든 지금 / 재쓰비 (JAESSBEE)\n",
      "19위: 오늘만 I LOVE YOU / BOYNEXTDOOR\n",
      "20위: 고민중독 / QWER\n",
      "21위: 예뻤어 / DAY6 (데이식스)\n",
      "22위: 슬픈 초대장 / 순순희 (지환)\n",
      "23위: 천상연 / 이창섭\n",
      "24위: UP (KARINA Solo) / aespa\n",
      "25위: DRIP / BABYMONSTER\n",
      "26위: 사랑은 늘 도망가 / 임영웅\n",
      "27위: Die With A Smile / Lady Gaga & Bruno Mars\n",
      "28위: 에피소드 / 이무진\n",
      "29위: 나는 아픈 건 딱 질색이니까 / (여자)아이들\n",
      "30위: How Sweet / NewJeans\n",
      "31위: 비의 랩소디 / 임재현\n",
      "32위: Mantra / 제니 (JENNIE)\n",
      "33위: Love wins all / 아이유 (IU)\n",
      "34위: 어떻게 이별까지 사랑하겠어, 널 사랑하는 거지 / AKMU (악뮤)\n",
      "35위: 첫 만남은 계획대로 되지 않아 / TWS (투어스)\n",
      "36위: 봄여름가을겨울 (Still Life) / BIGBANG (빅뱅)\n",
      "37위: 미치게 그리워서 / 황가람\n",
      "38위: 청춘만화 / 이무진\n",
      "39위: Small girl (Feat. 도경수 (D.O.)) / 이영지\n",
      "40위: I AM / IVE (아이브)\n",
      "41위: 헤어지자 말해요 / 박재정\n",
      "42위: Magnetic / 아일릿 (ILLIT)\n",
      "43위: 이제 나만 믿어요 / 임영웅\n",
      "44위: 심 (心) / DK (디셈버)\n",
      "45위: Storm / 김보경 (NEON)\n",
      "46위: 해야 (HEYA) / IVE (아이브)\n",
      "47위: 다정히 내 이름을 부르면 / 경서예지 & 전건호\n",
      "48위: 클락션 (Klaxon) / (여자)아이들\n",
      "49위: 너의 모든 순간 / 성시경\n",
      "50위: 우리들의 블루스 / 임영웅\n"
     ]
    }
   ],
   "source": [
    "import requests as req\n",
    "from bs4 import BeautifulSoup as bs\n",
    "url = \"https://www.genie.co.kr/chart/top200\"\n",
    "headers = {'User-Agent':'Mozilla/5.0 (Windows NT 10.0; Win64; x64) AppleWebKit/537.36 (KHTML, like Gecko) Chrome/133.0.0.0 Safari/537.36 Edg/133.0.0.0'}\n",
    "web = req.get(url, headers = headers)\n",
    "soup = bs(web.content, 'html.parser')\n",
    "title = soup.select('.info .title') # .은 클래스를 뜻함\n",
    "artist = soup.select('.info .artist')\n",
    "for i, (t, a) in enumerate(zip(title, artist),1):\n",
    "    print(f\"{i}위: {t.text.strip()} / {a.text.strip()}\") # 텍스트는 쓸데없는 거 날리고 스트립은 공백 날리고"
   ]
  },
  {
   "cell_type": "code",
   "execution_count": null,
   "id": "20d95073-4bb1-46a8-8819-d9e9b0d05eb9",
   "metadata": {},
   "outputs": [],
   "source": [
    "# 벅스차트 연습\n",
    "import requests as req\n",
    "from bs4 import BeautifulSoup as bs\n",
    "url = \"https://www.genie.co.kr/chart/top200\"\n",
    "headers = {'User-Agent':'Mozilla/5.0 (Windows NT 10.0; Win64; x64) AppleWebKit/537.36 (KHTML, like Gecko) Chrome/133.0.0.0 Safari/537.36 Edg/133.0.0.0'}\n",
    "web = req.get(url, headers = headers)\n",
    "soup = bs(web.content, 'html.parser')"
   ]
  },
  {
   "cell_type": "code",
   "execution_count": 17,
   "id": "5e6cb4b4-9ed7-4bcf-a8a2-90c2df023e65",
   "metadata": {
    "scrolled": true
   },
   "outputs": [
    {
     "name": "stdout",
     "output_type": "stream",
     "text": [
      "Collecting python-telegram-bot\n",
      "  Downloading python_telegram_bot-21.10-py3-none-any.whl.metadata (17 kB)\n",
      "Requirement already satisfied: httpx~=0.27 in c:\\users\\admin\\appdata\\local\\programs\\python\\python313\\lib\\site-packages (from python-telegram-bot) (0.28.1)\n",
      "Requirement already satisfied: anyio in c:\\users\\admin\\appdata\\local\\programs\\python\\python313\\lib\\site-packages (from httpx~=0.27->python-telegram-bot) (4.8.0)\n",
      "Requirement already satisfied: certifi in c:\\users\\admin\\appdata\\local\\programs\\python\\python313\\lib\\site-packages (from httpx~=0.27->python-telegram-bot) (2025.1.31)\n",
      "Requirement already satisfied: httpcore==1.* in c:\\users\\admin\\appdata\\local\\programs\\python\\python313\\lib\\site-packages (from httpx~=0.27->python-telegram-bot) (1.0.7)\n",
      "Requirement already satisfied: idna in c:\\users\\admin\\appdata\\local\\programs\\python\\python313\\lib\\site-packages (from httpx~=0.27->python-telegram-bot) (3.10)\n",
      "Requirement already satisfied: h11<0.15,>=0.13 in c:\\users\\admin\\appdata\\local\\programs\\python\\python313\\lib\\site-packages (from httpcore==1.*->httpx~=0.27->python-telegram-bot) (0.14.0)\n",
      "Requirement already satisfied: sniffio>=1.1 in c:\\users\\admin\\appdata\\local\\programs\\python\\python313\\lib\\site-packages (from anyio->httpx~=0.27->python-telegram-bot) (1.3.1)\n",
      "Downloading python_telegram_bot-21.10-py3-none-any.whl (669 kB)\n",
      "   ---------------------------------------- 0.0/669.5 kB ? eta -:--:--\n",
      "   --------------- ------------------------ 262.1/669.5 kB ? eta -:--:--\n",
      "   ---------------------------------------- 669.5/669.5 kB 1.6 MB/s eta 0:00:00\n",
      "Installing collected packages: python-telegram-bot\n",
      "Successfully installed python-telegram-bot-21.10\n"
     ]
    }
   ],
   "source": [
    "!pip install python-telegram-bot"
   ]
  },
  {
   "cell_type": "code",
   "execution_count": 24,
   "id": "23fe1079-d266-4583-a3b6-7875ff746246",
   "metadata": {},
   "outputs": [],
   "source": [
    "# !pip install nest_asyncio"
   ]
  },
  {
   "cell_type": "code",
   "execution_count": 26,
   "id": "47353526-398d-46c9-bb04-ace8a3b9a3a0",
   "metadata": {},
   "outputs": [
    {
     "name": "stdout",
     "output_type": "stream",
     "text": [
      "7373231185:AAF1IkB4Yilj-SufRYVA3-Ibp9_hGgOlCMo\n"
     ]
    }
   ],
   "source": [
    "import asyncio\n",
    "import nest_asyncio #주피터랩\n",
    "from dotenv import load_dotenv\n",
    "import os\n",
    "\n",
    "# .env 파일 로드\n",
    "load_dotenv()\n",
    "\n",
    "from telegram import Update\n",
    "from telegram.ext import Application, CommandHandler, MessageHandler, filters, CallbackContext\n",
    "nest_asyncio.apply() #주피터랩용\n",
    "\n",
    "TELEGRAM_TOKEN =os.getenv(\"TELEGRAM_TOKEN\")\n",
    "print(TELEGRAM_TOKEN)\n",
    "\n",
    "\n",
    "\n",
    "# async def hello(update: Update, context: ContextTypes.DEFAULT_TYPE) -> None:\n",
    "#     await update.message.reply_text(f'Hello {update.effective_user.first_name}')\n",
    "\n",
    "\n",
    "# app = ApplicationBuilder().token(\"YOUR TOKEN HERE\").build()\n",
    "\n",
    "# app.add_handler(CommandHandler(\"hello\", hello))\n",
    "\n",
    "# app.run_polling()"
   ]
  },
  {
   "cell_type": "code",
   "execution_count": null,
   "id": "150df3b6-177b-4c04-ab81-2e59e5fe0f17",
   "metadata": {},
   "outputs": [],
   "source": []
  }
 ],
 "metadata": {
  "kernelspec": {
   "display_name": "Python 3 (ipykernel)",
   "language": "python",
   "name": "python3"
  },
  "language_info": {
   "codemirror_mode": {
    "name": "ipython",
    "version": 3
   },
   "file_extension": ".py",
   "mimetype": "text/x-python",
   "name": "python",
   "nbconvert_exporter": "python",
   "pygments_lexer": "ipython3",
   "version": "3.13.1"
  }
 },
 "nbformat": 4,
 "nbformat_minor": 5
}
