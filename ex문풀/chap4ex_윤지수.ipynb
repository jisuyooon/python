{
 "cells": [
  {
   "cell_type": "code",
   "execution_count": 8,
   "id": "5401da74-1532-440b-b30a-3bd5d32a084b",
   "metadata": {},
   "outputs": [
    {
     "name": "stdout",
     "output_type": "stream",
     "text": [
      "True\n"
     ]
    }
   ],
   "source": [
    "# 1. 홀수, 짝수 판별하기\n",
    "def is_odd(number):\n",
    "    if number % 2 == 1:\n",
    "        return True\n",
    "    else:\n",
    "        return False\n",
    "print(is_odd(7))"
   ]
  },
  {
   "cell_type": "code",
   "execution_count": 12,
   "id": "db948a4b-d0ec-4133-a62a-c36e88a41b05",
   "metadata": {},
   "outputs": [
    {
     "ename": "TypeError",
     "evalue": "avg_numbers() takes 0 positional arguments but 2 were given",
     "output_type": "error",
     "traceback": [
      "\u001b[1;31m---------------------------------------------------------------------------\u001b[0m",
      "\u001b[1;31mTypeError\u001b[0m                                 Traceback (most recent call last)",
      "Cell \u001b[1;32mIn[12], line 8\u001b[0m\n\u001b[0;32m      5\u001b[0m         result \u001b[38;5;241m+\u001b[39m\u001b[38;5;241m=\u001b[39m i\n\u001b[0;32m      6\u001b[0m     \u001b[38;5;28;01mreturn\u001b[39;00m args\u001b[38;5;241m/\u001b[39m\u001b[38;5;28mlen\u001b[39m(args)\n\u001b[1;32m----> 8\u001b[0m \u001b[43mavg_numbers\u001b[49m\u001b[43m(\u001b[49m\u001b[38;5;241;43m1\u001b[39;49m\u001b[43m,\u001b[49m\u001b[38;5;241;43m2\u001b[39;49m\u001b[43m)\u001b[49m\n\u001b[0;32m      9\u001b[0m avg_numbers(\u001b[38;5;241m1\u001b[39m,\u001b[38;5;241m2\u001b[39m,\u001b[38;5;241m3\u001b[39m,\u001b[38;5;241m4\u001b[39m,\u001b[38;5;241m5\u001b[39m)\n",
      "\u001b[1;31mTypeError\u001b[0m: avg_numbers() takes 0 positional arguments but 2 were given"
     ]
    }
   ],
   "source": [
    "# 2. 모든 입력의 평균값 구하기\n",
    "def avg_numbers():\n",
    "    result = 0\n",
    "    for i in args:\n",
    "        result += i\n",
    "    return args/len(args)\n",
    "\n",
    "avg_numbers(1,2)\n",
    "avg_numbers(1,2,3,4,5)"
   ]
  },
  {
   "cell_type": "code",
   "execution_count": null,
   "id": "655268d8-4255-4050-afc9-adbb1a1ee728",
   "metadata": {},
   "outputs": [],
   "source": []
  }
 ],
 "metadata": {
  "kernelspec": {
   "display_name": "Python 3 (ipykernel)",
   "language": "python",
   "name": "python3"
  },
  "language_info": {
   "codemirror_mode": {
    "name": "ipython",
    "version": 3
   },
   "file_extension": ".py",
   "mimetype": "text/x-python",
   "name": "python",
   "nbconvert_exporter": "python",
   "pygments_lexer": "ipython3",
   "version": "3.13.1"
  }
 },
 "nbformat": 4,
 "nbformat_minor": 5
}
