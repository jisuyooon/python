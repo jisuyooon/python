{
 "cells": [
  {
   "cell_type": "markdown",
   "id": "0580c754-7c93-4d1f-9f28-cf669c0cb13b",
   "metadata": {},
   "source": [
    "# 내장함수"
   ]
  },
  {
   "cell_type": "code",
   "execution_count": 2,
   "id": "3600ec99-90de-405d-931a-10f192450b70",
   "metadata": {},
   "outputs": [
    {
     "name": "stdout",
     "output_type": "stream",
     "text": [
      "3\n",
      "1.2\n"
     ]
    }
   ],
   "source": [
    "# abs * # 절댓값을 리턴함\n",
    "print(abs(-3))\n",
    "print(abs(-1.2))"
   ]
  },
  {
   "cell_type": "code",
   "execution_count": 7,
   "id": "12e3b7c7-338c-45aa-b70f-07c9476c57cc",
   "metadata": {},
   "outputs": [
    {
     "name": "stdout",
     "output_type": "stream",
     "text": [
      "True\n",
      "False\n",
      "True\n"
     ]
    }
   ],
   "source": [
    "# all *\n",
    "print(all([1,2,3])) \n",
    "print(all([11,22,0,44,55])) # 하나라도 문제있음 멈춤\n",
    "print(all([])) # 특이사항 # 얘는 이렇게 정했기 때문에 따라줘야함"
   ]
  },
  {
   "cell_type": "code",
   "execution_count": 12,
   "id": "786381c6-b761-44ec-af3b-bbae3ff45ba8",
   "metadata": {},
   "outputs": [
    {
     "name": "stdout",
     "output_type": "stream",
     "text": [
      "True\n",
      "False\n",
      "False\n"
     ]
    }
   ],
   "source": [
    "# any *\n",
    "print(any([1,2,3,0]))\n",
    "print(any([0,\"\",[], False]))\n",
    "print(any([]))"
   ]
  },
  {
   "cell_type": "code",
   "execution_count": 25,
   "id": "9c13d162-cbc6-4318-8bf5-dfbc3dbdd6b3",
   "metadata": {},
   "outputs": [
    {
     "name": "stdout",
     "output_type": "stream",
     "text": [
      "A\n",
      "가\n",
      "65\n",
      "44032\n"
     ]
    }
   ],
   "source": [
    "# chr\n",
    "print(chr(65)) # 48은 0x30이고 0이라는 것 기억해두면 좋음 \n",
    "print(chr(44032))\n",
    "# 유니코드 - utf-8(인코딩방식) 하고 관련있음\n",
    "# 아스키코드\n",
    "print(ord('A'))\n",
    "print(ord('가'))"
   ]
  },
  {
   "cell_type": "code",
   "execution_count": 73,
   "id": "72da6962-b93f-4c82-a991-bd70b24eb203",
   "metadata": {},
   "outputs": [
    {
     "name": "stdout",
     "output_type": "stream",
     "text": [
      "A B C D E F G H I J K L M N O P Q R S T U V W X Y Z "
     ]
    }
   ],
   "source": [
    "# 문1) 아스키코드표 보고 A부터 Z까지 차례로 모두 출력(65부터 90까지)\n",
    "for x in range(65, 91):\n",
    "    print(chr(x) , end=\" \")\n",
    "    \n",
    "# num = 65\n",
    "# while num < 91:\n",
    "#     print(chr(num), end=\" \")\n",
    "#     num = num+1"
   ]
  },
  {
   "cell_type": "code",
   "execution_count": 74,
   "id": "225659d0-c7ae-4e62-ac6f-5c9dd1a63be5",
   "metadata": {},
   "outputs": [
    {
     "name": "stdout",
     "output_type": "stream",
     "text": [
      "z y x w v u t s r q p o n m l k j i h g f e d c b a "
     ]
    }
   ],
   "source": [
    "# 문2) 소문자 z부터 a까지 역순으로 모두 차례로 출력\n",
    "for x in range(122,96,-1):\n",
    "\tprint(chr(x), end=\" \")\n",
    "    \n",
    "# num = 122\n",
    "# while num > 96:\n",
    "#     print(chr(num), end=\" \")\n",
    "#     num = num-1"
   ]
  },
  {
   "cell_type": "code",
   "execution_count": 72,
   "id": "2b1b1b76-4415-4f00-9610-bb8c3201f417",
   "metadata": {},
   "outputs": [
    {
     "name": "stdout",
     "output_type": "stream",
     "text": [
      "A1 A2 A3 A4 A5 A6 A7 A8 A9 A10 \n",
      "\n",
      "B1 B2 B3 B4 B5 B6 B7 B8 B9 B10 \n",
      "\n",
      "C1 C2 C3 C4 C5 C6 C7 C8 C9 C10 \n",
      "\n"
     ]
    }
   ],
   "source": [
    "# 문3) A1부터 A10까지 증가 후 B1부터 B10까지 증가 그리고 C1부터 C10까지 증가하게 하기\n",
    "for k in range(65,68):\n",
    "    for l in range(1,11):\n",
    "        print(f\"{chr(k)}{l} \",end='')\n",
    "    print(\"\\n\")\n",
    "\n",
    "# num = 64\n",
    "# while num < 67:\n",
    "#     num = num + 1\n",
    "#     for x in range(1,11):\n",
    "#         print(chr(num)+str(x), end=\" \")"
   ]
  },
  {
   "cell_type": "code",
   "execution_count": 1,
   "id": "dbffc79e-411c-4195-b3d9-b492125c77cd",
   "metadata": {},
   "outputs": [
    {
     "name": "stdin",
     "output_type": "stream",
     "text": [
      "당신의 기분을 한 문장으로 표현해주세요:  좋아 좋아서 좋아요 사랑 사랑해 나빠 진짜 나빠\n"
     ]
    },
    {
     "name": "stdout",
     "output_type": "stream",
     "text": [
      "1\n",
      "2\n",
      "1\n",
      "0\n",
      "0\n"
     ]
    }
   ],
   "source": [
    "positive_words = [\"좋아\", \"행복\", \"멋져\", \"최고\", \"사랑해\"]\n",
    "negative_words = [\"싫어\", \"화나\", \"짜증\", \"별로\", \"나빠\"]\n",
    "text = input(\"당신의 기분을 한 문장으로 표현해주세요: \")\n",
    "\n",
    "# 간단1\n",
    "# for v in positive_words:\n",
    "#     if v in text:\n",
    "#         print(\"기분이 좋아보이네요.\")\n",
    "# for n in negative_words:\n",
    "#     if n in text:\n",
    "#         print(\"기분이 나빠보이네요.\")\n",
    "\n",
    "# 해설2\n",
    "# if any(word in text for word in positive_words):\n",
    "#     print(\"기분이 좋아보이네요\")\n",
    "# elif any(word in text for word in negative_words):\n",
    "#     print(\"기분이 나빠보이네요\")\n",
    "# else:\n",
    "#     print(\"보통이시네요.\")\n",
    "\n",
    "# 해설3\n",
    "# pos = [v for v in positive_words if v in text]\n",
    "# print(pos,len(pos))\n",
    "# neg = [n for n in negative_words if n in text]\n",
    "# print(neg,len(neg))\n",
    "# if len(pos)> len(neg):\n",
    "# # abs(len(pos) - len(neg))>0 값의 차이, 크기, 변화폭\n",
    "#      print(\"기분이 좋아보이네요\")\n",
    "# elif len(pos)< len(neg):\n",
    "#      print(\"기분이 나빠보이네요\")\n",
    "# else:\n",
    "#     print(\"보통이시네요.\")\n",
    "\n",
    "# 해설4\n",
    "pnum = 0\n",
    "text = text.split(\" \")\n",
    "for v in positive_words:\n",
    "    for s in text:\n",
    "        if v == s:\n",
    "            pnum += 1\n",
    "            print(pnum)\n",
    "for x in negative_words:\n",
    "    for y in text:\n",
    "        if x == y:\n",
    "            pnum -= 1\n",
    "            print(pnum)\n",
    "print(pnum)"
   ]
  },
  {
   "cell_type": "code",
   "execution_count": 3,
   "id": "e791aff0-2af1-4bb2-8412-6874a98a9b7a",
   "metadata": {},
   "outputs": [],
   "source": [
    "# !pip install konlpy # 한글 형태소 분석기"
   ]
  },
  {
   "cell_type": "code",
   "execution_count": 2,
   "id": "bdbde67f-c706-4e13-9b76-b5a8b4b18e5e",
   "metadata": {},
   "outputs": [
    {
     "name": "stdin",
     "output_type": "stream",
     "text": [
      "당신의 기분을 한 문장으로 설명해주세요:  좋아 좋아서 좋아요 사랑 사랑해 나빠 진짜 나빠\n"
     ]
    },
    {
     "name": "stdout",
     "output_type": "stream",
     "text": [
      "['좋다', '좋다', '좋다', '사랑', '사랑', '하다', '나쁘다', '진짜', '나쁘다']\n"
     ]
    }
   ],
   "source": [
    "from konlpy.tag import Okt # 대문자 O\n",
    "\n",
    "# 한글 형태소 분석기\n",
    "okt = Okt()\n",
    "\n",
    "positive_words = [\"좋다\",\"행복\",\"멋지다\",\"최고\",\"사랑\"] # 기본으로 다 바꿔놓음\n",
    "negative_words = [\"싫다\",\"화나다\",\"짜증\",\"별로\",\"나쁘다\"]\n",
    "text = input(\"당신의 기분을 한 문장으로 설명해주세요: \")\n",
    "\n",
    "words = okt.morphs(text, stem=True)\n",
    "print(words)"
   ]
  },
  {
   "cell_type": "code",
   "execution_count": 137,
   "id": "3dca2556-efab-4c31-baaa-69a0a6871e59",
   "metadata": {},
   "outputs": [
    {
     "name": "stderr",
     "output_type": "stream",
     "text": [
      "java version \"1.8.0_441\"\n",
      "Java(TM) SE Runtime Environment (build 1.8.0_441-b07)\n",
      "Java HotSpot(TM) 64-Bit Server VM (build 25.441-b07, mixed mode)\n"
     ]
    }
   ],
   "source": [
    "!java -version"
   ]
  },
  {
   "cell_type": "code",
   "execution_count": 7,
   "id": "eb115ec3-6f33-4acb-8301-5beb15e76c7d",
   "metadata": {
    "scrolled": true
   },
   "outputs": [],
   "source": [
    "# dir 객체가 가지고 있는 함수(메서드)를 보여줌 *(__되어있는건 내장함수, 아닌건 메서드)\n",
    "# dir([1,2,3])\n",
    "# dir({'1':'a'})"
   ]
  },
  {
   "cell_type": "code",
   "execution_count": 138,
   "id": "1646ef18-f218-4b74-a8d7-a24d038ccd4e",
   "metadata": {},
   "outputs": [
    {
     "name": "stdout",
     "output_type": "stream",
     "text": [
      "(4, 1)\n",
      "4 1\n"
     ]
    }
   ],
   "source": [
    "# divmod 몫과 나머지\n",
    "print(divmod(13,3)) # 몫이 4고 나머지가 1이다\n",
    "print(13//3,13%3)"
   ]
  },
  {
   "cell_type": "code",
   "execution_count": 139,
   "id": "50c87e0d-274f-47f7-a93b-cd5f91c9df72",
   "metadata": {},
   "outputs": [
    {
     "name": "stdout",
     "output_type": "stream",
     "text": [
      "1 순위 과일은: apple\n",
      "2 순위 과일은: banana\n",
      "3 순위 과일은: kiwi\n",
      "4 순위 과일은: cherry\n",
      "5 순위 과일은: mango\n"
     ]
    }
   ],
   "source": [
    "# enumerate ** 열거하다 \n",
    "fruit = ['apple','banana','kiwi','cherry','mango']\n",
    "for i, f in enumerate(fruit, start=1):\n",
    "    print(i,'순위 과일은:', f)"
   ]
  },
  {
   "cell_type": "code",
   "execution_count": 14,
   "id": "bf51c563-7073-4ca3-89c9-395a81ce8b1a",
   "metadata": {},
   "outputs": [
    {
     "data": {
      "text/plain": [
       "'A1'"
      ]
     },
     "execution_count": 14,
     "metadata": {},
     "output_type": "execute_result"
    }
   ],
   "source": [
    "# 문자열로 구성된 실행값을 리턴, 보안문제\n",
    "eval('1+2')\n",
    "eval(\"'A'+'1'\")"
   ]
  },
  {
   "cell_type": "code",
   "execution_count": 13,
   "id": "f5f5439d-9e35-427d-ac94-c8d3b6502d27",
   "metadata": {},
   "outputs": [
    {
     "name": "stdout",
     "output_type": "stream",
     "text": [
      "[1, 2, 6]\n"
     ]
    }
   ],
   "source": [
    "# filter (함수, 이터러블) **\n",
    "def positive(l):\n",
    "    result = []\n",
    "    for i in l:\n",
    "        if i > 0:\n",
    "            result.append(i)\n",
    "    return result\n",
    "print(positive([1,-3,2,0,-5,6]))"
   ]
  },
  {
   "cell_type": "code",
   "execution_count": 16,
   "id": "6b2c1887-3138-4861-ab66-33e91b13337d",
   "metadata": {},
   "outputs": [
    {
     "name": "stdout",
     "output_type": "stream",
     "text": [
      "[1, 2, 6]\n"
     ]
    }
   ],
   "source": [
    "# 위에꺼 리스트컴프리헨션으로 줄인 것\n",
    "def pos(l):\n",
    "    return [i for i in l if i > 0]\n",
    "print(pos([1,-3,2,0,-5,6]))"
   ]
  },
  {
   "cell_type": "code",
   "execution_count": 140,
   "id": "fc8542a7-696b-4e87-a539-89bac50424ec",
   "metadata": {},
   "outputs": [
    {
     "name": "stdout",
     "output_type": "stream",
     "text": [
      "[1, 2, 6]\n"
     ]
    }
   ],
   "source": [
    "l = [1,-3,2,0,-5,6]\n",
    "def positive(x):\n",
    "    return x > 0\n",
    "print(list(filter(positive,l)))"
   ]
  },
  {
   "cell_type": "code",
   "execution_count": 143,
   "id": "3299363f-4433-49c2-9303-39fdc8324b25",
   "metadata": {},
   "outputs": [
    {
     "name": "stdout",
     "output_type": "stream",
     "text": [
      "[1, 2, 6]\n"
     ]
    }
   ],
   "source": [
    "# 위에꺼 람다 이용\n",
    "print(list(filter(lambda x : x > 0 ,l))) #l(영어 엘)이랑 1(숫자 일) 혼동 조심하기"
   ]
  },
  {
   "cell_type": "code",
   "execution_count": 145,
   "id": "81db8a32-5a05-4f0b-a79a-1863ff26ee10",
   "metadata": {},
   "outputs": [
    {
     "name": "stdout",
     "output_type": "stream",
     "text": [
      "1\n",
      "2\n",
      "6\n"
     ]
    }
   ],
   "source": [
    "for n in filter(lambda x : x >0 ,l): #range(4)\n",
    "    print(n)"
   ]
  },
  {
   "cell_type": "code",
   "execution_count": 30,
   "id": "7b7fdcd6-7944-4707-832c-e8f34d962546",
   "metadata": {},
   "outputs": [
    {
     "name": "stdout",
     "output_type": "stream",
     "text": [
      "0xea\n",
      "0o11\n",
      "0b1001\n"
     ]
    }
   ],
   "source": [
    "# hex, oct, bin\n",
    "print(hex(234)) \n",
    "print(oct(9))\n",
    "print(bin(9))"
   ]
  },
  {
   "cell_type": "code",
   "execution_count": 34,
   "id": "0a466d52-12f8-444a-93a1-9f025c276ff1",
   "metadata": {},
   "outputs": [
    {
     "name": "stdout",
     "output_type": "stream",
     "text": [
      "140716040586216\n",
      "140716040586216\n",
      "140716040586216\n",
      "True\n"
     ]
    }
   ],
   "source": [
    "# id 고유 주솟값을 리턴\n",
    "a = 3\n",
    "print(id(3))\n",
    "print(id(a))\n",
    "b = a\n",
    "print(id(b))\n",
    "print(all([id(3)==id(a),id(a)==id(b),id(3)==id(b)]))"
   ]
  },
  {
   "cell_type": "code",
   "execution_count": 146,
   "id": "f48b40dc-f569-4b3f-9c92-8e81829f497b",
   "metadata": {},
   "outputs": [],
   "source": [
    "# input *\n",
    "# input은 스트링으로 값을 전달받는다. 그러므로 계산시 int나 float으로 변경할 것"
   ]
  },
  {
   "cell_type": "code",
   "execution_count": 36,
   "id": "cab832dc-6922-4f31-8d23-8f7856407e1d",
   "metadata": {},
   "outputs": [],
   "source": [
    "# int *\n",
    "# 문자를 숫자로 변환, 정수로 변환, 소수점이 사라짐."
   ]
  },
  {
   "cell_type": "code",
   "execution_count": 39,
   "id": "2c9ac37e-5ae3-474d-ab52-a926bdef66f1",
   "metadata": {},
   "outputs": [
    {
     "name": "stdout",
     "output_type": "stream",
     "text": [
      "사람입니다.\n",
      "사람입니다.\n",
      "True\n",
      "True\n",
      "False\n"
     ]
    }
   ],
   "source": [
    "# isinstance(object, class) 인스턴스 확인용\n",
    "\n",
    "class Person:\n",
    "    def p(self):\n",
    "        return(\"사람입니다.\")\n",
    "class Animal:pass\n",
    "a = Person()\n",
    "b = Person()\n",
    "c = Animal()\n",
    "print(a.p())\n",
    "print(b.p())\n",
    "print(isinstance(a,Person))\n",
    "print(isinstance(b,Person))\n",
    "print(isinstance(c,Person))"
   ]
  },
  {
   "cell_type": "code",
   "execution_count": 148,
   "id": "ce432158-0b23-4b19-8a92-41bc62a6829b",
   "metadata": {},
   "outputs": [
    {
     "name": "stdout",
     "output_type": "stream",
     "text": [
      "6\n",
      "4\n",
      "2\n"
     ]
    }
   ],
   "source": [
    "# len ** \n",
    "print(len(\"python\"))\n",
    "print(len([1,2,3,4]))\n",
    "print(len((1,'a')))"
   ]
  },
  {
   "cell_type": "code",
   "execution_count": 41,
   "id": "33443a68-50d4-4803-9f2b-6380f655eebc",
   "metadata": {},
   "outputs": [],
   "source": [
    "# list **"
   ]
  },
  {
   "cell_type": "code",
   "execution_count": 44,
   "id": "33226f76-4f59-46b6-a2dc-19caa35f02d3",
   "metadata": {},
   "outputs": [
    {
     "name": "stdout",
     "output_type": "stream",
     "text": [
      "[2, 4, 6, 8]\n"
     ]
    }
   ],
   "source": [
    "# map ** # map은 입력과 출력의 양이 값다, 하지만 형태는 다르게 나옴(filter는 출력 값이 적게 나옴)\n",
    "# filter는 문지기임, true or false 판단하여 true만 나오게끔 함\n",
    "def two_items(nl): # 짧게 줄여보기(람다식이나 리스트컴프리헨션 처럼)\n",
    "    result = []\n",
    "    for n in nl:\n",
    "        result.append(n*2)\n",
    "    return result\n",
    "print(two_items([1,2,3,4]))"
   ]
  },
  {
   "cell_type": "code",
   "execution_count": 45,
   "id": "dc640444-bcc6-4534-9632-bea8ff8613a9",
   "metadata": {},
   "outputs": [
    {
     "data": {
      "text/plain": [
       "[2, 4, 6, 8]"
      ]
     },
     "execution_count": 45,
     "metadata": {},
     "output_type": "execute_result"
    }
   ],
   "source": [
    "def two_times(x):\n",
    "    return x * 2\n",
    "list(map(two_times,[1,2,3,4]))"
   ]
  },
  {
   "cell_type": "code",
   "execution_count": 46,
   "id": "ff2752c0-4801-44ca-98dd-845e0c6be16b",
   "metadata": {},
   "outputs": [
    {
     "data": {
      "text/plain": [
       "[2, 4, 6, 8]"
      ]
     },
     "execution_count": 46,
     "metadata": {},
     "output_type": "execute_result"
    }
   ],
   "source": [
    "list(map(lambda x: x*2,[1,2,3,4])) # 람다에서 x를 리턴할건데 x에 2를 곱해서 나오게 하라 "
   ]
  },
  {
   "cell_type": "code",
   "execution_count": 51,
   "id": "058781b9-5a59-49c9-b517-200d4a8141ab",
   "metadata": {},
   "outputs": [
    {
     "name": "stdout",
     "output_type": "stream",
     "text": [
      "[1, 3, 5]\n",
      "[2, 4, 6]\n",
      "[1, 2, 3, 4, 5, 6]\n",
      "[11, 12, 13, 14, 15, 16]\n",
      "[1, 4, 9, 16, 25, 36]\n",
      "[11, 24, 39, 56, 75, 96]\n"
     ]
    }
   ],
   "source": [
    "# 테스트\n",
    "li = [1,2,3,4,5,6]\n",
    "def odd(x):\n",
    "    return x % 2 != 0 # or ==1\n",
    "def even(x):\n",
    "    return x % 2 == 0\n",
    "def add(x):\n",
    "    return x + 10\n",
    "def mul(x):\n",
    "    return x * x\n",
    "def addmul(x):\n",
    "    return (x + 10) * x\n",
    "print(list(filter(odd,li)))\n",
    "print(list(filter(even,li)))\n",
    "print(list(filter(add,li))) # add식이 트루이기 때문에 다 튀어나옴\n",
    "print(list(map(add,li)))\n",
    "print(list(map(mul,li)))\n",
    "print(list(map(addmul,li)))"
   ]
  },
  {
   "cell_type": "code",
   "execution_count": 54,
   "id": "885a08ee-19b9-450d-a976-f316fad556d0",
   "metadata": {},
   "outputs": [
    {
     "data": {
      "text/plain": [
       "'y'"
      ]
     },
     "execution_count": 54,
     "metadata": {},
     "output_type": "execute_result"
    }
   ],
   "source": [
    "# max * # 가장 큰값 출력 \n",
    "max([1,21,3,14,56,16,7])\n",
    "max('python') # 문자일 경우 유니코드 값으로 판단"
   ]
  },
  {
   "cell_type": "code",
   "execution_count": 56,
   "id": "ea2d6a47-5c44-48ca-9299-c48190e43d45",
   "metadata": {},
   "outputs": [
    {
     "data": {
      "text/plain": [
       "'h'"
      ]
     },
     "execution_count": 56,
     "metadata": {},
     "output_type": "execute_result"
    }
   ],
   "source": [
    "# min * # 가장 작은값 출력\n",
    "min([1,21,3,14,56,16,7])\n",
    "min('python') # 문자일 경우 유니코드 값으로 판단"
   ]
  },
  {
   "cell_type": "code",
   "execution_count": null,
   "id": "c56e51fa-19e2-4ff8-82a0-a3f249db7f47",
   "metadata": {},
   "outputs": [],
   "source": [
    "# open *\n",
    "f = open('README.md','r',encoding=\"utf-8\") # 리드미 파일은 팀 깃허브랑 연결시 될듯\n",
    "f.read()\n",
    "f.close()"
   ]
  },
  {
   "cell_type": "code",
   "execution_count": 59,
   "id": "cbad4d66-728c-4e67-8638-7a35efdf8610",
   "metadata": {},
   "outputs": [
    {
     "name": "stdout",
     "output_type": "stream",
     "text": [
      "16\n"
     ]
    }
   ],
   "source": [
    "# pow * # 몇에 몇승 # x를 y제곱한 결과값을 리턴 !!\n",
    "print(pow(2,4))"
   ]
  },
  {
   "cell_type": "code",
   "execution_count": 64,
   "id": "8c122a05-b66f-4426-b9d0-f4cc6f6176c3",
   "metadata": {},
   "outputs": [
    {
     "name": "stdout",
     "output_type": "stream",
     "text": [
      "[0, 1, 2, 3, 4]\n",
      "[5, 6, 7, 8, 9]\n",
      "[5, 7, 9]\n",
      "[15, 14, 13, 12, 11, 10, 9, 8, 7, 6, 5, 4, 3, 2, 1]\n"
     ]
    }
   ],
   "source": [
    "# range **\n",
    "# 인수가 하나\n",
    "print(list(range(5)))\n",
    "# 인수가 2개\n",
    "print(list(range(5,10)))\n",
    "# 인수가 3개\n",
    "print(list(range(5,10,2)))\n",
    "# 역순(스탬조절)\n",
    "print(list(range(15,0,-1)))"
   ]
  },
  {
   "cell_type": "code",
   "execution_count": 75,
   "id": "ee30689e-8a35-4db9-8fe2-d2d260edc2a1",
   "metadata": {},
   "outputs": [
    {
     "name": "stdout",
     "output_type": "stream",
     "text": [
      "3\n",
      "4\n",
      "3\n",
      "3.5\n",
      "3.495\n"
     ]
    }
   ],
   "source": [
    "# round * # 반올림\n",
    "print(round(3.45))\n",
    "print(round(3.546))\n",
    "print(round(3.495))\n",
    "print(round(3.495,2))\n",
    "print(round(3.495,3))"
   ]
  },
  {
   "cell_type": "code",
   "execution_count": 77,
   "id": "217ad7e7-72eb-42c8-9da9-9eb464448fd0",
   "metadata": {},
   "outputs": [
    {
     "name": "stdout",
     "output_type": "stream",
     "text": [
      "[3, 2, 1, 4, 6, 7]\n",
      "[1, 2, 3, 4, 6, 7]\n",
      "[7, 6, 4, 3, 2, 1]\n"
     ]
    }
   ],
   "source": [
    "# sorted(iterable) * 정렬된 리스트로 리턴\n",
    "s0 = [3,2,1,4,6,7]\n",
    "s1 = sorted(s0)\n",
    "s2 = sorted(s0,reverse = True)\n",
    "print(s0)\n",
    "print(s1)\n",
    "print(s2)"
   ]
  },
  {
   "cell_type": "code",
   "execution_count": 80,
   "id": "892d59fd-2a3f-451a-b75c-94acff123f5c",
   "metadata": {},
   "outputs": [
    {
     "name": "stdout",
     "output_type": "stream",
     "text": [
      "23 <class 'int'>\n",
      "23 <class 'str'>\n"
     ]
    }
   ],
   "source": [
    "# str * 문자열로 변환\n",
    "num = 23\n",
    "st = str(23)\n",
    "print(num,type(num))\n",
    "print(st,type(st))"
   ]
  },
  {
   "cell_type": "code",
   "execution_count": 81,
   "id": "aa75893b-586e-4734-8c7b-9ad1b1656440",
   "metadata": {},
   "outputs": [
    {
     "name": "stdout",
     "output_type": "stream",
     "text": [
      "15\n"
     ]
    }
   ],
   "source": [
    "# sum * 이터러블데이터의 합을 리턴\n",
    "print(sum([1,2,3,4,5]))"
   ]
  },
  {
   "cell_type": "code",
   "execution_count": 86,
   "id": "fc54c6d5-c42c-46e5-a29f-4577cc88c1d5",
   "metadata": {},
   "outputs": [
    {
     "name": "stdout",
     "output_type": "stream",
     "text": [
      "('a', 'b', 'c')\n",
      "(1, 2, 3, 4, 5, 6)\n",
      "(1, 2, 3, 4, 5, 6)\n"
     ]
    }
   ],
   "source": [
    "# tuple * 튜플로 바꾸기\n",
    "print(tuple(\"abc\"))\n",
    "print(tuple([1,2,3,4,5,6]))\n",
    "print(tuple((1,2,3,4,5,6)))"
   ]
  },
  {
   "cell_type": "code",
   "execution_count": 89,
   "id": "0d454841-ea8b-4a2e-b675-2ef99bef742c",
   "metadata": {},
   "outputs": [
    {
     "name": "stdout",
     "output_type": "stream",
     "text": [
      "<class 'str'>\n",
      "<class 'int'>\n"
     ]
    }
   ],
   "source": [
    "# type ** 자료형 확인\n",
    "print(type(\"abc\"))\n",
    "print(type(1234))\n",
    "# print(type(open(\"README.md\",\"r\"))) # 파일 자료형"
   ]
  },
  {
   "cell_type": "code",
   "execution_count": 96,
   "id": "d4e2d159-0944-46b0-ba68-0116ddecbaa8",
   "metadata": {},
   "outputs": [
    {
     "name": "stdout",
     "output_type": "stream",
     "text": [
      "11 : apple => dog\n",
      "22 : banana => cat\n",
      "33 : kiwi => elephant\n",
      "44 : cherry => lion\n",
      "55 : mango => Rabbit\n"
     ]
    }
   ],
   "source": [
    "# zip ** 묶어서 리턴\n",
    "fruit = ['apple','banana','kiwi','cherry','mango']\n",
    "animal = ['dog','cat','elephant','lion','Rabbit']\n",
    "num = [11,22,33,44,55]\n",
    "for f, a, n in zip(fruit, animal, num): # 세개의 이터러블한 아이들을 zip으로 묶어주는 것임\n",
    "    print(n,':', f,'=>',a)"
   ]
  },
  {
   "cell_type": "markdown",
   "id": "7aca3416-2126-43b4-8f89-dd46b52de0f9",
   "metadata": {},
   "source": [
    "# 표준 라이브러리"
   ]
  },
  {
   "cell_type": "markdown",
   "id": "0b8af276-657c-46cf-bd17-985517bc52bc",
   "metadata": {},
   "source": [
    "## datetime.date"
   ]
  },
  {
   "cell_type": "code",
   "execution_count": 112,
   "id": "e7653804-a89f-4996-8ee9-10e22ce3826d",
   "metadata": {},
   "outputs": [
    {
     "name": "stdout",
     "output_type": "stream",
     "text": [
      "전체 수업기간: 172 일\n",
      "남은 수업기간: 157 일\n",
      "지난 수업기간: 157 일\n"
     ]
    }
   ],
   "source": [
    "import datetime\n",
    "day1 = datetime.date(2025,2,3)\n",
    "day2 = datetime.date(2025,7,25)\n",
    "diff = day2 - day1\n",
    "print(\"전체 수업기간:\",diff.days,\"일\") # diff 두에 days 붙이면 시간 말고 날짜만 나옴 !!\n",
    "diff2 = day2 - datetime.datetime.now().date()\n",
    "print(\"남은 수업기간:\", diff2.days,\"일\")\n",
    "print(\"지난 수업기간:\", diff2.days,\"일\")\n",
    "# diff.days - 15 # 157일 남음"
   ]
  },
  {
   "cell_type": "code",
   "execution_count": 106,
   "id": "b1adb35e-8fb5-43a9-9f26-e53db6cd95e2",
   "metadata": {},
   "outputs": [
    {
     "data": {
      "text/plain": [
       "datetime.date(2025, 2, 18)"
      ]
     },
     "execution_count": 106,
     "metadata": {},
     "output_type": "execute_result"
    }
   ],
   "source": [
    "datetime.datetime.now().date() # date()를 넣으면 date 타입으로 변환됨"
   ]
  },
  {
   "cell_type": "code",
   "execution_count": 102,
   "id": "b91a061d-45b2-4a72-9ca2-e6e9527452c8",
   "metadata": {},
   "outputs": [],
   "source": [
    "# dir(datetime)"
   ]
  },
  {
   "cell_type": "code",
   "execution_count": 123,
   "id": "649545e3-d229-42d6-b53d-3ba225facb66",
   "metadata": {},
   "outputs": [
    {
     "name": "stdout",
     "output_type": "stream",
     "text": [
      "그날은 화요일 입니다.\n"
     ]
    }
   ],
   "source": [
    "# 요일 확인 !!\n",
    "days = [\"월\",\"화\",\"수\",\"목\",\"금\",\"토\",\"일\"]\n",
    "day = datetime.date(2025,12,2)\n",
    "# day.isoweekday() # 1부터 시작\n",
    "print(\"그날은 \"+days[day.weekday()]+\"요일 입니다.\")"
   ]
  },
  {
   "cell_type": "code",
   "execution_count": 126,
   "id": "04966d8e-9f21-4fee-91d3-aed80aa0b90c",
   "metadata": {},
   "outputs": [
    {
     "name": "stdin",
     "output_type": "stream",
     "text": [
      "생일을 년월일 형식으로 입력해주세요 20000212\n"
     ]
    },
    {
     "name": "stdout",
     "output_type": "stream",
     "text": [
      "당신의 생일은 토요일 입니다\n",
      "오늘로 태어난 지 9138  일 입니다\n",
      "2000-02-12\n",
      "2025-02-18\n"
     ]
    }
   ],
   "source": [
    "# 예제 1번 # 경주님\n",
    "import datetime\n",
    "inp = input(\"생일을 년월일 형식으로 입력해주세요\")\n",
    "\n",
    "year = inp[:4]\n",
    "year = int(year)\n",
    "\n",
    "month = inp[4:6]\n",
    "month = int(month)\n",
    "\n",
    "day = inp[6:]\n",
    "day = int(day)\n",
    "\n",
    "birth = datetime.date(year,month,day)\n",
    "today = datetime.datetime.now().date()\n",
    "howlong = (today - birth).days \n",
    "\n",
    "days = ['월','화','수','목','금','토','일']\n",
    "print(\"당신의 생일은 \" + days[birth.weekday()]+\"요일 입니다\")\n",
    "print(\"오늘로 태어난 지\",howlong,\" 일 입니다\")\n",
    "print(birth)\n",
    "print(today)"
   ]
  },
  {
   "cell_type": "code",
   "execution_count": 136,
   "id": "41b47dc6-fc70-43ba-a147-b520e531d7ae",
   "metadata": {},
   "outputs": [
    {
     "name": "stdin",
     "output_type": "stream",
     "text": [
      "생일을 입력해주세요. 20000212\n"
     ]
    },
    {
     "name": "stdout",
     "output_type": "stream",
     "text": [
      "생일로부터 지난 시간:  9138 일\n",
      "그날은 토요일 입니다.\n"
     ]
    }
   ],
   "source": [
    "import datetime\n",
    "inp = input(\"생일을 입력해주세요.\")\n",
    "\n",
    "year = inp[:4]\n",
    "year = int(year)\n",
    "\n",
    "month = inp[4:6]\n",
    "month = int(month)\n",
    "\n",
    "day = inp[6:]\n",
    "day = int(day)\n",
    "\n",
    "day1 = datetime.date(year,month,day)\n",
    "day2 = datetime.datetime.now().date()\n",
    "diff = day2 - day1\n",
    "print(\"생일로부터 지난 시간: \", diff.days,\"일\")\n",
    "days = ['월','화','수','목','금','토','일']\n",
    "print(\"그날은 \"+days[day1.weekday()]+\"요일 입니다.\")"
   ]
  },
  {
   "cell_type": "code",
   "execution_count": 125,
   "id": "934cb5b8-e499-4d8c-8c9d-d937e3aaa1bb",
   "metadata": {},
   "outputs": [
    {
     "name": "stdout",
     "output_type": "stream",
     "text": [
      "어린이날까지 남은 기간: 76 일\n",
      "그날은 월요일입니다.\n"
     ]
    }
   ],
   "source": [
    "# 예제 2번 # 나\n",
    "import datetime\n",
    "day1 = datetime.date(2025,5,5)\n",
    "diff = day1 - datetime.datetime.now().date()\n",
    "print(\"어린이날까지 남은 기간:\", diff.days,\"일\")\n",
    "days = ['월','화','수','목','금','토','일']\n",
    "day = datetime.date(2025,5,5)\n",
    "print(\"그날은 \"+days[day.weekday()]+\"요일입니다.\")"
   ]
  },
  {
   "cell_type": "code",
   "execution_count": 118,
   "id": "7a073d7b-6b39-4a7b-a79a-30de3c85d973",
   "metadata": {},
   "outputs": [
    {
     "name": "stdout",
     "output_type": "stream",
     "text": [
      "오늘부터 어버이날까지 79일 남았습니다.\n",
      "어버이날은 목요일 입니다.\n"
     ]
    }
   ],
   "source": [
    "import datetime\n",
    "# 예제 3번 # 정민님\n",
    "# 오늘부터 어버이날 며칠 남았는지, 무슨 요일인지\n",
    "parents = datetime.date(2025,5,8)\n",
    "today = datetime.datetime.now().date()\n",
    "count = parents - today\n",
    "print(f\"오늘부터 어버이날까지 {count.days}일 남았습니다.\")\n",
    "\n",
    "days = ['월', '화', '수', '목', '금', '토', '일']\n",
    "print(\"어버이날은 \" + days[parents.weekday()] + \"요일 입니다.\")"
   ]
  },
  {
   "cell_type": "code",
   "execution_count": 127,
   "id": "0095c70e-33f5-43fc-9e39-8b2124716c47",
   "metadata": {},
   "outputs": [
    {
     "name": "stdout",
     "output_type": "stream",
     "text": [
      "2025-02-18에서 크리스마스까지 310일 남았습니다 그 날은 목요일 입니다\n"
     ]
    }
   ],
   "source": [
    "# 예제 4번 # 민주님\n",
    "import datetime\n",
    "day1 = datetime.datetime.now().date()\n",
    "day2 = datetime.date(2025,12,25)\n",
    "diff = (day2 - day1).days\n",
    "days = ['월','화','수','목','금','토','일']\n",
    "print(f'{day1}에서 크리스마스까지 {diff}일 남았습니다 그 날은 {days[day2.weekday()]}요일 입니다')"
   ]
  },
  {
   "cell_type": "markdown",
   "id": "bb58fc12-f59b-4958-8b46-a499e56f9b13",
   "metadata": {},
   "source": [
    "## time"
   ]
  },
  {
   "cell_type": "code",
   "execution_count": 150,
   "id": "de32b837-9271-4bba-94d1-e63a8b829c77",
   "metadata": {},
   "outputs": [
    {
     "data": {
      "text/plain": [
       "1739855560.8898263"
      ]
     },
     "execution_count": 150,
     "metadata": {},
     "output_type": "execute_result"
    }
   ],
   "source": [
    "# time.time *\n",
    "import time\n",
    "time.time() # 밑에 나온 이값이 생각보다 중요함"
   ]
  },
  {
   "cell_type": "code",
   "execution_count": 152,
   "id": "8c11b6d2-4018-4a0f-9efd-44c4f8c71a6b",
   "metadata": {},
   "outputs": [
    {
     "name": "stdout",
     "output_type": "stream",
     "text": [
      "time.struct_time(tm_year=2025, tm_mon=2, tm_mday=18, tm_hour=14, tm_min=14, tm_sec=24, tm_wday=1, tm_yday=49, tm_isdst=0)\n"
     ]
    }
   ],
   "source": [
    "# time.localtime\n",
    "tt = time.localtime(time.time())\n",
    "print(tt)"
   ]
  },
  {
   "cell_type": "code",
   "execution_count": 153,
   "id": "ba4243ae-f12e-430a-8241-fd17c3405062",
   "metadata": {},
   "outputs": [
    {
     "data": {
      "text/plain": [
       "'Tue Feb 18 14:15:36 2025'"
      ]
     },
     "execution_count": 153,
     "metadata": {},
     "output_type": "execute_result"
    }
   ],
   "source": [
    "# time.asctime\n",
    "time.asctime(time.localtime(time.time()))"
   ]
  },
  {
   "cell_type": "code",
   "execution_count": 154,
   "id": "d04d73ec-8032-4325-a870-28d5a4211d54",
   "metadata": {},
   "outputs": [
    {
     "data": {
      "text/plain": [
       "'Tue Feb 18 14:16:02 2025'"
      ]
     },
     "execution_count": 154,
     "metadata": {},
     "output_type": "execute_result"
    }
   ],
   "source": [
    "# time.ctime() * # 현재시간\n",
    "time.ctime()"
   ]
  },
  {
   "cell_type": "code",
   "execution_count": 158,
   "id": "8a824997-f0cb-4e79-af4c-b36460d2310e",
   "metadata": {},
   "outputs": [
    {
     "name": "stdout",
     "output_type": "stream",
     "text": [
      "02/18/25\n",
      "Tue Feb 18 14:18:53 2025\n",
      "14:18:53\n"
     ]
    }
   ],
   "source": [
    "# time.strftime\n",
    "print(time.strftime('%x',time.localtime(time.time())))\n",
    "print(time.strftime('%c',time.localtime(time.time())))\n",
    "print(time.strftime('%X',time.localtime(time.time())))"
   ]
  },
  {
   "cell_type": "code",
   "execution_count": 160,
   "id": "4d64396e-7a75-4e5e-89a7-14488545f75f",
   "metadata": {},
   "outputs": [
    {
     "name": "stdout",
     "output_type": "stream",
     "text": [
      "10"
     ]
    }
   ],
   "source": [
    "# time.sleep\n",
    "import time as t\n",
    "for i in range(1,11):\n",
    "    print(i, end='\\r')\n",
    "    t.sleep(1)"
   ]
  },
  {
   "cell_type": "markdown",
   "id": "a1967b72-fbd1-421e-b54d-1879cbbf0ff4",
   "metadata": {},
   "source": [
    "## math.gcd , math.lcm"
   ]
  },
  {
   "cell_type": "code",
   "execution_count": 2,
   "id": "015a186d-8618-4a5c-9878-8938ee2f15c9",
   "metadata": {},
   "outputs": [],
   "source": [
    "import math"
   ]
  },
  {
   "cell_type": "code",
   "execution_count": 5,
   "id": "c8917e50-83d1-4d52-ada9-18edd1f4922b",
   "metadata": {},
   "outputs": [
    {
     "name": "stdout",
     "output_type": "stream",
     "text": [
      "3.141592653589793\n",
      "20\n",
      "75\n"
     ]
    }
   ],
   "source": [
    "print(math.pi)\n",
    "print(math.gcd(60,100,80)) # 20이라는 최대공약수 값 구할수있음\n",
    "print(math.lcm(15,25)) # 최소공배수 값"
   ]
  },
  {
   "cell_type": "markdown",
   "id": "59ae5861-7f21-4b95-ab7f-9d1a081282bf",
   "metadata": {},
   "source": [
    "## random"
   ]
  },
  {
   "cell_type": "code",
   "execution_count": 12,
   "id": "96deca07-e526-4ac2-998d-e805029848da",
   "metadata": {},
   "outputs": [
    {
     "name": "stdout",
     "output_type": "stream",
     "text": [
      "0.1159106499009952\n",
      "8\n"
     ]
    }
   ],
   "source": [
    "import random as r\n",
    "# r.random()\n",
    "print(r.random()) # 0.0에서 1.0 사이의 난수\n",
    "# r.randint()\n",
    "print(r.randint(1,10)) # a에서 b까지의 난수 리턴"
   ]
  },
  {
   "cell_type": "code",
   "execution_count": 16,
   "id": "05bd12eb-9fd0-42c3-a8d0-6037b2de1a02",
   "metadata": {},
   "outputs": [
    {
     "name": "stdout",
     "output_type": "stream",
     "text": [
      "66 22 55 33 33 11 "
     ]
    }
   ],
   "source": [
    "# r.choice()\n",
    "data = [11,22,33,44,55,66]\n",
    "for n in range(6):\n",
    "    print(r.choice(data), end=' ')"
   ]
  },
  {
   "cell_type": "code",
   "execution_count": 17,
   "id": "e3b4eb29-9aed-4014-8762-8c3fca2531c4",
   "metadata": {},
   "outputs": [
    {
     "name": "stdout",
     "output_type": "stream",
     "text": [
      "[7, 5, 16, 10, 11, 18, 1, 15, 8, 4, 17, 12, 19, 2, 9, 3, 13, 20, 14, 6] 20\n",
      "{1, 2, 3, 4, 5, 6, 7, 8, 9, 10, 11, 12, 13, 14, 15, 16, 17, 18, 19, 20} 20\n"
     ]
    }
   ],
   "source": [
    "# r.sample()\n",
    "li = list(range(1,21))\n",
    "arr = []\n",
    "for n in r.sample(li,len(li)): # 로또할때 sample쓰면 끝남\n",
    "    arr.append(n)\n",
    "print(arr, len(arr))   \n",
    "sarr = set(arr)\n",
    "print(sarr,len(sarr))"
   ]
  },
  {
   "cell_type": "code",
   "execution_count": 1,
   "id": "001de52f-370b-4d1b-b671-bfbea0ecf739",
   "metadata": {},
   "outputs": [],
   "source": [
    "# 6단원\n",
    "# 06-5 탭 문자를 공백 문자 4개로 바꾸기"
   ]
  },
  {
   "cell_type": "code",
   "execution_count": null,
   "id": "499ce625-c74c-4da5-a6c5-bd226d26c4ff",
   "metadata": {},
   "outputs": [],
   "source": [
    "C:\\doit>python tabto4.py a.txt b.txt"
   ]
  },
  {
   "cell_type": "code",
   "execution_count": null,
   "id": "8b41f675-b9ba-46b4-8b54-e8bb3e5abda9",
   "metadata": {},
   "outputs": [],
   "source": [
    "import sys\n",
    "\n",
    "src = sys.argv[1]\n",
    "dst = sys.argv[2]\n",
    "\n",
    "f = open(src)\n",
    "tab_content = f.read()\n",
    "f.close()\n",
    "\n",
    "space_content = tab_content.replace(\"\\t\", \" \" * 4)\n",
    "\n",
    "f = open(dst, 'w')\n",
    "f.write(space_content)\n",
    "f.close()"
   ]
  },
  {
   "cell_type": "code",
   "execution_count": null,
   "id": "87840a79-719c-48e0-ac0e-70996aa3bcd1",
   "metadata": {},
   "outputs": [],
   "source": [
    "C:\\doit>python tabto4.py a.txt b.txt"
   ]
  },
  {
   "cell_type": "code",
   "execution_count": null,
   "id": "12dd9360-5d71-49c3-ba6c-a39ce8e7b8b3",
   "metadata": {},
   "outputs": [],
   "source": [
    "Life    is    too    short\n",
    "You    need    python"
   ]
  },
  {
   "cell_type": "markdown",
   "id": "2355abd1-2145-4f8d-8af0-08662e38ab87",
   "metadata": {},
   "source": [
    "## tools"
   ]
  },
  {
   "cell_type": "code",
   "execution_count": 2,
   "id": "be4348e9-20df-4186-814b-88bf288e6a4b",
   "metadata": {},
   "outputs": [
    {
     "name": "stdout",
     "output_type": "stream",
     "text": [
      "[('한민서', '사탕'), ('황지민', '초콜릿'), ('이영철', '젤리'), ('이광수', '새우깡'), ('김승민', '새우깡')]\n"
     ]
    }
   ],
   "source": [
    "# itertools.zip_longest\n",
    "import itertools\n",
    "students = ['한민서','황지민','이영철','이광수','김승민']\n",
    "snacks = ['사탕', '초콜릿', '젤리']\n",
    "\n",
    "# result = zip(students, snacks) # zip 은 작은 배열에 길이를 맞춤\n",
    "result = itertools.zip_longest(students, snacks, fillvalue=\"새우깡\")\n",
    "print(list(result))"
   ]
  },
  {
   "cell_type": "code",
   "execution_count": 5,
   "id": "3288c040-4e9a-479e-b242-7da3a71a4de6",
   "metadata": {},
   "outputs": [
    {
     "name": "stdout",
     "output_type": "stream",
     "text": [
      "[('1', '2'), ('1', '3'), ('2', '1'), ('2', '3'), ('3', '1'), ('3', '2')]\n"
     ]
    }
   ],
   "source": [
    "# itertools.permutations\n",
    "import itertools\n",
    "print(list(itertools.permutations(['1','2','3'],2)))"
   ]
  },
  {
   "cell_type": "code",
   "execution_count": 6,
   "id": "61a39159-5b46-4c16-a0be-442b882957fe",
   "metadata": {},
   "outputs": [
    {
     "name": "stdout",
     "output_type": "stream",
     "text": [
      "[('1', '2'), ('1', '3'), ('2', '3')]\n"
     ]
    }
   ],
   "source": [
    "# itertools.combinations\n",
    "import itertools\n",
    "print(list(itertools.combinations(['1','2','3'],2)))"
   ]
  },
  {
   "cell_type": "code",
   "execution_count": 15,
   "id": "78677226-4d8c-4af0-a5bd-52f6c4704af6",
   "metadata": {
    "scrolled": true
   },
   "outputs": [
    {
     "name": "stdout",
     "output_type": "stream",
     "text": [
      "<class 'itertools.combinations'>\n"
     ]
    },
    {
     "data": {
      "text/plain": [
       "8145060"
      ]
     },
     "execution_count": 15,
     "metadata": {},
     "output_type": "execute_result"
    }
   ],
   "source": [
    "# itertools.combinations 응용\n",
    "import itertools\n",
    "lotto = itertools.combinations(range(1,46),6)\n",
    "print(type(lotto))\n",
    "ls = list(lotto)\n",
    "# for num in ls[:48]:\n",
    "#     print(num)\n",
    "len(ls)"
   ]
  },
  {
   "cell_type": "code",
   "execution_count": 17,
   "id": "074c6a95-4605-40a3-a77b-ec3dd37230bb",
   "metadata": {},
   "outputs": [
    {
     "name": "stdout",
     "output_type": "stream",
     "text": [
      "55\n"
     ]
    }
   ],
   "source": [
    "#functools.reduce\n",
    "# 10개 넣었는데 거의 1개로 줄어들면 reduce\n",
    "import functools\n",
    "\n",
    "data = [1,2,3,4,5,6,7,8,9,10]\n",
    "result = functools.reduce(lambda x, y : x+y, data)\n",
    "print(result)"
   ]
  },
  {
   "cell_type": "code",
   "execution_count": 20,
   "id": "37c7f21e-ed7e-4c55-92da-c4c50f49e130",
   "metadata": {},
   "outputs": [
    {
     "name": "stdout",
     "output_type": "stream",
     "text": [
      "8\n"
     ]
    }
   ],
   "source": [
    "import functools\n",
    "num_list = [3,2,8,1,6,7]\n",
    "max_num = functools.reduce(lambda x, y: x if x > y else y, num_list) \n",
    "print(max_num)"
   ]
  },
  {
   "cell_type": "code",
   "execution_count": 6,
   "id": "d9d34aa5-8ad1-4d05-97b6-e8d9ab7c5d58",
   "metadata": {},
   "outputs": [
    {
     "name": "stdout",
     "output_type": "stream",
     "text": [
      "[('dave', 32, 'B'), ('jane', 22, 'A'), ('sally', 17, 'B')]\n"
     ]
    }
   ],
   "source": [
    "# operator.itemgetter *\n",
    "from operator import itemgetter\n",
    "name = [\"jane\",\"dave\",\"sally\"]\n",
    "age = [22,32,17]\n",
    "grade = ['A','B','B']\n",
    "students = zip(name, age, grade)\n",
    "# print(list(students))\n",
    "# students = [\n",
    "#     (\"jane\",22,'A'),\n",
    "#     (\"dave\",32,'B'),\n",
    "#     (\"sally\",17,'B'),\n",
    "# ]\n",
    "\n",
    "result = sorted(students, key=itemgetter(1), reverse=True)\n",
    "print(result)"
   ]
  },
  {
   "cell_type": "code",
   "execution_count": 2,
   "id": "da61f34e-ba18-494d-8a6d-cf5cbbd2bf22",
   "metadata": {},
   "outputs": [
    {
     "name": "stdout",
     "output_type": "stream",
     "text": [
      "[{'name': 'jane', 'age': 22, 'grade': 'A'}, {'name': 'dave', 'age': 32, 'grade': 'B'}, {'name': 'sally', 'age': 17, 'grade': 'B'}]\n",
      "[{'name': 'sally', 'age': 17, 'grade': 'B'}, {'name': 'jane', 'age': 22, 'grade': 'A'}, {'name': 'dave', 'age': 32, 'grade': 'B'}]\n"
     ]
    }
   ],
   "source": [
    "from operator import itemgetter\n",
    "name = [\"jane\",\"dave\",\"sally\"]\n",
    "age = [22,32,17]\n",
    "grade = ['A','B','B']\n",
    "\n",
    "# students = []\n",
    "# for n,a,g in zip(name,age,grade):\n",
    "#     students.append({'name':n, 'age':a, 'grade':g})\n",
    "# print(students)\n",
    "\n",
    "# 리스트컴프리헨션 방법\n",
    "students = [{'name':n, 'age':a, 'grade':g} for n,a,g in zip(name,age,grade)]\n",
    "print(students)\n",
    "\n",
    "# students = [\n",
    "#     {\"name\":\"jane\",\"age\":22,\"grade\": 'A'},\n",
    "#     {\"name\":\"dave\",\"age\":32,\"grade\": 'B'},\n",
    "#     {\"name\":\"sally\",\"age\":17,\"grade\": 'B'},\n",
    "# ]\n",
    "result = sorted(students, key=itemgetter('age'))\n",
    "print(result)"
   ]
  },
  {
   "cell_type": "code",
   "execution_count": 6,
   "id": "71dce4de-409c-4e85-8c4f-30bb913aface",
   "metadata": {},
   "outputs": [
    {
     "name": "stdout",
     "output_type": "stream",
     "text": [
      "('sally', 17, 'B')\n",
      "('jane', 22, 'A')\n",
      "('dave', 32, 'B')\n"
     ]
    }
   ],
   "source": [
    "# operator.attrgetter()\n",
    "from operator import attrgetter\n",
    "\n",
    "class Student:\n",
    "    def __init__(self, name, age, grade):\n",
    "        self.name = name\n",
    "        self.age = age\n",
    "        self.grade = grade\n",
    "    def pr(self):\n",
    "        return self.name , self.age , self.grade\n",
    "\n",
    "students = [\n",
    "    Student('jane', 22, 'A'),\n",
    "    Student('dave', 32, 'B'),\n",
    "    Student('sally', 17, 'B'),\n",
    "]\n",
    "\n",
    "result = sorted(students, key=attrgetter('age'))\n",
    "for r in result:\n",
    "    print(r.pr())"
   ]
  },
  {
   "cell_type": "code",
   "execution_count": 10,
   "id": "7b6eb332-a302-41c8-a7e0-5989725cd06b",
   "metadata": {},
   "outputs": [
    {
     "name": "stdout",
     "output_type": "stream",
     "text": [
      "29583\n",
      "29588\n",
      "29593\n",
      "29598\n",
      "29603\n"
     ]
    }
   ],
   "source": [
    "# shutil\n",
    "import shutil , time as t\n",
    "\n",
    "for n in range(5):\n",
    "    tstamp = str(round(t.time()))[-5:]\n",
    "    print(tstamp)\n",
    "    shutil.copy(\"README.md\",f\"./backup/README_{tstamp}.md.bak\")# 원하는 파일 우클릭 카피패쓰\n",
    "    t.sleep(5) # 5초 이따가 백업하고 그렇게 5번 백업"
   ]
  },
  {
   "cell_type": "code",
   "execution_count": 12,
   "id": "cd92efaa-9146-4fe4-a218-d7d5f1e9dac8",
   "metadata": {},
   "outputs": [
    {
     "name": "stdout",
     "output_type": "stream",
     "text": [
      "./backup\\README_29583.md.bak\n",
      "./backup\\README_29588.md.bak\n",
      "./backup\\README_29593.md.bak\n",
      "./backup\\README_29598.md.bak\n",
      "./backup\\README_29603.md.bak\n"
     ]
    }
   ],
   "source": [
    "# glob\n",
    "import glob\n",
    "# print(glob.glob(\"./backup/*\"))\n",
    "for file in glob.glob(\"./backup/*.bak\"): # 백업 파일만 나오게끔 하는것\n",
    "    print(file)"
   ]
  },
  {
   "cell_type": "code",
   "execution_count": 16,
   "id": "b65854d1-3a80-431f-8001-707700d1fe12",
   "metadata": {},
   "outputs": [],
   "source": [
    "import pickle\n",
    "\n",
    "f = open(\"test.txt\",'wb')\n",
    "data = {1: 'python', 2: 'you need'}\n",
    "pickle.dump(data, f)\n",
    "f.close()"
   ]
  },
  {
   "cell_type": "code",
   "execution_count": 17,
   "id": "2a0f35b8-4c54-4f41-93ff-c1ad612abd28",
   "metadata": {},
   "outputs": [
    {
     "name": "stdout",
     "output_type": "stream",
     "text": [
      "{1: 'python', 2: 'you need'}\n"
     ]
    }
   ],
   "source": [
    "import pickle\n",
    "\n",
    "f = open(\"test.txt\", 'rb')\n",
    "data = pickle.load(f)\n",
    "print(data)"
   ]
  },
  {
   "cell_type": "markdown",
   "id": "7f763a97-65fd-40c5-8ab1-c9b2e6d93f93",
   "metadata": {},
   "source": [
    "## OS"
   ]
  },
  {
   "cell_type": "code",
   "execution_count": 2,
   "id": "563999af-00ff-4fbf-b2a0-4bca2712ec9b",
   "metadata": {},
   "outputs": [
    {
     "data": {
      "text/plain": [
       "'C:\\\\WINDOWS'"
      ]
     },
     "execution_count": 2,
     "metadata": {},
     "output_type": "execute_result"
    }
   ],
   "source": [
    "# os.environ # 환경 변숫값 리턴\n",
    "import os\n",
    "# 환경변수 중 PATH 값\n",
    "os.environ['PATH']\n",
    "# 디렉토리 변경\n",
    "os.chdir(\"C:\\\\WINDOWS\")\n",
    "# 디렉토리 위치 받기\n",
    "os.getcwd()"
   ]
  },
  {
   "cell_type": "code",
   "execution_count": 5,
   "id": "3f2032fb-056a-44cf-9dbc-c847d8568ea4",
   "metadata": {},
   "outputs": [
    {
     "data": {
      "text/plain": [
       "'C:\\\\Program Files (x86)\\\\Common Files\\\\Oracle\\\\Java\\\\java8path;C:\\\\Program Files (x86)\\\\Common Files\\\\Oracle\\\\Java\\\\javapath;C:\\\\WINDOWS\\\\system32;C:\\\\WINDOWS;C:\\\\WINDOWS\\\\System32\\\\Wbem;C:\\\\WINDOWS\\\\System32\\\\WindowsPowerShell\\\\v1.0\\\\;C:\\\\WINDOWS\\\\System32\\\\OpenSSH\\\\;C:\\\\Program Files (x86)\\\\NVIDIA Corporation\\\\PhysX\\\\Common;C:\\\\Program Files\\\\Bandizip\\\\;C:\\\\Program Files\\\\Git\\\\cmd;C:\\\\Users\\\\Admin\\\\AppData\\\\Local\\\\Programs\\\\Python\\\\Python313\\\\Scripts\\\\;C:\\\\Users\\\\Admin\\\\AppData\\\\Local\\\\Programs\\\\Python\\\\Python313\\\\;C:\\\\Users\\\\Admin\\\\AppData\\\\Local\\\\Programs\\\\Python\\\\Launcher\\\\;C:\\\\Users\\\\Admin\\\\AppData\\\\Local\\\\Microsoft\\\\WindowsApps;C:\\\\Program Files (x86)\\\\Brackets\\\\;C:\\\\Users\\\\Admin\\\\AppData\\\\Local\\\\Programs\\\\Microsoft VS Code\\\\bin;C:\\\\Program Files (x86)\\\\Java\\\\jre1.8.0_441\\\\bin;'"
      ]
     },
     "execution_count": 5,
     "metadata": {},
     "output_type": "execute_result"
    }
   ],
   "source": [
    "import os\n",
    "# 환경변수 중 PATH 값\n",
    "os.environ['PATH']"
   ]
  },
  {
   "cell_type": "code",
   "execution_count": 11,
   "id": "80dc5dc9-5d0a-4157-a67b-d5b62bb05407",
   "metadata": {},
   "outputs": [],
   "source": [
    "# 시스템 명령어 호출\n",
    "def what(what):\n",
    "    if not os.system(what): # 에러시 1을 반환\n",
    "        f = os.popen(f\"{what} -V\")\n",
    "        print(f.read())\n",
    "    else:\n",
    "        print('없는 명령어 입니다.')"
   ]
  },
  {
   "cell_type": "code",
   "execution_count": 12,
   "id": "07146ba5-6894-4c15-8509-194e64dd24e0",
   "metadata": {},
   "outputs": [
    {
     "name": "stdout",
     "output_type": "stream",
     "text": [
      "Python 3.13.1\n",
      "\n"
     ]
    }
   ],
   "source": [
    "what(\"python\")"
   ]
  },
  {
   "cell_type": "code",
   "execution_count": null,
   "id": "ecb3923b-e861-463e-b82e-2f841d299980",
   "metadata": {},
   "outputs": [],
   "source": [
    "# zipfile # 파일 생성해서 테스트해야함\n",
    "import zipfile\n",
    "\n",
    "# 파일 합치기\n",
    "with zipfile.Zipfile('mytext.zip','w') as myzip:\n",
    "    myzip.write('a.txt')\n",
    "    myzip.write('b.txt')\n",
    "    myzip.write('c.txt')\n",
    "\n",
    "# 해제하기\n",
    "with zipfile.Zipfile('mytext.zip') as myzip:\n",
    "    myzip.extractall()"
   ]
  },
  {
   "cell_type": "code",
   "execution_count": null,
   "id": "c501c20f-d9e2-4d12-8e9f-cbf22e1bddb4",
   "metadata": {},
   "outputs": [],
   "source": [
    "# 특정 파일만 해제하기\n",
    "with zipfile.Zipfile('mytext.zip') as myzip:\n",
    "    myzip.extract('a.txt')"
   ]
  },
  {
   "cell_type": "markdown",
   "id": "766db810-1e57-420f-b40b-54b202157fa7",
   "metadata": {},
   "source": [
    "## Threading"
   ]
  },
  {
   "cell_type": "code",
   "execution_count": 1,
   "id": "f21e8e17-6dd2-488c-9648-a98408c28239",
   "metadata": {},
   "outputs": [],
   "source": [
    "import time\n",
    "def long_task():\n",
    "    for i in range(5):\n",
    "        time.sleep(1)\n",
    "        print(f\"일하는 중...{i}\")"
   ]
  },
  {
   "cell_type": "code",
   "execution_count": 3,
   "id": "45d9a184-63c8-4c0f-84ae-68062b5d69ff",
   "metadata": {
    "scrolled": true
   },
   "outputs": [
    {
     "name": "stdout",
     "output_type": "stream",
     "text": [
      "=====start=====\n",
      "일하는 중...0\n",
      "일하는 중...1\n",
      "일하는 중...2\n",
      "일하는 중...3\n",
      "일하는 중...4\n",
      "일하는 중...0\n",
      "일하는 중...1\n",
      "일하는 중...2\n",
      "일하는 중...3\n",
      "일하는 중...4\n",
      "일하는 중...0\n",
      "일하는 중...1\n",
      "일하는 중...2\n",
      "일하는 중...3\n",
      "일하는 중...4\n",
      "=====end=====\n",
      "15.01532769203186\n"
     ]
    }
   ],
   "source": [
    "# 기본작업 5초 X 5회 = 25초 # 병렬처리한다는 느낌, 하나하나 처리하는게 아니라 뭐하면서 저것도 동시에 하고 그런 느낌, 손이 여러개\n",
    "start = time.time() \n",
    "print(\"=====start=====\")\n",
    "for n in range(3):\n",
    "    long_task()\n",
    "print(\"=====end=====\")\n",
    "print(time.time() - start) # 얼마나 시간이 걸렸는지 확인"
   ]
  },
  {
   "cell_type": "code",
   "execution_count": 4,
   "id": "13d36dfe-85fa-498e-b677-d9ef7a0ef8c3",
   "metadata": {
    "scrolled": true
   },
   "outputs": [
    {
     "name": "stdout",
     "output_type": "stream",
     "text": [
      "=====start=====\n",
      "일하는 중...0일하는 중...0\n",
      "일하는 중...0\n",
      "일하는 중...0\n",
      "일하는 중...0\n",
      "\n",
      "일하는 중...1\n",
      "일하는 중...1\n",
      "일하는 중...1\n",
      "일하는 중...1\n",
      "일하는 중...1\n",
      "일하는 중...2\n",
      "일하는 중...2\n",
      "일하는 중...2\n",
      "일하는 중...2\n",
      "일하는 중...2\n",
      "일하는 중...3\n",
      "일하는 중...3\n",
      "일하는 중...3\n",
      "일하는 중...3\n",
      "일하는 중...3\n",
      "일하는 중...4일하는 중...4\n",
      "일하는 중...4\n",
      "일하는 중...4\n",
      "일하는 중...4\n",
      "\n",
      "=====end=====\n",
      "5.029004335403442\n"
     ]
    }
   ],
   "source": [
    "# thread # 지금 알아둘 필요는 없음 \n",
    "import threading\n",
    "start = time.time() \n",
    "print(\"=====start=====\")\n",
    "threads = []\n",
    "for n in range(5):\n",
    "    t = threading.Thread(target=long_task)\n",
    "    threads.append(t)\n",
    "for t in threads:\n",
    "    t.start()   \n",
    "for t in threads:\n",
    "    t.join()\n",
    "print(\"=====end=====\")\n",
    "print(time.time() - start)"
   ]
  },
  {
   "cell_type": "markdown",
   "id": "185eeb0a-8ebe-4f8b-a7a4-53fb0d2ce331",
   "metadata": {},
   "source": [
    "## etc"
   ]
  },
  {
   "cell_type": "code",
   "execution_count": 30,
   "id": "5afc91b0-77d0-4045-87dc-c233de371598",
   "metadata": {},
   "outputs": [],
   "source": [
    "# temptfile # 지금은 참고용 #!!\n",
    "import tempfile # 이거말고 타임스탬프 찍는거 추천\n",
    "filename = tempfile.mkstemp()\n",
    "filename\n",
    "f.close()"
   ]
  },
  {
   "cell_type": "code",
   "execution_count": 15,
   "id": "422db008-6016-4b61-968a-e9c55f29d1dc",
   "metadata": {},
   "outputs": [
    {
     "name": "stdout",
     "output_type": "stream",
     "text": [
      "오류가 발생했습니다.\n",
      "Traceback (most recent call last):\n",
      "  File \"C:\\Users\\Admin\\AppData\\Local\\Temp\\ipykernel_17020\\1589442835.py\", line 9, in main\n",
      "    b()\n",
      "    ~^^\n",
      "  File \"C:\\Users\\Admin\\AppData\\Local\\Temp\\ipykernel_17020\\1589442835.py\", line 6, in b\n",
      "    a()\n",
      "    ~^^\n",
      "  File \"C:\\Users\\Admin\\AppData\\Local\\Temp\\ipykernel_17020\\1589442835.py\", line 4, in a\n",
      "    return 1/0\n",
      "           ~^~\n",
      "ZeroDivisionError: division by zero\n",
      "\n"
     ]
    }
   ],
   "source": [
    "# traceback\n",
    "import traceback\n",
    "def a():\n",
    "    return 1/0\n",
    "def b():\n",
    "    a()\n",
    "def main():\n",
    "    try:\n",
    "        b()\n",
    "    except:\n",
    "        print(\"오류가 발생했습니다.\")\n",
    "        print(traceback.format_exc())\n",
    "main()"
   ]
  },
  {
   "cell_type": "markdown",
   "id": "947f1b15-134f-4144-8b4b-17a274316582",
   "metadata": {},
   "source": [
    "## JSON"
   ]
  },
  {
   "cell_type": "code",
   "execution_count": null,
   "id": "19f1f2b4-9bab-4730-962a-534be6537ce9",
   "metadata": {},
   "outputs": [],
   "source": [
    "{\n",
    "    \"name\":\"홍길동\",\n",
    "    \"birth\":\"0525\",\n",
    "    \"age\":30\n",
    "}"
   ]
  },
  {
   "cell_type": "code",
   "execution_count": 36,
   "id": "2de34529-f9e6-4f04-81fc-c33383921dac",
   "metadata": {
    "scrolled": true
   },
   "outputs": [
    {
     "name": "stdout",
     "output_type": "stream",
     "text": [
      "{'userId': 1, 'id': 1, 'title': 'delectus aut autem', 'completed': False}\n",
      "{'userId': 1, 'id': 2, 'title': 'quis ut nam facilis et officia qui', 'completed': False}\n",
      "{'userId': 1, 'id': 3, 'title': 'fugiat veniam minus', 'completed': False}\n",
      "{'userId': 1, 'id': 4, 'title': 'et porro tempora', 'completed': True}\n",
      "{'userId': 1, 'id': 5, 'title': 'laboriosam mollitia et enim quasi adipisci quia provident illum', 'completed': False}\n",
      "{'userId': 1, 'id': 6, 'title': 'qui ullam ratione quibusdam voluptatem quia omnis', 'completed': False}\n",
      "{'userId': 1, 'id': 7, 'title': 'illo expedita consequatur quia in', 'completed': False}\n",
      "{'userId': 1, 'id': 8, 'title': 'quo adipisci enim quam ut ab', 'completed': True}\n",
      "{'userId': 1, 'id': 9, 'title': 'molestiae perspiciatis ipsa', 'completed': False}\n",
      "{'userId': 1, 'id': 10, 'title': 'illo est ratione doloremque quia maiores aut', 'completed': True}\n",
      "{'userId': 1, 'id': 11, 'title': 'vero rerum temporibus dolor', 'completed': True}\n",
      "{'userId': 1, 'id': 12, 'title': 'ipsa repellendus fugit nisi', 'completed': True}\n",
      "{'userId': 1, 'id': 13, 'title': 'et doloremque nulla', 'completed': False}\n",
      "{'userId': 1, 'id': 14, 'title': 'repellendus sunt dolores architecto voluptatum', 'completed': True}\n",
      "{'userId': 1, 'id': 15, 'title': 'ab voluptatum amet voluptas', 'completed': True}\n",
      "{'userId': 1, 'id': 16, 'title': 'accusamus eos facilis sint et aut voluptatem', 'completed': True}\n",
      "{'userId': 1, 'id': 17, 'title': 'quo laboriosam deleniti aut qui', 'completed': True}\n",
      "{'userId': 1, 'id': 18, 'title': 'dolorum est consequatur ea mollitia in culpa', 'completed': False}\n",
      "{'userId': 1, 'id': 19, 'title': 'molestiae ipsa aut voluptatibus pariatur dolor nihil', 'completed': True}\n",
      "{'userId': 1, 'id': 20, 'title': 'ullam nobis libero sapiente ad optio sint', 'completed': True}\n",
      "{'userId': 2, 'id': 21, 'title': 'suscipit repellat esse quibusdam voluptatem incidunt', 'completed': False}\n",
      "{'userId': 2, 'id': 22, 'title': 'distinctio vitae autem nihil ut molestias quo', 'completed': True}\n",
      "{'userId': 2, 'id': 23, 'title': 'et itaque necessitatibus maxime molestiae qui quas velit', 'completed': False}\n",
      "{'userId': 2, 'id': 24, 'title': 'adipisci non ad dicta qui amet quaerat doloribus ea', 'completed': False}\n",
      "{'userId': 2, 'id': 25, 'title': 'voluptas quo tenetur perspiciatis explicabo natus', 'completed': True}\n",
      "{'userId': 2, 'id': 26, 'title': 'aliquam aut quasi', 'completed': True}\n",
      "{'userId': 2, 'id': 27, 'title': 'veritatis pariatur delectus', 'completed': True}\n",
      "{'userId': 2, 'id': 28, 'title': 'nesciunt totam sit blanditiis sit', 'completed': False}\n",
      "{'userId': 2, 'id': 29, 'title': 'laborum aut in quam', 'completed': False}\n",
      "{'userId': 2, 'id': 30, 'title': 'nemo perspiciatis repellat ut dolor libero commodi blanditiis omnis', 'completed': True}\n",
      "{'userId': 2, 'id': 31, 'title': 'repudiandae totam in est sint facere fuga', 'completed': False}\n",
      "{'userId': 2, 'id': 32, 'title': 'earum doloribus ea doloremque quis', 'completed': False}\n",
      "{'userId': 2, 'id': 33, 'title': 'sint sit aut vero', 'completed': False}\n",
      "{'userId': 2, 'id': 34, 'title': 'porro aut necessitatibus eaque distinctio', 'completed': False}\n",
      "{'userId': 2, 'id': 35, 'title': 'repellendus veritatis molestias dicta incidunt', 'completed': True}\n",
      "{'userId': 2, 'id': 36, 'title': 'excepturi deleniti adipisci voluptatem et neque optio illum ad', 'completed': True}\n",
      "{'userId': 2, 'id': 37, 'title': 'sunt cum tempora', 'completed': False}\n",
      "{'userId': 2, 'id': 38, 'title': 'totam quia non', 'completed': False}\n",
      "{'userId': 2, 'id': 39, 'title': 'doloremque quibusdam asperiores libero corrupti illum qui omnis', 'completed': False}\n",
      "{'userId': 2, 'id': 40, 'title': 'totam atque quo nesciunt', 'completed': True}\n",
      "{'userId': 3, 'id': 41, 'title': 'aliquid amet impedit consequatur aspernatur placeat eaque fugiat suscipit', 'completed': False}\n",
      "{'userId': 3, 'id': 42, 'title': 'rerum perferendis error quia ut eveniet', 'completed': False}\n",
      "{'userId': 3, 'id': 43, 'title': 'tempore ut sint quis recusandae', 'completed': True}\n",
      "{'userId': 3, 'id': 44, 'title': 'cum debitis quis accusamus doloremque ipsa natus sapiente omnis', 'completed': True}\n",
      "{'userId': 3, 'id': 45, 'title': 'velit soluta adipisci molestias reiciendis harum', 'completed': False}\n",
      "{'userId': 3, 'id': 46, 'title': 'vel voluptatem repellat nihil placeat corporis', 'completed': False}\n",
      "{'userId': 3, 'id': 47, 'title': 'nam qui rerum fugiat accusamus', 'completed': False}\n",
      "{'userId': 3, 'id': 48, 'title': 'sit reprehenderit omnis quia', 'completed': False}\n",
      "{'userId': 3, 'id': 49, 'title': 'ut necessitatibus aut maiores debitis officia blanditiis velit et', 'completed': False}\n",
      "{'userId': 3, 'id': 50, 'title': 'cupiditate necessitatibus ullam aut quis dolor voluptate', 'completed': True}\n",
      "{'userId': 3, 'id': 51, 'title': 'distinctio exercitationem ab doloribus', 'completed': False}\n",
      "{'userId': 3, 'id': 52, 'title': 'nesciunt dolorum quis recusandae ad pariatur ratione', 'completed': False}\n",
      "{'userId': 3, 'id': 53, 'title': 'qui labore est occaecati recusandae aliquid quam', 'completed': False}\n",
      "{'userId': 3, 'id': 54, 'title': 'quis et est ut voluptate quam dolor', 'completed': True}\n",
      "{'userId': 3, 'id': 55, 'title': 'voluptatum omnis minima qui occaecati provident nulla voluptatem ratione', 'completed': True}\n",
      "{'userId': 3, 'id': 56, 'title': 'deleniti ea temporibus enim', 'completed': True}\n",
      "{'userId': 3, 'id': 57, 'title': 'pariatur et magnam ea doloribus similique voluptatem rerum quia', 'completed': False}\n",
      "{'userId': 3, 'id': 58, 'title': 'est dicta totam qui explicabo doloribus qui dignissimos', 'completed': False}\n",
      "{'userId': 3, 'id': 59, 'title': 'perspiciatis velit id laborum placeat iusto et aliquam odio', 'completed': False}\n",
      "{'userId': 3, 'id': 60, 'title': 'et sequi qui architecto ut adipisci', 'completed': True}\n",
      "{'userId': 4, 'id': 61, 'title': 'odit optio omnis qui sunt', 'completed': True}\n",
      "{'userId': 4, 'id': 62, 'title': 'et placeat et tempore aspernatur sint numquam', 'completed': False}\n",
      "{'userId': 4, 'id': 63, 'title': 'doloremque aut dolores quidem fuga qui nulla', 'completed': True}\n",
      "{'userId': 4, 'id': 64, 'title': 'voluptas consequatur qui ut quia magnam nemo esse', 'completed': False}\n",
      "{'userId': 4, 'id': 65, 'title': 'fugiat pariatur ratione ut asperiores necessitatibus magni', 'completed': False}\n",
      "{'userId': 4, 'id': 66, 'title': 'rerum eum molestias autem voluptatum sit optio', 'completed': False}\n",
      "{'userId': 4, 'id': 67, 'title': 'quia voluptatibus voluptatem quos similique maiores repellat', 'completed': False}\n",
      "{'userId': 4, 'id': 68, 'title': 'aut id perspiciatis voluptatem iusto', 'completed': False}\n",
      "{'userId': 4, 'id': 69, 'title': 'doloribus sint dolorum ab adipisci itaque dignissimos aliquam suscipit', 'completed': False}\n",
      "{'userId': 4, 'id': 70, 'title': 'ut sequi accusantium et mollitia delectus sunt', 'completed': False}\n",
      "{'userId': 4, 'id': 71, 'title': 'aut velit saepe ullam', 'completed': False}\n",
      "{'userId': 4, 'id': 72, 'title': 'praesentium facilis facere quis harum voluptatibus voluptatem eum', 'completed': False}\n",
      "{'userId': 4, 'id': 73, 'title': 'sint amet quia totam corporis qui exercitationem commodi', 'completed': True}\n",
      "{'userId': 4, 'id': 74, 'title': 'expedita tempore nobis eveniet laborum maiores', 'completed': False}\n",
      "{'userId': 4, 'id': 75, 'title': 'occaecati adipisci est possimus totam', 'completed': False}\n",
      "{'userId': 4, 'id': 76, 'title': 'sequi dolorem sed', 'completed': True}\n",
      "{'userId': 4, 'id': 77, 'title': 'maiores aut nesciunt delectus exercitationem vel assumenda eligendi at', 'completed': False}\n",
      "{'userId': 4, 'id': 78, 'title': 'reiciendis est magnam amet nemo iste recusandae impedit quaerat', 'completed': False}\n",
      "{'userId': 4, 'id': 79, 'title': 'eum ipsa maxime ut', 'completed': True}\n",
      "{'userId': 4, 'id': 80, 'title': 'tempore molestias dolores rerum sequi voluptates ipsum consequatur', 'completed': True}\n",
      "{'userId': 5, 'id': 81, 'title': 'suscipit qui totam', 'completed': True}\n",
      "{'userId': 5, 'id': 82, 'title': 'voluptates eum voluptas et dicta', 'completed': False}\n",
      "{'userId': 5, 'id': 83, 'title': 'quidem at rerum quis ex aut sit quam', 'completed': True}\n",
      "{'userId': 5, 'id': 84, 'title': 'sunt veritatis ut voluptate', 'completed': False}\n",
      "{'userId': 5, 'id': 85, 'title': 'et quia ad iste a', 'completed': True}\n",
      "{'userId': 5, 'id': 86, 'title': 'incidunt ut saepe autem', 'completed': True}\n",
      "{'userId': 5, 'id': 87, 'title': 'laudantium quae eligendi consequatur quia et vero autem', 'completed': True}\n",
      "{'userId': 5, 'id': 88, 'title': 'vitae aut excepturi laboriosam sint aliquam et et accusantium', 'completed': False}\n",
      "{'userId': 5, 'id': 89, 'title': 'sequi ut omnis et', 'completed': True}\n",
      "{'userId': 5, 'id': 90, 'title': 'molestiae nisi accusantium tenetur dolorem et', 'completed': True}\n",
      "{'userId': 5, 'id': 91, 'title': 'nulla quis consequatur saepe qui id expedita', 'completed': True}\n",
      "{'userId': 5, 'id': 92, 'title': 'in omnis laboriosam', 'completed': True}\n",
      "{'userId': 5, 'id': 93, 'title': 'odio iure consequatur molestiae quibusdam necessitatibus quia sint', 'completed': True}\n",
      "{'userId': 5, 'id': 94, 'title': 'facilis modi saepe mollitia', 'completed': False}\n",
      "{'userId': 5, 'id': 95, 'title': 'vel nihil et molestiae iusto assumenda nemo quo ut', 'completed': True}\n",
      "{'userId': 5, 'id': 96, 'title': 'nobis suscipit ducimus enim asperiores voluptas', 'completed': False}\n",
      "{'userId': 5, 'id': 97, 'title': 'dolorum laboriosam eos qui iure aliquam', 'completed': False}\n",
      "{'userId': 5, 'id': 98, 'title': 'debitis accusantium ut quo facilis nihil quis sapiente necessitatibus', 'completed': True}\n",
      "{'userId': 5, 'id': 99, 'title': 'neque voluptates ratione', 'completed': False}\n",
      "{'userId': 5, 'id': 100, 'title': 'excepturi a et neque qui expedita vel voluptate', 'completed': False}\n",
      "{'userId': 6, 'id': 101, 'title': 'explicabo enim cumque porro aperiam occaecati minima', 'completed': False}\n",
      "{'userId': 6, 'id': 102, 'title': 'sed ab consequatur', 'completed': False}\n",
      "{'userId': 6, 'id': 103, 'title': 'non sunt delectus illo nulla tenetur enim omnis', 'completed': False}\n",
      "{'userId': 6, 'id': 104, 'title': 'excepturi non laudantium quo', 'completed': False}\n",
      "{'userId': 6, 'id': 105, 'title': 'totam quia dolorem et illum repellat voluptas optio', 'completed': True}\n",
      "{'userId': 6, 'id': 106, 'title': 'ad illo quis voluptatem temporibus', 'completed': True}\n",
      "{'userId': 6, 'id': 107, 'title': 'praesentium facilis omnis laudantium fugit ad iusto nihil nesciunt', 'completed': False}\n",
      "{'userId': 6, 'id': 108, 'title': 'a eos eaque nihil et exercitationem incidunt delectus', 'completed': True}\n",
      "{'userId': 6, 'id': 109, 'title': 'autem temporibus harum quisquam in culpa', 'completed': True}\n",
      "{'userId': 6, 'id': 110, 'title': 'aut aut ea corporis', 'completed': True}\n",
      "{'userId': 6, 'id': 111, 'title': 'magni accusantium labore et id quis provident', 'completed': False}\n",
      "{'userId': 6, 'id': 112, 'title': 'consectetur impedit quisquam qui deserunt non rerum consequuntur eius', 'completed': False}\n",
      "{'userId': 6, 'id': 113, 'title': 'quia atque aliquam sunt impedit voluptatum rerum assumenda nisi', 'completed': False}\n",
      "{'userId': 6, 'id': 114, 'title': 'cupiditate quos possimus corporis quisquam exercitationem beatae', 'completed': False}\n",
      "{'userId': 6, 'id': 115, 'title': 'sed et ea eum', 'completed': False}\n",
      "{'userId': 6, 'id': 116, 'title': 'ipsa dolores vel facilis ut', 'completed': True}\n",
      "{'userId': 6, 'id': 117, 'title': 'sequi quae est et qui qui eveniet asperiores', 'completed': False}\n",
      "{'userId': 6, 'id': 118, 'title': 'quia modi consequatur vero fugiat', 'completed': False}\n",
      "{'userId': 6, 'id': 119, 'title': 'corporis ducimus ea perspiciatis iste', 'completed': False}\n",
      "{'userId': 6, 'id': 120, 'title': 'dolorem laboriosam vel voluptas et aliquam quasi', 'completed': False}\n",
      "{'userId': 7, 'id': 121, 'title': 'inventore aut nihil minima laudantium hic qui omnis', 'completed': True}\n",
      "{'userId': 7, 'id': 122, 'title': 'provident aut nobis culpa', 'completed': True}\n",
      "{'userId': 7, 'id': 123, 'title': 'esse et quis iste est earum aut impedit', 'completed': False}\n",
      "{'userId': 7, 'id': 124, 'title': 'qui consectetur id', 'completed': False}\n",
      "{'userId': 7, 'id': 125, 'title': 'aut quasi autem iste tempore illum possimus', 'completed': False}\n",
      "{'userId': 7, 'id': 126, 'title': 'ut asperiores perspiciatis veniam ipsum rerum saepe', 'completed': True}\n",
      "{'userId': 7, 'id': 127, 'title': 'voluptatem libero consectetur rerum ut', 'completed': True}\n",
      "{'userId': 7, 'id': 128, 'title': 'eius omnis est qui voluptatem autem', 'completed': False}\n",
      "{'userId': 7, 'id': 129, 'title': 'rerum culpa quis harum', 'completed': False}\n",
      "{'userId': 7, 'id': 130, 'title': 'nulla aliquid eveniet harum laborum libero alias ut unde', 'completed': True}\n",
      "{'userId': 7, 'id': 131, 'title': 'qui ea incidunt quis', 'completed': False}\n",
      "{'userId': 7, 'id': 132, 'title': 'qui molestiae voluptatibus velit iure harum quisquam', 'completed': True}\n",
      "{'userId': 7, 'id': 133, 'title': 'et labore eos enim rerum consequatur sunt', 'completed': True}\n",
      "{'userId': 7, 'id': 134, 'title': 'molestiae doloribus et laborum quod ea', 'completed': False}\n",
      "{'userId': 7, 'id': 135, 'title': 'facere ipsa nam eum voluptates reiciendis vero qui', 'completed': False}\n",
      "{'userId': 7, 'id': 136, 'title': 'asperiores illo tempora fuga sed ut quasi adipisci', 'completed': False}\n",
      "{'userId': 7, 'id': 137, 'title': 'qui sit non', 'completed': False}\n",
      "{'userId': 7, 'id': 138, 'title': 'placeat minima consequatur rem qui ut', 'completed': True}\n",
      "{'userId': 7, 'id': 139, 'title': 'consequatur doloribus id possimus voluptas a voluptatem', 'completed': False}\n",
      "{'userId': 7, 'id': 140, 'title': 'aut consectetur in blanditiis deserunt quia sed laboriosam', 'completed': True}\n",
      "{'userId': 8, 'id': 141, 'title': 'explicabo consectetur debitis voluptates quas quae culpa rerum non', 'completed': True}\n",
      "{'userId': 8, 'id': 142, 'title': 'maiores accusantium architecto necessitatibus reiciendis ea aut', 'completed': True}\n",
      "{'userId': 8, 'id': 143, 'title': 'eum non recusandae cupiditate animi', 'completed': False}\n",
      "{'userId': 8, 'id': 144, 'title': 'ut eum exercitationem sint', 'completed': False}\n",
      "{'userId': 8, 'id': 145, 'title': 'beatae qui ullam incidunt voluptatem non nisi aliquam', 'completed': False}\n",
      "{'userId': 8, 'id': 146, 'title': 'molestiae suscipit ratione nihil odio libero impedit vero totam', 'completed': True}\n",
      "{'userId': 8, 'id': 147, 'title': 'eum itaque quod reprehenderit et facilis dolor autem ut', 'completed': True}\n",
      "{'userId': 8, 'id': 148, 'title': 'esse quas et quo quasi exercitationem', 'completed': False}\n",
      "{'userId': 8, 'id': 149, 'title': 'animi voluptas quod perferendis est', 'completed': False}\n",
      "{'userId': 8, 'id': 150, 'title': 'eos amet tempore laudantium fugit a', 'completed': False}\n",
      "{'userId': 8, 'id': 151, 'title': 'accusamus adipisci dicta qui quo ea explicabo sed vero', 'completed': True}\n",
      "{'userId': 8, 'id': 152, 'title': 'odit eligendi recusandae doloremque cumque non', 'completed': False}\n",
      "{'userId': 8, 'id': 153, 'title': 'ea aperiam consequatur qui repellat eos', 'completed': False}\n",
      "{'userId': 8, 'id': 154, 'title': 'rerum non ex sapiente', 'completed': True}\n",
      "{'userId': 8, 'id': 155, 'title': 'voluptatem nobis consequatur et assumenda magnam', 'completed': True}\n",
      "{'userId': 8, 'id': 156, 'title': 'nam quia quia nulla repellat assumenda quibusdam sit nobis', 'completed': True}\n",
      "{'userId': 8, 'id': 157, 'title': 'dolorem veniam quisquam deserunt repellendus', 'completed': True}\n",
      "{'userId': 8, 'id': 158, 'title': 'debitis vitae delectus et harum accusamus aut deleniti a', 'completed': True}\n",
      "{'userId': 8, 'id': 159, 'title': 'debitis adipisci quibusdam aliquam sed dolore ea praesentium nobis', 'completed': True}\n",
      "{'userId': 8, 'id': 160, 'title': 'et praesentium aliquam est', 'completed': False}\n",
      "{'userId': 9, 'id': 161, 'title': 'ex hic consequuntur earum omnis alias ut occaecati culpa', 'completed': True}\n",
      "{'userId': 9, 'id': 162, 'title': 'omnis laboriosam molestias animi sunt dolore', 'completed': True}\n",
      "{'userId': 9, 'id': 163, 'title': 'natus corrupti maxime laudantium et voluptatem laboriosam odit', 'completed': False}\n",
      "{'userId': 9, 'id': 164, 'title': 'reprehenderit quos aut aut consequatur est sed', 'completed': False}\n",
      "{'userId': 9, 'id': 165, 'title': 'fugiat perferendis sed aut quidem', 'completed': False}\n",
      "{'userId': 9, 'id': 166, 'title': 'quos quo possimus suscipit minima ut', 'completed': False}\n",
      "{'userId': 9, 'id': 167, 'title': 'et quis minus quo a asperiores molestiae', 'completed': False}\n",
      "{'userId': 9, 'id': 168, 'title': 'recusandae quia qui sunt libero', 'completed': False}\n",
      "{'userId': 9, 'id': 169, 'title': 'ea odio perferendis officiis', 'completed': True}\n",
      "{'userId': 9, 'id': 170, 'title': 'quisquam aliquam quia doloribus aut', 'completed': False}\n",
      "{'userId': 9, 'id': 171, 'title': 'fugiat aut voluptatibus corrupti deleniti velit iste odio', 'completed': True}\n",
      "{'userId': 9, 'id': 172, 'title': 'et provident amet rerum consectetur et voluptatum', 'completed': False}\n",
      "{'userId': 9, 'id': 173, 'title': 'harum ad aperiam quis', 'completed': False}\n",
      "{'userId': 9, 'id': 174, 'title': 'similique aut quo', 'completed': False}\n",
      "{'userId': 9, 'id': 175, 'title': 'laudantium eius officia perferendis provident perspiciatis asperiores', 'completed': True}\n",
      "{'userId': 9, 'id': 176, 'title': 'magni soluta corrupti ut maiores rem quidem', 'completed': False}\n",
      "{'userId': 9, 'id': 177, 'title': 'et placeat temporibus voluptas est tempora quos quibusdam', 'completed': False}\n",
      "{'userId': 9, 'id': 178, 'title': 'nesciunt itaque commodi tempore', 'completed': True}\n",
      "{'userId': 9, 'id': 179, 'title': 'omnis consequuntur cupiditate impedit itaque ipsam quo', 'completed': True}\n",
      "{'userId': 9, 'id': 180, 'title': 'debitis nisi et dolorem repellat et', 'completed': True}\n",
      "{'userId': 10, 'id': 181, 'title': 'ut cupiditate sequi aliquam fuga maiores', 'completed': False}\n",
      "{'userId': 10, 'id': 182, 'title': 'inventore saepe cumque et aut illum enim', 'completed': True}\n",
      "{'userId': 10, 'id': 183, 'title': 'omnis nulla eum aliquam distinctio', 'completed': True}\n",
      "{'userId': 10, 'id': 184, 'title': 'molestias modi perferendis perspiciatis', 'completed': False}\n",
      "{'userId': 10, 'id': 185, 'title': 'voluptates dignissimos sed doloribus animi quaerat aut', 'completed': False}\n",
      "{'userId': 10, 'id': 186, 'title': 'explicabo odio est et', 'completed': False}\n",
      "{'userId': 10, 'id': 187, 'title': 'consequuntur animi possimus', 'completed': False}\n",
      "{'userId': 10, 'id': 188, 'title': 'vel non beatae est', 'completed': True}\n",
      "{'userId': 10, 'id': 189, 'title': 'culpa eius et voluptatem et', 'completed': True}\n",
      "{'userId': 10, 'id': 190, 'title': 'accusamus sint iusto et voluptatem exercitationem', 'completed': True}\n",
      "{'userId': 10, 'id': 191, 'title': 'temporibus atque distinctio omnis eius impedit tempore molestias pariatur', 'completed': True}\n",
      "{'userId': 10, 'id': 192, 'title': 'ut quas possimus exercitationem sint voluptates', 'completed': False}\n",
      "{'userId': 10, 'id': 193, 'title': 'rerum debitis voluptatem qui eveniet tempora distinctio a', 'completed': True}\n",
      "{'userId': 10, 'id': 194, 'title': 'sed ut vero sit molestiae', 'completed': False}\n",
      "{'userId': 10, 'id': 195, 'title': 'rerum ex veniam mollitia voluptatibus pariatur', 'completed': True}\n",
      "{'userId': 10, 'id': 196, 'title': 'consequuntur aut ut fugit similique', 'completed': True}\n",
      "{'userId': 10, 'id': 197, 'title': 'dignissimos quo nobis earum saepe', 'completed': True}\n",
      "{'userId': 10, 'id': 198, 'title': 'quis eius est sint explicabo', 'completed': True}\n",
      "{'userId': 10, 'id': 199, 'title': 'numquam repellendus a magnam', 'completed': True}\n",
      "{'userId': 10, 'id': 200, 'title': 'ipsam aperiam voluptates qui', 'completed': False}\n"
     ]
    }
   ],
   "source": [
    "import requests\n",
    "import json\n",
    "url = 'https://jsonplaceholder.typicode.com/todos'\n",
    "res = requests.get(url)\n",
    "for n in res.json(): # res를 json형태로 분석하게 하고 한줄씩 나오게 함\n",
    "    print(n)"
   ]
  },
  {
   "cell_type": "code",
   "execution_count": 5,
   "id": "07b81234-f477-4d40-a886-dc7d06a1dfe6",
   "metadata": {},
   "outputs": [
    {
     "name": "stdout",
     "output_type": "stream",
     "text": [
      "{\"userId\": 1, \"id\": 1, \"title\": \"delectus aut autem\", \"completed\": false, \"test\": \"\\ud55c\\uae00\\ub3c4 \\ub418\\ub098\\ubcf4\\uc790\"}\n"
     ]
    }
   ],
   "source": [
    "import requests\n",
    "import json\n",
    "url = 'https://jsonplaceholder.typicode.com/todos' # JSON 파일을 읽어오기\n",
    "data = requests.get(url).json()[0] # 여기서 위에 제이슨 링크를 딕셔너리로 바꿈(JSON -> DICT)\n",
    "data['test'] =\"한글도 되나보자\" # DICT에 자료 삽입\n",
    "with open('todo.json','w') as f:\n",
    "    json.dump(data, f) # 여기서 dump는 json형태의 파일을 내보내겠다는 소리 # DICT -> JSON\n",
    "data_s = json.dumps(data) # 한글 깨짐\n",
    "# data_s = json.dumps(data, ensure_ascii=False) # 한글 깨짐 방지\n",
    "print(data_s) # 여기서의 dumps의 s는 string의 s라 생각할것, 스트링 형식"
   ]
  },
  {
   "cell_type": "code",
   "execution_count": 6,
   "id": "a7f20de9-092c-4374-8f01-1665996d4da4",
   "metadata": {},
   "outputs": [
    {
     "name": "stdout",
     "output_type": "stream",
     "text": [
      "{'userId': 1, 'id': 1, 'title': 'delectus aut autem', 'completed': False, 'test': '한글도 되나보자'}\n",
      "{'userId': 1, 'id': 1, 'title': 'delectus aut autem', 'completed': False, 'test': '한글도 되나보자'}\n"
     ]
    }
   ],
   "source": [
    "with open('todo.json') as f:\n",
    "    data = json.load(f) # JSON -> DICT\n",
    "print(json.loads(data_s))\n",
    "print(data)"
   ]
  },
  {
   "cell_type": "code",
   "execution_count": 18,
   "id": "5e5cbbfa-013d-4a8d-873d-88b928552dbd",
   "metadata": {},
   "outputs": [],
   "source": [
    "# urllib\n",
    "import urllib.request\n",
    "\n",
    "def get_wikidocs(page):\n",
    "    resource = 'https://wikidocs.net/{}'.format(page)\n",
    "    with urllib.request.urlopen(resource) as s:\n",
    "        with open('wikidocs_%s.html' % page, 'wb') as f:\n",
    "            f.write(s.read())\n",
    "\n",
    "get_wikidocs(1)"
   ]
  },
  {
   "cell_type": "code",
   "execution_count": 20,
   "id": "4bb1ff4a-2105-4132-9852-412b80668ca9",
   "metadata": {},
   "outputs": [],
   "source": [
    "# urllib 테스트\n",
    "import urllib.request\n",
    "import time as t\n",
    "def get_posts(page):\n",
    "    resource = f'https://jsonplaceholder.typicode.com/posts/{page}'\n",
    "    with urllib.request.urlopen(resource) as s:\n",
    "        with open(f'./data/posts_{page}.html', 'wb') as f:\n",
    "            f.write(s.read())\n",
    "for n in range(1,11):\n",
    "    get_posts(n)\n",
    "    t.sleep(0.1)"
   ]
  },
  {
   "cell_type": "code",
   "execution_count": 13,
   "id": "a0a2f664-fb33-410b-8436-1259dcdaf199",
   "metadata": {},
   "outputs": [
    {
     "data": {
      "text/plain": [
       "True"
      ]
     },
     "execution_count": 13,
     "metadata": {},
     "output_type": "execute_result"
    }
   ],
   "source": [
    "# webbrowser\n",
    "import webbrowser\n",
    "\n",
    "webbrowser.open_new('http://python.org')"
   ]
  },
  {
   "cell_type": "code",
   "execution_count": null,
   "id": "9633ed60-bd98-47f3-bfd7-670b323a5cb7",
   "metadata": {},
   "outputs": [],
   "source": []
  }
 ],
 "metadata": {
  "kernelspec": {
   "display_name": "Python 3 (ipykernel)",
   "language": "python",
   "name": "python3"
  },
  "language_info": {
   "codemirror_mode": {
    "name": "ipython",
    "version": 3
   },
   "file_extension": ".py",
   "mimetype": "text/x-python",
   "name": "python",
   "nbconvert_exporter": "python",
   "pygments_lexer": "ipython3",
   "version": "3.13.1"
  }
 },
 "nbformat": 4,
 "nbformat_minor": 5
}
