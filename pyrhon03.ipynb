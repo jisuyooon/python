{
 "cells": [
  {
   "cell_type": "markdown",
   "id": "ca837ffe-1b38-48dc-befa-6e0f4763d89b",
   "metadata": {},
   "source": [
    "# 제어문"
   ]
  },
  {
   "cell_type": "code",
   "execution_count": 28,
   "id": "740d7ced-94a4-4541-9daf-7733a9350400",
   "metadata": {},
   "outputs": [
    {
     "name": "stdout",
     "output_type": "stream",
     "text": [
      "항상 동작합니다!\n",
      "5가 큽니다\n"
     ]
    }
   ],
   "source": [
    "if True:\n",
    "    print(\"항상 동작합니다!\")\n",
    "if False:\n",
    "    print(\"항상 동작할까요?\")   \n",
    "if [1,3]: #True가 됐던 애들은 다 나옴\n",
    "    print(\"5가 큽니다\")\n",
    "if 4 > 10:\n",
    "    print(\"나올까요?\")"
   ]
  },
  {
   "cell_type": "code",
   "execution_count": 3,
   "id": "10858fa0-11c8-461e-bf8b-d6e2fc88ba0d",
   "metadata": {},
   "outputs": [
    {
     "name": "stdout",
     "output_type": "stream",
     "text": [
      "가라\n"
     ]
    }
   ],
   "source": [
    "if False:\n",
    "    print(\"택시를\")\n",
    "    print(\"타고\")\n",
    "print(\"가라\")"
   ]
  },
  {
   "cell_type": "code",
   "execution_count": 6,
   "id": "c7557587-5cca-4677-ae1e-baeb23eb71c9",
   "metadata": {},
   "outputs": [
    {
     "name": "stdin",
     "output_type": "stream",
     "text": [
      "얼마 가지고 있습니까? 5000\n"
     ]
    },
    {
     "name": "stdout",
     "output_type": "stream",
     "text": [
      "택시타고 가세요.\n"
     ]
    }
   ],
   "source": [
    "mymoney = int(input('얼마 가지고 있습니까?'))\n",
    "if mymoney >= 3000:\n",
    "    print('택시타고 가세요.')\n",
    "# if mymoney < 3000:\n",
    "else:\n",
    "    print('걸어가세요.')    "
   ]
  },
  {
   "cell_type": "code",
   "execution_count": null,
   "id": "aeca585b-b83e-4b55-bf49-27e89ad5e334",
   "metadata": {},
   "outputs": [],
   "source": []
  },
  {
   "cell_type": "code",
   "execution_count": null,
   "id": "bcb48ccb-7458-4466-876a-c827db193b9f",
   "metadata": {},
   "outputs": [],
   "source": []
  },
  {
   "cell_type": "code",
   "execution_count": null,
   "id": "d892f74f-c3bc-4ec9-8270-a23e2c7c62e2",
   "metadata": {},
   "outputs": [],
   "source": []
  },
  {
   "cell_type": "code",
   "execution_count": null,
   "id": "ad1a5190-205b-4581-914b-9e29a0e07a83",
   "metadata": {},
   "outputs": [],
   "source": []
  },
  {
   "cell_type": "code",
   "execution_count": null,
   "id": "38cbc2d5-15c2-40b1-941e-fb0d9158fa72",
   "metadata": {},
   "outputs": [],
   "source": []
  },
  {
   "cell_type": "code",
   "execution_count": null,
   "id": "495f6c13-d55a-4edc-9e84-c993cf50369a",
   "metadata": {},
   "outputs": [],
   "source": []
  },
  {
   "cell_type": "code",
   "execution_count": null,
   "id": "5d87b02d-2a6d-42ff-a605-2dd5b19f45a0",
   "metadata": {},
   "outputs": [],
   "source": []
  },
  {
   "cell_type": "code",
   "execution_count": null,
   "id": "85226862-e7d4-464d-8123-4b0ef9858aef",
   "metadata": {},
   "outputs": [],
   "source": []
  },
  {
   "cell_type": "code",
   "execution_count": null,
   "id": "61815a9f-4b4d-4150-8578-d0faa049b43e",
   "metadata": {},
   "outputs": [],
   "source": []
  },
  {
   "cell_type": "code",
   "execution_count": null,
   "id": "405b8578-4bef-4a9c-8678-501a2d46a88b",
   "metadata": {},
   "outputs": [],
   "source": []
  },
  {
   "cell_type": "code",
   "execution_count": null,
   "id": "ae8badd3-7026-4818-9f21-7eee05917431",
   "metadata": {},
   "outputs": [],
   "source": []
  },
  {
   "cell_type": "code",
   "execution_count": 35,
   "id": "5fe2108d-ede1-4f22-86c7-668c30ef5534",
   "metadata": {},
   "outputs": [
    {
     "name": "stdout",
     "output_type": "stream",
     "text": [
      "1 나 화났어!\n",
      "2 나 화났어!\n",
      "3 나 화났어!\n",
      "4 나 화났어!\n",
      "5 나 화났어!\n",
      "6 나 화났어!\n",
      "7 나 화났어!\n",
      "8 나 화났어!\n",
      "9 나 화났어!\n",
      "10 나 화났어!\n"
     ]
    }
   ],
   "source": [
    "num = 0 # 초기값 중요\n",
    "while True:\n",
    "    num+=1 #이거 위치에 따라 달라짐 #더하고 나서 보여줄래 보여주고나서 뺄래\n",
    "    print(num, \"나 화났어!\") #멈추려면 ee 누르기\n",
    "    if num >= 10:\n",
    "        break #while의 진정제는 break"
   ]
  },
  {
   "cell_type": "code",
   "execution_count": null,
   "id": "f80f5ea5-e98c-4e54-9bfc-1aa06fc1c09a",
   "metadata": {},
   "outputs": [],
   "source": []
  }
 ],
 "metadata": {
  "kernelspec": {
   "display_name": "Python 3 (ipykernel)",
   "language": "python",
   "name": "python3"
  },
  "language_info": {
   "codemirror_mode": {
    "name": "ipython",
    "version": 3
   },
   "file_extension": ".py",
   "mimetype": "text/x-python",
   "name": "python",
   "nbconvert_exporter": "python",
   "pygments_lexer": "ipython3",
   "version": "3.13.1"
  }
 },
 "nbformat": 4,
 "nbformat_minor": 5
}
