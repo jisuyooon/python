{
 "cells": [
  {
   "cell_type": "code",
   "execution_count": 31,
   "id": "6f394e6a-52fa-4217-b854-a30e3fe09443",
   "metadata": {},
   "outputs": [
    {
     "name": "stdin",
     "output_type": "stream",
     "text": [
      "단어를 입력하세요. 우영우\n"
     ]
    },
    {
     "name": "stdout",
     "output_type": "stream",
     "text": [
      "우영우\n",
      "True\n"
     ]
    }
   ],
   "source": [
    "# p1) 단어 거꾸로 문제\n",
    "words = input(\"단어를 입력하세요.\")\n",
    "print(words)\n",
    "if words == words[::-1]:\n",
    "    print(True)\n",
    "else:\n",
    "    print(False)"
   ]
  },
  {
   "cell_type": "code",
   "execution_count": 32,
   "id": "82717d0e-fe13-45ec-ab29-7a5b8e61d57d",
   "metadata": {},
   "outputs": [
    {
     "name": "stdin",
     "output_type": "stream",
     "text": [
      "숫자를 입력해주세요 :  1,2,3,4\n"
     ]
    },
    {
     "name": "stdout",
     "output_type": "stream",
     "text": [
      "[1, 2, 3, 4]\n",
      "홀수 : [1, 3]\n",
      "짝수 : [2, 4]\n"
     ]
    }
   ],
   "source": [
    "# p2) 리스트값 입력, 홀수랑 짝수 값 출력\n",
    "numbers = list(map(int, input(\"숫자를 입력해주세요 : \").split(\",\")))\n",
    "odd = [i for i in numbers if i % 2 == 1]\n",
    "even = [y for y in numbers if y % 2 == 0]\n",
    "print(numbers)\n",
    "print(\"홀수 :\", odd)\n",
    "print(\"짝수 :\", even)"
   ]
  },
  {
   "cell_type": "code",
   "execution_count": 30,
   "id": "3711dd2c-8149-4f88-a39d-e2ed34155c99",
   "metadata": {},
   "outputs": [
    {
     "name": "stdin",
     "output_type": "stream",
     "text": [
      "문장을 입력해주세요. 하나 두울 세엣 넷\n"
     ]
    },
    {
     "name": "stdout",
     "output_type": "stream",
     "text": [
      "['하나', '두울', '세엣', '넷'] 가장 긴 단어: 하나\n"
     ]
    }
   ],
   "source": [
    "# p3) 문장 중 가장 긴 단어 출력 - 아직 다 안 품\n",
    "sen = list(input(\"문장을 입력해주세요.\").split())\n",
    "print(sen, '가장 긴 단어:', max(sen))"
   ]
  },
  {
   "cell_type": "code",
   "execution_count": 38,
   "id": "0869bd39-7494-4b7f-b3e4-1a1a4280b8a7",
   "metadata": {},
   "outputs": [
    {
     "name": "stdin",
     "output_type": "stream",
     "text": [
      "당신의 기분을 한 문장으로 설명해주세요. 행복 좋아\n"
     ]
    },
    {
     "name": "stdout",
     "output_type": "stream",
     "text": [
      "행복 좋아\n",
      "평범한 하루네요.😐🎵\n"
     ]
    }
   ],
   "source": [
    "# p4) 입력 받은 문장 분류 - 아직 다 안 품\n",
    "me = input(\"당신의 기분을 한 문장으로 설명해주세요.\")\n",
    "\n",
    "positive_words = [\"좋아\",\"행복\",\"멋져\",\"최고\",\"사랑해\"]\n",
    "negative_words = [\"싫어\",\"화나\",\"짜증\",\"별로\",\"나빠\"]\n",
    "\n",
    "print(me)\n",
    "if me in positive_words:\n",
    "    print(\"기분이 좋아보이네요.😊❤️\")\n",
    "elif me in negative_words:\n",
    "    print(\"기분이 나빠보이네요.😒☠️\")\n",
    "else:\n",
    "    print(\"평범한 하루네요.😐🎵\")"
   ]
  },
  {
   "cell_type": "code",
   "execution_count": null,
   "id": "779d5924-6af3-46df-a557-7f8b6001153f",
   "metadata": {},
   "outputs": [],
   "source": [
    "# p5) 영어 소문자 문장 맨 첫글자만 대문자로 변경 & 문장 마지막에 마침표 찍기 - 아직 다 안 품\n",
    "sen = list(input(\"영어 소문자로 문장을 쓰세요.\").split())\n",
    "up_sen = sen.capitalize()\n",
    "print(up_sen , '.')"
   ]
  },
  {
   "cell_type": "code",
   "execution_count": null,
   "id": "372ac4c4-3605-4e12-89a6-3cab2557c86f",
   "metadata": {},
   "outputs": [],
   "source": [
    "# api 영화 순위 문제\n"
   ]
  },
  {
   "cell_type": "code",
   "execution_count": 2,
   "id": "9c8c4bc5-a42d-4fa1-bd4b-edf7b9548ef7",
   "metadata": {},
   "outputs": [
    {
     "name": "stdout",
     "output_type": "stream",
     "text": [
      "[속보</b>] 이재명 &quot;민주당 집권 시 코스피 3000대…시장 공정해지기 때문&quot;\n",
      "이재명 더불어민주당 대표가 17일 &quot;민주당이 집권하면 특별한 변화 없이도 코스피지수가 3000대를 찍을 것&quot;이라고 밝혔다. 이 대표는 이날 오전 국회에서 열린 민주당 최고위원회의에서 &quot;경제 문제에 관한 한 민주당이... \n",
      "https://www.imaeil.com/page/view/2025021713205531742\n",
      "[속보</b>] 경찰, 대전 초등생 살해 40대 교사 신상공개 검토\n",
      "대전에서 초등학생을 살해한 40대 교사 명모씨에 대해 경찰이 신상 공개 여부를 검토하고 있다. 경찰 관계자는 17일 국가수사본부 정례 브리핑에서 '대전 초등생 살인사건 피의자 신상 공개가 이뤄지느냐'는 질문에 &quot;검토... \n",
      "http://www.kado.net/news/articleView.html?idxno=1293871\n",
      "[속보</b>]이재명 &quot;민주당 집권하면 코스피 3000 간다&quot;\n",
      "&quot;민주당이 집권하면 특별한 변화 없이도 코스피지수가 3000대를 찍을 것이다.&quot; 이재명 더불어민주당 대표는 17일 오전 국회에서 열린 민주당 최고위원회의에서 &quot;경제 문제에 관한 한 민주당이 국민의힘 보다는 낫다.... \n",
      "https://magazine.hankyung.com/business/article/202502170332b\n",
      "[속보</b>] 개인정보위 “딥시크 앱 국내 서비스 잠정 중단”\n",
      "과도한 개인정보 수집과 개인정보 유출 우려로 논란을 빚은 중국 인공지능(AI) 챗봇 딥시크가 국내 서비스를 잠정 중단하기로 했다. 개인정보보호위원회는 17일 “딥시크 앱의 국내 서비스가 지난 15일 오후 6시부터 잠정... \n",
      "https://www.khan.co.kr/article/202502171105001\n",
      "[속보</b>] 트럼프 &quot;푸틴과의 만남 곧 이뤄질 수도&quot;\n",
      "도널드 트럼프 미국 대통령은 16일(현지시간) 우크라이나 종전을 논의하기 위해 블라디미르 푸틴 러시아 대통령을 “매우 곧(very soon)” 만날 수 있다고 생각한다는 입장을 밝혔다. 트럼프 대통령은 이날 플로리다에서... \n",
      "https://www.joongang.co.kr/article/25314436\n"
     ]
    }
   ],
   "source": [
    "# 네이버 검색 API 예제 - 블로그 검색\n",
    "import os\n",
    "import sys\n",
    "import urllib.request\n",
    "from dotenv import load_dotenv\n",
    "import json\n",
    "\n",
    "load_dotenv()\n",
    "client_id = os.environ.get(\"MY_ID\")\n",
    "client_secret = os.environ.get(\"MY_SECRET\")\n",
    "\n",
    "encText = urllib.parse.quote(\"속보\")\n",
    "url = \"https://openapi.naver.com/v1/search/news.json?query=\" + encText + '&display=5&start=1&sort=sim'\n",
    "# JSON 결과\n",
    "request = urllib.request.Request(url)\n",
    "request.add_header(\"X-Naver-Client-Id\",client_id)\n",
    "request.add_header(\"X-Naver-Client-Secret\",client_secret)\n",
    "response = urllib.request.urlopen(request)\n",
    "rescode = response.getcode()\n",
    "if(rescode==200):\n",
    "    response_body = response.read()\n",
    "    result = response_body.decode('utf-8')\n",
    "    data = json.loads(result) # 스트링에서 딕셔너리로 바뀜\n",
    "    ldata = data['items']\n",
    "    for n in ldata:\n",
    "        print(n['title'].replace('<b>','').replace('<b>',''))\n",
    "        print(n['description'])\n",
    "        print(n['originallink'])    \n",
    "else:\n",
    "    print(\"Error Code:\" + rescode)"
   ]
  },
  {
   "cell_type": "code",
   "execution_count": null,
   "id": "658ab4a8-6abb-49df-9b64-97c8f72b3eaf",
   "metadata": {},
   "outputs": [],
   "source": []
  }
 ],
 "metadata": {
  "kernelspec": {
   "display_name": "Python 3 (ipykernel)",
   "language": "python",
   "name": "python3"
  },
  "language_info": {
   "codemirror_mode": {
    "name": "ipython",
    "version": 3
   },
   "file_extension": ".py",
   "mimetype": "text/x-python",
   "name": "python",
   "nbconvert_exporter": "python",
   "pygments_lexer": "ipython3",
   "version": "3.13.1"
  }
 },
 "nbformat": 4,
 "nbformat_minor": 5
}
