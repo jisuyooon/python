{
 "cells": [
  {
   "cell_type": "markdown",
   "id": "3b8e8af1-e758-47c2-aaf3-53eaeba88315",
   "metadata": {},
   "source": [
    "## 5장 되새김문제"
   ]
  },
  {
   "cell_type": "code",
<<<<<<< HEAD
   "execution_count": 66,
=======
   "execution_count": null,
>>>>>>> 2cc7902 (왕)
   "id": "8a5c66de-d256-4914-a812-378fba8119d1",
   "metadata": {},
   "outputs": [],
   "source": [
    "# 1번: 클래스 상속받고 메서드 추가하기 1\n",
    "class Calculator:\n",
    "    def __init__(self):\n",
    "        self.value = 0\n",
    "\n",
    "    def add(self, val):\n",
    "        self.value += val"
   ]
  },
  {
   "cell_type": "code",
<<<<<<< HEAD
   "execution_count": 69,
   "id": "b5526323-a113-4073-9e78-ac5bbf00b816",
   "metadata": {},
   "outputs": [],
   "source": [
    "class UpgradeCalculator(Calculator):\n",
    "    def __init__(self):\n",
    "        self.value = 0\n",
    "\n",
    "    def minus(self, val):\n",
    "        self.value -= val"
   ]
  },
  {
   "cell_type": "code",
   "execution_count": 73,
   "id": "d6cb3443-cafa-4190-8db0-67dabe99141f",
   "metadata": {},
   "outputs": [
    {
     "name": "stdout",
     "output_type": "stream",
     "text": [
      "3\n"
     ]
    }
   ],
   "source": [
    "cal = UpgradeCalculator()\n",
    "cal.add(10)\n",
    "cal.minus(7)\n",
    "\n",
    "print(cal.value)"
   ]
  },
  {
   "cell_type": "code",
=======
>>>>>>> 2cc7902 (왕)
   "execution_count": null,
   "id": "51bd2dd7-a6c0-40d8-bf6d-02c345f6cca7",
   "metadata": {},
   "outputs": [],
   "source": [
    "# 2번: 클래스 상속받고 메서드 추가하기 2\n",
    "class MaxLimitCalculator():\n",
    "    def "
   ]
  },
  {
   "cell_type": "code",
   "execution_count": 2,
   "id": "38a0ca58-a4c3-4256-815e-a3eb28cb71a8",
   "metadata": {},
   "outputs": [
    {
     "name": "stdout",
     "output_type": "stream",
     "text": [
      "False\n",
      "True\n"
     ]
    }
   ],
   "source": [
    "# 3번: 참과 거짓 예측하기\n",
    "print(all([1,2,abs(-3)-3]))\n",
    "print(chr(ord('a')) == 'a')"
   ]
  },
  {
   "cell_type": "code",
   "execution_count": null,
   "id": "88615c85-9835-45c8-9237-5b37171cdf3a",
   "metadata": {},
   "outputs": [],
   "source": [
    "# 4번: 음수 제거하기\n"
   ]
  },
  {
   "cell_type": "code",
   "execution_count": 4,
   "id": "a41d9333-f082-4614-bdb6-a294e7dba20d",
   "metadata": {},
   "outputs": [
    {
     "data": {
      "text/plain": [
       "234"
      ]
     },
     "execution_count": 4,
     "metadata": {},
     "output_type": "execute_result"
    }
   ],
   "source": [
    "# 5번: 16진수를 10진수로 변경하기\n",
    "int(\"0xea\", 16)"
   ]
  },
  {
   "cell_type": "code",
   "execution_count": null,
   "id": "48860f6b-777b-4118-be4c-94d2bffb066b",
   "metadata": {},
   "outputs": [],
   "source": [
    "# 6번: 리스트 항목마다 3 곱하여 리턴하기\n",
    "[1,2,3,4]"
   ]
  },
  {
   "cell_type": "code",
   "execution_count": 11,
   "id": "a54252a3-5f18-4023-8ae6-0d2c5aa73331",
   "metadata": {},
   "outputs": [
    {
     "name": "stdout",
     "output_type": "stream",
     "text": [
      "최댓값: 7\n",
      "최솟값: -8\n",
      "-1\n"
     ]
    }
   ],
   "source": [
    "# 7번: 최댓값과 최솟값의 합\n",
    "print(\"최댓값:\", max([-8,2,7,5,-3,5,0,1]))\n",
    "print(\"최솟값:\", min([-8,2,7,5,-3,5,0,1]))\n",
    "print(max([-8,2,7,5,-3,5,0,1])+ min([-8,2,7,5,-3,5,0,1]))"
   ]
  },
  {
   "cell_type": "code",
   "execution_count": 13,
   "id": "2a6d466a-7db2-4bf9-b70e-2a4d7bee59e9",
   "metadata": {},
   "outputs": [
    {
     "data": {
      "text/plain": [
       "5.6667"
      ]
     },
     "execution_count": 13,
     "metadata": {},
     "output_type": "execute_result"
    }
   ],
   "source": [
    "# 8번: 소수점 반올림하기\n",
    "round(17 / 3, 4)"
   ]
  },
  {
   "cell_type": "code",
   "execution_count": null,
   "id": "34da20ff-1eed-4366-bb3a-bf6a4ea30340",
   "metadata": {},
   "outputs": [],
   "source": [
    "# 9번: 디렉토리 이동하고 파일 목록 출력하기"
   ]
  },
  {
   "cell_type": "code",
   "execution_count": null,
   "id": "e8c75c8d-b6d8-4469-a1b4-d3ca41c69238",
   "metadata": {},
   "outputs": [],
   "source": [
    "# 10번: 파일 확장자가 .py인 파일만 찾기"
   ]
  },
  {
   "cell_type": "code",
   "execution_count": 15,
   "id": "c7962129-108d-49fe-9191-bee499cd7ee6",
   "metadata": {},
   "outputs": [
    {
     "data": {
      "text/plain": [
       "'Thu Feb 20 09:28:05 2025'"
      ]
     },
     "execution_count": 15,
     "metadata": {},
     "output_type": "execute_result"
    }
   ],
   "source": [
    "# 11번: 날짜 표시하기\n",
    "import time\n",
    "time.ctime()"
   ]
  },
  {
   "cell_type": "code",
   "execution_count": 30,
   "id": "a904df2a-0ef6-4ae8-904c-54a4978c717a",
   "metadata": {
    "scrolled": true
   },
   "outputs": [
    {
     "name": "stdout",
     "output_type": "stream",
     "text": [
      "1 9 17 25 33 41 "
     ]
    }
   ],
   "source": [
    "# 12번: 로또 번호 생성하기\n",
<<<<<<< HEAD
    "import random\n"
=======
    "import random as r\n",
    "num = []\n",
    "for num in range(1,46,8):\n",
    "    print(num, end=\" \")"
>>>>>>> 2cc7902 (왕)
   ]
  },
  {
   "cell_type": "code",
   "execution_count": 36,
   "id": "73f3762b-8539-4f65-a174-e4933722185e",
   "metadata": {},
   "outputs": [
    {
     "name": "stdout",
     "output_type": "stream",
     "text": [
      "누나가 영철이보다 먼저 태어난 일수: 1051 일\n"
     ]
    }
   ],
   "source": [
    "# 13번: 누나는 영철이보다 며칠 더 먼저 태어났을까?\n",
    "import datetime\n",
    "day1 = datetime.date(1995,11,20)\n",
    "day2 = datetime.date(1998,10,6)\n",
    "print(\"누나가 영철이보다 먼저 태어난 일수:\",abs(day1 - day2).days, \"일\")"
   ]
  },
  {
   "cell_type": "code",
   "execution_count": 64,
   "id": "58dc2b4f-1642-4cd5-acaf-cee1e1c19fa1",
   "metadata": {},
   "outputs": [
    {
     "name": "stdout",
     "output_type": "stream",
     "text": [
      "[('김예지', 13.31), ('전정웅', 13.39), ('박상현', 14.16), ('김영순', 14.81), ('한지영', 14.83), ('오지아', 15.13), ('윤서현', 15.25), ('박예원', 15.34), ('김시우', 15.48), ('송순자', 15.57), ('주병철', 15.67), ('문재호', 16.39), ('김혜진', 16.63), ('김영철', 16.7), ('김옥순', 16.71), ('윤지은', 16.93), ('최보람', 17.14), ('황민지', 17.65), ('이성호', 17.7), ('배숙자', 17.9)]\n"
     ]
    }
   ],
   "source": [
    "# 14번: 기록순으로 정렬하기\n",
    "from operator import itemgetter\n",
    "\n",
    "data = [('윤서현', 15.25),\n",
    "        ('김예지', 13.31),\n",
    "        ('박예원', 15.34),\n",
    "        ('송순자', 15.57),\n",
    "        ('김시우', 15.48),\n",
    "        ('배숙자', 17.9),\n",
    "        ('전정웅', 13.39),\n",
    "        ('김혜진', 16.63),\n",
    "        ('최보람', 17.14),\n",
    "        ('한지영', 14.83),\n",
    "        ('이성호', 17.7),\n",
    "        ('김옥순', 16.71),\n",
    "        ('황민지', 17.65),\n",
    "        ('김영철', 16.7),\n",
    "        ('주병철', 15.67),\n",
    "        ('박상현', 14.16),\n",
    "        ('김영순', 14.81),\n",
    "        ('오지아', 15.13),\n",
    "        ('윤지은', 16.93),\n",
    "        ('문재호', 16.39),]\n",
    "\n",
    "result = sorted(data, key=itemgetter(1))\n",
    "print(result)"
   ]
  },
  {
   "cell_type": "code",
   "execution_count": 63,
   "id": "8fd201f0-43f1-4efb-a66e-759484021e14",
   "metadata": {},
   "outputs": [
    {
     "data": {
      "text/plain": [
       "[('나지혜', '성성민'),\n",
       " ('나지혜', '윤지현'),\n",
       " ('나지혜', '김정숙'),\n",
       " ('성성민', '나지혜'),\n",
       " ('성성민', '윤지현'),\n",
       " ('성성민', '김정숙'),\n",
       " ('윤지현', '나지혜'),\n",
       " ('윤지현', '성성민'),\n",
       " ('윤지현', '김정숙'),\n",
       " ('김정숙', '나지혜'),\n",
       " ('김정숙', '성성민'),\n",
       " ('김정숙', '윤지현')]"
      ]
     },
     "execution_count": 63,
     "metadata": {},
     "output_type": "execute_result"
    }
   ],
   "source": [
    "# 15번: 청소 당번 2명 뽑기\n",
    "import itertools\n",
    "students = ['나지혜', '성성민', '윤지현', '김정숙']\n",
    "list(itertools.permutations(students, 2))"
   ]
  },
  {
   "cell_type": "code",
   "execution_count": 62,
   "id": "c436be06-78cb-417a-8528-5716f651bda0",
   "metadata": {
    "scrolled": true
   },
   "outputs": [
    {
     "data": {
      "text/plain": [
       "[('a', 'b', 'c', 'd'),\n",
       " ('a', 'b', 'd', 'c'),\n",
       " ('a', 'c', 'b', 'd'),\n",
       " ('a', 'c', 'd', 'b'),\n",
       " ('a', 'd', 'b', 'c'),\n",
       " ('a', 'd', 'c', 'b'),\n",
       " ('b', 'a', 'c', 'd'),\n",
       " ('b', 'a', 'd', 'c'),\n",
       " ('b', 'c', 'a', 'd'),\n",
       " ('b', 'c', 'd', 'a'),\n",
       " ('b', 'd', 'a', 'c'),\n",
       " ('b', 'd', 'c', 'a'),\n",
       " ('c', 'a', 'b', 'd'),\n",
       " ('c', 'a', 'd', 'b'),\n",
       " ('c', 'b', 'a', 'd'),\n",
       " ('c', 'b', 'd', 'a'),\n",
       " ('c', 'd', 'a', 'b'),\n",
       " ('c', 'd', 'b', 'a'),\n",
       " ('d', 'a', 'b', 'c'),\n",
       " ('d', 'a', 'c', 'b'),\n",
       " ('d', 'b', 'a', 'c'),\n",
       " ('d', 'b', 'c', 'a'),\n",
       " ('d', 'c', 'a', 'b'),\n",
       " ('d', 'c', 'b', 'a')]"
      ]
     },
     "execution_count": 62,
     "metadata": {},
     "output_type": "execute_result"
    }
   ],
   "source": [
    "# 16번: 문자열 나열하기\n",
    "import itertools\n",
    "list(itertools.permutations(['a','b','c','d'], 4))"
   ]
  },
  {
   "cell_type": "code",
   "execution_count": 40,
   "id": "b34fa2ad-81d7-43d1-8bcc-3a87cf8cfae5",
   "metadata": {},
   "outputs": [
    {
     "name": "stdout",
     "output_type": "stream",
     "text": [
      "[('김승현', '청소'), ('김진호', '빨래'), ('강춘자', '설거지'), ('이예준', '휴식'), ('김현주', '휴식')]\n"
     ]
    }
   ],
   "source": [
    "# 17번: 5명에게 할 일 부여하기\n",
    "import itertools\n",
    "students = ['김승현','김진호','강춘자','이예준','김현주']\n",
    "job = ['청소','빨래','설거지']\n",
    "\n",
    "result = itertools.zip_longest(students, job, fillvalue='휴식')\n",
    "print(list(result))"
   ]
  },
  {
   "cell_type": "code",
   "execution_count": 50,
   "id": "852a4aff-fcec-4efc-b933-37d05eec1ca2",
   "metadata": {},
   "outputs": [
    {
     "name": "stdout",
     "output_type": "stream",
     "text": [
      "타일 한 선의 길이: 40 cm\n",
      "필요한 타일의 개수: 10.0 장\n"
     ]
    }
   ],
   "source": [
    "# 18번: 벽에 타일 붙이기\n",
    "import math\n",
    "sq = math.gcd(200, 80)\n",
    "print(\"타일 한 선의 길이:\", sq, \"cm\")\n",
    "a = (200 / 40)\n",
    "b = (80 / 40)\n",
    "print(\"필요한 타일의 개수:\", a*b, \"장\")"
   ]
  },
  {
   "cell_type": "code",
   "execution_count": null,
   "id": "bbf08524-df45-44b0-9e50-e2705772d79a",
   "metadata": {},
   "outputs": [],
   "source": []
  }
 ],
 "metadata": {
  "kernelspec": {
   "display_name": "Python 3 (ipykernel)",
   "language": "python",
   "name": "python3"
  },
  "language_info": {
   "codemirror_mode": {
    "name": "ipython",
    "version": 3
   },
   "file_extension": ".py",
   "mimetype": "text/x-python",
   "name": "python",
   "nbconvert_exporter": "python",
   "pygments_lexer": "ipython3",
   "version": "3.13.1"
  }
 },
 "nbformat": 4,
 "nbformat_minor": 5
}
