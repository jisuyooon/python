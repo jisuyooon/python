{
 "cells": [
  {
   "cell_type": "markdown",
   "id": "702e035e-f4c1-48f1-ae26-cb39d0a62579",
   "metadata": {},
   "source": [
    "# 모듈"
   ]
  },
  {
   "cell_type": "markdown",
   "id": "bd469b51-d984-4f9a-ba2b-d31b48db8468",
   "metadata": {},
   "source": [
    "## 모듈 만들기"
   ]
  },
  {
   "cell_type": "code",
   "execution_count": 1,
   "id": "6fc04de2-9848-46c6-a215-1e5ed478b61f",
   "metadata": {},
   "outputs": [],
   "source": [
    "# 모듈 만들기 - mod1.py\n",
    "# def add(a, b):\n",
    "#     return a + b\n",
    "# def sub(a, b):\n",
    "#     return a - b"
   ]
  },
  {
   "cell_type": "code",
   "execution_count": 5,
   "id": "991e5a16-2b08-4782-a227-3a8bfea5f7a0",
   "metadata": {},
   "outputs": [
    {
     "name": "stdout",
     "output_type": "stream",
     "text": [
      "33\n",
      "11\n"
     ]
    }
   ],
   "source": [
    "import mod1\n",
    "print(mod1.add(11,22))\n",
    "print(mod1.sub(33,22))"
   ]
  },
  {
   "cell_type": "code",
   "execution_count": 6,
   "id": "98107047-17d3-449d-b4d4-437c595e6baa",
   "metadata": {},
   "outputs": [],
   "source": [
    "with open(\"mod2.py\",\"w\") as f:\n",
    "    data = \"\"\" def mul(a,b):\n",
    "    return a*b\n",
    "def div(a,b):\n",
    "    return a/b\"\"\"\n",
    "    f.write(data)"
   ]
  },
  {
   "cell_type": "code",
   "execution_count": 2,
   "id": "cd7ad077-f550-4cfc-8a50-7cd310a7f4bc",
   "metadata": {},
   "outputs": [
    {
     "name": "stdout",
     "output_type": "stream",
     "text": [
      "12\n",
      "2.0\n"
     ]
    }
   ],
   "source": [
    "import mod2\n",
    "print(mod2.mul(3,4))\n",
    "print(mod2.div(8,4))"
   ]
  },
  {
   "cell_type": "code",
   "execution_count": 3,
   "id": "0d10c42f-e524-43df-8376-176c13d430de",
   "metadata": {},
   "outputs": [
    {
     "name": "stdout",
     "output_type": "stream",
     "text": [
      "33\n",
      "11\n",
      "12\n",
      "2.0\n"
     ]
    }
   ],
   "source": [
    "import mod1, mod2\n",
    "print(mod1.add(11,22))\n",
    "print(mod1.sub(33,22))\n",
    "print(mod2.mul(3,4))\n",
    "print(mod2.div(8,4))"
   ]
  },
  {
   "cell_type": "code",
   "execution_count": 1,
   "id": "fc09652e-d5e5-4c87-a94a-7fbd0e23d496",
   "metadata": {},
   "outputs": [
    {
     "name": "stdout",
     "output_type": "stream",
     "text": [
      "33\n",
      "11\n",
      "12\n",
      "2.0\n"
     ]
    }
   ],
   "source": [
    "# import mod1 as m1\n",
    "# import mod2 as m2\n",
    "import mod1 as m1, mod2 as m2\n",
    "print(m1.add(11,22)) # 이렇게 온전히 이용한 메서드 방식으로 쓰는거 추천\n",
    "print(m1.sub(33,22))\n",
    "print(m2.mul(3,4))\n",
    "print(m2.div(8,4))"
   ]
  },
  {
   "cell_type": "code",
   "execution_count": 3,
   "id": "b9daf409-d9ee-4b4c-a81f-175cd5a5f84e",
   "metadata": {},
   "outputs": [
    {
     "name": "stdout",
     "output_type": "stream",
     "text": [
      "77\n"
     ]
    }
   ],
   "source": [
    "from mod1 import add , sub # 이런 방식은 편하지만 충돌 날수있음\n",
    "print(add(33,44))"
   ]
  },
  {
   "cell_type": "code",
   "execution_count": 4,
   "id": "6bcad3a8-df0c-4263-830f-a2230956d077",
   "metadata": {},
   "outputs": [
    {
     "name": "stdout",
     "output_type": "stream",
     "text": [
      "20\n"
     ]
    }
   ],
   "source": [
    "from mod2 import * # 이런 방식도 다른 모듈과 충돌할 수 있음, 위에것보다 더 주의할 것\n",
    "print(mul(4, 5))"
   ]
  },
  {
   "cell_type": "markdown",
   "id": "b8136e60-5b0d-4cd2-ba03-315ec3d9dd94",
   "metadata": {},
   "source": [
    "## `__name__` 의 의미"
   ]
  },
  {
   "cell_type": "code",
   "execution_count": 7,
   "id": "27082a63-0c7b-4ec7-9c81-e0bcaadc2cac",
   "metadata": {},
   "outputs": [],
   "source": [
    "with open(\"mod1.py\",\"a\") as f:\n",
    "    text = \"\"\"\\nprint(add(1, 4))\\nprint(sub(4,2))\"\"\"\n",
    "    f.write(text)"
   ]
  },
  {
   "cell_type": "markdown",
   "id": "6727b8cb-7d86-4903-bdde-484e8ccf5f72",
   "metadata": {},
   "source": [
    "매직커맨드\n",
    "- %%bash : 리눅스\n",
    "- %%cmd : 윈도우"
   ]
  },
  {
   "cell_type": "code",
   "execution_count": 1,
   "id": "fd9de89b-37ef-40cf-a8fe-d7595deaa61d",
   "metadata": {},
   "outputs": [
    {
     "name": "stdout",
     "output_type": "stream",
     "text": [
      "Microsoft Windows [Version 10.0.26100.2894]\n",
      "(c) Microsoft Corporation. All rights reserved.\n",
      "\n",
      "js\\code>python mod1.py\n",
      "5\n",
      "2\n",
      "__main__\n",
      "�� ���Ϸ� ������ �Ǿ����.\n",
      "\n",
      "d:\\yjs\\code>"
     ]
    }
   ],
   "source": [
    "%%cmd\n",
    "python mod1.py"
   ]
  },
  {
   "cell_type": "code",
   "execution_count": 2,
   "id": "1dafb6df-801f-4d7d-a148-7f11a08ff669",
   "metadata": {},
   "outputs": [
    {
     "name": "stdout",
     "output_type": "stream",
     "text": [
      "5\n",
      "2\n",
      "mod1\n",
      "전 모듈로 임포트 되었어요.\n"
     ]
    },
    {
     "data": {
      "text/plain": [
       "['__builtins__',\n",
       " '__cached__',\n",
       " '__doc__',\n",
       " '__file__',\n",
       " '__loader__',\n",
       " '__name__',\n",
       " '__package__',\n",
       " '__spec__',\n",
       " 'add',\n",
       " 'sub']"
      ]
     },
     "execution_count": 2,
     "metadata": {},
     "output_type": "execute_result"
    }
   ],
   "source": [
    "import mod1\n",
    "dir(mod1)"
   ]
  },
  {
   "cell_type": "code",
   "execution_count": null,
   "id": "5fa6ef68-7a4d-4aa2-acf4-55010bc7efce",
   "metadata": {},
   "outputs": [],
   "source": [
    "# import requests as req\n",
    "# url = \"https://finance.naver.com/sise/sise_market_sum.naver\"\n",
    "# web = req.get(url)\n",
    "# html = web.text\n",
    "# f1 = html.find('삼성전자')\n",
    "# print('삼성전자 :' + html[f1:f1 + 100][19:50].replace('<td class=\"number\">',\"\").replace('</td>',\"\").replace('\\n',\"\")+\"원\")"
   ]
  },
  {
   "cell_type": "code",
   "execution_count": 53,
   "id": "54401bd7-62de-4f64-8548-c4134f86091b",
   "metadata": {},
   "outputs": [
    {
     "data": {
      "text/plain": [
       "'삼성물산 :<121,100원'"
      ]
     },
     "execution_count": 53,
     "metadata": {},
     "output_type": "execute_result"
    }
   ],
   "source": [
    "import sam\n",
    "sam.sam('삼성물산')"
   ]
  },
  {
   "cell_type": "markdown",
   "id": "ce0482df-0c1f-4401-8c57-fd7cb675a83a",
   "metadata": {},
   "source": [
    "## 클래스나 변수 등을 포함한 모듈"
   ]
  },
  {
   "cell_type": "code",
   "execution_count": 62,
   "id": "b0b118bc-04d1-43ea-bffc-f301e5bcb6bd",
   "metadata": {},
   "outputs": [],
   "source": [
    "with open(\"mod3.py\",\"w\") as f:\n",
    "    text = \"\"\"PI = 3.141592\\n\\nclass Math:\\n\\tdef solv(self,r):\\n\\t\\treturn PI * (r**2)\\n\\ndef add(a,b):\\n\\treturn a+b\"\"\"\n",
    "    f.write(text)"
   ]
  },
  {
   "cell_type": "markdown",
   "id": "74b0c586-ad53-45cd-b2d5-eaa71e8a06ae",
   "metadata": {},
   "source": [
    "- cmd 에서 set PYTHONPATH=D:\\yjs\\code\\mymod\n",
    "- ps에서 $env:PYTHONPATH=\"D:\\yjs\\code\\mymod\""
   ]
  },
  {
   "cell_type": "code",
   "execution_count": 4,
   "id": "20e3ddc0-6c32-4c67-89ef-a4bc4b4d8a23",
   "metadata": {},
   "outputs": [
    {
     "name": "stdout",
     "output_type": "stream",
     "text": [
      "3.141592\n",
      "314.1592\n",
      "7.5415920000000005\n"
     ]
    }
   ],
   "source": [
    "import mod3\n",
    "# 변수 \n",
    "print(mod3.PI)\n",
    "# 클래스\n",
    "a = mod3.Math()\n",
    "print(a.solv(10))\n",
    "# 함수\n",
    "print(mod3.add(mod3.PI, 4.4))"
   ]
  },
  {
   "cell_type": "markdown",
   "id": "5b377f22-94ad-44e6-bb70-837a2331456e",
   "metadata": {},
   "source": [
    "## 다른 디렉토리에 있는 모듈 불러오는 방법"
   ]
  },
  {
   "cell_type": "code",
   "execution_count": 2,
   "id": "b60f31d6-61b2-4474-8ffe-527c331eddab",
   "metadata": {},
   "outputs": [
    {
     "data": {
      "text/plain": [
       "['C:\\\\Users\\\\Admin\\\\AppData\\\\Local\\\\Programs\\\\Python\\\\Python313\\\\python313.zip',\n",
       " 'C:\\\\Users\\\\Admin\\\\AppData\\\\Local\\\\Programs\\\\Python\\\\Python313\\\\DLLs',\n",
       " 'C:\\\\Users\\\\Admin\\\\AppData\\\\Local\\\\Programs\\\\Python\\\\Python313\\\\Lib',\n",
       " 'C:\\\\Users\\\\Admin\\\\AppData\\\\Local\\\\Programs\\\\Python\\\\Python313',\n",
       " '',\n",
       " 'C:\\\\Users\\\\Admin\\\\AppData\\\\Local\\\\Programs\\\\Python\\\\Python313\\\\Lib\\\\site-packages',\n",
       " 'C:\\\\Users\\\\Admin\\\\AppData\\\\Local\\\\Programs\\\\Python\\\\Python313\\\\Lib\\\\site-packages\\\\win32',\n",
       " 'C:\\\\Users\\\\Admin\\\\AppData\\\\Local\\\\Programs\\\\Python\\\\Python313\\\\Lib\\\\site-packages\\\\win32\\\\lib',\n",
       " 'C:\\\\Users\\\\Admin\\\\AppData\\\\Local\\\\Programs\\\\Python\\\\Python313\\\\Lib\\\\site-packages\\\\Pythonwin']"
      ]
     },
     "execution_count": 2,
     "metadata": {},
     "output_type": "execute_result"
    }
   ],
   "source": [
    "import sys\n",
    "sys.path"
   ]
  },
  {
   "cell_type": "code",
   "execution_count": 3,
   "id": "656ff94c-4d71-4bde-b777-c6702aa60423",
   "metadata": {},
   "outputs": [
    {
     "data": {
      "text/plain": [
       "['C:\\\\Users\\\\Admin\\\\AppData\\\\Local\\\\Programs\\\\Python\\\\Python313\\\\python313.zip',\n",
       " 'C:\\\\Users\\\\Admin\\\\AppData\\\\Local\\\\Programs\\\\Python\\\\Python313\\\\DLLs',\n",
       " 'C:\\\\Users\\\\Admin\\\\AppData\\\\Local\\\\Programs\\\\Python\\\\Python313\\\\Lib',\n",
       " 'C:\\\\Users\\\\Admin\\\\AppData\\\\Local\\\\Programs\\\\Python\\\\Python313',\n",
       " '',\n",
       " 'C:\\\\Users\\\\Admin\\\\AppData\\\\Local\\\\Programs\\\\Python\\\\Python313\\\\Lib\\\\site-packages',\n",
       " 'C:\\\\Users\\\\Admin\\\\AppData\\\\Local\\\\Programs\\\\Python\\\\Python313\\\\Lib\\\\site-packages\\\\win32',\n",
       " 'C:\\\\Users\\\\Admin\\\\AppData\\\\Local\\\\Programs\\\\Python\\\\Python313\\\\Lib\\\\site-packages\\\\win32\\\\lib',\n",
       " 'C:\\\\Users\\\\Admin\\\\AppData\\\\Local\\\\Programs\\\\Python\\\\Python313\\\\Lib\\\\site-packages\\\\Pythonwin',\n",
       " 'D:\\\\yjs\\\\code\\\\mymod']"
      ]
     },
     "execution_count": 3,
     "metadata": {},
     "output_type": "execute_result"
    }
   ],
   "source": [
    "sys.path.append('D:\\\\yjs\\\\code\\\\mymod') # 초기화하면 사라짐(어떻게보면 일회용)\n",
    "sys.path"
   ]
  },
  {
   "cell_type": "code",
   "execution_count": 8,
   "id": "ffebc81c-b006-408b-a057-3bac9170a351",
   "metadata": {},
   "outputs": [
    {
     "name": "stdout",
     "output_type": "stream",
     "text": [
      "Requirement already satisfied: pip in c:\\users\\admin\\appdata\\local\\programs\\python\\python313\\lib\\site-packages (25.0)\n",
      "Collecting pip\n",
      "  Downloading pip-25.0.1-py3-none-any.whl.metadata (3.7 kB)\n",
      "Downloading pip-25.0.1-py3-none-any.whl (1.8 MB)\n",
      "   ---------------------------------------- 0.0/1.8 MB ? eta -:--:--\n",
      "   ----------- ---------------------------- 0.5/1.8 MB 3.0 MB/s eta 0:00:01\n",
      "   ---------------------------- ----------- 1.3/1.8 MB 4.0 MB/s eta 0:00:01\n",
      "   ---------------------------------------- 1.8/1.8 MB 4.3 MB/s eta 0:00:00\n",
      "Installing collected packages: pip\n",
      "  Attempting uninstall: pip\n",
      "    Found existing installation: pip 25.0\n",
      "    Uninstalling pip-25.0:\n",
      "      Successfully uninstalled pip-25.0\n",
      "Successfully installed pip-25.0.1\n"
     ]
    }
   ],
   "source": [
    "# !python.exe -m pip install --upgrade pip\n",
    "# !pip install python_dotenv"
   ]
  },
  {
   "cell_type": "code",
   "execution_count": 12,
   "id": "8e320540-d5c4-4cc6-b1d9-f8ab002f42a8",
   "metadata": {},
   "outputs": [
    {
     "name": "stdout",
     "output_type": "stream",
     "text": [
      "myphone01077777777\n",
      "https://www.google.com\n"
     ]
    }
   ],
   "source": [
    "from dotenv import load_dotenv\n",
    "import os \n",
    "\n",
    "# .env 파일 로드\n",
    "load_dotenv()\n",
    "\n",
    "SKEY = os.getenv(\"SECRET_KEY\")\n",
    "print(SKEY)\n",
    "DBUG = os.getenv(\"DEBUG\")\n",
    "print(DBUG)"
   ]
  },
  {
   "cell_type": "code",
   "execution_count": null,
   "id": "3f952a5c-8426-433d-9ab1-174fc1935285",
   "metadata": {},
   "outputs": [],
   "source": []
  }
 ],
 "metadata": {
  "kernelspec": {
   "display_name": "Python 3 (ipykernel)",
   "language": "python",
   "name": "python3"
  },
  "language_info": {
   "codemirror_mode": {
    "name": "ipython",
    "version": 3
   },
   "file_extension": ".py",
   "mimetype": "text/x-python",
   "name": "python",
   "nbconvert_exporter": "python",
   "pygments_lexer": "ipython3",
   "version": "3.13.1"
  }
 },
 "nbformat": 4,
 "nbformat_minor": 5
}
